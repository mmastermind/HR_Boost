{
 "cells": [
  {
   "cell_type": "code",
   "execution_count": 1,
   "metadata": {},
   "outputs": [],
   "source": [
    "# Set the seed value for the notebook so the results are reproducible\n",
    "from numpy.random import seed\n",
    "seed(1)"
   ]
  },
  {
   "cell_type": "code",
   "execution_count": 2,
   "metadata": {
    "slideshow": {
     "slide_type": "subslide"
    }
   },
   "outputs": [],
   "source": [
    "# Dependencies\n",
    "import numpy as np\n",
    "import pandas as pd"
   ]
  },
  {
   "cell_type": "code",
   "execution_count": 3,
   "metadata": {},
   "outputs": [],
   "source": [
    "import tensorflow"
   ]
  },
  {
   "cell_type": "code",
   "execution_count": 4,
   "metadata": {
    "slideshow": {
     "slide_type": "fragment"
    }
   },
   "outputs": [
    {
     "data": {
      "text/html": [
       "<div>\n",
       "<style scoped>\n",
       "    .dataframe tbody tr th:only-of-type {\n",
       "        vertical-align: middle;\n",
       "    }\n",
       "\n",
       "    .dataframe tbody tr th {\n",
       "        vertical-align: top;\n",
       "    }\n",
       "\n",
       "    .dataframe thead th {\n",
       "        text-align: right;\n",
       "    }\n",
       "</style>\n",
       "<table border=\"1\" class=\"dataframe\">\n",
       "  <thead>\n",
       "    <tr style=\"text-align: right;\">\n",
       "      <th></th>\n",
       "      <th>sem_x</th>\n",
       "      <th>codigo_x</th>\n",
       "      <th>dias_pag</th>\n",
       "      <th>dias_lab</th>\n",
       "      <th>sueldo</th>\n",
       "      <th>comp</th>\n",
       "      <th>asist</th>\n",
       "      <th>transp</th>\n",
       "      <th>vales_x</th>\n",
       "      <th>te_dob</th>\n",
       "      <th>...</th>\n",
       "      <th>t_per</th>\n",
       "      <th>t_ded</th>\n",
       "      <th>neto</th>\n",
       "      <th>antig</th>\n",
       "      <th>depto</th>\n",
       "      <th>puesto</th>\n",
       "      <th>label</th>\n",
       "      <th>tiempov</th>\n",
       "      <th>dist</th>\n",
       "      <th>delitos</th>\n",
       "    </tr>\n",
       "  </thead>\n",
       "  <tbody>\n",
       "    <tr>\n",
       "      <th>0</th>\n",
       "      <td>1</td>\n",
       "      <td>7505</td>\n",
       "      <td>7.0</td>\n",
       "      <td>5.0</td>\n",
       "      <td>618.52</td>\n",
       "      <td>132.86</td>\n",
       "      <td>60.0</td>\n",
       "      <td>60.0</td>\n",
       "      <td>120.22</td>\n",
       "      <td>0.0</td>\n",
       "      <td>...</td>\n",
       "      <td>1029.86</td>\n",
       "      <td>21.63</td>\n",
       "      <td>1008.23</td>\n",
       "      <td>468</td>\n",
       "      <td>82</td>\n",
       "      <td>0003A</td>\n",
       "      <td>1</td>\n",
       "      <td>11.188</td>\n",
       "      <td>24.283333</td>\n",
       "      <td>0</td>\n",
       "    </tr>\n",
       "    <tr>\n",
       "      <th>1</th>\n",
       "      <td>1</td>\n",
       "      <td>6600</td>\n",
       "      <td>7.0</td>\n",
       "      <td>5.0</td>\n",
       "      <td>618.52</td>\n",
       "      <td>132.86</td>\n",
       "      <td>60.0</td>\n",
       "      <td>60.0</td>\n",
       "      <td>120.22</td>\n",
       "      <td>0.0</td>\n",
       "      <td>...</td>\n",
       "      <td>1029.86</td>\n",
       "      <td>22.60</td>\n",
       "      <td>1007.26</td>\n",
       "      <td>1187</td>\n",
       "      <td>80</td>\n",
       "      <td>0001</td>\n",
       "      <td>1</td>\n",
       "      <td>8.079</td>\n",
       "      <td>27.766667</td>\n",
       "      <td>46</td>\n",
       "    </tr>\n",
       "    <tr>\n",
       "      <th>2</th>\n",
       "      <td>1</td>\n",
       "      <td>7515</td>\n",
       "      <td>7.0</td>\n",
       "      <td>5.0</td>\n",
       "      <td>618.52</td>\n",
       "      <td>132.86</td>\n",
       "      <td>60.0</td>\n",
       "      <td>60.0</td>\n",
       "      <td>120.22</td>\n",
       "      <td>0.0</td>\n",
       "      <td>...</td>\n",
       "      <td>1029.86</td>\n",
       "      <td>21.53</td>\n",
       "      <td>1008.33</td>\n",
       "      <td>202</td>\n",
       "      <td>72</td>\n",
       "      <td>0001</td>\n",
       "      <td>0</td>\n",
       "      <td>8.400</td>\n",
       "      <td>21.900000</td>\n",
       "      <td>0</td>\n",
       "    </tr>\n",
       "    <tr>\n",
       "      <th>3</th>\n",
       "      <td>1</td>\n",
       "      <td>5933</td>\n",
       "      <td>7.0</td>\n",
       "      <td>5.0</td>\n",
       "      <td>618.52</td>\n",
       "      <td>132.86</td>\n",
       "      <td>60.0</td>\n",
       "      <td>60.0</td>\n",
       "      <td>120.22</td>\n",
       "      <td>0.0</td>\n",
       "      <td>...</td>\n",
       "      <td>1029.86</td>\n",
       "      <td>21.45</td>\n",
       "      <td>1008.41</td>\n",
       "      <td>1582</td>\n",
       "      <td>51</td>\n",
       "      <td>0001</td>\n",
       "      <td>1</td>\n",
       "      <td>3.738</td>\n",
       "      <td>10.183333</td>\n",
       "      <td>21</td>\n",
       "    </tr>\n",
       "    <tr>\n",
       "      <th>4</th>\n",
       "      <td>1</td>\n",
       "      <td>7170</td>\n",
       "      <td>7.0</td>\n",
       "      <td>5.0</td>\n",
       "      <td>618.52</td>\n",
       "      <td>132.86</td>\n",
       "      <td>60.0</td>\n",
       "      <td>60.0</td>\n",
       "      <td>120.22</td>\n",
       "      <td>0.0</td>\n",
       "      <td>...</td>\n",
       "      <td>1491.60</td>\n",
       "      <td>50.12</td>\n",
       "      <td>1441.48</td>\n",
       "      <td>774</td>\n",
       "      <td>57</td>\n",
       "      <td>0001</td>\n",
       "      <td>1</td>\n",
       "      <td>8.113</td>\n",
       "      <td>20.516667</td>\n",
       "      <td>0</td>\n",
       "    </tr>\n",
       "  </tbody>\n",
       "</table>\n",
       "<p>5 rows × 49 columns</p>\n",
       "</div>"
      ],
      "text/plain": [
       "   sem_x  codigo_x  dias_pag  dias_lab  sueldo    comp  asist  transp  \\\n",
       "0      1      7505       7.0       5.0  618.52  132.86   60.0    60.0   \n",
       "1      1      6600       7.0       5.0  618.52  132.86   60.0    60.0   \n",
       "2      1      7515       7.0       5.0  618.52  132.86   60.0    60.0   \n",
       "3      1      5933       7.0       5.0  618.52  132.86   60.0    60.0   \n",
       "4      1      7170       7.0       5.0  618.52  132.86   60.0    60.0   \n",
       "\n",
       "   vales_x  te_dob  ...    t_per  t_ded     neto  antig  depto  puesto  label  \\\n",
       "0   120.22     0.0  ...  1029.86  21.63  1008.23    468     82   0003A      1   \n",
       "1   120.22     0.0  ...  1029.86  22.60  1007.26   1187     80    0001      1   \n",
       "2   120.22     0.0  ...  1029.86  21.53  1008.33    202     72    0001      0   \n",
       "3   120.22     0.0  ...  1029.86  21.45  1008.41   1582     51    0001      1   \n",
       "4   120.22     0.0  ...  1491.60  50.12  1441.48    774     57    0001      1   \n",
       "\n",
       "   tiempov       dist  delitos  \n",
       "0   11.188  24.283333        0  \n",
       "1    8.079  27.766667       46  \n",
       "2    8.400  21.900000        0  \n",
       "3    3.738  10.183333       21  \n",
       "4    8.113  20.516667        0  \n",
       "\n",
       "[5 rows x 49 columns]"
      ]
     },
     "execution_count": 4,
     "metadata": {},
     "output_type": "execute_result"
    }
   ],
   "source": [
    "df_2018 = pd.read_csv('Resources/CONSOLIDADO_2018.csv', index_col=0)\n",
    "df_2018.head()"
   ]
  },
  {
   "cell_type": "code",
   "execution_count": 5,
   "metadata": {},
   "outputs": [
    {
     "data": {
      "text/html": [
       "<div>\n",
       "<style scoped>\n",
       "    .dataframe tbody tr th:only-of-type {\n",
       "        vertical-align: middle;\n",
       "    }\n",
       "\n",
       "    .dataframe tbody tr th {\n",
       "        vertical-align: top;\n",
       "    }\n",
       "\n",
       "    .dataframe thead th {\n",
       "        text-align: right;\n",
       "    }\n",
       "</style>\n",
       "<table border=\"1\" class=\"dataframe\">\n",
       "  <thead>\n",
       "    <tr style=\"text-align: right;\">\n",
       "      <th></th>\n",
       "      <th>sem_x</th>\n",
       "      <th>codigo_x</th>\n",
       "      <th>dias_pag</th>\n",
       "      <th>dias_lab</th>\n",
       "      <th>sueldo</th>\n",
       "      <th>comp</th>\n",
       "      <th>asist</th>\n",
       "      <th>transp</th>\n",
       "      <th>vales_x</th>\n",
       "      <th>te_dob</th>\n",
       "      <th>...</th>\n",
       "      <th>t_per</th>\n",
       "      <th>t_ded</th>\n",
       "      <th>neto</th>\n",
       "      <th>antig</th>\n",
       "      <th>depto</th>\n",
       "      <th>puesto</th>\n",
       "      <th>label</th>\n",
       "      <th>tiempov</th>\n",
       "      <th>dist</th>\n",
       "      <th>delitos</th>\n",
       "    </tr>\n",
       "  </thead>\n",
       "  <tbody>\n",
       "    <tr>\n",
       "      <th>0</th>\n",
       "      <td>1</td>\n",
       "      <td>7840</td>\n",
       "      <td>7.0</td>\n",
       "      <td>5.0</td>\n",
       "      <td>1143.52</td>\n",
       "      <td>462.91</td>\n",
       "      <td>60.0</td>\n",
       "      <td>60.0</td>\n",
       "      <td>257.02</td>\n",
       "      <td>367.56</td>\n",
       "      <td>...</td>\n",
       "      <td>3351.59</td>\n",
       "      <td>340.18</td>\n",
       "      <td>3011.41</td>\n",
       "      <td>39</td>\n",
       "      <td>87</td>\n",
       "      <td>0185</td>\n",
       "      <td>0</td>\n",
       "      <td>4.940</td>\n",
       "      <td>6.433333</td>\n",
       "      <td>0</td>\n",
       "    </tr>\n",
       "    <tr>\n",
       "      <th>1</th>\n",
       "      <td>1</td>\n",
       "      <td>7505</td>\n",
       "      <td>7.0</td>\n",
       "      <td>5.0</td>\n",
       "      <td>721.00</td>\n",
       "      <td>173.04</td>\n",
       "      <td>60.0</td>\n",
       "      <td>60.0</td>\n",
       "      <td>143.04</td>\n",
       "      <td>0.00</td>\n",
       "      <td>...</td>\n",
       "      <td>1863.08</td>\n",
       "      <td>86.05</td>\n",
       "      <td>1777.03</td>\n",
       "      <td>520</td>\n",
       "      <td>82</td>\n",
       "      <td>0003A</td>\n",
       "      <td>0</td>\n",
       "      <td>11.188</td>\n",
       "      <td>24.283333</td>\n",
       "      <td>0</td>\n",
       "    </tr>\n",
       "    <tr>\n",
       "      <th>2</th>\n",
       "      <td>1</td>\n",
       "      <td>6600</td>\n",
       "      <td>7.0</td>\n",
       "      <td>5.0</td>\n",
       "      <td>721.00</td>\n",
       "      <td>30.38</td>\n",
       "      <td>60.0</td>\n",
       "      <td>50.0</td>\n",
       "      <td>120.22</td>\n",
       "      <td>180.25</td>\n",
       "      <td>...</td>\n",
       "      <td>1194.98</td>\n",
       "      <td>21.07</td>\n",
       "      <td>1173.91</td>\n",
       "      <td>1503</td>\n",
       "      <td>80</td>\n",
       "      <td>0002A</td>\n",
       "      <td>1</td>\n",
       "      <td>8.079</td>\n",
       "      <td>27.766667</td>\n",
       "      <td>46</td>\n",
       "    </tr>\n",
       "    <tr>\n",
       "      <th>3</th>\n",
       "      <td>1</td>\n",
       "      <td>7685</td>\n",
       "      <td>7.0</td>\n",
       "      <td>5.0</td>\n",
       "      <td>721.00</td>\n",
       "      <td>30.38</td>\n",
       "      <td>60.0</td>\n",
       "      <td>60.0</td>\n",
       "      <td>120.22</td>\n",
       "      <td>0.00</td>\n",
       "      <td>...</td>\n",
       "      <td>1056.69</td>\n",
       "      <td>28.04</td>\n",
       "      <td>1028.65</td>\n",
       "      <td>522</td>\n",
       "      <td>5</td>\n",
       "      <td>0002A</td>\n",
       "      <td>1</td>\n",
       "      <td>9.926</td>\n",
       "      <td>22.383333</td>\n",
       "      <td>0</td>\n",
       "    </tr>\n",
       "    <tr>\n",
       "      <th>4</th>\n",
       "      <td>1</td>\n",
       "      <td>7331</td>\n",
       "      <td>7.0</td>\n",
       "      <td>5.0</td>\n",
       "      <td>721.00</td>\n",
       "      <td>30.38</td>\n",
       "      <td>60.0</td>\n",
       "      <td>60.0</td>\n",
       "      <td>120.22</td>\n",
       "      <td>103.00</td>\n",
       "      <td>...</td>\n",
       "      <td>1129.56</td>\n",
       "      <td>24.71</td>\n",
       "      <td>1104.85</td>\n",
       "      <td>338</td>\n",
       "      <td>45</td>\n",
       "      <td>0001</td>\n",
       "      <td>0</td>\n",
       "      <td>8.901</td>\n",
       "      <td>17.116667</td>\n",
       "      <td>59</td>\n",
       "    </tr>\n",
       "  </tbody>\n",
       "</table>\n",
       "<p>5 rows × 49 columns</p>\n",
       "</div>"
      ],
      "text/plain": [
       "   sem_x  codigo_x  dias_pag  dias_lab   sueldo    comp  asist  transp  \\\n",
       "0      1      7840       7.0       5.0  1143.52  462.91   60.0    60.0   \n",
       "1      1      7505       7.0       5.0   721.00  173.04   60.0    60.0   \n",
       "2      1      6600       7.0       5.0   721.00   30.38   60.0    50.0   \n",
       "3      1      7685       7.0       5.0   721.00   30.38   60.0    60.0   \n",
       "4      1      7331       7.0       5.0   721.00   30.38   60.0    60.0   \n",
       "\n",
       "   vales_x  te_dob  ...    t_per   t_ded     neto  antig  depto  puesto  \\\n",
       "0   257.02  367.56  ...  3351.59  340.18  3011.41     39     87    0185   \n",
       "1   143.04    0.00  ...  1863.08   86.05  1777.03    520     82   0003A   \n",
       "2   120.22  180.25  ...  1194.98   21.07  1173.91   1503     80   0002A   \n",
       "3   120.22    0.00  ...  1056.69   28.04  1028.65    522      5   0002A   \n",
       "4   120.22  103.00  ...  1129.56   24.71  1104.85    338     45    0001   \n",
       "\n",
       "   label  tiempov       dist  delitos  \n",
       "0      0    4.940   6.433333        0  \n",
       "1      0   11.188  24.283333        0  \n",
       "2      1    8.079  27.766667       46  \n",
       "3      1    9.926  22.383333        0  \n",
       "4      0    8.901  17.116667       59  \n",
       "\n",
       "[5 rows x 49 columns]"
      ]
     },
     "execution_count": 5,
     "metadata": {},
     "output_type": "execute_result"
    }
   ],
   "source": [
    "df_2019 = pd.read_csv('Resources/CONSOLIDADO_2019.csv', index_col=0)\n",
    "df_2019.head()"
   ]
  },
  {
   "cell_type": "code",
   "execution_count": 6,
   "metadata": {},
   "outputs": [],
   "source": [
    "def labeling(row):\n",
    "    sigue = \"sigue\"\n",
    "    fue = \"fue\"\n",
    "    if row == 0:\n",
    "        return fue\n",
    "    else:\n",
    "        return sigue"
   ]
  },
  {
   "cell_type": "code",
   "execution_count": 7,
   "metadata": {},
   "outputs": [],
   "source": [
    "df_2018[\"label\"] = df_2018[\"label\"].apply(lambda row: labeling(row))"
   ]
  },
  {
   "cell_type": "code",
   "execution_count": 8,
   "metadata": {},
   "outputs": [],
   "source": [
    "df_2019[\"label\"] = df_2019[\"label\"].apply(lambda row: labeling(row))"
   ]
  },
  {
   "cell_type": "code",
   "execution_count": 9,
   "metadata": {},
   "outputs": [
    {
     "data": {
      "text/plain": [
       "sigue    7172\n",
       "fue      2980\n",
       "Name: label, dtype: int64"
      ]
     },
     "execution_count": 9,
     "metadata": {},
     "output_type": "execute_result"
    }
   ],
   "source": [
    "df_2018[\"label\"].value_counts()"
   ]
  },
  {
   "cell_type": "code",
   "execution_count": 10,
   "metadata": {},
   "outputs": [
    {
     "data": {
      "text/plain": [
       "sigue    5552\n",
       "fue      2661\n",
       "Name: label, dtype: int64"
      ]
     },
     "execution_count": 10,
     "metadata": {},
     "output_type": "execute_result"
    }
   ],
   "source": [
    "df_2019[\"label\"].value_counts()"
   ]
  },
  {
   "cell_type": "code",
   "execution_count": 11,
   "metadata": {},
   "outputs": [
    {
     "data": {
      "text/plain": [
       "False"
      ]
     },
     "execution_count": 11,
     "metadata": {},
     "output_type": "execute_result"
    }
   ],
   "source": [
    "df_2018.isna().values.any()"
   ]
  },
  {
   "cell_type": "code",
   "execution_count": 12,
   "metadata": {},
   "outputs": [
    {
     "data": {
      "text/plain": [
       "False"
      ]
     },
     "execution_count": 12,
     "metadata": {},
     "output_type": "execute_result"
    }
   ],
   "source": [
    "df_2019.isna().values.any()"
   ]
  },
  {
   "cell_type": "code",
   "execution_count": 13,
   "metadata": {},
   "outputs": [],
   "source": [
    "df_2018 = df_2018.set_index(\"codigo_x\")"
   ]
  },
  {
   "cell_type": "code",
   "execution_count": 14,
   "metadata": {},
   "outputs": [],
   "source": [
    "df_2019 = df_2019.set_index(\"codigo_x\")"
   ]
  },
  {
   "cell_type": "code",
   "execution_count": 15,
   "metadata": {},
   "outputs": [],
   "source": [
    "df_2018 = df_2018[[\"dias_pag\",\"dias_lab\",\"sueldo\",\"comp\",\"asist\",\"transp\",\"vales_x\",\"te_dob\",\n",
    "          \"te_trip\",\"desc_Lab\",\"fest_lab\",\"dominic\",\"perc_grav\",\"obj\",\"aguin\",\"vac\",\"prim_vac\",\n",
    "          \"grat_esp\",\"util\",\"zapatos\",\"otras\",\"fonac\",\"alim\",\"infon\",\"falt\",\"enf\",\"ries\",\"antig\",\n",
    "          \"tiempov\",\"dist\",\"delitos\",\"label\"]]"
   ]
  },
  {
   "cell_type": "code",
   "execution_count": 16,
   "metadata": {},
   "outputs": [],
   "source": [
    "df_2019 = df_2019[[\"dias_pag\",\"dias_lab\",\"sueldo\",\"comp\",\"asist\",\"transp\",\"vales_x\",\"te_dob\",\n",
    "          \"te_trip\",\"desc_Lab\",\"fest_lab\",\"dominic\",\"perc_grav\",\"obj\",\"aguin\",\"vac\",\"prim_vac\",\n",
    "          \"grat_esp\",\"util\",\"zapatos\",\"otras\",\"fonac\",\"alim\",\"infon\",\"falt\",\"enf\",\"ries\",\"antig\",\n",
    "          \"tiempov\",\"dist\",\"delitos\",\"label\"]]"
   ]
  },
  {
   "cell_type": "markdown",
   "metadata": {
    "slideshow": {
     "slide_type": "subslide"
    }
   },
   "source": [
    "## Data Pre-Processing"
   ]
  },
  {
   "cell_type": "code",
   "execution_count": 17,
   "metadata": {
    "nbgrader": {
     "grade": false,
     "grade_id": "cell-86a9e3212f200d21",
     "locked": false,
     "schema_version": 1,
     "solution": true
    },
    "slideshow": {
     "slide_type": "subslide"
    }
   },
   "outputs": [],
   "source": [
    "X_train = df_2018.drop(\"label\", axis=1)\n",
    "X_test = df_2019.drop(\"label\", axis=1)\n",
    "y_train = df_2018[\"label\"]\n",
    "y_test = df_2019[\"label\"]"
   ]
  },
  {
   "cell_type": "code",
   "execution_count": 18,
   "metadata": {
    "nbgrader": {
     "grade": false,
     "grade_id": "cell-711a82d9b32c83ff",
     "locked": false,
     "schema_version": 1,
     "solution": true
    },
    "slideshow": {
     "slide_type": "fragment"
    }
   },
   "outputs": [],
   "source": [
    "from sklearn.preprocessing import LabelEncoder, MinMaxScaler\n",
    "from tensorflow.keras.utils import to_categorical"
   ]
  },
  {
   "cell_type": "code",
   "execution_count": 19,
   "metadata": {
    "nbgrader": {
     "grade": false,
     "grade_id": "cell-711a82d9b32c83ff",
     "locked": false,
     "schema_version": 1,
     "solution": true
    },
    "slideshow": {
     "slide_type": "fragment"
    }
   },
   "outputs": [
    {
     "name": "stderr",
     "output_type": "stream",
     "text": [
      "C:\\Users\\dell\\Anaconda3\\envs\\PythonData\\lib\\site-packages\\sklearn\\preprocessing\\data.py:334: DataConversionWarning: Data with input dtype int64, float64 were all converted to float64 by MinMaxScaler.\n",
      "  return self.partial_fit(X, y)\n"
     ]
    }
   ],
   "source": [
    "X_scaler = MinMaxScaler().fit(X_train)\n",
    "X_train_scaled = X_scaler.transform(X_train)\n",
    "X_test_scaled = X_scaler.transform(X_test)"
   ]
  },
  {
   "cell_type": "code",
   "execution_count": 20,
   "metadata": {
    "nbgrader": {
     "grade": false,
     "grade_id": "cell-711a82d9b32c83ff",
     "locked": false,
     "schema_version": 1,
     "solution": true
    },
    "slideshow": {
     "slide_type": "fragment"
    }
   },
   "outputs": [],
   "source": [
    "# Step 1: Label-encode data set\n",
    "label_encoder = LabelEncoder()\n",
    "label_encoder.fit(y_train)\n",
    "encoded_y_train = label_encoder.transform(y_train)\n",
    "encoded_y_test = label_encoder.transform(y_test)"
   ]
  },
  {
   "cell_type": "code",
   "execution_count": 21,
   "metadata": {
    "nbgrader": {
     "grade": false,
     "grade_id": "cell-711a82d9b32c83ff",
     "locked": false,
     "schema_version": 1,
     "solution": true
    },
    "slideshow": {
     "slide_type": "fragment"
    }
   },
   "outputs": [],
   "source": [
    "# Step 2: Convert encoded labels to one-hot-encoding\n",
    "y_train_categorical = to_categorical(encoded_y_train)\n",
    "y_test_categorical = to_categorical(encoded_y_test)"
   ]
  },
  {
   "cell_type": "markdown",
   "metadata": {},
   "source": [
    "# Create a Deep Learning Model"
   ]
  },
  {
   "cell_type": "code",
   "execution_count": 22,
   "metadata": {},
   "outputs": [],
   "source": [
    "from tensorflow.keras.models import Sequential\n",
    "from tensorflow.keras.layers import Dense"
   ]
  },
  {
   "cell_type": "code",
   "execution_count": 23,
   "metadata": {},
   "outputs": [
    {
     "data": {
      "text/plain": [
       "31"
      ]
     },
     "execution_count": 23,
     "metadata": {},
     "output_type": "execute_result"
    }
   ],
   "source": [
    "len(X_train_scaled[0])"
   ]
  },
  {
   "cell_type": "code",
   "execution_count": 24,
   "metadata": {},
   "outputs": [
    {
     "data": {
      "text/plain": [
       "31"
      ]
     },
     "execution_count": 24,
     "metadata": {},
     "output_type": "execute_result"
    }
   ],
   "source": [
    "len(X_test_scaled[0])"
   ]
  },
  {
   "cell_type": "code",
   "execution_count": 25,
   "metadata": {},
   "outputs": [],
   "source": [
    "# Create model and add layers\n",
    "model = Sequential()\n",
    "model.add(Dense(units=100, activation='relu', input_dim=len(X_train_scaled[0])))\n",
    "model.add(Dense(units=100, activation='relu'))\n",
    "model.add(Dense(units=2, activation='softmax'))"
   ]
  },
  {
   "cell_type": "code",
   "execution_count": 26,
   "metadata": {},
   "outputs": [],
   "source": [
    "# Compile and fit the model\n",
    "model.compile(optimizer='adam',\n",
    "              loss='categorical_crossentropy',\n",
    "              metrics=['accuracy'])"
   ]
  },
  {
   "cell_type": "code",
   "execution_count": 27,
   "metadata": {},
   "outputs": [
    {
     "name": "stdout",
     "output_type": "stream",
     "text": [
      "Model: \"sequential\"\n",
      "_________________________________________________________________\n",
      "Layer (type)                 Output Shape              Param #   \n",
      "=================================================================\n",
      "dense (Dense)                (None, 100)               3200      \n",
      "_________________________________________________________________\n",
      "dense_1 (Dense)              (None, 100)               10100     \n",
      "_________________________________________________________________\n",
      "dense_2 (Dense)              (None, 2)                 202       \n",
      "=================================================================\n",
      "Total params: 13,502\n",
      "Trainable params: 13,502\n",
      "Non-trainable params: 0\n",
      "_________________________________________________________________\n"
     ]
    }
   ],
   "source": [
    "model.summary()"
   ]
  },
  {
   "cell_type": "code",
   "execution_count": 28,
   "metadata": {},
   "outputs": [
    {
     "name": "stdout",
     "output_type": "stream",
     "text": [
      "Train on 10152 samples\n",
      "Epoch 1/100\n",
      "10152/10152 - 1s - loss: 0.5520 - accuracy: 0.7277\n",
      "Epoch 2/100\n",
      "10152/10152 - 0s - loss: 0.5061 - accuracy: 0.7506\n",
      "Epoch 3/100\n",
      "10152/10152 - 0s - loss: 0.4656 - accuracy: 0.7718\n",
      "Epoch 4/100\n",
      "10152/10152 - 0s - loss: 0.4440 - accuracy: 0.7883\n",
      "Epoch 5/100\n",
      "10152/10152 - 0s - loss: 0.4249 - accuracy: 0.8013\n",
      "Epoch 6/100\n",
      "10152/10152 - 0s - loss: 0.4078 - accuracy: 0.8085\n",
      "Epoch 7/100\n",
      "10152/10152 - 0s - loss: 0.3944 - accuracy: 0.8133\n",
      "Epoch 8/100\n",
      "10152/10152 - 0s - loss: 0.3789 - accuracy: 0.8191\n",
      "Epoch 9/100\n",
      "10152/10152 - 0s - loss: 0.3695 - accuracy: 0.8240\n",
      "Epoch 10/100\n",
      "10152/10152 - 0s - loss: 0.3568 - accuracy: 0.8296\n",
      "Epoch 11/100\n",
      "10152/10152 - 0s - loss: 0.3430 - accuracy: 0.8380\n",
      "Epoch 12/100\n",
      "10152/10152 - 0s - loss: 0.3326 - accuracy: 0.8403\n",
      "Epoch 13/100\n",
      "10152/10152 - 0s - loss: 0.3305 - accuracy: 0.8420\n",
      "Epoch 14/100\n",
      "10152/10152 - 0s - loss: 0.3198 - accuracy: 0.8484\n",
      "Epoch 15/100\n",
      "10152/10152 - 0s - loss: 0.3160 - accuracy: 0.8480\n",
      "Epoch 16/100\n",
      "10152/10152 - 0s - loss: 0.3098 - accuracy: 0.8521\n",
      "Epoch 17/100\n",
      "10152/10152 - 0s - loss: 0.3080 - accuracy: 0.8556\n",
      "Epoch 18/100\n",
      "10152/10152 - 0s - loss: 0.3000 - accuracy: 0.8577\n",
      "Epoch 19/100\n",
      "10152/10152 - 0s - loss: 0.2962 - accuracy: 0.8574\n",
      "Epoch 20/100\n",
      "10152/10152 - 0s - loss: 0.2897 - accuracy: 0.8598\n",
      "Epoch 21/100\n",
      "10152/10152 - 0s - loss: 0.2919 - accuracy: 0.8565\n",
      "Epoch 22/100\n",
      "10152/10152 - 0s - loss: 0.2862 - accuracy: 0.8622\n",
      "Epoch 23/100\n",
      "10152/10152 - 0s - loss: 0.2804 - accuracy: 0.8627\n",
      "Epoch 24/100\n",
      "10152/10152 - 0s - loss: 0.2790 - accuracy: 0.8649\n",
      "Epoch 25/100\n",
      "10152/10152 - 0s - loss: 0.2723 - accuracy: 0.8671\n",
      "Epoch 26/100\n",
      "10152/10152 - 0s - loss: 0.2713 - accuracy: 0.8682\n",
      "Epoch 27/100\n",
      "10152/10152 - 0s - loss: 0.2642 - accuracy: 0.8704\n",
      "Epoch 28/100\n",
      "10152/10152 - 0s - loss: 0.2638 - accuracy: 0.8707\n",
      "Epoch 29/100\n",
      "10152/10152 - 0s - loss: 0.2588 - accuracy: 0.8734\n",
      "Epoch 30/100\n",
      "10152/10152 - 0s - loss: 0.2585 - accuracy: 0.8731\n",
      "Epoch 31/100\n",
      "10152/10152 - 0s - loss: 0.2525 - accuracy: 0.8793\n",
      "Epoch 32/100\n",
      "10152/10152 - 0s - loss: 0.2494 - accuracy: 0.8785\n",
      "Epoch 33/100\n",
      "10152/10152 - 0s - loss: 0.2481 - accuracy: 0.8808\n",
      "Epoch 34/100\n",
      "10152/10152 - 0s - loss: 0.2487 - accuracy: 0.8808\n",
      "Epoch 35/100\n",
      "10152/10152 - 0s - loss: 0.2476 - accuracy: 0.8838\n",
      "Epoch 36/100\n",
      "10152/10152 - 0s - loss: 0.2408 - accuracy: 0.8817\n",
      "Epoch 37/100\n",
      "10152/10152 - 0s - loss: 0.2381 - accuracy: 0.8883\n",
      "Epoch 38/100\n",
      "10152/10152 - 0s - loss: 0.2374 - accuracy: 0.8864\n",
      "Epoch 39/100\n",
      "10152/10152 - 0s - loss: 0.2363 - accuracy: 0.8894\n",
      "Epoch 40/100\n",
      "10152/10152 - 0s - loss: 0.2319 - accuracy: 0.8921\n",
      "Epoch 41/100\n",
      "10152/10152 - 0s - loss: 0.2365 - accuracy: 0.8889\n",
      "Epoch 42/100\n",
      "10152/10152 - 0s - loss: 0.2270 - accuracy: 0.8936\n",
      "Epoch 43/100\n",
      "10152/10152 - 0s - loss: 0.2230 - accuracy: 0.8968\n",
      "Epoch 44/100\n",
      "10152/10152 - 0s - loss: 0.2243 - accuracy: 0.8920\n",
      "Epoch 45/100\n",
      "10152/10152 - 0s - loss: 0.2220 - accuracy: 0.8957\n",
      "Epoch 46/100\n",
      "10152/10152 - 0s - loss: 0.2238 - accuracy: 0.8941\n",
      "Epoch 47/100\n",
      "10152/10152 - 0s - loss: 0.2221 - accuracy: 0.8957\n",
      "Epoch 48/100\n",
      "10152/10152 - 0s - loss: 0.2182 - accuracy: 0.8959\n",
      "Epoch 49/100\n",
      "10152/10152 - 0s - loss: 0.2157 - accuracy: 0.8992\n",
      "Epoch 50/100\n",
      "10152/10152 - 0s - loss: 0.2145 - accuracy: 0.8990\n",
      "Epoch 51/100\n",
      "10152/10152 - 0s - loss: 0.2111 - accuracy: 0.9022\n",
      "Epoch 52/100\n",
      "10152/10152 - 0s - loss: 0.2097 - accuracy: 0.9031\n",
      "Epoch 53/100\n",
      "10152/10152 - 0s - loss: 0.2090 - accuracy: 0.9031\n",
      "Epoch 54/100\n",
      "10152/10152 - 0s - loss: 0.2087 - accuracy: 0.9031\n",
      "Epoch 55/100\n",
      "10152/10152 - 0s - loss: 0.2096 - accuracy: 0.9017\n",
      "Epoch 56/100\n",
      "10152/10152 - 0s - loss: 0.2123 - accuracy: 0.9039\n",
      "Epoch 57/100\n",
      "10152/10152 - 0s - loss: 0.2001 - accuracy: 0.9055\n",
      "Epoch 58/100\n",
      "10152/10152 - 0s - loss: 0.2024 - accuracy: 0.9072\n",
      "Epoch 59/100\n",
      "10152/10152 - 0s - loss: 0.1944 - accuracy: 0.9116\n",
      "Epoch 60/100\n",
      "10152/10152 - 0s - loss: 0.1976 - accuracy: 0.9069\n",
      "Epoch 61/100\n",
      "10152/10152 - 0s - loss: 0.2008 - accuracy: 0.9046\n",
      "Epoch 62/100\n",
      "10152/10152 - 0s - loss: 0.1945 - accuracy: 0.9091\n",
      "Epoch 63/100\n",
      "10152/10152 - 0s - loss: 0.1920 - accuracy: 0.9119\n",
      "Epoch 64/100\n",
      "10152/10152 - 0s - loss: 0.1931 - accuracy: 0.9085\n",
      "Epoch 65/100\n",
      "10152/10152 - 0s - loss: 0.1886 - accuracy: 0.9124\n",
      "Epoch 66/100\n",
      "10152/10152 - 0s - loss: 0.1873 - accuracy: 0.9134\n",
      "Epoch 67/100\n",
      "10152/10152 - 0s - loss: 0.1926 - accuracy: 0.9104\n",
      "Epoch 68/100\n",
      "10152/10152 - 0s - loss: 0.1881 - accuracy: 0.9117\n",
      "Epoch 69/100\n",
      "10152/10152 - 0s - loss: 0.1840 - accuracy: 0.9161\n",
      "Epoch 70/100\n",
      "10152/10152 - 0s - loss: 0.1819 - accuracy: 0.9198\n",
      "Epoch 71/100\n",
      "10152/10152 - 0s - loss: 0.1847 - accuracy: 0.9143\n",
      "Epoch 72/100\n",
      "10152/10152 - 0s - loss: 0.1853 - accuracy: 0.9150\n",
      "Epoch 73/100\n",
      "10152/10152 - 0s - loss: 0.1785 - accuracy: 0.9170\n",
      "Epoch 74/100\n",
      "10152/10152 - 0s - loss: 0.1744 - accuracy: 0.9202\n",
      "Epoch 75/100\n",
      "10152/10152 - 0s - loss: 0.1808 - accuracy: 0.9142\n",
      "Epoch 76/100\n",
      "10152/10152 - 0s - loss: 0.1741 - accuracy: 0.9217\n",
      "Epoch 77/100\n",
      "10152/10152 - 0s - loss: 0.1743 - accuracy: 0.9203\n",
      "Epoch 78/100\n",
      "10152/10152 - 0s - loss: 0.1749 - accuracy: 0.9212\n",
      "Epoch 79/100\n",
      "10152/10152 - 0s - loss: 0.1772 - accuracy: 0.9189\n",
      "Epoch 80/100\n",
      "10152/10152 - 0s - loss: 0.1672 - accuracy: 0.9254\n",
      "Epoch 81/100\n",
      "10152/10152 - 0s - loss: 0.1697 - accuracy: 0.9234\n",
      "Epoch 82/100\n",
      "10152/10152 - 0s - loss: 0.1667 - accuracy: 0.9248\n",
      "Epoch 83/100\n",
      "10152/10152 - 0s - loss: 0.1763 - accuracy: 0.9215\n",
      "Epoch 84/100\n",
      "10152/10152 - 0s - loss: 0.1614 - accuracy: 0.9292\n",
      "Epoch 85/100\n",
      "10152/10152 - 0s - loss: 0.1665 - accuracy: 0.9221\n",
      "Epoch 86/100\n",
      "10152/10152 - 0s - loss: 0.1627 - accuracy: 0.9296\n",
      "Epoch 87/100\n",
      "10152/10152 - 0s - loss: 0.1643 - accuracy: 0.9259\n",
      "Epoch 88/100\n",
      "10152/10152 - 0s - loss: 0.1611 - accuracy: 0.9272\n",
      "Epoch 89/100\n",
      "10152/10152 - 0s - loss: 0.1583 - accuracy: 0.9309\n",
      "Epoch 90/100\n",
      "10152/10152 - 0s - loss: 0.1595 - accuracy: 0.9292\n",
      "Epoch 91/100\n",
      "10152/10152 - 0s - loss: 0.1559 - accuracy: 0.9296\n",
      "Epoch 92/100\n",
      "10152/10152 - 0s - loss: 0.1592 - accuracy: 0.9302\n",
      "Epoch 93/100\n",
      "10152/10152 - 0s - loss: 0.1546 - accuracy: 0.9308\n",
      "Epoch 94/100\n",
      "10152/10152 - 0s - loss: 0.1558 - accuracy: 0.9312\n",
      "Epoch 95/100\n",
      "10152/10152 - 0s - loss: 0.1577 - accuracy: 0.9308\n",
      "Epoch 96/100\n",
      "10152/10152 - 0s - loss: 0.1554 - accuracy: 0.9325\n",
      "Epoch 97/100\n",
      "10152/10152 - 0s - loss: 0.1500 - accuracy: 0.9324\n",
      "Epoch 98/100\n",
      "10152/10152 - 0s - loss: 0.1475 - accuracy: 0.9346\n",
      "Epoch 99/100\n",
      "10152/10152 - 0s - loss: 0.1510 - accuracy: 0.9334\n",
      "Epoch 100/100\n",
      "10152/10152 - 0s - loss: 0.1487 - accuracy: 0.9338\n"
     ]
    },
    {
     "data": {
      "text/plain": [
       "<tensorflow.python.keras.callbacks.History at 0x279b31944a8>"
      ]
     },
     "execution_count": 28,
     "metadata": {},
     "output_type": "execute_result"
    }
   ],
   "source": [
    "model.fit(\n",
    "    X_train_scaled,\n",
    "    y_train_categorical,\n",
    "    epochs=100,\n",
    "    shuffle=True,\n",
    "    verbose=2\n",
    ")"
   ]
  },
  {
   "cell_type": "markdown",
   "metadata": {},
   "source": [
    "## Quantify our Trained Model"
   ]
  },
  {
   "cell_type": "code",
   "execution_count": 29,
   "metadata": {},
   "outputs": [
    {
     "name": "stdout",
     "output_type": "stream",
     "text": [
      "10152/1 - 0s - loss: 0.0916 - accuracy: 0.9465\n",
      "TRAINING - Loss: 0.13106449904805378, Accuracy: 0.9465129971504211\n"
     ]
    }
   ],
   "source": [
    "model_loss, model_accuracy = model.evaluate(\n",
    "    X_train_scaled, y_train_categorical, verbose=2)\n",
    "print(\n",
    "    f\"TRAINING - Loss: {model_loss}, Accuracy: {model_accuracy}\")"
   ]
  },
  {
   "cell_type": "code",
   "execution_count": 30,
   "metadata": {},
   "outputs": [
    {
     "name": "stdout",
     "output_type": "stream",
     "text": [
      "8213/1 - 0s - loss: 1.5317 - accuracy: 0.7185\n",
      "TESTING - Loss: 1.8376408112436646, Accuracy: 0.7184950709342957\n"
     ]
    }
   ],
   "source": [
    "model_loss, model_accuracy = model.evaluate(\n",
    "    X_test_scaled, y_test_categorical, verbose=2)\n",
    "print(\n",
    "    f\"TESTING - Loss: {model_loss}, Accuracy: {model_accuracy}\")"
   ]
  },
  {
   "cell_type": "markdown",
   "metadata": {
    "slideshow": {
     "slide_type": "subslide"
    }
   },
   "source": [
    "## Make Predictions"
   ]
  },
  {
   "cell_type": "code",
   "execution_count": 31,
   "metadata": {
    "nbgrader": {
     "grade": false,
     "grade_id": "cell-f97eb3e97245187b",
     "locked": false,
     "schema_version": 1,
     "solution": true
    },
    "slideshow": {
     "slide_type": "fragment"
    }
   },
   "outputs": [],
   "source": [
    "encoded_predictions = model.predict_classes(X_test_scaled)\n",
    "prediction_labels = label_encoder.inverse_transform(encoded_predictions)"
   ]
  },
  {
   "cell_type": "code",
   "execution_count": 32,
   "metadata": {},
   "outputs": [
    {
     "data": {
      "text/html": [
       "<div>\n",
       "<style scoped>\n",
       "    .dataframe tbody tr th:only-of-type {\n",
       "        vertical-align: middle;\n",
       "    }\n",
       "\n",
       "    .dataframe tbody tr th {\n",
       "        vertical-align: top;\n",
       "    }\n",
       "\n",
       "    .dataframe thead th {\n",
       "        text-align: right;\n",
       "    }\n",
       "</style>\n",
       "<table border=\"1\" class=\"dataframe\">\n",
       "  <thead>\n",
       "    <tr style=\"text-align: right;\">\n",
       "      <th></th>\n",
       "      <th>prediction</th>\n",
       "      <th>actual</th>\n",
       "    </tr>\n",
       "    <tr>\n",
       "      <th>codigo_x</th>\n",
       "      <th></th>\n",
       "      <th></th>\n",
       "    </tr>\n",
       "  </thead>\n",
       "  <tbody>\n",
       "    <tr>\n",
       "      <th>7840</th>\n",
       "      <td>fue</td>\n",
       "      <td>fue</td>\n",
       "    </tr>\n",
       "    <tr>\n",
       "      <th>7505</th>\n",
       "      <td>sigue</td>\n",
       "      <td>fue</td>\n",
       "    </tr>\n",
       "    <tr>\n",
       "      <th>6600</th>\n",
       "      <td>sigue</td>\n",
       "      <td>sigue</td>\n",
       "    </tr>\n",
       "    <tr>\n",
       "      <th>7685</th>\n",
       "      <td>sigue</td>\n",
       "      <td>sigue</td>\n",
       "    </tr>\n",
       "    <tr>\n",
       "      <th>7331</th>\n",
       "      <td>sigue</td>\n",
       "      <td>fue</td>\n",
       "    </tr>\n",
       "  </tbody>\n",
       "</table>\n",
       "</div>"
      ],
      "text/plain": [
       "         prediction actual\n",
       "codigo_x                  \n",
       "7840            fue    fue\n",
       "7505          sigue    fue\n",
       "6600          sigue  sigue\n",
       "7685          sigue  sigue\n",
       "7331          sigue    fue"
      ]
     },
     "execution_count": 32,
     "metadata": {},
     "output_type": "execute_result"
    }
   ],
   "source": [
    "results = pd.DataFrame({\n",
    "\"prediction\": prediction_labels,\n",
    "\"actual\": y_test\n",
    "})\n",
    "results.head()"
   ]
  },
  {
   "cell_type": "code",
   "execution_count": 33,
   "metadata": {},
   "outputs": [],
   "source": [
    "results[\"diffs\"] = results[\"prediction\"] == results[\"actual\"]"
   ]
  },
  {
   "cell_type": "code",
   "execution_count": 34,
   "metadata": {},
   "outputs": [
    {
     "data": {
      "text/html": [
       "<div>\n",
       "<style scoped>\n",
       "    .dataframe tbody tr th:only-of-type {\n",
       "        vertical-align: middle;\n",
       "    }\n",
       "\n",
       "    .dataframe tbody tr th {\n",
       "        vertical-align: top;\n",
       "    }\n",
       "\n",
       "    .dataframe thead th {\n",
       "        text-align: right;\n",
       "    }\n",
       "</style>\n",
       "<table border=\"1\" class=\"dataframe\">\n",
       "  <thead>\n",
       "    <tr style=\"text-align: right;\">\n",
       "      <th></th>\n",
       "      <th>prediction</th>\n",
       "      <th>actual</th>\n",
       "      <th>diffs</th>\n",
       "    </tr>\n",
       "    <tr>\n",
       "      <th>codigo_x</th>\n",
       "      <th></th>\n",
       "      <th></th>\n",
       "      <th></th>\n",
       "    </tr>\n",
       "  </thead>\n",
       "  <tbody>\n",
       "    <tr>\n",
       "      <th>7840</th>\n",
       "      <td>fue</td>\n",
       "      <td>fue</td>\n",
       "      <td>True</td>\n",
       "    </tr>\n",
       "    <tr>\n",
       "      <th>7505</th>\n",
       "      <td>sigue</td>\n",
       "      <td>fue</td>\n",
       "      <td>False</td>\n",
       "    </tr>\n",
       "    <tr>\n",
       "      <th>6600</th>\n",
       "      <td>sigue</td>\n",
       "      <td>sigue</td>\n",
       "      <td>True</td>\n",
       "    </tr>\n",
       "    <tr>\n",
       "      <th>7685</th>\n",
       "      <td>sigue</td>\n",
       "      <td>sigue</td>\n",
       "      <td>True</td>\n",
       "    </tr>\n",
       "    <tr>\n",
       "      <th>7331</th>\n",
       "      <td>sigue</td>\n",
       "      <td>fue</td>\n",
       "      <td>False</td>\n",
       "    </tr>\n",
       "  </tbody>\n",
       "</table>\n",
       "</div>"
      ],
      "text/plain": [
       "         prediction actual  diffs\n",
       "codigo_x                         \n",
       "7840            fue    fue   True\n",
       "7505          sigue    fue  False\n",
       "6600          sigue  sigue   True\n",
       "7685          sigue  sigue   True\n",
       "7331          sigue    fue  False"
      ]
     },
     "execution_count": 34,
     "metadata": {},
     "output_type": "execute_result"
    }
   ],
   "source": [
    "results.head()"
   ]
  },
  {
   "cell_type": "code",
   "execution_count": 35,
   "metadata": {},
   "outputs": [
    {
     "data": {
      "text/plain": [
       "True     5901\n",
       "False    2312\n",
       "Name: diffs, dtype: int64"
      ]
     },
     "execution_count": 35,
     "metadata": {},
     "output_type": "execute_result"
    }
   ],
   "source": [
    "results[\"diffs\"].value_counts()"
   ]
  },
  {
   "cell_type": "code",
   "execution_count": 36,
   "metadata": {},
   "outputs": [],
   "source": [
    "diffs = results.loc[results[\"diffs\"] == False]"
   ]
  },
  {
   "cell_type": "code",
   "execution_count": 37,
   "metadata": {},
   "outputs": [],
   "source": [
    "se_nos_van = diffs.loc[diffs[\"actual\"] == \"sigue\"]"
   ]
  },
  {
   "cell_type": "code",
   "execution_count": 38,
   "metadata": {},
   "outputs": [],
   "source": [
    "no_debieron_irse = diffs.loc[diffs[\"prediction\"] == \"sigue\"]"
   ]
  },
  {
   "cell_type": "code",
   "execution_count": null,
   "metadata": {},
   "outputs": [],
   "source": [
    "se_nos_van.to_csv(\"se_nos_van.csv\")"
   ]
  },
  {
   "cell_type": "code",
   "execution_count": null,
   "metadata": {},
   "outputs": [],
   "source": [
    "no_debieron_irse.to_csv(\"se_fueron_porque_quisieron.csv\")"
   ]
  },
  {
   "cell_type": "code",
   "execution_count": 39,
   "metadata": {},
   "outputs": [],
   "source": [
    "se_nos_van.reset_index(inplace=True)"
   ]
  },
  {
   "cell_type": "code",
   "execution_count": 40,
   "metadata": {},
   "outputs": [],
   "source": [
    "no_debieron_irse.reset_index(inplace=True)"
   ]
  },
  {
   "cell_type": "code",
   "execution_count": 41,
   "metadata": {},
   "outputs": [],
   "source": [
    "se_nos_van = se_nos_van.groupby(\"codigo_x\").count()"
   ]
  },
  {
   "cell_type": "code",
   "execution_count": 42,
   "metadata": {},
   "outputs": [],
   "source": [
    "no_debieron_irse = no_debieron_irse.groupby(\"codigo_x\").count()"
   ]
  },
  {
   "cell_type": "code",
   "execution_count": 43,
   "metadata": {},
   "outputs": [
    {
     "data": {
      "text/plain": [
       "prediction    124\n",
       "actual        124\n",
       "diffs         124\n",
       "dtype: int64"
      ]
     },
     "execution_count": 43,
     "metadata": {},
     "output_type": "execute_result"
    }
   ],
   "source": [
    "se_nos_van.count()"
   ]
  },
  {
   "cell_type": "code",
   "execution_count": 44,
   "metadata": {},
   "outputs": [
    {
     "data": {
      "text/plain": [
       "prediction    108\n",
       "actual        108\n",
       "diffs         108\n",
       "dtype: int64"
      ]
     },
     "execution_count": 44,
     "metadata": {},
     "output_type": "execute_result"
    }
   ],
   "source": [
    "no_debieron_irse.count()"
   ]
  },
  {
   "cell_type": "code",
   "execution_count": null,
   "metadata": {},
   "outputs": [],
   "source": [
    "weights, biases = model.layers[1].get_weights()"
   ]
  }
 ],
 "metadata": {
  "kernelspec": {
   "display_name": "Python 3",
   "language": "python",
   "name": "python3"
  },
  "language_info": {
   "codemirror_mode": {
    "name": "ipython",
    "version": 3
   },
   "file_extension": ".py",
   "mimetype": "text/x-python",
   "name": "python",
   "nbconvert_exporter": "python",
   "pygments_lexer": "ipython3",
   "version": "3.6.8"
  },
  "varInspector": {
   "cols": {
    "lenName": 16,
    "lenType": 16,
    "lenVar": 40
   },
   "kernels_config": {
    "python": {
     "delete_cmd_postfix": "",
     "delete_cmd_prefix": "del ",
     "library": "var_list.py",
     "varRefreshCmd": "print(var_dic_list())"
    },
    "r": {
     "delete_cmd_postfix": ") ",
     "delete_cmd_prefix": "rm(",
     "library": "var_list.r",
     "varRefreshCmd": "cat(var_dic_list()) "
    }
   },
   "types_to_exclude": [
    "module",
    "function",
    "builtin_function_or_method",
    "instance",
    "_Feature"
   ],
   "window_display": false
  }
 },
 "nbformat": 4,
 "nbformat_minor": 2
}
