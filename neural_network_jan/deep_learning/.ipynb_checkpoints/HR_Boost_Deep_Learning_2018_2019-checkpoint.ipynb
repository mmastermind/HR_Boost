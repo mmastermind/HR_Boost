{
 "cells": [
  {
   "cell_type": "code",
   "execution_count": 1,
   "metadata": {},
   "outputs": [],
   "source": [
    "# Set the seed value for the notebook so the results are reproducible\n",
    "from numpy.random import seed\n",
    "seed(1)"
   ]
  },
  {
   "cell_type": "code",
   "execution_count": 2,
   "metadata": {
    "slideshow": {
     "slide_type": "subslide"
    }
   },
   "outputs": [],
   "source": [
    "# Dependencies\n",
    "import numpy as np\n",
    "import pandas as pd"
   ]
  },
  {
   "cell_type": "code",
   "execution_count": 3,
   "metadata": {},
   "outputs": [],
   "source": [
    "import tensorflow"
   ]
  },
  {
   "cell_type": "code",
   "execution_count": 4,
   "metadata": {
    "slideshow": {
     "slide_type": "fragment"
    }
   },
   "outputs": [
    {
     "data": {
      "text/html": [
       "<div>\n",
       "<style scoped>\n",
       "    .dataframe tbody tr th:only-of-type {\n",
       "        vertical-align: middle;\n",
       "    }\n",
       "\n",
       "    .dataframe tbody tr th {\n",
       "        vertical-align: top;\n",
       "    }\n",
       "\n",
       "    .dataframe thead th {\n",
       "        text-align: right;\n",
       "    }\n",
       "</style>\n",
       "<table border=\"1\" class=\"dataframe\">\n",
       "  <thead>\n",
       "    <tr style=\"text-align: right;\">\n",
       "      <th></th>\n",
       "      <th>año_x</th>\n",
       "      <th>sem_x</th>\n",
       "      <th>codigo_x</th>\n",
       "      <th>dias_pag</th>\n",
       "      <th>dias_lab</th>\n",
       "      <th>sueldo</th>\n",
       "      <th>comp</th>\n",
       "      <th>asist</th>\n",
       "      <th>transp</th>\n",
       "      <th>vales_x</th>\n",
       "      <th>...</th>\n",
       "      <th>alim</th>\n",
       "      <th>infon</th>\n",
       "      <th>falt</th>\n",
       "      <th>enf</th>\n",
       "      <th>ries</th>\n",
       "      <th>ISPT</th>\n",
       "      <th>ISPTA</th>\n",
       "      <th>IMSS</th>\n",
       "      <th>subs</th>\n",
       "      <th>label</th>\n",
       "    </tr>\n",
       "  </thead>\n",
       "  <tbody>\n",
       "    <tr>\n",
       "      <th>0</th>\n",
       "      <td>2019</td>\n",
       "      <td>1</td>\n",
       "      <td>7840</td>\n",
       "      <td>7.0</td>\n",
       "      <td>5.0</td>\n",
       "      <td>1143.52</td>\n",
       "      <td>462.91</td>\n",
       "      <td>60.0</td>\n",
       "      <td>60.0</td>\n",
       "      <td>257.02</td>\n",
       "      <td>...</td>\n",
       "      <td>0.0</td>\n",
       "      <td>0.0</td>\n",
       "      <td>0.0</td>\n",
       "      <td>0.0</td>\n",
       "      <td>0.0</td>\n",
       "      <td>289.63</td>\n",
       "      <td>0.0</td>\n",
       "      <td>49.55</td>\n",
       "      <td>0.00</td>\n",
       "      <td>1</td>\n",
       "    </tr>\n",
       "    <tr>\n",
       "      <th>1</th>\n",
       "      <td>2019</td>\n",
       "      <td>1</td>\n",
       "      <td>7505</td>\n",
       "      <td>7.0</td>\n",
       "      <td>5.0</td>\n",
       "      <td>721.00</td>\n",
       "      <td>173.04</td>\n",
       "      <td>60.0</td>\n",
       "      <td>60.0</td>\n",
       "      <td>143.04</td>\n",
       "      <td>...</td>\n",
       "      <td>0.0</td>\n",
       "      <td>0.0</td>\n",
       "      <td>0.0</td>\n",
       "      <td>0.0</td>\n",
       "      <td>0.0</td>\n",
       "      <td>60.93</td>\n",
       "      <td>0.0</td>\n",
       "      <td>24.12</td>\n",
       "      <td>0.00</td>\n",
       "      <td>1</td>\n",
       "    </tr>\n",
       "    <tr>\n",
       "      <th>2</th>\n",
       "      <td>2019</td>\n",
       "      <td>1</td>\n",
       "      <td>6600</td>\n",
       "      <td>7.0</td>\n",
       "      <td>5.0</td>\n",
       "      <td>721.00</td>\n",
       "      <td>30.38</td>\n",
       "      <td>60.0</td>\n",
       "      <td>50.0</td>\n",
       "      <td>120.22</td>\n",
       "      <td>...</td>\n",
       "      <td>0.0</td>\n",
       "      <td>0.0</td>\n",
       "      <td>0.0</td>\n",
       "      <td>0.0</td>\n",
       "      <td>0.0</td>\n",
       "      <td>0.00</td>\n",
       "      <td>0.0</td>\n",
       "      <td>20.07</td>\n",
       "      <td>33.13</td>\n",
       "      <td>1</td>\n",
       "    </tr>\n",
       "    <tr>\n",
       "      <th>3</th>\n",
       "      <td>2019</td>\n",
       "      <td>1</td>\n",
       "      <td>7685</td>\n",
       "      <td>7.0</td>\n",
       "      <td>5.0</td>\n",
       "      <td>721.00</td>\n",
       "      <td>30.38</td>\n",
       "      <td>60.0</td>\n",
       "      <td>60.0</td>\n",
       "      <td>120.22</td>\n",
       "      <td>...</td>\n",
       "      <td>0.0</td>\n",
       "      <td>0.0</td>\n",
       "      <td>0.0</td>\n",
       "      <td>0.0</td>\n",
       "      <td>0.0</td>\n",
       "      <td>0.00</td>\n",
       "      <td>0.0</td>\n",
       "      <td>27.04</td>\n",
       "      <td>38.26</td>\n",
       "      <td>1</td>\n",
       "    </tr>\n",
       "    <tr>\n",
       "      <th>4</th>\n",
       "      <td>2019</td>\n",
       "      <td>1</td>\n",
       "      <td>7331</td>\n",
       "      <td>7.0</td>\n",
       "      <td>5.0</td>\n",
       "      <td>721.00</td>\n",
       "      <td>30.38</td>\n",
       "      <td>60.0</td>\n",
       "      <td>60.0</td>\n",
       "      <td>120.22</td>\n",
       "      <td>...</td>\n",
       "      <td>0.0</td>\n",
       "      <td>0.0</td>\n",
       "      <td>0.0</td>\n",
       "      <td>0.0</td>\n",
       "      <td>0.0</td>\n",
       "      <td>0.00</td>\n",
       "      <td>0.0</td>\n",
       "      <td>23.71</td>\n",
       "      <td>34.96</td>\n",
       "      <td>1</td>\n",
       "    </tr>\n",
       "  </tbody>\n",
       "</table>\n",
       "<p>5 rows × 40 columns</p>\n",
       "</div>"
      ],
      "text/plain": [
       "   año_x  sem_x  codigo_x  dias_pag  dias_lab   sueldo    comp  asist  transp  \\\n",
       "0   2019      1      7840       7.0       5.0  1143.52  462.91   60.0    60.0   \n",
       "1   2019      1      7505       7.0       5.0   721.00  173.04   60.0    60.0   \n",
       "2   2019      1      6600       7.0       5.0   721.00   30.38   60.0    50.0   \n",
       "3   2019      1      7685       7.0       5.0   721.00   30.38   60.0    60.0   \n",
       "4   2019      1      7331       7.0       5.0   721.00   30.38   60.0    60.0   \n",
       "\n",
       "   vales_x  ...  alim  infon  falt  enf  ries    ISPT  ISPTA   IMSS   subs  \\\n",
       "0   257.02  ...   0.0    0.0   0.0  0.0   0.0  289.63    0.0  49.55   0.00   \n",
       "1   143.04  ...   0.0    0.0   0.0  0.0   0.0   60.93    0.0  24.12   0.00   \n",
       "2   120.22  ...   0.0    0.0   0.0  0.0   0.0    0.00    0.0  20.07  33.13   \n",
       "3   120.22  ...   0.0    0.0   0.0  0.0   0.0    0.00    0.0  27.04  38.26   \n",
       "4   120.22  ...   0.0    0.0   0.0  0.0   0.0    0.00    0.0  23.71  34.96   \n",
       "\n",
       "   label  \n",
       "0      1  \n",
       "1      1  \n",
       "2      1  \n",
       "3      1  \n",
       "4      1  \n",
       "\n",
       "[5 rows x 40 columns]"
      ]
     },
     "execution_count": 4,
     "metadata": {},
     "output_type": "execute_result"
    }
   ],
   "source": [
    "df = pd.read_csv('../Resources/CONSOLIDADO_DESDE_2018.csv', index_col=0)\n",
    "df.head()"
   ]
  },
  {
   "cell_type": "code",
   "execution_count": 5,
   "metadata": {},
   "outputs": [],
   "source": [
    "def labeling(row):\n",
    "    sigue = \"sigue\"\n",
    "    fue = \"fue\"\n",
    "    if row == 0:\n",
    "        return sigue\n",
    "    else:\n",
    "        return fue"
   ]
  },
  {
   "cell_type": "code",
   "execution_count": 6,
   "metadata": {},
   "outputs": [],
   "source": [
    "df[\"label\"] = df[\"label\"].apply(lambda row: labeling(row))"
   ]
  },
  {
   "cell_type": "code",
   "execution_count": 7,
   "metadata": {},
   "outputs": [
    {
     "data": {
      "text/html": [
       "<div>\n",
       "<style scoped>\n",
       "    .dataframe tbody tr th:only-of-type {\n",
       "        vertical-align: middle;\n",
       "    }\n",
       "\n",
       "    .dataframe tbody tr th {\n",
       "        vertical-align: top;\n",
       "    }\n",
       "\n",
       "    .dataframe thead th {\n",
       "        text-align: right;\n",
       "    }\n",
       "</style>\n",
       "<table border=\"1\" class=\"dataframe\">\n",
       "  <thead>\n",
       "    <tr style=\"text-align: right;\">\n",
       "      <th></th>\n",
       "      <th>año_x</th>\n",
       "      <th>sem_x</th>\n",
       "      <th>codigo_x</th>\n",
       "      <th>dias_pag</th>\n",
       "      <th>dias_lab</th>\n",
       "      <th>sueldo</th>\n",
       "      <th>comp</th>\n",
       "      <th>asist</th>\n",
       "      <th>transp</th>\n",
       "      <th>vales_x</th>\n",
       "      <th>...</th>\n",
       "      <th>alim</th>\n",
       "      <th>infon</th>\n",
       "      <th>falt</th>\n",
       "      <th>enf</th>\n",
       "      <th>ries</th>\n",
       "      <th>ISPT</th>\n",
       "      <th>ISPTA</th>\n",
       "      <th>IMSS</th>\n",
       "      <th>subs</th>\n",
       "      <th>label</th>\n",
       "    </tr>\n",
       "  </thead>\n",
       "  <tbody>\n",
       "    <tr>\n",
       "      <th>0</th>\n",
       "      <td>2019</td>\n",
       "      <td>1</td>\n",
       "      <td>7840</td>\n",
       "      <td>7.0</td>\n",
       "      <td>5.0</td>\n",
       "      <td>1143.52</td>\n",
       "      <td>462.91</td>\n",
       "      <td>60.0</td>\n",
       "      <td>60.0</td>\n",
       "      <td>257.02</td>\n",
       "      <td>...</td>\n",
       "      <td>0.0</td>\n",
       "      <td>0.0</td>\n",
       "      <td>0.0</td>\n",
       "      <td>0.0</td>\n",
       "      <td>0.0</td>\n",
       "      <td>289.63</td>\n",
       "      <td>0.0</td>\n",
       "      <td>49.55</td>\n",
       "      <td>0.00</td>\n",
       "      <td>fue</td>\n",
       "    </tr>\n",
       "    <tr>\n",
       "      <th>1</th>\n",
       "      <td>2019</td>\n",
       "      <td>1</td>\n",
       "      <td>7505</td>\n",
       "      <td>7.0</td>\n",
       "      <td>5.0</td>\n",
       "      <td>721.00</td>\n",
       "      <td>173.04</td>\n",
       "      <td>60.0</td>\n",
       "      <td>60.0</td>\n",
       "      <td>143.04</td>\n",
       "      <td>...</td>\n",
       "      <td>0.0</td>\n",
       "      <td>0.0</td>\n",
       "      <td>0.0</td>\n",
       "      <td>0.0</td>\n",
       "      <td>0.0</td>\n",
       "      <td>60.93</td>\n",
       "      <td>0.0</td>\n",
       "      <td>24.12</td>\n",
       "      <td>0.00</td>\n",
       "      <td>fue</td>\n",
       "    </tr>\n",
       "    <tr>\n",
       "      <th>2</th>\n",
       "      <td>2019</td>\n",
       "      <td>1</td>\n",
       "      <td>6600</td>\n",
       "      <td>7.0</td>\n",
       "      <td>5.0</td>\n",
       "      <td>721.00</td>\n",
       "      <td>30.38</td>\n",
       "      <td>60.0</td>\n",
       "      <td>50.0</td>\n",
       "      <td>120.22</td>\n",
       "      <td>...</td>\n",
       "      <td>0.0</td>\n",
       "      <td>0.0</td>\n",
       "      <td>0.0</td>\n",
       "      <td>0.0</td>\n",
       "      <td>0.0</td>\n",
       "      <td>0.00</td>\n",
       "      <td>0.0</td>\n",
       "      <td>20.07</td>\n",
       "      <td>33.13</td>\n",
       "      <td>fue</td>\n",
       "    </tr>\n",
       "    <tr>\n",
       "      <th>3</th>\n",
       "      <td>2019</td>\n",
       "      <td>1</td>\n",
       "      <td>7685</td>\n",
       "      <td>7.0</td>\n",
       "      <td>5.0</td>\n",
       "      <td>721.00</td>\n",
       "      <td>30.38</td>\n",
       "      <td>60.0</td>\n",
       "      <td>60.0</td>\n",
       "      <td>120.22</td>\n",
       "      <td>...</td>\n",
       "      <td>0.0</td>\n",
       "      <td>0.0</td>\n",
       "      <td>0.0</td>\n",
       "      <td>0.0</td>\n",
       "      <td>0.0</td>\n",
       "      <td>0.00</td>\n",
       "      <td>0.0</td>\n",
       "      <td>27.04</td>\n",
       "      <td>38.26</td>\n",
       "      <td>fue</td>\n",
       "    </tr>\n",
       "    <tr>\n",
       "      <th>4</th>\n",
       "      <td>2019</td>\n",
       "      <td>1</td>\n",
       "      <td>7331</td>\n",
       "      <td>7.0</td>\n",
       "      <td>5.0</td>\n",
       "      <td>721.00</td>\n",
       "      <td>30.38</td>\n",
       "      <td>60.0</td>\n",
       "      <td>60.0</td>\n",
       "      <td>120.22</td>\n",
       "      <td>...</td>\n",
       "      <td>0.0</td>\n",
       "      <td>0.0</td>\n",
       "      <td>0.0</td>\n",
       "      <td>0.0</td>\n",
       "      <td>0.0</td>\n",
       "      <td>0.00</td>\n",
       "      <td>0.0</td>\n",
       "      <td>23.71</td>\n",
       "      <td>34.96</td>\n",
       "      <td>fue</td>\n",
       "    </tr>\n",
       "  </tbody>\n",
       "</table>\n",
       "<p>5 rows × 40 columns</p>\n",
       "</div>"
      ],
      "text/plain": [
       "   año_x  sem_x  codigo_x  dias_pag  dias_lab   sueldo    comp  asist  transp  \\\n",
       "0   2019      1      7840       7.0       5.0  1143.52  462.91   60.0    60.0   \n",
       "1   2019      1      7505       7.0       5.0   721.00  173.04   60.0    60.0   \n",
       "2   2019      1      6600       7.0       5.0   721.00   30.38   60.0    50.0   \n",
       "3   2019      1      7685       7.0       5.0   721.00   30.38   60.0    60.0   \n",
       "4   2019      1      7331       7.0       5.0   721.00   30.38   60.0    60.0   \n",
       "\n",
       "   vales_x  ...  alim  infon  falt  enf  ries    ISPT  ISPTA   IMSS   subs  \\\n",
       "0   257.02  ...   0.0    0.0   0.0  0.0   0.0  289.63    0.0  49.55   0.00   \n",
       "1   143.04  ...   0.0    0.0   0.0  0.0   0.0   60.93    0.0  24.12   0.00   \n",
       "2   120.22  ...   0.0    0.0   0.0  0.0   0.0    0.00    0.0  20.07  33.13   \n",
       "3   120.22  ...   0.0    0.0   0.0  0.0   0.0    0.00    0.0  27.04  38.26   \n",
       "4   120.22  ...   0.0    0.0   0.0  0.0   0.0    0.00    0.0  23.71  34.96   \n",
       "\n",
       "   label  \n",
       "0    fue  \n",
       "1    fue  \n",
       "2    fue  \n",
       "3    fue  \n",
       "4    fue  \n",
       "\n",
       "[5 rows x 40 columns]"
      ]
     },
     "execution_count": 7,
     "metadata": {},
     "output_type": "execute_result"
    }
   ],
   "source": [
    "df.head()"
   ]
  },
  {
   "cell_type": "code",
   "execution_count": 8,
   "metadata": {},
   "outputs": [
    {
     "data": {
      "text/plain": [
       "fue      14097\n",
       "sigue     4268\n",
       "Name: label, dtype: int64"
      ]
     },
     "execution_count": 8,
     "metadata": {},
     "output_type": "execute_result"
    }
   ],
   "source": [
    "df[\"label\"].value_counts()"
   ]
  },
  {
   "cell_type": "code",
   "execution_count": 9,
   "metadata": {},
   "outputs": [
    {
     "data": {
      "text/plain": [
       "False"
      ]
     },
     "execution_count": 9,
     "metadata": {},
     "output_type": "execute_result"
    }
   ],
   "source": [
    "df.isna().values.any()"
   ]
  },
  {
   "cell_type": "code",
   "execution_count": 10,
   "metadata": {},
   "outputs": [],
   "source": [
    "df = df.set_index(\"codigo_x\")"
   ]
  },
  {
   "cell_type": "code",
   "execution_count": 11,
   "metadata": {},
   "outputs": [],
   "source": [
    "df = df[[\"dias_pag\",\"dias_lab\",\"sueldo\",\"comp\",\"asist\",\"transp\",\"vales_x\",\"te_dob\",\n",
    "          \"te_trip\",\"desc_Lab\",\"fest_lab\",\"dominic\",\"perc_grav\",\"obj\",\"aguin\",\"vac\",\"prim_vac\",\n",
    "          \"grat_esp\",\"util\",\"zapatos\",\"otras\",\"fonac\",\"alim\",\"infon\",\"falt\",\"enf\",\"ries\",\"label\"]]"
   ]
  },
  {
   "cell_type": "code",
   "execution_count": 12,
   "metadata": {},
   "outputs": [
    {
     "data": {
      "text/html": [
       "<div>\n",
       "<style scoped>\n",
       "    .dataframe tbody tr th:only-of-type {\n",
       "        vertical-align: middle;\n",
       "    }\n",
       "\n",
       "    .dataframe tbody tr th {\n",
       "        vertical-align: top;\n",
       "    }\n",
       "\n",
       "    .dataframe thead th {\n",
       "        text-align: right;\n",
       "    }\n",
       "</style>\n",
       "<table border=\"1\" class=\"dataframe\">\n",
       "  <thead>\n",
       "    <tr style=\"text-align: right;\">\n",
       "      <th></th>\n",
       "      <th>dias_pag</th>\n",
       "      <th>dias_lab</th>\n",
       "      <th>sueldo</th>\n",
       "      <th>comp</th>\n",
       "      <th>asist</th>\n",
       "      <th>transp</th>\n",
       "      <th>vales_x</th>\n",
       "      <th>te_dob</th>\n",
       "      <th>te_trip</th>\n",
       "      <th>desc_Lab</th>\n",
       "      <th>...</th>\n",
       "      <th>util</th>\n",
       "      <th>zapatos</th>\n",
       "      <th>otras</th>\n",
       "      <th>fonac</th>\n",
       "      <th>alim</th>\n",
       "      <th>infon</th>\n",
       "      <th>falt</th>\n",
       "      <th>enf</th>\n",
       "      <th>ries</th>\n",
       "      <th>label</th>\n",
       "    </tr>\n",
       "    <tr>\n",
       "      <th>codigo_x</th>\n",
       "      <th></th>\n",
       "      <th></th>\n",
       "      <th></th>\n",
       "      <th></th>\n",
       "      <th></th>\n",
       "      <th></th>\n",
       "      <th></th>\n",
       "      <th></th>\n",
       "      <th></th>\n",
       "      <th></th>\n",
       "      <th></th>\n",
       "      <th></th>\n",
       "      <th></th>\n",
       "      <th></th>\n",
       "      <th></th>\n",
       "      <th></th>\n",
       "      <th></th>\n",
       "      <th></th>\n",
       "      <th></th>\n",
       "      <th></th>\n",
       "      <th></th>\n",
       "    </tr>\n",
       "  </thead>\n",
       "  <tbody>\n",
       "    <tr>\n",
       "      <th>7840</th>\n",
       "      <td>7.0</td>\n",
       "      <td>5.0</td>\n",
       "      <td>1143.52</td>\n",
       "      <td>462.91</td>\n",
       "      <td>60.0</td>\n",
       "      <td>60.0</td>\n",
       "      <td>257.02</td>\n",
       "      <td>367.56</td>\n",
       "      <td>673.86</td>\n",
       "      <td>0.0</td>\n",
       "      <td>...</td>\n",
       "      <td>0.0</td>\n",
       "      <td>0.0</td>\n",
       "      <td>0.0</td>\n",
       "      <td>0.0</td>\n",
       "      <td>0.0</td>\n",
       "      <td>0.0</td>\n",
       "      <td>0.0</td>\n",
       "      <td>0.0</td>\n",
       "      <td>0.0</td>\n",
       "      <td>fue</td>\n",
       "    </tr>\n",
       "    <tr>\n",
       "      <th>7505</th>\n",
       "      <td>7.0</td>\n",
       "      <td>5.0</td>\n",
       "      <td>721.00</td>\n",
       "      <td>173.04</td>\n",
       "      <td>60.0</td>\n",
       "      <td>60.0</td>\n",
       "      <td>143.04</td>\n",
       "      <td>0.00</td>\n",
       "      <td>0.00</td>\n",
       "      <td>0.0</td>\n",
       "      <td>...</td>\n",
       "      <td>0.0</td>\n",
       "      <td>0.0</td>\n",
       "      <td>0.0</td>\n",
       "      <td>0.0</td>\n",
       "      <td>0.0</td>\n",
       "      <td>0.0</td>\n",
       "      <td>0.0</td>\n",
       "      <td>0.0</td>\n",
       "      <td>0.0</td>\n",
       "      <td>fue</td>\n",
       "    </tr>\n",
       "    <tr>\n",
       "      <th>6600</th>\n",
       "      <td>7.0</td>\n",
       "      <td>5.0</td>\n",
       "      <td>721.00</td>\n",
       "      <td>30.38</td>\n",
       "      <td>60.0</td>\n",
       "      <td>50.0</td>\n",
       "      <td>120.22</td>\n",
       "      <td>180.25</td>\n",
       "      <td>0.00</td>\n",
       "      <td>0.0</td>\n",
       "      <td>...</td>\n",
       "      <td>0.0</td>\n",
       "      <td>0.0</td>\n",
       "      <td>0.0</td>\n",
       "      <td>0.0</td>\n",
       "      <td>0.0</td>\n",
       "      <td>0.0</td>\n",
       "      <td>0.0</td>\n",
       "      <td>0.0</td>\n",
       "      <td>0.0</td>\n",
       "      <td>fue</td>\n",
       "    </tr>\n",
       "    <tr>\n",
       "      <th>7685</th>\n",
       "      <td>7.0</td>\n",
       "      <td>5.0</td>\n",
       "      <td>721.00</td>\n",
       "      <td>30.38</td>\n",
       "      <td>60.0</td>\n",
       "      <td>60.0</td>\n",
       "      <td>120.22</td>\n",
       "      <td>0.00</td>\n",
       "      <td>0.00</td>\n",
       "      <td>0.0</td>\n",
       "      <td>...</td>\n",
       "      <td>0.0</td>\n",
       "      <td>0.0</td>\n",
       "      <td>0.0</td>\n",
       "      <td>0.0</td>\n",
       "      <td>0.0</td>\n",
       "      <td>0.0</td>\n",
       "      <td>0.0</td>\n",
       "      <td>0.0</td>\n",
       "      <td>0.0</td>\n",
       "      <td>fue</td>\n",
       "    </tr>\n",
       "    <tr>\n",
       "      <th>7331</th>\n",
       "      <td>7.0</td>\n",
       "      <td>5.0</td>\n",
       "      <td>721.00</td>\n",
       "      <td>30.38</td>\n",
       "      <td>60.0</td>\n",
       "      <td>60.0</td>\n",
       "      <td>120.22</td>\n",
       "      <td>103.00</td>\n",
       "      <td>0.00</td>\n",
       "      <td>0.0</td>\n",
       "      <td>...</td>\n",
       "      <td>0.0</td>\n",
       "      <td>0.0</td>\n",
       "      <td>0.0</td>\n",
       "      <td>0.0</td>\n",
       "      <td>0.0</td>\n",
       "      <td>0.0</td>\n",
       "      <td>0.0</td>\n",
       "      <td>0.0</td>\n",
       "      <td>0.0</td>\n",
       "      <td>fue</td>\n",
       "    </tr>\n",
       "  </tbody>\n",
       "</table>\n",
       "<p>5 rows × 28 columns</p>\n",
       "</div>"
      ],
      "text/plain": [
       "          dias_pag  dias_lab   sueldo    comp  asist  transp  vales_x  te_dob  \\\n",
       "codigo_x                                                                        \n",
       "7840           7.0       5.0  1143.52  462.91   60.0    60.0   257.02  367.56   \n",
       "7505           7.0       5.0   721.00  173.04   60.0    60.0   143.04    0.00   \n",
       "6600           7.0       5.0   721.00   30.38   60.0    50.0   120.22  180.25   \n",
       "7685           7.0       5.0   721.00   30.38   60.0    60.0   120.22    0.00   \n",
       "7331           7.0       5.0   721.00   30.38   60.0    60.0   120.22  103.00   \n",
       "\n",
       "          te_trip  desc_Lab  ...  util  zapatos  otras  fonac  alim  infon  \\\n",
       "codigo_x                     ...                                             \n",
       "7840       673.86       0.0  ...   0.0      0.0    0.0    0.0   0.0    0.0   \n",
       "7505         0.00       0.0  ...   0.0      0.0    0.0    0.0   0.0    0.0   \n",
       "6600         0.00       0.0  ...   0.0      0.0    0.0    0.0   0.0    0.0   \n",
       "7685         0.00       0.0  ...   0.0      0.0    0.0    0.0   0.0    0.0   \n",
       "7331         0.00       0.0  ...   0.0      0.0    0.0    0.0   0.0    0.0   \n",
       "\n",
       "          falt  enf  ries  label  \n",
       "codigo_x                          \n",
       "7840       0.0  0.0   0.0    fue  \n",
       "7505       0.0  0.0   0.0    fue  \n",
       "6600       0.0  0.0   0.0    fue  \n",
       "7685       0.0  0.0   0.0    fue  \n",
       "7331       0.0  0.0   0.0    fue  \n",
       "\n",
       "[5 rows x 28 columns]"
      ]
     },
     "execution_count": 12,
     "metadata": {},
     "output_type": "execute_result"
    }
   ],
   "source": [
    "df.head()"
   ]
  },
  {
   "cell_type": "markdown",
   "metadata": {
    "slideshow": {
     "slide_type": "subslide"
    }
   },
   "source": [
    "## Data Pre-Processing"
   ]
  },
  {
   "cell_type": "code",
   "execution_count": 13,
   "metadata": {
    "nbgrader": {
     "grade": false,
     "grade_id": "cell-86a9e3212f200d21",
     "locked": false,
     "schema_version": 1,
     "solution": true
    },
    "slideshow": {
     "slide_type": "subslide"
    }
   },
   "outputs": [
    {
     "name": "stdout",
     "output_type": "stream",
     "text": [
      "(18365, 27) (18365,)\n"
     ]
    }
   ],
   "source": [
    "X = df.drop(\"label\", axis=1)\n",
    "y = df[\"label\"]\n",
    "print(X.shape, y.shape)"
   ]
  },
  {
   "cell_type": "code",
   "execution_count": 14,
   "metadata": {
    "nbgrader": {
     "grade": false,
     "grade_id": "cell-711a82d9b32c83ff",
     "locked": false,
     "schema_version": 1,
     "solution": true
    },
    "slideshow": {
     "slide_type": "fragment"
    }
   },
   "outputs": [],
   "source": [
    "from sklearn.model_selection import train_test_split\n",
    "from sklearn.preprocessing import LabelEncoder, MinMaxScaler\n",
    "from tensorflow.keras.utils import to_categorical"
   ]
  },
  {
   "cell_type": "code",
   "execution_count": 15,
   "metadata": {
    "nbgrader": {
     "grade": false,
     "grade_id": "cell-711a82d9b32c83ff",
     "locked": false,
     "schema_version": 1,
     "solution": true
    },
    "slideshow": {
     "slide_type": "fragment"
    }
   },
   "outputs": [],
   "source": [
    "X_train, X_test, y_train, y_test = train_test_split(\n",
    "    X, y, random_state=1, stratify=y)"
   ]
  },
  {
   "cell_type": "code",
   "execution_count": 16,
   "metadata": {
    "nbgrader": {
     "grade": false,
     "grade_id": "cell-711a82d9b32c83ff",
     "locked": false,
     "schema_version": 1,
     "solution": true
    },
    "slideshow": {
     "slide_type": "fragment"
    }
   },
   "outputs": [],
   "source": [
    "X_scaler = MinMaxScaler().fit(X_train)\n",
    "X_train_scaled = X_scaler.transform(X_train)\n",
    "X_test_scaled = X_scaler.transform(X_test)"
   ]
  },
  {
   "cell_type": "code",
   "execution_count": 17,
   "metadata": {
    "nbgrader": {
     "grade": false,
     "grade_id": "cell-711a82d9b32c83ff",
     "locked": false,
     "schema_version": 1,
     "solution": true
    },
    "slideshow": {
     "slide_type": "fragment"
    }
   },
   "outputs": [],
   "source": [
    "# Step 1: Label-encode data set\n",
    "label_encoder = LabelEncoder()\n",
    "label_encoder.fit(y_train)\n",
    "encoded_y_train = label_encoder.transform(y_train)\n",
    "encoded_y_test = label_encoder.transform(y_test)"
   ]
  },
  {
   "cell_type": "code",
   "execution_count": 18,
   "metadata": {
    "nbgrader": {
     "grade": false,
     "grade_id": "cell-711a82d9b32c83ff",
     "locked": false,
     "schema_version": 1,
     "solution": true
    },
    "slideshow": {
     "slide_type": "fragment"
    }
   },
   "outputs": [],
   "source": [
    "# Step 2: Convert encoded labels to one-hot-encoding\n",
    "y_train_categorical = to_categorical(encoded_y_train)\n",
    "y_test_categorical = to_categorical(encoded_y_test)"
   ]
  },
  {
   "cell_type": "markdown",
   "metadata": {},
   "source": [
    "# Create a Deep Learning Model"
   ]
  },
  {
   "cell_type": "code",
   "execution_count": 19,
   "metadata": {},
   "outputs": [],
   "source": [
    "from tensorflow.keras.models import Sequential\n",
    "from tensorflow.keras.layers import Dense"
   ]
  },
  {
   "cell_type": "code",
   "execution_count": 20,
   "metadata": {},
   "outputs": [
    {
     "data": {
      "text/plain": [
       "27"
      ]
     },
     "execution_count": 20,
     "metadata": {},
     "output_type": "execute_result"
    }
   ],
   "source": [
    "len(X_train_scaled[0])"
   ]
  },
  {
   "cell_type": "code",
   "execution_count": 21,
   "metadata": {},
   "outputs": [
    {
     "data": {
      "text/plain": [
       "27"
      ]
     },
     "execution_count": 21,
     "metadata": {},
     "output_type": "execute_result"
    }
   ],
   "source": [
    "len(X_test_scaled[0])"
   ]
  },
  {
   "cell_type": "code",
   "execution_count": 22,
   "metadata": {},
   "outputs": [],
   "source": [
    "# Create model and add layers\n",
    "model = Sequential()\n",
    "model.add(Dense(units=100, activation='relu', input_dim=27))\n",
    "model.add(Dense(units=100, activation='relu'))\n",
    "model.add(Dense(units=2, activation='softmax'))"
   ]
  },
  {
   "cell_type": "code",
   "execution_count": 23,
   "metadata": {},
   "outputs": [],
   "source": [
    "# Compile and fit the model\n",
    "model.compile(optimizer='adam',\n",
    "              loss='categorical_crossentropy',\n",
    "              metrics=['accuracy'])"
   ]
  },
  {
   "cell_type": "code",
   "execution_count": 24,
   "metadata": {},
   "outputs": [
    {
     "name": "stdout",
     "output_type": "stream",
     "text": [
      "Model: \"sequential\"\n",
      "_________________________________________________________________\n",
      "Layer (type)                 Output Shape              Param #   \n",
      "=================================================================\n",
      "dense (Dense)                (None, 100)               2800      \n",
      "_________________________________________________________________\n",
      "dense_1 (Dense)              (None, 100)               10100     \n",
      "_________________________________________________________________\n",
      "dense_2 (Dense)              (None, 2)                 202       \n",
      "=================================================================\n",
      "Total params: 13,102\n",
      "Trainable params: 13,102\n",
      "Non-trainable params: 0\n",
      "_________________________________________________________________\n"
     ]
    }
   ],
   "source": [
    "model.summary()"
   ]
  },
  {
   "cell_type": "code",
   "execution_count": 25,
   "metadata": {},
   "outputs": [
    {
     "name": "stdout",
     "output_type": "stream",
     "text": [
      "Train on 13773 samples\n",
      "Epoch 1/100\n",
      "13773/13773 - 1s - loss: 0.4997 - accuracy: 0.7761\n",
      "Epoch 2/100\n",
      "13773/13773 - 1s - loss: 0.4846 - accuracy: 0.7820\n",
      "Epoch 3/100\n",
      "13773/13773 - 0s - loss: 0.4784 - accuracy: 0.7826\n",
      "Epoch 4/100\n",
      "13773/13773 - 0s - loss: 0.4718 - accuracy: 0.7877\n",
      "Epoch 5/100\n",
      "13773/13773 - 0s - loss: 0.4658 - accuracy: 0.7880\n",
      "Epoch 6/100\n",
      "13773/13773 - 0s - loss: 0.4636 - accuracy: 0.7884\n",
      "Epoch 7/100\n",
      "13773/13773 - 0s - loss: 0.4584 - accuracy: 0.7894\n",
      "Epoch 8/100\n",
      "13773/13773 - 0s - loss: 0.4552 - accuracy: 0.7913\n",
      "Epoch 9/100\n",
      "13773/13773 - 0s - loss: 0.4547 - accuracy: 0.7921\n",
      "Epoch 10/100\n",
      "13773/13773 - 0s - loss: 0.4507 - accuracy: 0.7937\n",
      "Epoch 11/100\n",
      "13773/13773 - 0s - loss: 0.4486 - accuracy: 0.7937\n",
      "Epoch 12/100\n",
      "13773/13773 - 0s - loss: 0.4453 - accuracy: 0.7955\n",
      "Epoch 13/100\n",
      "13773/13773 - 0s - loss: 0.4463 - accuracy: 0.7934\n",
      "Epoch 14/100\n",
      "13773/13773 - 0s - loss: 0.4438 - accuracy: 0.7945\n",
      "Epoch 15/100\n",
      "13773/13773 - 0s - loss: 0.4416 - accuracy: 0.7971\n",
      "Epoch 16/100\n",
      "13773/13773 - 0s - loss: 0.4389 - accuracy: 0.7977\n",
      "Epoch 17/100\n",
      "13773/13773 - 0s - loss: 0.4399 - accuracy: 0.7966\n",
      "Epoch 18/100\n",
      "13773/13773 - 0s - loss: 0.4363 - accuracy: 0.7971\n",
      "Epoch 19/100\n",
      "13773/13773 - 1s - loss: 0.4355 - accuracy: 0.7956\n",
      "Epoch 20/100\n",
      "13773/13773 - 0s - loss: 0.4343 - accuracy: 0.7980\n",
      "Epoch 21/100\n",
      "13773/13773 - 0s - loss: 0.4350 - accuracy: 0.7966\n",
      "Epoch 22/100\n",
      "13773/13773 - 0s - loss: 0.4321 - accuracy: 0.7983\n",
      "Epoch 23/100\n",
      "13773/13773 - 1s - loss: 0.4309 - accuracy: 0.8005\n",
      "Epoch 24/100\n",
      "13773/13773 - 0s - loss: 0.4274 - accuracy: 0.8031\n",
      "Epoch 25/100\n",
      "13773/13773 - 0s - loss: 0.4284 - accuracy: 0.8008\n",
      "Epoch 26/100\n",
      "13773/13773 - 1s - loss: 0.4256 - accuracy: 0.8027\n",
      "Epoch 27/100\n",
      "13773/13773 - 1s - loss: 0.4252 - accuracy: 0.8026\n",
      "Epoch 28/100\n",
      "13773/13773 - 0s - loss: 0.4231 - accuracy: 0.8008\n",
      "Epoch 29/100\n",
      "13773/13773 - 1s - loss: 0.4214 - accuracy: 0.8045\n",
      "Epoch 30/100\n",
      "13773/13773 - 0s - loss: 0.4214 - accuracy: 0.8037\n",
      "Epoch 31/100\n",
      "13773/13773 - 1s - loss: 0.4202 - accuracy: 0.8039\n",
      "Epoch 32/100\n",
      "13773/13773 - 0s - loss: 0.4179 - accuracy: 0.8043\n",
      "Epoch 33/100\n",
      "13773/13773 - 0s - loss: 0.4173 - accuracy: 0.8059\n",
      "Epoch 34/100\n",
      "13773/13773 - 0s - loss: 0.4158 - accuracy: 0.8053\n",
      "Epoch 35/100\n",
      "13773/13773 - 0s - loss: 0.4168 - accuracy: 0.8045\n",
      "Epoch 36/100\n",
      "13773/13773 - 0s - loss: 0.4144 - accuracy: 0.8051\n",
      "Epoch 37/100\n",
      "13773/13773 - 0s - loss: 0.4129 - accuracy: 0.8049\n",
      "Epoch 38/100\n",
      "13773/13773 - 0s - loss: 0.4113 - accuracy: 0.8058\n",
      "Epoch 39/100\n",
      "13773/13773 - 1s - loss: 0.4128 - accuracy: 0.8032\n",
      "Epoch 40/100\n",
      "13773/13773 - 0s - loss: 0.4119 - accuracy: 0.8076\n",
      "Epoch 41/100\n",
      "13773/13773 - 0s - loss: 0.4086 - accuracy: 0.8070\n",
      "Epoch 42/100\n",
      "13773/13773 - 0s - loss: 0.4100 - accuracy: 0.8056\n",
      "Epoch 43/100\n",
      "13773/13773 - 0s - loss: 0.4085 - accuracy: 0.8086\n",
      "Epoch 44/100\n",
      "13773/13773 - 0s - loss: 0.4062 - accuracy: 0.8101\n",
      "Epoch 45/100\n",
      "13773/13773 - 0s - loss: 0.4042 - accuracy: 0.8087\n",
      "Epoch 46/100\n",
      "13773/13773 - 0s - loss: 0.4050 - accuracy: 0.8099\n",
      "Epoch 47/100\n",
      "13773/13773 - 0s - loss: 0.4043 - accuracy: 0.8077\n",
      "Epoch 48/100\n",
      "13773/13773 - 0s - loss: 0.4034 - accuracy: 0.8095\n",
      "Epoch 49/100\n",
      "13773/13773 - 1s - loss: 0.4040 - accuracy: 0.8112\n",
      "Epoch 50/100\n",
      "13773/13773 - 0s - loss: 0.4012 - accuracy: 0.8099\n",
      "Epoch 51/100\n",
      "13773/13773 - 0s - loss: 0.4024 - accuracy: 0.8098\n",
      "Epoch 52/100\n",
      "13773/13773 - 0s - loss: 0.4011 - accuracy: 0.8107\n",
      "Epoch 53/100\n",
      "13773/13773 - 0s - loss: 0.3999 - accuracy: 0.8111\n",
      "Epoch 54/100\n",
      "13773/13773 - 0s - loss: 0.3992 - accuracy: 0.8110\n",
      "Epoch 55/100\n",
      "13773/13773 - 0s - loss: 0.3987 - accuracy: 0.8109\n",
      "Epoch 56/100\n",
      "13773/13773 - 0s - loss: 0.3966 - accuracy: 0.8117\n",
      "Epoch 57/100\n",
      "13773/13773 - 0s - loss: 0.3968 - accuracy: 0.8109\n",
      "Epoch 58/100\n",
      "13773/13773 - 0s - loss: 0.3942 - accuracy: 0.8116\n",
      "Epoch 59/100\n",
      "13773/13773 - 0s - loss: 0.3945 - accuracy: 0.8129\n",
      "Epoch 60/100\n",
      "13773/13773 - 0s - loss: 0.3941 - accuracy: 0.8131\n",
      "Epoch 61/100\n",
      "13773/13773 - 0s - loss: 0.3945 - accuracy: 0.8137\n",
      "Epoch 62/100\n",
      "13773/13773 - 0s - loss: 0.3947 - accuracy: 0.8118\n",
      "Epoch 63/100\n",
      "13773/13773 - 0s - loss: 0.3915 - accuracy: 0.8147\n",
      "Epoch 64/100\n",
      "13773/13773 - 0s - loss: 0.3904 - accuracy: 0.8143\n",
      "Epoch 65/100\n",
      "13773/13773 - 0s - loss: 0.3904 - accuracy: 0.8130\n",
      "Epoch 66/100\n",
      "13773/13773 - 0s - loss: 0.3906 - accuracy: 0.8140\n",
      "Epoch 67/100\n",
      "13773/13773 - 0s - loss: 0.3889 - accuracy: 0.8160\n",
      "Epoch 68/100\n",
      "13773/13773 - 0s - loss: 0.3900 - accuracy: 0.8133\n",
      "Epoch 69/100\n",
      "13773/13773 - 0s - loss: 0.3884 - accuracy: 0.8127\n",
      "Epoch 70/100\n",
      "13773/13773 - 0s - loss: 0.3864 - accuracy: 0.8127\n",
      "Epoch 71/100\n",
      "13773/13773 - 0s - loss: 0.3865 - accuracy: 0.8163\n",
      "Epoch 72/100\n",
      "13773/13773 - 0s - loss: 0.3860 - accuracy: 0.8144\n",
      "Epoch 73/100\n",
      "13773/13773 - 0s - loss: 0.3852 - accuracy: 0.8149\n",
      "Epoch 74/100\n",
      "13773/13773 - 1s - loss: 0.3843 - accuracy: 0.8155\n",
      "Epoch 75/100\n",
      "13773/13773 - 0s - loss: 0.3859 - accuracy: 0.8146\n",
      "Epoch 76/100\n",
      "13773/13773 - 1s - loss: 0.3853 - accuracy: 0.8126\n",
      "Epoch 77/100\n",
      "13773/13773 - 0s - loss: 0.3833 - accuracy: 0.8149\n",
      "Epoch 78/100\n",
      "13773/13773 - 0s - loss: 0.3836 - accuracy: 0.8136\n",
      "Epoch 79/100\n",
      "13773/13773 - 0s - loss: 0.3836 - accuracy: 0.8166\n",
      "Epoch 80/100\n",
      "13773/13773 - 0s - loss: 0.3811 - accuracy: 0.8167\n",
      "Epoch 81/100\n",
      "13773/13773 - 0s - loss: 0.3807 - accuracy: 0.8172\n",
      "Epoch 82/100\n",
      "13773/13773 - 0s - loss: 0.3814 - accuracy: 0.8161\n",
      "Epoch 83/100\n",
      "13773/13773 - 1s - loss: 0.3812 - accuracy: 0.8199\n",
      "Epoch 84/100\n",
      "13773/13773 - 0s - loss: 0.3785 - accuracy: 0.8165\n",
      "Epoch 85/100\n",
      "13773/13773 - 0s - loss: 0.3796 - accuracy: 0.8162\n",
      "Epoch 86/100\n",
      "13773/13773 - 0s - loss: 0.3776 - accuracy: 0.8182\n",
      "Epoch 87/100\n",
      "13773/13773 - 1s - loss: 0.3782 - accuracy: 0.8179\n",
      "Epoch 88/100\n",
      "13773/13773 - 0s - loss: 0.3776 - accuracy: 0.8177\n",
      "Epoch 89/100\n",
      "13773/13773 - 1s - loss: 0.3776 - accuracy: 0.8173\n",
      "Epoch 90/100\n",
      "13773/13773 - 1s - loss: 0.3775 - accuracy: 0.8168\n",
      "Epoch 91/100\n",
      "13773/13773 - 0s - loss: 0.3792 - accuracy: 0.8157\n",
      "Epoch 92/100\n",
      "13773/13773 - 0s - loss: 0.3768 - accuracy: 0.8171\n",
      "Epoch 93/100\n",
      "13773/13773 - 0s - loss: 0.3748 - accuracy: 0.8176\n",
      "Epoch 94/100\n",
      "13773/13773 - 0s - loss: 0.3754 - accuracy: 0.8170\n",
      "Epoch 95/100\n",
      "13773/13773 - 0s - loss: 0.3746 - accuracy: 0.8173\n",
      "Epoch 96/100\n",
      "13773/13773 - 0s - loss: 0.3758 - accuracy: 0.8170\n",
      "Epoch 97/100\n",
      "13773/13773 - 0s - loss: 0.3744 - accuracy: 0.8202\n",
      "Epoch 98/100\n",
      "13773/13773 - 0s - loss: 0.3730 - accuracy: 0.8176\n",
      "Epoch 99/100\n",
      "13773/13773 - 1s - loss: 0.3712 - accuracy: 0.8181\n",
      "Epoch 100/100\n",
      "13773/13773 - 1s - loss: 0.3732 - accuracy: 0.8193\n"
     ]
    },
    {
     "data": {
      "text/plain": [
       "<tensorflow.python.keras.callbacks.History at 0x1f2e2a216d8>"
      ]
     },
     "execution_count": 25,
     "metadata": {},
     "output_type": "execute_result"
    }
   ],
   "source": [
    "model.fit(\n",
    "    X_train_scaled,\n",
    "    y_train_categorical,\n",
    "    epochs=100,\n",
    "    shuffle=True,\n",
    "    verbose=2\n",
    ")"
   ]
  },
  {
   "cell_type": "markdown",
   "metadata": {},
   "source": [
    "## Quantify our Trained Model"
   ]
  },
  {
   "cell_type": "code",
   "execution_count": 26,
   "metadata": {},
   "outputs": [
    {
     "name": "stdout",
     "output_type": "stream",
     "text": [
      "4592/1 - 0s - loss: 0.3552 - accuracy: 0.8186\n",
      "Normal Neural Network - Loss: 0.42819398901188416, Accuracy: 0.8185975551605225\n"
     ]
    }
   ],
   "source": [
    "model_loss, model_accuracy = model.evaluate(\n",
    "    X_test_scaled, y_test_categorical, verbose=2)\n",
    "print(\n",
    "    f\"Normal Neural Network - Loss: {model_loss}, Accuracy: {model_accuracy}\")"
   ]
  },
  {
   "cell_type": "markdown",
   "metadata": {
    "slideshow": {
     "slide_type": "subslide"
    }
   },
   "source": [
    "## Make Predictions"
   ]
  },
  {
   "cell_type": "code",
   "execution_count": 27,
   "metadata": {
    "nbgrader": {
     "grade": false,
     "grade_id": "cell-f97eb3e97245187b",
     "locked": false,
     "schema_version": 1,
     "solution": true
    },
    "slideshow": {
     "slide_type": "fragment"
    }
   },
   "outputs": [],
   "source": [
    "encoded_predictions = model.predict_classes(X_test_scaled)\n",
    "prediction_labels = label_encoder.inverse_transform(encoded_predictions)"
   ]
  },
  {
   "cell_type": "code",
   "execution_count": 28,
   "metadata": {},
   "outputs": [
    {
     "data": {
      "text/html": [
       "<div>\n",
       "<style scoped>\n",
       "    .dataframe tbody tr th:only-of-type {\n",
       "        vertical-align: middle;\n",
       "    }\n",
       "\n",
       "    .dataframe tbody tr th {\n",
       "        vertical-align: top;\n",
       "    }\n",
       "\n",
       "    .dataframe thead th {\n",
       "        text-align: right;\n",
       "    }\n",
       "</style>\n",
       "<table border=\"1\" class=\"dataframe\">\n",
       "  <thead>\n",
       "    <tr style=\"text-align: right;\">\n",
       "      <th></th>\n",
       "      <th>prediction</th>\n",
       "      <th>actual</th>\n",
       "    </tr>\n",
       "    <tr>\n",
       "      <th>codigo_x</th>\n",
       "      <th></th>\n",
       "      <th></th>\n",
       "    </tr>\n",
       "  </thead>\n",
       "  <tbody>\n",
       "    <tr>\n",
       "      <th>2112</th>\n",
       "      <td>fue</td>\n",
       "      <td>fue</td>\n",
       "    </tr>\n",
       "    <tr>\n",
       "      <th>7814</th>\n",
       "      <td>fue</td>\n",
       "      <td>fue</td>\n",
       "    </tr>\n",
       "    <tr>\n",
       "      <th>236</th>\n",
       "      <td>fue</td>\n",
       "      <td>fue</td>\n",
       "    </tr>\n",
       "    <tr>\n",
       "      <th>5280</th>\n",
       "      <td>fue</td>\n",
       "      <td>fue</td>\n",
       "    </tr>\n",
       "    <tr>\n",
       "      <th>7545</th>\n",
       "      <td>sigue</td>\n",
       "      <td>fue</td>\n",
       "    </tr>\n",
       "  </tbody>\n",
       "</table>\n",
       "</div>"
      ],
      "text/plain": [
       "         prediction actual\n",
       "codigo_x                  \n",
       "2112            fue    fue\n",
       "7814            fue    fue\n",
       "236             fue    fue\n",
       "5280            fue    fue\n",
       "7545          sigue    fue"
      ]
     },
     "execution_count": 28,
     "metadata": {},
     "output_type": "execute_result"
    }
   ],
   "source": [
    "results = pd.DataFrame({\n",
    "\"prediction\": prediction_labels,\n",
    "\"actual\": y_test\n",
    "})\n",
    "results.head()"
   ]
  },
  {
   "cell_type": "code",
   "execution_count": 29,
   "metadata": {},
   "outputs": [],
   "source": [
    "results[\"diffs\"] = results[\"prediction\"] == results[\"actual\"]"
   ]
  },
  {
   "cell_type": "code",
   "execution_count": 30,
   "metadata": {},
   "outputs": [
    {
     "data": {
      "text/html": [
       "<div>\n",
       "<style scoped>\n",
       "    .dataframe tbody tr th:only-of-type {\n",
       "        vertical-align: middle;\n",
       "    }\n",
       "\n",
       "    .dataframe tbody tr th {\n",
       "        vertical-align: top;\n",
       "    }\n",
       "\n",
       "    .dataframe thead th {\n",
       "        text-align: right;\n",
       "    }\n",
       "</style>\n",
       "<table border=\"1\" class=\"dataframe\">\n",
       "  <thead>\n",
       "    <tr style=\"text-align: right;\">\n",
       "      <th></th>\n",
       "      <th>prediction</th>\n",
       "      <th>actual</th>\n",
       "      <th>diffs</th>\n",
       "    </tr>\n",
       "    <tr>\n",
       "      <th>codigo_x</th>\n",
       "      <th></th>\n",
       "      <th></th>\n",
       "      <th></th>\n",
       "    </tr>\n",
       "  </thead>\n",
       "  <tbody>\n",
       "    <tr>\n",
       "      <th>2112</th>\n",
       "      <td>fue</td>\n",
       "      <td>fue</td>\n",
       "      <td>True</td>\n",
       "    </tr>\n",
       "    <tr>\n",
       "      <th>7814</th>\n",
       "      <td>fue</td>\n",
       "      <td>fue</td>\n",
       "      <td>True</td>\n",
       "    </tr>\n",
       "    <tr>\n",
       "      <th>236</th>\n",
       "      <td>fue</td>\n",
       "      <td>fue</td>\n",
       "      <td>True</td>\n",
       "    </tr>\n",
       "    <tr>\n",
       "      <th>5280</th>\n",
       "      <td>fue</td>\n",
       "      <td>fue</td>\n",
       "      <td>True</td>\n",
       "    </tr>\n",
       "    <tr>\n",
       "      <th>7545</th>\n",
       "      <td>sigue</td>\n",
       "      <td>fue</td>\n",
       "      <td>False</td>\n",
       "    </tr>\n",
       "  </tbody>\n",
       "</table>\n",
       "</div>"
      ],
      "text/plain": [
       "         prediction actual  diffs\n",
       "codigo_x                         \n",
       "2112            fue    fue   True\n",
       "7814            fue    fue   True\n",
       "236             fue    fue   True\n",
       "5280            fue    fue   True\n",
       "7545          sigue    fue  False"
      ]
     },
     "execution_count": 30,
     "metadata": {},
     "output_type": "execute_result"
    }
   ],
   "source": [
    "results.head()"
   ]
  },
  {
   "cell_type": "code",
   "execution_count": 31,
   "metadata": {},
   "outputs": [
    {
     "data": {
      "text/plain": [
       "True     3759\n",
       "False     833\n",
       "Name: diffs, dtype: int64"
      ]
     },
     "execution_count": 31,
     "metadata": {},
     "output_type": "execute_result"
    }
   ],
   "source": [
    "results[\"diffs\"].value_counts()"
   ]
  },
  {
   "cell_type": "code",
   "execution_count": 32,
   "metadata": {},
   "outputs": [],
   "source": [
    "diffs = results.loc[results[\"diffs\"] == False]"
   ]
  },
  {
   "cell_type": "code",
   "execution_count": 33,
   "metadata": {},
   "outputs": [],
   "source": [
    "se_nos_van = diffs.loc[diffs[\"actual\"] == \"sigue\"]"
   ]
  },
  {
   "cell_type": "code",
   "execution_count": 34,
   "metadata": {},
   "outputs": [],
   "source": [
    "no_debieron_irse = diffs.loc[diffs[\"prediction\"] == \"sigue\"]"
   ]
  },
  {
   "cell_type": "code",
   "execution_count": 35,
   "metadata": {},
   "outputs": [],
   "source": [
    "se_nos_van.reset_index(inplace=True)"
   ]
  },
  {
   "cell_type": "code",
   "execution_count": 36,
   "metadata": {},
   "outputs": [],
   "source": [
    "no_debieron_irse.reset_index(inplace=True)"
   ]
  },
  {
   "cell_type": "code",
   "execution_count": 37,
   "metadata": {},
   "outputs": [],
   "source": [
    "se_nos_van = se_nos_van.groupby(\"codigo_x\").count()"
   ]
  },
  {
   "cell_type": "code",
   "execution_count": 38,
   "metadata": {},
   "outputs": [],
   "source": [
    "no_debieron_irse = no_debieron_irse.groupby(\"codigo_x\").count()"
   ]
  },
  {
   "cell_type": "code",
   "execution_count": 39,
   "metadata": {},
   "outputs": [
    {
     "data": {
      "text/plain": [
       "prediction    229\n",
       "actual        229\n",
       "diffs         229\n",
       "dtype: int64"
      ]
     },
     "execution_count": 39,
     "metadata": {},
     "output_type": "execute_result"
    }
   ],
   "source": [
    "se_nos_van.count()"
   ]
  },
  {
   "cell_type": "code",
   "execution_count": 40,
   "metadata": {},
   "outputs": [
    {
     "data": {
      "text/plain": [
       "prediction    116\n",
       "actual        116\n",
       "diffs         116\n",
       "dtype: int64"
      ]
     },
     "execution_count": 40,
     "metadata": {},
     "output_type": "execute_result"
    }
   ],
   "source": [
    "no_debieron_irse.count()"
   ]
  },
  {
   "cell_type": "code",
   "execution_count": null,
   "metadata": {},
   "outputs": [],
   "source": []
  }
 ],
 "metadata": {
  "kernelspec": {
   "display_name": "Python 3",
   "language": "python",
   "name": "python3"
  },
  "language_info": {
   "codemirror_mode": {
    "name": "ipython",
    "version": 3
   },
   "file_extension": ".py",
   "mimetype": "text/x-python",
   "name": "python",
   "nbconvert_exporter": "python",
   "pygments_lexer": "ipython3",
   "version": "3.6.8"
  },
  "varInspector": {
   "cols": {
    "lenName": 16,
    "lenType": 16,
    "lenVar": 40
   },
   "kernels_config": {
    "python": {
     "delete_cmd_postfix": "",
     "delete_cmd_prefix": "del ",
     "library": "var_list.py",
     "varRefreshCmd": "print(var_dic_list())"
    },
    "r": {
     "delete_cmd_postfix": ") ",
     "delete_cmd_prefix": "rm(",
     "library": "var_list.r",
     "varRefreshCmd": "cat(var_dic_list()) "
    }
   },
   "types_to_exclude": [
    "module",
    "function",
    "builtin_function_or_method",
    "instance",
    "_Feature"
   ],
   "window_display": false
  }
 },
 "nbformat": 4,
 "nbformat_minor": 2
}
