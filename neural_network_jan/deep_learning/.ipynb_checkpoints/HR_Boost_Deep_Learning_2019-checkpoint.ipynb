{
 "cells": [
  {
   "cell_type": "code",
   "execution_count": 1,
   "metadata": {},
   "outputs": [],
   "source": [
    "# Set the seed value for the notebook so the results are reproducible\n",
    "from numpy.random import seed\n",
    "seed(1)"
   ]
  },
  {
   "cell_type": "code",
   "execution_count": 2,
   "metadata": {
    "slideshow": {
     "slide_type": "subslide"
    }
   },
   "outputs": [],
   "source": [
    "# Dependencies\n",
    "import numpy as np\n",
    "import pandas as pd"
   ]
  },
  {
   "cell_type": "code",
   "execution_count": 3,
   "metadata": {},
   "outputs": [],
   "source": [
    "import tensorflow"
   ]
  },
  {
   "cell_type": "code",
   "execution_count": 4,
   "metadata": {
    "slideshow": {
     "slide_type": "fragment"
    }
   },
   "outputs": [
    {
     "data": {
      "text/html": [
       "<div>\n",
       "<style scoped>\n",
       "    .dataframe tbody tr th:only-of-type {\n",
       "        vertical-align: middle;\n",
       "    }\n",
       "\n",
       "    .dataframe tbody tr th {\n",
       "        vertical-align: top;\n",
       "    }\n",
       "\n",
       "    .dataframe thead th {\n",
       "        text-align: right;\n",
       "    }\n",
       "</style>\n",
       "<table border=\"1\" class=\"dataframe\">\n",
       "  <thead>\n",
       "    <tr style=\"text-align: right;\">\n",
       "      <th></th>\n",
       "      <th>sem_x</th>\n",
       "      <th>codigo_x</th>\n",
       "      <th>dias_pag</th>\n",
       "      <th>dias_lab</th>\n",
       "      <th>sueldo</th>\n",
       "      <th>comp</th>\n",
       "      <th>asist</th>\n",
       "      <th>transp</th>\n",
       "      <th>vales_x</th>\n",
       "      <th>te_dob</th>\n",
       "      <th>...</th>\n",
       "      <th>alim</th>\n",
       "      <th>infon</th>\n",
       "      <th>falt</th>\n",
       "      <th>enf</th>\n",
       "      <th>ries</th>\n",
       "      <th>ISPT</th>\n",
       "      <th>ISPTA</th>\n",
       "      <th>IMSS</th>\n",
       "      <th>subs</th>\n",
       "      <th>label</th>\n",
       "    </tr>\n",
       "  </thead>\n",
       "  <tbody>\n",
       "    <tr>\n",
       "      <th>0</th>\n",
       "      <td>1</td>\n",
       "      <td>7840</td>\n",
       "      <td>7.0</td>\n",
       "      <td>5.0</td>\n",
       "      <td>1143.52</td>\n",
       "      <td>462.91</td>\n",
       "      <td>60.0</td>\n",
       "      <td>60.0</td>\n",
       "      <td>257.02</td>\n",
       "      <td>367.56</td>\n",
       "      <td>...</td>\n",
       "      <td>0.0</td>\n",
       "      <td>0.0</td>\n",
       "      <td>0.0</td>\n",
       "      <td>0.0</td>\n",
       "      <td>0.0</td>\n",
       "      <td>289.63</td>\n",
       "      <td>0.0</td>\n",
       "      <td>49.55</td>\n",
       "      <td>0.00</td>\n",
       "      <td>0</td>\n",
       "    </tr>\n",
       "    <tr>\n",
       "      <th>1</th>\n",
       "      <td>1</td>\n",
       "      <td>7505</td>\n",
       "      <td>7.0</td>\n",
       "      <td>5.0</td>\n",
       "      <td>721.00</td>\n",
       "      <td>173.04</td>\n",
       "      <td>60.0</td>\n",
       "      <td>60.0</td>\n",
       "      <td>143.04</td>\n",
       "      <td>0.00</td>\n",
       "      <td>...</td>\n",
       "      <td>0.0</td>\n",
       "      <td>0.0</td>\n",
       "      <td>0.0</td>\n",
       "      <td>0.0</td>\n",
       "      <td>0.0</td>\n",
       "      <td>60.93</td>\n",
       "      <td>0.0</td>\n",
       "      <td>24.12</td>\n",
       "      <td>0.00</td>\n",
       "      <td>0</td>\n",
       "    </tr>\n",
       "    <tr>\n",
       "      <th>2</th>\n",
       "      <td>1</td>\n",
       "      <td>6600</td>\n",
       "      <td>7.0</td>\n",
       "      <td>5.0</td>\n",
       "      <td>721.00</td>\n",
       "      <td>30.38</td>\n",
       "      <td>60.0</td>\n",
       "      <td>50.0</td>\n",
       "      <td>120.22</td>\n",
       "      <td>180.25</td>\n",
       "      <td>...</td>\n",
       "      <td>0.0</td>\n",
       "      <td>0.0</td>\n",
       "      <td>0.0</td>\n",
       "      <td>0.0</td>\n",
       "      <td>0.0</td>\n",
       "      <td>0.00</td>\n",
       "      <td>0.0</td>\n",
       "      <td>20.07</td>\n",
       "      <td>33.13</td>\n",
       "      <td>1</td>\n",
       "    </tr>\n",
       "    <tr>\n",
       "      <th>3</th>\n",
       "      <td>1</td>\n",
       "      <td>7685</td>\n",
       "      <td>7.0</td>\n",
       "      <td>5.0</td>\n",
       "      <td>721.00</td>\n",
       "      <td>30.38</td>\n",
       "      <td>60.0</td>\n",
       "      <td>60.0</td>\n",
       "      <td>120.22</td>\n",
       "      <td>0.00</td>\n",
       "      <td>...</td>\n",
       "      <td>0.0</td>\n",
       "      <td>0.0</td>\n",
       "      <td>0.0</td>\n",
       "      <td>0.0</td>\n",
       "      <td>0.0</td>\n",
       "      <td>0.00</td>\n",
       "      <td>0.0</td>\n",
       "      <td>27.04</td>\n",
       "      <td>38.26</td>\n",
       "      <td>1</td>\n",
       "    </tr>\n",
       "    <tr>\n",
       "      <th>4</th>\n",
       "      <td>1</td>\n",
       "      <td>7331</td>\n",
       "      <td>7.0</td>\n",
       "      <td>5.0</td>\n",
       "      <td>721.00</td>\n",
       "      <td>30.38</td>\n",
       "      <td>60.0</td>\n",
       "      <td>60.0</td>\n",
       "      <td>120.22</td>\n",
       "      <td>103.00</td>\n",
       "      <td>...</td>\n",
       "      <td>0.0</td>\n",
       "      <td>0.0</td>\n",
       "      <td>0.0</td>\n",
       "      <td>0.0</td>\n",
       "      <td>0.0</td>\n",
       "      <td>0.00</td>\n",
       "      <td>0.0</td>\n",
       "      <td>23.71</td>\n",
       "      <td>34.96</td>\n",
       "      <td>0</td>\n",
       "    </tr>\n",
       "  </tbody>\n",
       "</table>\n",
       "<p>5 rows × 38 columns</p>\n",
       "</div>"
      ],
      "text/plain": [
       "   sem_x  codigo_x  dias_pag  dias_lab   sueldo    comp  asist  transp  \\\n",
       "0      1      7840       7.0       5.0  1143.52  462.91   60.0    60.0   \n",
       "1      1      7505       7.0       5.0   721.00  173.04   60.0    60.0   \n",
       "2      1      6600       7.0       5.0   721.00   30.38   60.0    50.0   \n",
       "3      1      7685       7.0       5.0   721.00   30.38   60.0    60.0   \n",
       "4      1      7331       7.0       5.0   721.00   30.38   60.0    60.0   \n",
       "\n",
       "   vales_x  te_dob  ...  alim  infon  falt  enf  ries    ISPT  ISPTA   IMSS  \\\n",
       "0   257.02  367.56  ...   0.0    0.0   0.0  0.0   0.0  289.63    0.0  49.55   \n",
       "1   143.04    0.00  ...   0.0    0.0   0.0  0.0   0.0   60.93    0.0  24.12   \n",
       "2   120.22  180.25  ...   0.0    0.0   0.0  0.0   0.0    0.00    0.0  20.07   \n",
       "3   120.22    0.00  ...   0.0    0.0   0.0  0.0   0.0    0.00    0.0  27.04   \n",
       "4   120.22  103.00  ...   0.0    0.0   0.0  0.0   0.0    0.00    0.0  23.71   \n",
       "\n",
       "    subs  label  \n",
       "0   0.00      0  \n",
       "1   0.00      0  \n",
       "2  33.13      1  \n",
       "3  38.26      1  \n",
       "4  34.96      0  \n",
       "\n",
       "[5 rows x 38 columns]"
      ]
     },
     "execution_count": 4,
     "metadata": {},
     "output_type": "execute_result"
    }
   ],
   "source": [
    "df = pd.read_csv('../Resources/CONSOLIDADO.csv', index_col=0)\n",
    "df.head()"
   ]
  },
  {
   "cell_type": "code",
   "execution_count": 5,
   "metadata": {},
   "outputs": [],
   "source": [
    "def labeling(row):\n",
    "    sigue = \"sigue\"\n",
    "    fue = \"fue\"\n",
    "    if row == 0:\n",
    "        return sigue\n",
    "    else:\n",
    "        return fue"
   ]
  },
  {
   "cell_type": "code",
   "execution_count": 6,
   "metadata": {},
   "outputs": [],
   "source": [
    "df[\"label\"] = df[\"label\"].apply(lambda row: labeling(row))"
   ]
  },
  {
   "cell_type": "code",
   "execution_count": 7,
   "metadata": {},
   "outputs": [
    {
     "data": {
      "text/html": [
       "<div>\n",
       "<style scoped>\n",
       "    .dataframe tbody tr th:only-of-type {\n",
       "        vertical-align: middle;\n",
       "    }\n",
       "\n",
       "    .dataframe tbody tr th {\n",
       "        vertical-align: top;\n",
       "    }\n",
       "\n",
       "    .dataframe thead th {\n",
       "        text-align: right;\n",
       "    }\n",
       "</style>\n",
       "<table border=\"1\" class=\"dataframe\">\n",
       "  <thead>\n",
       "    <tr style=\"text-align: right;\">\n",
       "      <th></th>\n",
       "      <th>sem_x</th>\n",
       "      <th>codigo_x</th>\n",
       "      <th>dias_pag</th>\n",
       "      <th>dias_lab</th>\n",
       "      <th>sueldo</th>\n",
       "      <th>comp</th>\n",
       "      <th>asist</th>\n",
       "      <th>transp</th>\n",
       "      <th>vales_x</th>\n",
       "      <th>te_dob</th>\n",
       "      <th>...</th>\n",
       "      <th>alim</th>\n",
       "      <th>infon</th>\n",
       "      <th>falt</th>\n",
       "      <th>enf</th>\n",
       "      <th>ries</th>\n",
       "      <th>ISPT</th>\n",
       "      <th>ISPTA</th>\n",
       "      <th>IMSS</th>\n",
       "      <th>subs</th>\n",
       "      <th>label</th>\n",
       "    </tr>\n",
       "  </thead>\n",
       "  <tbody>\n",
       "    <tr>\n",
       "      <th>0</th>\n",
       "      <td>1</td>\n",
       "      <td>7840</td>\n",
       "      <td>7.0</td>\n",
       "      <td>5.0</td>\n",
       "      <td>1143.52</td>\n",
       "      <td>462.91</td>\n",
       "      <td>60.0</td>\n",
       "      <td>60.0</td>\n",
       "      <td>257.02</td>\n",
       "      <td>367.56</td>\n",
       "      <td>...</td>\n",
       "      <td>0.0</td>\n",
       "      <td>0.0</td>\n",
       "      <td>0.0</td>\n",
       "      <td>0.0</td>\n",
       "      <td>0.0</td>\n",
       "      <td>289.63</td>\n",
       "      <td>0.0</td>\n",
       "      <td>49.55</td>\n",
       "      <td>0.00</td>\n",
       "      <td>sigue</td>\n",
       "    </tr>\n",
       "    <tr>\n",
       "      <th>1</th>\n",
       "      <td>1</td>\n",
       "      <td>7505</td>\n",
       "      <td>7.0</td>\n",
       "      <td>5.0</td>\n",
       "      <td>721.00</td>\n",
       "      <td>173.04</td>\n",
       "      <td>60.0</td>\n",
       "      <td>60.0</td>\n",
       "      <td>143.04</td>\n",
       "      <td>0.00</td>\n",
       "      <td>...</td>\n",
       "      <td>0.0</td>\n",
       "      <td>0.0</td>\n",
       "      <td>0.0</td>\n",
       "      <td>0.0</td>\n",
       "      <td>0.0</td>\n",
       "      <td>60.93</td>\n",
       "      <td>0.0</td>\n",
       "      <td>24.12</td>\n",
       "      <td>0.00</td>\n",
       "      <td>sigue</td>\n",
       "    </tr>\n",
       "    <tr>\n",
       "      <th>2</th>\n",
       "      <td>1</td>\n",
       "      <td>6600</td>\n",
       "      <td>7.0</td>\n",
       "      <td>5.0</td>\n",
       "      <td>721.00</td>\n",
       "      <td>30.38</td>\n",
       "      <td>60.0</td>\n",
       "      <td>50.0</td>\n",
       "      <td>120.22</td>\n",
       "      <td>180.25</td>\n",
       "      <td>...</td>\n",
       "      <td>0.0</td>\n",
       "      <td>0.0</td>\n",
       "      <td>0.0</td>\n",
       "      <td>0.0</td>\n",
       "      <td>0.0</td>\n",
       "      <td>0.00</td>\n",
       "      <td>0.0</td>\n",
       "      <td>20.07</td>\n",
       "      <td>33.13</td>\n",
       "      <td>fue</td>\n",
       "    </tr>\n",
       "    <tr>\n",
       "      <th>3</th>\n",
       "      <td>1</td>\n",
       "      <td>7685</td>\n",
       "      <td>7.0</td>\n",
       "      <td>5.0</td>\n",
       "      <td>721.00</td>\n",
       "      <td>30.38</td>\n",
       "      <td>60.0</td>\n",
       "      <td>60.0</td>\n",
       "      <td>120.22</td>\n",
       "      <td>0.00</td>\n",
       "      <td>...</td>\n",
       "      <td>0.0</td>\n",
       "      <td>0.0</td>\n",
       "      <td>0.0</td>\n",
       "      <td>0.0</td>\n",
       "      <td>0.0</td>\n",
       "      <td>0.00</td>\n",
       "      <td>0.0</td>\n",
       "      <td>27.04</td>\n",
       "      <td>38.26</td>\n",
       "      <td>fue</td>\n",
       "    </tr>\n",
       "    <tr>\n",
       "      <th>4</th>\n",
       "      <td>1</td>\n",
       "      <td>7331</td>\n",
       "      <td>7.0</td>\n",
       "      <td>5.0</td>\n",
       "      <td>721.00</td>\n",
       "      <td>30.38</td>\n",
       "      <td>60.0</td>\n",
       "      <td>60.0</td>\n",
       "      <td>120.22</td>\n",
       "      <td>103.00</td>\n",
       "      <td>...</td>\n",
       "      <td>0.0</td>\n",
       "      <td>0.0</td>\n",
       "      <td>0.0</td>\n",
       "      <td>0.0</td>\n",
       "      <td>0.0</td>\n",
       "      <td>0.00</td>\n",
       "      <td>0.0</td>\n",
       "      <td>23.71</td>\n",
       "      <td>34.96</td>\n",
       "      <td>sigue</td>\n",
       "    </tr>\n",
       "  </tbody>\n",
       "</table>\n",
       "<p>5 rows × 38 columns</p>\n",
       "</div>"
      ],
      "text/plain": [
       "   sem_x  codigo_x  dias_pag  dias_lab   sueldo    comp  asist  transp  \\\n",
       "0      1      7840       7.0       5.0  1143.52  462.91   60.0    60.0   \n",
       "1      1      7505       7.0       5.0   721.00  173.04   60.0    60.0   \n",
       "2      1      6600       7.0       5.0   721.00   30.38   60.0    50.0   \n",
       "3      1      7685       7.0       5.0   721.00   30.38   60.0    60.0   \n",
       "4      1      7331       7.0       5.0   721.00   30.38   60.0    60.0   \n",
       "\n",
       "   vales_x  te_dob  ...  alim  infon  falt  enf  ries    ISPT  ISPTA   IMSS  \\\n",
       "0   257.02  367.56  ...   0.0    0.0   0.0  0.0   0.0  289.63    0.0  49.55   \n",
       "1   143.04    0.00  ...   0.0    0.0   0.0  0.0   0.0   60.93    0.0  24.12   \n",
       "2   120.22  180.25  ...   0.0    0.0   0.0  0.0   0.0    0.00    0.0  20.07   \n",
       "3   120.22    0.00  ...   0.0    0.0   0.0  0.0   0.0    0.00    0.0  27.04   \n",
       "4   120.22  103.00  ...   0.0    0.0   0.0  0.0   0.0    0.00    0.0  23.71   \n",
       "\n",
       "    subs  label  \n",
       "0   0.00  sigue  \n",
       "1   0.00  sigue  \n",
       "2  33.13    fue  \n",
       "3  38.26    fue  \n",
       "4  34.96  sigue  \n",
       "\n",
       "[5 rows x 38 columns]"
      ]
     },
     "execution_count": 7,
     "metadata": {},
     "output_type": "execute_result"
    }
   ],
   "source": [
    "df.head()"
   ]
  },
  {
   "cell_type": "code",
   "execution_count": 8,
   "metadata": {},
   "outputs": [
    {
     "data": {
      "text/plain": [
       "fue      5552\n",
       "sigue    2661\n",
       "Name: label, dtype: int64"
      ]
     },
     "execution_count": 8,
     "metadata": {},
     "output_type": "execute_result"
    }
   ],
   "source": [
    "df[\"label\"].value_counts()"
   ]
  },
  {
   "cell_type": "code",
   "execution_count": 9,
   "metadata": {},
   "outputs": [
    {
     "data": {
      "text/plain": [
       "False"
      ]
     },
     "execution_count": 9,
     "metadata": {},
     "output_type": "execute_result"
    }
   ],
   "source": [
    "df.isna().values.any()"
   ]
  },
  {
   "cell_type": "code",
   "execution_count": 12,
   "metadata": {},
   "outputs": [],
   "source": [
    "df = df.set_index(\"codigo_x\")"
   ]
  },
  {
   "cell_type": "code",
   "execution_count": 13,
   "metadata": {},
   "outputs": [],
   "source": [
    "df = df[[\"dias_pag\",\"dias_lab\",\"sueldo\",\"comp\",\"asist\",\"transp\",\"vales_x\",\"te_dob\",\n",
    "          \"te_trip\",\"desc_Lab\",\"fest_lab\",\"dominic\",\"perc_grav\",\"obj\",\"aguin\",\"vac\",\"prim_vac\",\n",
    "          \"grat_esp\",\"util\",\"zapatos\",\"otras\",\"fonac\",\"alim\",\"infon\",\"falt\",\"enf\",\"ries\",\"label\"]]"
   ]
  },
  {
   "cell_type": "code",
   "execution_count": 14,
   "metadata": {},
   "outputs": [
    {
     "data": {
      "text/html": [
       "<div>\n",
       "<style scoped>\n",
       "    .dataframe tbody tr th:only-of-type {\n",
       "        vertical-align: middle;\n",
       "    }\n",
       "\n",
       "    .dataframe tbody tr th {\n",
       "        vertical-align: top;\n",
       "    }\n",
       "\n",
       "    .dataframe thead th {\n",
       "        text-align: right;\n",
       "    }\n",
       "</style>\n",
       "<table border=\"1\" class=\"dataframe\">\n",
       "  <thead>\n",
       "    <tr style=\"text-align: right;\">\n",
       "      <th></th>\n",
       "      <th>dias_pag</th>\n",
       "      <th>dias_lab</th>\n",
       "      <th>sueldo</th>\n",
       "      <th>comp</th>\n",
       "      <th>asist</th>\n",
       "      <th>transp</th>\n",
       "      <th>vales_x</th>\n",
       "      <th>te_dob</th>\n",
       "      <th>te_trip</th>\n",
       "      <th>desc_Lab</th>\n",
       "      <th>...</th>\n",
       "      <th>util</th>\n",
       "      <th>zapatos</th>\n",
       "      <th>otras</th>\n",
       "      <th>fonac</th>\n",
       "      <th>alim</th>\n",
       "      <th>infon</th>\n",
       "      <th>falt</th>\n",
       "      <th>enf</th>\n",
       "      <th>ries</th>\n",
       "      <th>label</th>\n",
       "    </tr>\n",
       "    <tr>\n",
       "      <th>codigo_x</th>\n",
       "      <th></th>\n",
       "      <th></th>\n",
       "      <th></th>\n",
       "      <th></th>\n",
       "      <th></th>\n",
       "      <th></th>\n",
       "      <th></th>\n",
       "      <th></th>\n",
       "      <th></th>\n",
       "      <th></th>\n",
       "      <th></th>\n",
       "      <th></th>\n",
       "      <th></th>\n",
       "      <th></th>\n",
       "      <th></th>\n",
       "      <th></th>\n",
       "      <th></th>\n",
       "      <th></th>\n",
       "      <th></th>\n",
       "      <th></th>\n",
       "      <th></th>\n",
       "    </tr>\n",
       "  </thead>\n",
       "  <tbody>\n",
       "    <tr>\n",
       "      <th>7840</th>\n",
       "      <td>7.0</td>\n",
       "      <td>5.0</td>\n",
       "      <td>1143.52</td>\n",
       "      <td>462.91</td>\n",
       "      <td>60.0</td>\n",
       "      <td>60.0</td>\n",
       "      <td>257.02</td>\n",
       "      <td>367.56</td>\n",
       "      <td>673.86</td>\n",
       "      <td>0.0</td>\n",
       "      <td>...</td>\n",
       "      <td>0.0</td>\n",
       "      <td>0.0</td>\n",
       "      <td>0.0</td>\n",
       "      <td>0.0</td>\n",
       "      <td>0.0</td>\n",
       "      <td>0.0</td>\n",
       "      <td>0.0</td>\n",
       "      <td>0.0</td>\n",
       "      <td>0.0</td>\n",
       "      <td>sigue</td>\n",
       "    </tr>\n",
       "    <tr>\n",
       "      <th>7505</th>\n",
       "      <td>7.0</td>\n",
       "      <td>5.0</td>\n",
       "      <td>721.00</td>\n",
       "      <td>173.04</td>\n",
       "      <td>60.0</td>\n",
       "      <td>60.0</td>\n",
       "      <td>143.04</td>\n",
       "      <td>0.00</td>\n",
       "      <td>0.00</td>\n",
       "      <td>0.0</td>\n",
       "      <td>...</td>\n",
       "      <td>0.0</td>\n",
       "      <td>0.0</td>\n",
       "      <td>0.0</td>\n",
       "      <td>0.0</td>\n",
       "      <td>0.0</td>\n",
       "      <td>0.0</td>\n",
       "      <td>0.0</td>\n",
       "      <td>0.0</td>\n",
       "      <td>0.0</td>\n",
       "      <td>sigue</td>\n",
       "    </tr>\n",
       "    <tr>\n",
       "      <th>6600</th>\n",
       "      <td>7.0</td>\n",
       "      <td>5.0</td>\n",
       "      <td>721.00</td>\n",
       "      <td>30.38</td>\n",
       "      <td>60.0</td>\n",
       "      <td>50.0</td>\n",
       "      <td>120.22</td>\n",
       "      <td>180.25</td>\n",
       "      <td>0.00</td>\n",
       "      <td>0.0</td>\n",
       "      <td>...</td>\n",
       "      <td>0.0</td>\n",
       "      <td>0.0</td>\n",
       "      <td>0.0</td>\n",
       "      <td>0.0</td>\n",
       "      <td>0.0</td>\n",
       "      <td>0.0</td>\n",
       "      <td>0.0</td>\n",
       "      <td>0.0</td>\n",
       "      <td>0.0</td>\n",
       "      <td>fue</td>\n",
       "    </tr>\n",
       "    <tr>\n",
       "      <th>7685</th>\n",
       "      <td>7.0</td>\n",
       "      <td>5.0</td>\n",
       "      <td>721.00</td>\n",
       "      <td>30.38</td>\n",
       "      <td>60.0</td>\n",
       "      <td>60.0</td>\n",
       "      <td>120.22</td>\n",
       "      <td>0.00</td>\n",
       "      <td>0.00</td>\n",
       "      <td>0.0</td>\n",
       "      <td>...</td>\n",
       "      <td>0.0</td>\n",
       "      <td>0.0</td>\n",
       "      <td>0.0</td>\n",
       "      <td>0.0</td>\n",
       "      <td>0.0</td>\n",
       "      <td>0.0</td>\n",
       "      <td>0.0</td>\n",
       "      <td>0.0</td>\n",
       "      <td>0.0</td>\n",
       "      <td>fue</td>\n",
       "    </tr>\n",
       "    <tr>\n",
       "      <th>7331</th>\n",
       "      <td>7.0</td>\n",
       "      <td>5.0</td>\n",
       "      <td>721.00</td>\n",
       "      <td>30.38</td>\n",
       "      <td>60.0</td>\n",
       "      <td>60.0</td>\n",
       "      <td>120.22</td>\n",
       "      <td>103.00</td>\n",
       "      <td>0.00</td>\n",
       "      <td>0.0</td>\n",
       "      <td>...</td>\n",
       "      <td>0.0</td>\n",
       "      <td>0.0</td>\n",
       "      <td>0.0</td>\n",
       "      <td>0.0</td>\n",
       "      <td>0.0</td>\n",
       "      <td>0.0</td>\n",
       "      <td>0.0</td>\n",
       "      <td>0.0</td>\n",
       "      <td>0.0</td>\n",
       "      <td>sigue</td>\n",
       "    </tr>\n",
       "  </tbody>\n",
       "</table>\n",
       "<p>5 rows × 28 columns</p>\n",
       "</div>"
      ],
      "text/plain": [
       "          dias_pag  dias_lab   sueldo    comp  asist  transp  vales_x  te_dob  \\\n",
       "codigo_x                                                                        \n",
       "7840           7.0       5.0  1143.52  462.91   60.0    60.0   257.02  367.56   \n",
       "7505           7.0       5.0   721.00  173.04   60.0    60.0   143.04    0.00   \n",
       "6600           7.0       5.0   721.00   30.38   60.0    50.0   120.22  180.25   \n",
       "7685           7.0       5.0   721.00   30.38   60.0    60.0   120.22    0.00   \n",
       "7331           7.0       5.0   721.00   30.38   60.0    60.0   120.22  103.00   \n",
       "\n",
       "          te_trip  desc_Lab  ...  util  zapatos  otras  fonac  alim  infon  \\\n",
       "codigo_x                     ...                                             \n",
       "7840       673.86       0.0  ...   0.0      0.0    0.0    0.0   0.0    0.0   \n",
       "7505         0.00       0.0  ...   0.0      0.0    0.0    0.0   0.0    0.0   \n",
       "6600         0.00       0.0  ...   0.0      0.0    0.0    0.0   0.0    0.0   \n",
       "7685         0.00       0.0  ...   0.0      0.0    0.0    0.0   0.0    0.0   \n",
       "7331         0.00       0.0  ...   0.0      0.0    0.0    0.0   0.0    0.0   \n",
       "\n",
       "          falt  enf  ries  label  \n",
       "codigo_x                          \n",
       "7840       0.0  0.0   0.0  sigue  \n",
       "7505       0.0  0.0   0.0  sigue  \n",
       "6600       0.0  0.0   0.0    fue  \n",
       "7685       0.0  0.0   0.0    fue  \n",
       "7331       0.0  0.0   0.0  sigue  \n",
       "\n",
       "[5 rows x 28 columns]"
      ]
     },
     "execution_count": 14,
     "metadata": {},
     "output_type": "execute_result"
    }
   ],
   "source": [
    "df.head()"
   ]
  },
  {
   "cell_type": "markdown",
   "metadata": {
    "slideshow": {
     "slide_type": "subslide"
    }
   },
   "source": [
    "## Data Pre-Processing"
   ]
  },
  {
   "cell_type": "code",
   "execution_count": 15,
   "metadata": {
    "nbgrader": {
     "grade": false,
     "grade_id": "cell-86a9e3212f200d21",
     "locked": false,
     "schema_version": 1,
     "solution": true
    },
    "slideshow": {
     "slide_type": "subslide"
    }
   },
   "outputs": [
    {
     "name": "stdout",
     "output_type": "stream",
     "text": [
      "(8213, 27) (8213,)\n"
     ]
    }
   ],
   "source": [
    "X = df.drop(\"label\", axis=1)\n",
    "y = df[\"label\"]\n",
    "print(X.shape, y.shape)"
   ]
  },
  {
   "cell_type": "code",
   "execution_count": 16,
   "metadata": {
    "nbgrader": {
     "grade": false,
     "grade_id": "cell-711a82d9b32c83ff",
     "locked": false,
     "schema_version": 1,
     "solution": true
    },
    "slideshow": {
     "slide_type": "fragment"
    }
   },
   "outputs": [],
   "source": [
    "from sklearn.model_selection import train_test_split\n",
    "from sklearn.preprocessing import LabelEncoder, MinMaxScaler\n",
    "from tensorflow.keras.utils import to_categorical"
   ]
  },
  {
   "cell_type": "code",
   "execution_count": 17,
   "metadata": {
    "nbgrader": {
     "grade": false,
     "grade_id": "cell-711a82d9b32c83ff",
     "locked": false,
     "schema_version": 1,
     "solution": true
    },
    "slideshow": {
     "slide_type": "fragment"
    }
   },
   "outputs": [],
   "source": [
    "X_train, X_test, y_train, y_test = train_test_split(\n",
    "    X, y, random_state=1, stratify=y)"
   ]
  },
  {
   "cell_type": "code",
   "execution_count": 18,
   "metadata": {
    "nbgrader": {
     "grade": false,
     "grade_id": "cell-711a82d9b32c83ff",
     "locked": false,
     "schema_version": 1,
     "solution": true
    },
    "slideshow": {
     "slide_type": "fragment"
    }
   },
   "outputs": [],
   "source": [
    "X_scaler = MinMaxScaler().fit(X_train)\n",
    "X_train_scaled = X_scaler.transform(X_train)\n",
    "X_test_scaled = X_scaler.transform(X_test)"
   ]
  },
  {
   "cell_type": "code",
   "execution_count": 19,
   "metadata": {
    "nbgrader": {
     "grade": false,
     "grade_id": "cell-711a82d9b32c83ff",
     "locked": false,
     "schema_version": 1,
     "solution": true
    },
    "slideshow": {
     "slide_type": "fragment"
    }
   },
   "outputs": [],
   "source": [
    "# Step 1: Label-encode data set\n",
    "label_encoder = LabelEncoder()\n",
    "label_encoder.fit(y_train)\n",
    "encoded_y_train = label_encoder.transform(y_train)\n",
    "encoded_y_test = label_encoder.transform(y_test)"
   ]
  },
  {
   "cell_type": "code",
   "execution_count": 20,
   "metadata": {
    "nbgrader": {
     "grade": false,
     "grade_id": "cell-711a82d9b32c83ff",
     "locked": false,
     "schema_version": 1,
     "solution": true
    },
    "slideshow": {
     "slide_type": "fragment"
    }
   },
   "outputs": [],
   "source": [
    "# Step 2: Convert encoded labels to one-hot-encoding\n",
    "y_train_categorical = to_categorical(encoded_y_train)\n",
    "y_test_categorical = to_categorical(encoded_y_test)"
   ]
  },
  {
   "cell_type": "markdown",
   "metadata": {},
   "source": [
    "# Create a Deep Learning Model"
   ]
  },
  {
   "cell_type": "code",
   "execution_count": 21,
   "metadata": {},
   "outputs": [],
   "source": [
    "from tensorflow.keras.models import Sequential\n",
    "from tensorflow.keras.layers import Dense"
   ]
  },
  {
   "cell_type": "code",
   "execution_count": 22,
   "metadata": {},
   "outputs": [
    {
     "data": {
      "text/plain": [
       "27"
      ]
     },
     "execution_count": 22,
     "metadata": {},
     "output_type": "execute_result"
    }
   ],
   "source": [
    "len(X_train_scaled[0])"
   ]
  },
  {
   "cell_type": "code",
   "execution_count": 23,
   "metadata": {},
   "outputs": [
    {
     "data": {
      "text/plain": [
       "27"
      ]
     },
     "execution_count": 23,
     "metadata": {},
     "output_type": "execute_result"
    }
   ],
   "source": [
    "len(X_test_scaled[0])"
   ]
  },
  {
   "cell_type": "code",
   "execution_count": 28,
   "metadata": {},
   "outputs": [],
   "source": [
    "# Create model and add layers\n",
    "model = Sequential()\n",
    "model.add(Dense(units=100, activation='relu', input_dim=27))\n",
    "model.add(Dense(units=100, activation='relu'))\n",
    "model.add(Dense(units=2, activation='softmax'))"
   ]
  },
  {
   "cell_type": "code",
   "execution_count": 29,
   "metadata": {},
   "outputs": [],
   "source": [
    "# Compile and fit the model\n",
    "model.compile(optimizer='adam',\n",
    "              loss='categorical_crossentropy',\n",
    "              metrics=['accuracy'])"
   ]
  },
  {
   "cell_type": "code",
   "execution_count": 30,
   "metadata": {},
   "outputs": [
    {
     "name": "stdout",
     "output_type": "stream",
     "text": [
      "Model: \"sequential_1\"\n",
      "_________________________________________________________________\n",
      "Layer (type)                 Output Shape              Param #   \n",
      "=================================================================\n",
      "dense_3 (Dense)              (None, 100)               2800      \n",
      "_________________________________________________________________\n",
      "dense_4 (Dense)              (None, 100)               10100     \n",
      "_________________________________________________________________\n",
      "dense_5 (Dense)              (None, 2)                 202       \n",
      "=================================================================\n",
      "Total params: 13,102\n",
      "Trainable params: 13,102\n",
      "Non-trainable params: 0\n",
      "_________________________________________________________________\n"
     ]
    }
   ],
   "source": [
    "model.summary()"
   ]
  },
  {
   "cell_type": "code",
   "execution_count": 31,
   "metadata": {},
   "outputs": [
    {
     "name": "stdout",
     "output_type": "stream",
     "text": [
      "Train on 6159 samples\n",
      "Epoch 1/100\n",
      "6159/6159 - 1s - loss: 0.5802 - accuracy: 0.7003\n",
      "Epoch 2/100\n",
      "6159/6159 - 0s - loss: 0.5567 - accuracy: 0.7167\n",
      "Epoch 3/100\n",
      "6159/6159 - 0s - loss: 0.5516 - accuracy: 0.7193\n",
      "Epoch 4/100\n",
      "6159/6159 - 0s - loss: 0.5475 - accuracy: 0.7321\n",
      "Epoch 5/100\n",
      "6159/6159 - 0s - loss: 0.5429 - accuracy: 0.7285\n",
      "Epoch 6/100\n",
      "6159/6159 - 0s - loss: 0.5369 - accuracy: 0.7353\n",
      "Epoch 7/100\n",
      "6159/6159 - 0s - loss: 0.5327 - accuracy: 0.7360\n",
      "Epoch 8/100\n",
      "6159/6159 - 0s - loss: 0.5290 - accuracy: 0.7337\n",
      "Epoch 9/100\n",
      "6159/6159 - 0s - loss: 0.5231 - accuracy: 0.7383\n",
      "Epoch 10/100\n",
      "6159/6159 - 0s - loss: 0.5174 - accuracy: 0.7378\n",
      "Epoch 11/100\n",
      "6159/6159 - 0s - loss: 0.5165 - accuracy: 0.7401\n",
      "Epoch 12/100\n",
      "6159/6159 - 0s - loss: 0.5107 - accuracy: 0.7449\n",
      "Epoch 13/100\n",
      "6159/6159 - 0s - loss: 0.5062 - accuracy: 0.7469\n",
      "Epoch 14/100\n",
      "6159/6159 - 0s - loss: 0.5013 - accuracy: 0.7446\n",
      "Epoch 15/100\n",
      "6159/6159 - 0s - loss: 0.4993 - accuracy: 0.7509\n",
      "Epoch 16/100\n",
      "6159/6159 - 0s - loss: 0.4927 - accuracy: 0.7490\n",
      "Epoch 17/100\n",
      "6159/6159 - 0s - loss: 0.4906 - accuracy: 0.7526\n",
      "Epoch 18/100\n",
      "6159/6159 - 0s - loss: 0.4871 - accuracy: 0.7493\n",
      "Epoch 19/100\n",
      "6159/6159 - 0s - loss: 0.4872 - accuracy: 0.7539\n",
      "Epoch 20/100\n",
      "6159/6159 - 0s - loss: 0.4815 - accuracy: 0.7569\n",
      "Epoch 21/100\n",
      "6159/6159 - 0s - loss: 0.4814 - accuracy: 0.7591\n",
      "Epoch 22/100\n",
      "6159/6159 - 0s - loss: 0.4791 - accuracy: 0.7552\n",
      "Epoch 23/100\n",
      "6159/6159 - 0s - loss: 0.4766 - accuracy: 0.7597\n",
      "Epoch 24/100\n",
      "6159/6159 - 0s - loss: 0.4794 - accuracy: 0.7582\n",
      "Epoch 25/100\n",
      "6159/6159 - 0s - loss: 0.4734 - accuracy: 0.7591\n",
      "Epoch 26/100\n",
      "6159/6159 - 0s - loss: 0.4742 - accuracy: 0.7545\n",
      "Epoch 27/100\n",
      "6159/6159 - 0s - loss: 0.4690 - accuracy: 0.7594\n",
      "Epoch 28/100\n",
      "6159/6159 - 0s - loss: 0.4736 - accuracy: 0.7550\n",
      "Epoch 29/100\n",
      "6159/6159 - 0s - loss: 0.4666 - accuracy: 0.7605\n",
      "Epoch 30/100\n",
      "6159/6159 - 0s - loss: 0.4708 - accuracy: 0.7599\n",
      "Epoch 31/100\n",
      "6159/6159 - 0s - loss: 0.4670 - accuracy: 0.7612\n",
      "Epoch 32/100\n",
      "6159/6159 - 0s - loss: 0.4623 - accuracy: 0.7677\n",
      "Epoch 33/100\n",
      "6159/6159 - 0s - loss: 0.4656 - accuracy: 0.7581\n",
      "Epoch 34/100\n",
      "6159/6159 - 0s - loss: 0.4626 - accuracy: 0.7623\n",
      "Epoch 35/100\n",
      "6159/6159 - 0s - loss: 0.4600 - accuracy: 0.7605\n",
      "Epoch 36/100\n",
      "6159/6159 - 0s - loss: 0.4610 - accuracy: 0.7589\n",
      "Epoch 37/100\n",
      "6159/6159 - 0s - loss: 0.4588 - accuracy: 0.7651\n",
      "Epoch 38/100\n",
      "6159/6159 - 0s - loss: 0.4582 - accuracy: 0.7634\n",
      "Epoch 39/100\n",
      "6159/6159 - 0s - loss: 0.4578 - accuracy: 0.7626\n",
      "Epoch 40/100\n",
      "6159/6159 - 0s - loss: 0.4567 - accuracy: 0.7607\n",
      "Epoch 41/100\n",
      "6159/6159 - 0s - loss: 0.4573 - accuracy: 0.7641\n",
      "Epoch 42/100\n",
      "6159/6159 - 0s - loss: 0.4504 - accuracy: 0.7696\n",
      "Epoch 43/100\n",
      "6159/6159 - 0s - loss: 0.4503 - accuracy: 0.7672\n",
      "Epoch 44/100\n",
      "6159/6159 - 0s - loss: 0.4515 - accuracy: 0.7642\n",
      "Epoch 45/100\n",
      "6159/6159 - 0s - loss: 0.4490 - accuracy: 0.7688\n",
      "Epoch 46/100\n",
      "6159/6159 - 0s - loss: 0.4506 - accuracy: 0.7646\n",
      "Epoch 47/100\n",
      "6159/6159 - 0s - loss: 0.4506 - accuracy: 0.7670\n",
      "Epoch 48/100\n",
      "6159/6159 - 0s - loss: 0.4500 - accuracy: 0.7688\n",
      "Epoch 49/100\n",
      "6159/6159 - 0s - loss: 0.4464 - accuracy: 0.7660\n",
      "Epoch 50/100\n",
      "6159/6159 - 0s - loss: 0.4486 - accuracy: 0.7699\n",
      "Epoch 51/100\n",
      "6159/6159 - 0s - loss: 0.4497 - accuracy: 0.7646\n",
      "Epoch 52/100\n",
      "6159/6159 - 0s - loss: 0.4468 - accuracy: 0.7701\n",
      "Epoch 53/100\n",
      "6159/6159 - 0s - loss: 0.4435 - accuracy: 0.7670\n",
      "Epoch 54/100\n",
      "6159/6159 - 0s - loss: 0.4436 - accuracy: 0.7717\n",
      "Epoch 55/100\n",
      "6159/6159 - 0s - loss: 0.4452 - accuracy: 0.7694\n",
      "Epoch 56/100\n",
      "6159/6159 - 0s - loss: 0.4450 - accuracy: 0.7701\n",
      "Epoch 57/100\n",
      "6159/6159 - 0s - loss: 0.4421 - accuracy: 0.7681\n",
      "Epoch 58/100\n",
      "6159/6159 - 0s - loss: 0.4419 - accuracy: 0.7751\n",
      "Epoch 59/100\n",
      "6159/6159 - 0s - loss: 0.4399 - accuracy: 0.7690\n",
      "Epoch 60/100\n",
      "6159/6159 - 0s - loss: 0.4415 - accuracy: 0.7716\n",
      "Epoch 61/100\n",
      "6159/6159 - 0s - loss: 0.4396 - accuracy: 0.7720\n",
      "Epoch 62/100\n",
      "6159/6159 - 0s - loss: 0.4405 - accuracy: 0.7681\n",
      "Epoch 63/100\n",
      "6159/6159 - 0s - loss: 0.4374 - accuracy: 0.7751\n",
      "Epoch 64/100\n",
      "6159/6159 - 0s - loss: 0.4401 - accuracy: 0.7696\n",
      "Epoch 65/100\n",
      "6159/6159 - 0s - loss: 0.4360 - accuracy: 0.7735\n",
      "Epoch 66/100\n",
      "6159/6159 - 0s - loss: 0.4396 - accuracy: 0.7771\n",
      "Epoch 67/100\n",
      "6159/6159 - 0s - loss: 0.4355 - accuracy: 0.7751\n",
      "Epoch 68/100\n",
      "6159/6159 - 0s - loss: 0.4367 - accuracy: 0.7709\n",
      "Epoch 69/100\n",
      "6159/6159 - 0s - loss: 0.4346 - accuracy: 0.7735\n",
      "Epoch 70/100\n",
      "6159/6159 - 0s - loss: 0.4333 - accuracy: 0.7816\n",
      "Epoch 71/100\n",
      "6159/6159 - 0s - loss: 0.4325 - accuracy: 0.7777\n",
      "Epoch 72/100\n",
      "6159/6159 - 0s - loss: 0.4325 - accuracy: 0.7748\n",
      "Epoch 73/100\n",
      "6159/6159 - 0s - loss: 0.4356 - accuracy: 0.7709\n",
      "Epoch 74/100\n",
      "6159/6159 - 0s - loss: 0.4326 - accuracy: 0.7771\n",
      "Epoch 75/100\n",
      "6159/6159 - 0s - loss: 0.4318 - accuracy: 0.7758\n",
      "Epoch 76/100\n",
      "6159/6159 - 0s - loss: 0.4327 - accuracy: 0.7727\n",
      "Epoch 77/100\n",
      "6159/6159 - 0s - loss: 0.4309 - accuracy: 0.7753\n",
      "Epoch 78/100\n",
      "6159/6159 - 0s - loss: 0.4318 - accuracy: 0.7764\n",
      "Epoch 79/100\n",
      "6159/6159 - 0s - loss: 0.4320 - accuracy: 0.7737\n",
      "Epoch 80/100\n",
      "6159/6159 - 0s - loss: 0.4290 - accuracy: 0.7776\n",
      "Epoch 81/100\n",
      "6159/6159 - 0s - loss: 0.4318 - accuracy: 0.7764\n",
      "Epoch 82/100\n",
      "6159/6159 - 0s - loss: 0.4331 - accuracy: 0.7748\n",
      "Epoch 83/100\n",
      "6159/6159 - 0s - loss: 0.4286 - accuracy: 0.7798\n",
      "Epoch 84/100\n",
      "6159/6159 - 0s - loss: 0.4264 - accuracy: 0.7792\n",
      "Epoch 85/100\n",
      "6159/6159 - 0s - loss: 0.4279 - accuracy: 0.7772\n",
      "Epoch 86/100\n",
      "6159/6159 - 0s - loss: 0.4301 - accuracy: 0.7774\n",
      "Epoch 87/100\n",
      "6159/6159 - 0s - loss: 0.4271 - accuracy: 0.7771\n",
      "Epoch 88/100\n",
      "6159/6159 - 0s - loss: 0.4265 - accuracy: 0.7806\n",
      "Epoch 89/100\n",
      "6159/6159 - 0s - loss: 0.4240 - accuracy: 0.7790\n",
      "Epoch 90/100\n",
      "6159/6159 - 0s - loss: 0.4283 - accuracy: 0.7776\n",
      "Epoch 91/100\n",
      "6159/6159 - 0s - loss: 0.4276 - accuracy: 0.7818\n",
      "Epoch 92/100\n",
      "6159/6159 - 0s - loss: 0.4259 - accuracy: 0.7784\n",
      "Epoch 93/100\n",
      "6159/6159 - 0s - loss: 0.4243 - accuracy: 0.7785\n",
      "Epoch 94/100\n",
      "6159/6159 - 0s - loss: 0.4247 - accuracy: 0.7800\n",
      "Epoch 95/100\n",
      "6159/6159 - 0s - loss: 0.4207 - accuracy: 0.7842\n",
      "Epoch 96/100\n",
      "6159/6159 - 0s - loss: 0.4213 - accuracy: 0.7839\n",
      "Epoch 97/100\n",
      "6159/6159 - 0s - loss: 0.4225 - accuracy: 0.7803\n",
      "Epoch 98/100\n",
      "6159/6159 - 0s - loss: 0.4232 - accuracy: 0.7800\n",
      "Epoch 99/100\n",
      "6159/6159 - 0s - loss: 0.4234 - accuracy: 0.7829\n",
      "Epoch 100/100\n",
      "6159/6159 - 0s - loss: 0.4209 - accuracy: 0.7834\n"
     ]
    },
    {
     "data": {
      "text/plain": [
       "<tensorflow.python.keras.callbacks.History at 0x16232208438>"
      ]
     },
     "execution_count": 31,
     "metadata": {},
     "output_type": "execute_result"
    }
   ],
   "source": [
    "model.fit(\n",
    "    X_train_scaled,\n",
    "    y_train_categorical,\n",
    "    epochs=100,\n",
    "    shuffle=True,\n",
    "    verbose=2\n",
    ")"
   ]
  },
  {
   "cell_type": "markdown",
   "metadata": {},
   "source": [
    "## Quantify our Trained Model"
   ]
  },
  {
   "cell_type": "code",
   "execution_count": 32,
   "metadata": {},
   "outputs": [
    {
     "name": "stdout",
     "output_type": "stream",
     "text": [
      "2054/1 - 0s - loss: 0.4555 - accuracy: 0.7595\n",
      "Normal Neural Network - Loss: 0.5508812326999579, Accuracy: 0.7594936490058899\n"
     ]
    }
   ],
   "source": [
    "model_loss, model_accuracy = model.evaluate(\n",
    "    X_test_scaled, y_test_categorical, verbose=2)\n",
    "print(\n",
    "    f\"Normal Neural Network - Loss: {model_loss}, Accuracy: {model_accuracy}\")"
   ]
  },
  {
   "cell_type": "markdown",
   "metadata": {
    "slideshow": {
     "slide_type": "subslide"
    }
   },
   "source": [
    "## Make Predictions"
   ]
  },
  {
   "cell_type": "code",
   "execution_count": 33,
   "metadata": {
    "nbgrader": {
     "grade": false,
     "grade_id": "cell-f97eb3e97245187b",
     "locked": false,
     "schema_version": 1,
     "solution": true
    },
    "slideshow": {
     "slide_type": "fragment"
    }
   },
   "outputs": [],
   "source": [
    "encoded_predictions = model.predict_classes(X_test_scaled)\n",
    "prediction_labels = label_encoder.inverse_transform(encoded_predictions)"
   ]
  },
  {
   "cell_type": "code",
   "execution_count": 34,
   "metadata": {},
   "outputs": [
    {
     "data": {
      "text/html": [
       "<div>\n",
       "<style scoped>\n",
       "    .dataframe tbody tr th:only-of-type {\n",
       "        vertical-align: middle;\n",
       "    }\n",
       "\n",
       "    .dataframe tbody tr th {\n",
       "        vertical-align: top;\n",
       "    }\n",
       "\n",
       "    .dataframe thead th {\n",
       "        text-align: right;\n",
       "    }\n",
       "</style>\n",
       "<table border=\"1\" class=\"dataframe\">\n",
       "  <thead>\n",
       "    <tr style=\"text-align: right;\">\n",
       "      <th></th>\n",
       "      <th>prediction</th>\n",
       "      <th>actual</th>\n",
       "    </tr>\n",
       "    <tr>\n",
       "      <th>codigo_x</th>\n",
       "      <th></th>\n",
       "      <th></th>\n",
       "    </tr>\n",
       "  </thead>\n",
       "  <tbody>\n",
       "    <tr>\n",
       "      <th>6934</th>\n",
       "      <td>fue</td>\n",
       "      <td>fue</td>\n",
       "    </tr>\n",
       "    <tr>\n",
       "      <th>7846</th>\n",
       "      <td>fue</td>\n",
       "      <td>fue</td>\n",
       "    </tr>\n",
       "    <tr>\n",
       "      <th>8101</th>\n",
       "      <td>sigue</td>\n",
       "      <td>fue</td>\n",
       "    </tr>\n",
       "    <tr>\n",
       "      <th>4514</th>\n",
       "      <td>fue</td>\n",
       "      <td>fue</td>\n",
       "    </tr>\n",
       "    <tr>\n",
       "      <th>7137</th>\n",
       "      <td>fue</td>\n",
       "      <td>fue</td>\n",
       "    </tr>\n",
       "  </tbody>\n",
       "</table>\n",
       "</div>"
      ],
      "text/plain": [
       "         prediction actual\n",
       "codigo_x                  \n",
       "6934            fue    fue\n",
       "7846            fue    fue\n",
       "8101          sigue    fue\n",
       "4514            fue    fue\n",
       "7137            fue    fue"
      ]
     },
     "execution_count": 34,
     "metadata": {},
     "output_type": "execute_result"
    }
   ],
   "source": [
    "results = pd.DataFrame({\n",
    "\"prediction\": prediction_labels,\n",
    "\"actual\": y_test\n",
    "})\n",
    "results.head()"
   ]
  },
  {
   "cell_type": "code",
   "execution_count": 35,
   "metadata": {},
   "outputs": [],
   "source": [
    "results[\"diffs\"] = results[\"prediction\"] == results[\"actual\"]"
   ]
  },
  {
   "cell_type": "code",
   "execution_count": 36,
   "metadata": {},
   "outputs": [
    {
     "data": {
      "text/html": [
       "<div>\n",
       "<style scoped>\n",
       "    .dataframe tbody tr th:only-of-type {\n",
       "        vertical-align: middle;\n",
       "    }\n",
       "\n",
       "    .dataframe tbody tr th {\n",
       "        vertical-align: top;\n",
       "    }\n",
       "\n",
       "    .dataframe thead th {\n",
       "        text-align: right;\n",
       "    }\n",
       "</style>\n",
       "<table border=\"1\" class=\"dataframe\">\n",
       "  <thead>\n",
       "    <tr style=\"text-align: right;\">\n",
       "      <th></th>\n",
       "      <th>prediction</th>\n",
       "      <th>actual</th>\n",
       "      <th>diffs</th>\n",
       "    </tr>\n",
       "    <tr>\n",
       "      <th>codigo_x</th>\n",
       "      <th></th>\n",
       "      <th></th>\n",
       "      <th></th>\n",
       "    </tr>\n",
       "  </thead>\n",
       "  <tbody>\n",
       "    <tr>\n",
       "      <th>6934</th>\n",
       "      <td>fue</td>\n",
       "      <td>fue</td>\n",
       "      <td>True</td>\n",
       "    </tr>\n",
       "    <tr>\n",
       "      <th>7846</th>\n",
       "      <td>fue</td>\n",
       "      <td>fue</td>\n",
       "      <td>True</td>\n",
       "    </tr>\n",
       "    <tr>\n",
       "      <th>8101</th>\n",
       "      <td>sigue</td>\n",
       "      <td>fue</td>\n",
       "      <td>False</td>\n",
       "    </tr>\n",
       "    <tr>\n",
       "      <th>4514</th>\n",
       "      <td>fue</td>\n",
       "      <td>fue</td>\n",
       "      <td>True</td>\n",
       "    </tr>\n",
       "    <tr>\n",
       "      <th>7137</th>\n",
       "      <td>fue</td>\n",
       "      <td>fue</td>\n",
       "      <td>True</td>\n",
       "    </tr>\n",
       "  </tbody>\n",
       "</table>\n",
       "</div>"
      ],
      "text/plain": [
       "         prediction actual  diffs\n",
       "codigo_x                         \n",
       "6934            fue    fue   True\n",
       "7846            fue    fue   True\n",
       "8101          sigue    fue  False\n",
       "4514            fue    fue   True\n",
       "7137            fue    fue   True"
      ]
     },
     "execution_count": 36,
     "metadata": {},
     "output_type": "execute_result"
    }
   ],
   "source": [
    "results.head()"
   ]
  },
  {
   "cell_type": "code",
   "execution_count": 37,
   "metadata": {},
   "outputs": [
    {
     "data": {
      "text/plain": [
       "True     1560\n",
       "False     494\n",
       "Name: diffs, dtype: int64"
      ]
     },
     "execution_count": 37,
     "metadata": {},
     "output_type": "execute_result"
    }
   ],
   "source": [
    "results[\"diffs\"].value_counts()"
   ]
  },
  {
   "cell_type": "code",
   "execution_count": 42,
   "metadata": {},
   "outputs": [],
   "source": [
    "diffs = results.loc[results[\"diffs\"] == False]"
   ]
  },
  {
   "cell_type": "code",
   "execution_count": 44,
   "metadata": {},
   "outputs": [],
   "source": [
    "se_nos_van = diffs.loc[diffs[\"actual\"] == \"sigue\"]"
   ]
  },
  {
   "cell_type": "code",
   "execution_count": 45,
   "metadata": {},
   "outputs": [],
   "source": [
    "no_debieron_irse = diffs.loc[diffs[\"prediction\"] == \"sigue\"]"
   ]
  },
  {
   "cell_type": "code",
   "execution_count": 48,
   "metadata": {},
   "outputs": [],
   "source": [
    "se_nos_van.reset_index(inplace=True)"
   ]
  },
  {
   "cell_type": "code",
   "execution_count": 51,
   "metadata": {},
   "outputs": [],
   "source": [
    "no_debieron_irse.reset_index(inplace=True)"
   ]
  },
  {
   "cell_type": "code",
   "execution_count": 53,
   "metadata": {},
   "outputs": [],
   "source": [
    "se_nos_van = se_nos_van.groupby(\"codigo_x\").count()"
   ]
  },
  {
   "cell_type": "code",
   "execution_count": 54,
   "metadata": {},
   "outputs": [],
   "source": [
    "no_debieron_irse = no_debieron_irse.groupby(\"codigo_x\").count()"
   ]
  },
  {
   "cell_type": "code",
   "execution_count": 55,
   "metadata": {},
   "outputs": [
    {
     "data": {
      "text/plain": [
       "prediction    114\n",
       "actual        114\n",
       "diffs         114\n",
       "dtype: int64"
      ]
     },
     "execution_count": 55,
     "metadata": {},
     "output_type": "execute_result"
    }
   ],
   "source": [
    "se_nos_van.count()"
   ]
  },
  {
   "cell_type": "code",
   "execution_count": 56,
   "metadata": {},
   "outputs": [
    {
     "data": {
      "text/plain": [
       "prediction    91\n",
       "actual        91\n",
       "diffs         91\n",
       "dtype: int64"
      ]
     },
     "execution_count": 56,
     "metadata": {},
     "output_type": "execute_result"
    }
   ],
   "source": [
    "no_debieron_irse.count()"
   ]
  },
  {
   "cell_type": "code",
   "execution_count": null,
   "metadata": {},
   "outputs": [],
   "source": []
  }
 ],
 "metadata": {
  "kernelspec": {
   "display_name": "Python 3",
   "language": "python",
   "name": "python3"
  },
  "language_info": {
   "codemirror_mode": {
    "name": "ipython",
    "version": 3
   },
   "file_extension": ".py",
   "mimetype": "text/x-python",
   "name": "python",
   "nbconvert_exporter": "python",
   "pygments_lexer": "ipython3",
   "version": "3.6.8"
  },
  "varInspector": {
   "cols": {
    "lenName": 16,
    "lenType": 16,
    "lenVar": 40
   },
   "kernels_config": {
    "python": {
     "delete_cmd_postfix": "",
     "delete_cmd_prefix": "del ",
     "library": "var_list.py",
     "varRefreshCmd": "print(var_dic_list())"
    },
    "r": {
     "delete_cmd_postfix": ") ",
     "delete_cmd_prefix": "rm(",
     "library": "var_list.r",
     "varRefreshCmd": "cat(var_dic_list()) "
    }
   },
   "types_to_exclude": [
    "module",
    "function",
    "builtin_function_or_method",
    "instance",
    "_Feature"
   ],
   "window_display": false
  }
 },
 "nbformat": 4,
 "nbformat_minor": 2
}
