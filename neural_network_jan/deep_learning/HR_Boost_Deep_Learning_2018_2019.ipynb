{
 "cells": [
  {
   "cell_type": "code",
   "execution_count": 1,
   "metadata": {},
   "outputs": [],
   "source": [
    "# Set the seed value for the notebook so the results are reproducible\n",
    "from numpy.random import seed\n",
    "seed(1)"
   ]
  },
  {
   "cell_type": "code",
   "execution_count": 2,
   "metadata": {
    "slideshow": {
     "slide_type": "subslide"
    }
   },
   "outputs": [],
   "source": [
    "# Dependencies\n",
    "import numpy as np\n",
    "import pandas as pd"
   ]
  },
  {
   "cell_type": "code",
   "execution_count": 3,
   "metadata": {},
   "outputs": [],
   "source": [
    "import tensorflow"
   ]
  },
  {
   "cell_type": "code",
   "execution_count": 4,
   "metadata": {
    "slideshow": {
     "slide_type": "fragment"
    }
   },
   "outputs": [
    {
     "data": {
      "text/html": [
       "<div>\n",
       "<style scoped>\n",
       "    .dataframe tbody tr th:only-of-type {\n",
       "        vertical-align: middle;\n",
       "    }\n",
       "\n",
       "    .dataframe tbody tr th {\n",
       "        vertical-align: top;\n",
       "    }\n",
       "\n",
       "    .dataframe thead th {\n",
       "        text-align: right;\n",
       "    }\n",
       "</style>\n",
       "<table border=\"1\" class=\"dataframe\">\n",
       "  <thead>\n",
       "    <tr style=\"text-align: right;\">\n",
       "      <th></th>\n",
       "      <th>año_x</th>\n",
       "      <th>sem_x</th>\n",
       "      <th>codigo_x</th>\n",
       "      <th>dias_pag</th>\n",
       "      <th>dias_lab</th>\n",
       "      <th>sueldo</th>\n",
       "      <th>comp</th>\n",
       "      <th>asist</th>\n",
       "      <th>transp</th>\n",
       "      <th>vales_x</th>\n",
       "      <th>...</th>\n",
       "      <th>alim</th>\n",
       "      <th>infon</th>\n",
       "      <th>falt</th>\n",
       "      <th>enf</th>\n",
       "      <th>ries</th>\n",
       "      <th>ISPT</th>\n",
       "      <th>ISPTA</th>\n",
       "      <th>IMSS</th>\n",
       "      <th>subs</th>\n",
       "      <th>label</th>\n",
       "    </tr>\n",
       "  </thead>\n",
       "  <tbody>\n",
       "    <tr>\n",
       "      <th>0</th>\n",
       "      <td>2019</td>\n",
       "      <td>1</td>\n",
       "      <td>7840</td>\n",
       "      <td>7.0</td>\n",
       "      <td>5.0</td>\n",
       "      <td>1143.52</td>\n",
       "      <td>462.91</td>\n",
       "      <td>60.0</td>\n",
       "      <td>60.0</td>\n",
       "      <td>257.02</td>\n",
       "      <td>...</td>\n",
       "      <td>0.0</td>\n",
       "      <td>0.0</td>\n",
       "      <td>0.0</td>\n",
       "      <td>0.0</td>\n",
       "      <td>0.0</td>\n",
       "      <td>289.63</td>\n",
       "      <td>0.0</td>\n",
       "      <td>49.55</td>\n",
       "      <td>0.00</td>\n",
       "      <td>1</td>\n",
       "    </tr>\n",
       "    <tr>\n",
       "      <th>1</th>\n",
       "      <td>2019</td>\n",
       "      <td>1</td>\n",
       "      <td>7505</td>\n",
       "      <td>7.0</td>\n",
       "      <td>5.0</td>\n",
       "      <td>721.00</td>\n",
       "      <td>173.04</td>\n",
       "      <td>60.0</td>\n",
       "      <td>60.0</td>\n",
       "      <td>143.04</td>\n",
       "      <td>...</td>\n",
       "      <td>0.0</td>\n",
       "      <td>0.0</td>\n",
       "      <td>0.0</td>\n",
       "      <td>0.0</td>\n",
       "      <td>0.0</td>\n",
       "      <td>60.93</td>\n",
       "      <td>0.0</td>\n",
       "      <td>24.12</td>\n",
       "      <td>0.00</td>\n",
       "      <td>1</td>\n",
       "    </tr>\n",
       "    <tr>\n",
       "      <th>2</th>\n",
       "      <td>2019</td>\n",
       "      <td>1</td>\n",
       "      <td>6600</td>\n",
       "      <td>7.0</td>\n",
       "      <td>5.0</td>\n",
       "      <td>721.00</td>\n",
       "      <td>30.38</td>\n",
       "      <td>60.0</td>\n",
       "      <td>50.0</td>\n",
       "      <td>120.22</td>\n",
       "      <td>...</td>\n",
       "      <td>0.0</td>\n",
       "      <td>0.0</td>\n",
       "      <td>0.0</td>\n",
       "      <td>0.0</td>\n",
       "      <td>0.0</td>\n",
       "      <td>0.00</td>\n",
       "      <td>0.0</td>\n",
       "      <td>20.07</td>\n",
       "      <td>33.13</td>\n",
       "      <td>1</td>\n",
       "    </tr>\n",
       "    <tr>\n",
       "      <th>3</th>\n",
       "      <td>2019</td>\n",
       "      <td>1</td>\n",
       "      <td>7685</td>\n",
       "      <td>7.0</td>\n",
       "      <td>5.0</td>\n",
       "      <td>721.00</td>\n",
       "      <td>30.38</td>\n",
       "      <td>60.0</td>\n",
       "      <td>60.0</td>\n",
       "      <td>120.22</td>\n",
       "      <td>...</td>\n",
       "      <td>0.0</td>\n",
       "      <td>0.0</td>\n",
       "      <td>0.0</td>\n",
       "      <td>0.0</td>\n",
       "      <td>0.0</td>\n",
       "      <td>0.00</td>\n",
       "      <td>0.0</td>\n",
       "      <td>27.04</td>\n",
       "      <td>38.26</td>\n",
       "      <td>1</td>\n",
       "    </tr>\n",
       "    <tr>\n",
       "      <th>4</th>\n",
       "      <td>2019</td>\n",
       "      <td>1</td>\n",
       "      <td>7331</td>\n",
       "      <td>7.0</td>\n",
       "      <td>5.0</td>\n",
       "      <td>721.00</td>\n",
       "      <td>30.38</td>\n",
       "      <td>60.0</td>\n",
       "      <td>60.0</td>\n",
       "      <td>120.22</td>\n",
       "      <td>...</td>\n",
       "      <td>0.0</td>\n",
       "      <td>0.0</td>\n",
       "      <td>0.0</td>\n",
       "      <td>0.0</td>\n",
       "      <td>0.0</td>\n",
       "      <td>0.00</td>\n",
       "      <td>0.0</td>\n",
       "      <td>23.71</td>\n",
       "      <td>34.96</td>\n",
       "      <td>1</td>\n",
       "    </tr>\n",
       "  </tbody>\n",
       "</table>\n",
       "<p>5 rows × 40 columns</p>\n",
       "</div>"
      ],
      "text/plain": [
       "   año_x  sem_x  codigo_x  dias_pag  dias_lab   sueldo    comp  asist  transp  \\\n",
       "0   2019      1      7840       7.0       5.0  1143.52  462.91   60.0    60.0   \n",
       "1   2019      1      7505       7.0       5.0   721.00  173.04   60.0    60.0   \n",
       "2   2019      1      6600       7.0       5.0   721.00   30.38   60.0    50.0   \n",
       "3   2019      1      7685       7.0       5.0   721.00   30.38   60.0    60.0   \n",
       "4   2019      1      7331       7.0       5.0   721.00   30.38   60.0    60.0   \n",
       "\n",
       "   vales_x  ...  alim  infon  falt  enf  ries    ISPT  ISPTA   IMSS   subs  \\\n",
       "0   257.02  ...   0.0    0.0   0.0  0.0   0.0  289.63    0.0  49.55   0.00   \n",
       "1   143.04  ...   0.0    0.0   0.0  0.0   0.0   60.93    0.0  24.12   0.00   \n",
       "2   120.22  ...   0.0    0.0   0.0  0.0   0.0    0.00    0.0  20.07  33.13   \n",
       "3   120.22  ...   0.0    0.0   0.0  0.0   0.0    0.00    0.0  27.04  38.26   \n",
       "4   120.22  ...   0.0    0.0   0.0  0.0   0.0    0.00    0.0  23.71  34.96   \n",
       "\n",
       "   label  \n",
       "0      1  \n",
       "1      1  \n",
       "2      1  \n",
       "3      1  \n",
       "4      1  \n",
       "\n",
       "[5 rows x 40 columns]"
      ]
     },
     "execution_count": 4,
     "metadata": {},
     "output_type": "execute_result"
    }
   ],
   "source": [
    "df = pd.read_csv('../Resources/CONSOLIDADO_DESDE_2018.csv', index_col=0)\n",
    "df.head()"
   ]
  },
  {
   "cell_type": "code",
   "execution_count": 5,
   "metadata": {},
   "outputs": [],
   "source": [
    "def labeling(row):\n",
    "    sigue = \"sigue\"\n",
    "    fue = \"fue\"\n",
    "    if row == 0:\n",
    "        return sigue\n",
    "    else:\n",
    "        return fue"
   ]
  },
  {
   "cell_type": "code",
   "execution_count": 6,
   "metadata": {},
   "outputs": [],
   "source": [
    "df[\"label\"] = df[\"label\"].apply(lambda row: labeling(row))"
   ]
  },
  {
   "cell_type": "code",
   "execution_count": 7,
   "metadata": {},
   "outputs": [
    {
     "data": {
      "text/html": [
       "<div>\n",
       "<style scoped>\n",
       "    .dataframe tbody tr th:only-of-type {\n",
       "        vertical-align: middle;\n",
       "    }\n",
       "\n",
       "    .dataframe tbody tr th {\n",
       "        vertical-align: top;\n",
       "    }\n",
       "\n",
       "    .dataframe thead th {\n",
       "        text-align: right;\n",
       "    }\n",
       "</style>\n",
       "<table border=\"1\" class=\"dataframe\">\n",
       "  <thead>\n",
       "    <tr style=\"text-align: right;\">\n",
       "      <th></th>\n",
       "      <th>año_x</th>\n",
       "      <th>sem_x</th>\n",
       "      <th>codigo_x</th>\n",
       "      <th>dias_pag</th>\n",
       "      <th>dias_lab</th>\n",
       "      <th>sueldo</th>\n",
       "      <th>comp</th>\n",
       "      <th>asist</th>\n",
       "      <th>transp</th>\n",
       "      <th>vales_x</th>\n",
       "      <th>...</th>\n",
       "      <th>alim</th>\n",
       "      <th>infon</th>\n",
       "      <th>falt</th>\n",
       "      <th>enf</th>\n",
       "      <th>ries</th>\n",
       "      <th>ISPT</th>\n",
       "      <th>ISPTA</th>\n",
       "      <th>IMSS</th>\n",
       "      <th>subs</th>\n",
       "      <th>label</th>\n",
       "    </tr>\n",
       "  </thead>\n",
       "  <tbody>\n",
       "    <tr>\n",
       "      <th>0</th>\n",
       "      <td>2019</td>\n",
       "      <td>1</td>\n",
       "      <td>7840</td>\n",
       "      <td>7.0</td>\n",
       "      <td>5.0</td>\n",
       "      <td>1143.52</td>\n",
       "      <td>462.91</td>\n",
       "      <td>60.0</td>\n",
       "      <td>60.0</td>\n",
       "      <td>257.02</td>\n",
       "      <td>...</td>\n",
       "      <td>0.0</td>\n",
       "      <td>0.0</td>\n",
       "      <td>0.0</td>\n",
       "      <td>0.0</td>\n",
       "      <td>0.0</td>\n",
       "      <td>289.63</td>\n",
       "      <td>0.0</td>\n",
       "      <td>49.55</td>\n",
       "      <td>0.00</td>\n",
       "      <td>fue</td>\n",
       "    </tr>\n",
       "    <tr>\n",
       "      <th>1</th>\n",
       "      <td>2019</td>\n",
       "      <td>1</td>\n",
       "      <td>7505</td>\n",
       "      <td>7.0</td>\n",
       "      <td>5.0</td>\n",
       "      <td>721.00</td>\n",
       "      <td>173.04</td>\n",
       "      <td>60.0</td>\n",
       "      <td>60.0</td>\n",
       "      <td>143.04</td>\n",
       "      <td>...</td>\n",
       "      <td>0.0</td>\n",
       "      <td>0.0</td>\n",
       "      <td>0.0</td>\n",
       "      <td>0.0</td>\n",
       "      <td>0.0</td>\n",
       "      <td>60.93</td>\n",
       "      <td>0.0</td>\n",
       "      <td>24.12</td>\n",
       "      <td>0.00</td>\n",
       "      <td>fue</td>\n",
       "    </tr>\n",
       "    <tr>\n",
       "      <th>2</th>\n",
       "      <td>2019</td>\n",
       "      <td>1</td>\n",
       "      <td>6600</td>\n",
       "      <td>7.0</td>\n",
       "      <td>5.0</td>\n",
       "      <td>721.00</td>\n",
       "      <td>30.38</td>\n",
       "      <td>60.0</td>\n",
       "      <td>50.0</td>\n",
       "      <td>120.22</td>\n",
       "      <td>...</td>\n",
       "      <td>0.0</td>\n",
       "      <td>0.0</td>\n",
       "      <td>0.0</td>\n",
       "      <td>0.0</td>\n",
       "      <td>0.0</td>\n",
       "      <td>0.00</td>\n",
       "      <td>0.0</td>\n",
       "      <td>20.07</td>\n",
       "      <td>33.13</td>\n",
       "      <td>fue</td>\n",
       "    </tr>\n",
       "    <tr>\n",
       "      <th>3</th>\n",
       "      <td>2019</td>\n",
       "      <td>1</td>\n",
       "      <td>7685</td>\n",
       "      <td>7.0</td>\n",
       "      <td>5.0</td>\n",
       "      <td>721.00</td>\n",
       "      <td>30.38</td>\n",
       "      <td>60.0</td>\n",
       "      <td>60.0</td>\n",
       "      <td>120.22</td>\n",
       "      <td>...</td>\n",
       "      <td>0.0</td>\n",
       "      <td>0.0</td>\n",
       "      <td>0.0</td>\n",
       "      <td>0.0</td>\n",
       "      <td>0.0</td>\n",
       "      <td>0.00</td>\n",
       "      <td>0.0</td>\n",
       "      <td>27.04</td>\n",
       "      <td>38.26</td>\n",
       "      <td>fue</td>\n",
       "    </tr>\n",
       "    <tr>\n",
       "      <th>4</th>\n",
       "      <td>2019</td>\n",
       "      <td>1</td>\n",
       "      <td>7331</td>\n",
       "      <td>7.0</td>\n",
       "      <td>5.0</td>\n",
       "      <td>721.00</td>\n",
       "      <td>30.38</td>\n",
       "      <td>60.0</td>\n",
       "      <td>60.0</td>\n",
       "      <td>120.22</td>\n",
       "      <td>...</td>\n",
       "      <td>0.0</td>\n",
       "      <td>0.0</td>\n",
       "      <td>0.0</td>\n",
       "      <td>0.0</td>\n",
       "      <td>0.0</td>\n",
       "      <td>0.00</td>\n",
       "      <td>0.0</td>\n",
       "      <td>23.71</td>\n",
       "      <td>34.96</td>\n",
       "      <td>fue</td>\n",
       "    </tr>\n",
       "  </tbody>\n",
       "</table>\n",
       "<p>5 rows × 40 columns</p>\n",
       "</div>"
      ],
      "text/plain": [
       "   año_x  sem_x  codigo_x  dias_pag  dias_lab   sueldo    comp  asist  transp  \\\n",
       "0   2019      1      7840       7.0       5.0  1143.52  462.91   60.0    60.0   \n",
       "1   2019      1      7505       7.0       5.0   721.00  173.04   60.0    60.0   \n",
       "2   2019      1      6600       7.0       5.0   721.00   30.38   60.0    50.0   \n",
       "3   2019      1      7685       7.0       5.0   721.00   30.38   60.0    60.0   \n",
       "4   2019      1      7331       7.0       5.0   721.00   30.38   60.0    60.0   \n",
       "\n",
       "   vales_x  ...  alim  infon  falt  enf  ries    ISPT  ISPTA   IMSS   subs  \\\n",
       "0   257.02  ...   0.0    0.0   0.0  0.0   0.0  289.63    0.0  49.55   0.00   \n",
       "1   143.04  ...   0.0    0.0   0.0  0.0   0.0   60.93    0.0  24.12   0.00   \n",
       "2   120.22  ...   0.0    0.0   0.0  0.0   0.0    0.00    0.0  20.07  33.13   \n",
       "3   120.22  ...   0.0    0.0   0.0  0.0   0.0    0.00    0.0  27.04  38.26   \n",
       "4   120.22  ...   0.0    0.0   0.0  0.0   0.0    0.00    0.0  23.71  34.96   \n",
       "\n",
       "   label  \n",
       "0    fue  \n",
       "1    fue  \n",
       "2    fue  \n",
       "3    fue  \n",
       "4    fue  \n",
       "\n",
       "[5 rows x 40 columns]"
      ]
     },
     "execution_count": 7,
     "metadata": {},
     "output_type": "execute_result"
    }
   ],
   "source": [
    "df.head()"
   ]
  },
  {
   "cell_type": "code",
   "execution_count": 8,
   "metadata": {},
   "outputs": [
    {
     "data": {
      "text/plain": [
       "fue      14097\n",
       "sigue     4268\n",
       "Name: label, dtype: int64"
      ]
     },
     "execution_count": 8,
     "metadata": {},
     "output_type": "execute_result"
    }
   ],
   "source": [
    "df[\"label\"].value_counts()"
   ]
  },
  {
   "cell_type": "code",
   "execution_count": 9,
   "metadata": {},
   "outputs": [
    {
     "data": {
      "text/plain": [
       "False"
      ]
     },
     "execution_count": 9,
     "metadata": {},
     "output_type": "execute_result"
    }
   ],
   "source": [
    "df.isna().values.any()"
   ]
  },
  {
   "cell_type": "code",
   "execution_count": 10,
   "metadata": {},
   "outputs": [],
   "source": [
    "df = df.set_index(\"codigo_x\")"
   ]
  },
  {
   "cell_type": "code",
   "execution_count": 11,
   "metadata": {},
   "outputs": [],
   "source": [
    "df = df[[\"dias_pag\",\"dias_lab\",\"sueldo\",\"comp\",\"asist\",\"transp\",\"vales_x\",\"te_dob\",\n",
    "          \"te_trip\",\"desc_Lab\",\"fest_lab\",\"dominic\",\"perc_grav\",\"obj\",\"aguin\",\"vac\",\"prim_vac\",\n",
    "          \"grat_esp\",\"util\",\"zapatos\",\"otras\",\"fonac\",\"alim\",\"infon\",\"falt\",\"enf\",\"ries\",\"label\"]]"
   ]
  },
  {
   "cell_type": "code",
   "execution_count": 12,
   "metadata": {},
   "outputs": [
    {
     "data": {
      "text/html": [
       "<div>\n",
       "<style scoped>\n",
       "    .dataframe tbody tr th:only-of-type {\n",
       "        vertical-align: middle;\n",
       "    }\n",
       "\n",
       "    .dataframe tbody tr th {\n",
       "        vertical-align: top;\n",
       "    }\n",
       "\n",
       "    .dataframe thead th {\n",
       "        text-align: right;\n",
       "    }\n",
       "</style>\n",
       "<table border=\"1\" class=\"dataframe\">\n",
       "  <thead>\n",
       "    <tr style=\"text-align: right;\">\n",
       "      <th></th>\n",
       "      <th>dias_pag</th>\n",
       "      <th>dias_lab</th>\n",
       "      <th>sueldo</th>\n",
       "      <th>comp</th>\n",
       "      <th>asist</th>\n",
       "      <th>transp</th>\n",
       "      <th>vales_x</th>\n",
       "      <th>te_dob</th>\n",
       "      <th>te_trip</th>\n",
       "      <th>desc_Lab</th>\n",
       "      <th>...</th>\n",
       "      <th>util</th>\n",
       "      <th>zapatos</th>\n",
       "      <th>otras</th>\n",
       "      <th>fonac</th>\n",
       "      <th>alim</th>\n",
       "      <th>infon</th>\n",
       "      <th>falt</th>\n",
       "      <th>enf</th>\n",
       "      <th>ries</th>\n",
       "      <th>label</th>\n",
       "    </tr>\n",
       "    <tr>\n",
       "      <th>codigo_x</th>\n",
       "      <th></th>\n",
       "      <th></th>\n",
       "      <th></th>\n",
       "      <th></th>\n",
       "      <th></th>\n",
       "      <th></th>\n",
       "      <th></th>\n",
       "      <th></th>\n",
       "      <th></th>\n",
       "      <th></th>\n",
       "      <th></th>\n",
       "      <th></th>\n",
       "      <th></th>\n",
       "      <th></th>\n",
       "      <th></th>\n",
       "      <th></th>\n",
       "      <th></th>\n",
       "      <th></th>\n",
       "      <th></th>\n",
       "      <th></th>\n",
       "      <th></th>\n",
       "    </tr>\n",
       "  </thead>\n",
       "  <tbody>\n",
       "    <tr>\n",
       "      <th>7840</th>\n",
       "      <td>7.0</td>\n",
       "      <td>5.0</td>\n",
       "      <td>1143.52</td>\n",
       "      <td>462.91</td>\n",
       "      <td>60.0</td>\n",
       "      <td>60.0</td>\n",
       "      <td>257.02</td>\n",
       "      <td>367.56</td>\n",
       "      <td>673.86</td>\n",
       "      <td>0.0</td>\n",
       "      <td>...</td>\n",
       "      <td>0.0</td>\n",
       "      <td>0.0</td>\n",
       "      <td>0.0</td>\n",
       "      <td>0.0</td>\n",
       "      <td>0.0</td>\n",
       "      <td>0.0</td>\n",
       "      <td>0.0</td>\n",
       "      <td>0.0</td>\n",
       "      <td>0.0</td>\n",
       "      <td>fue</td>\n",
       "    </tr>\n",
       "    <tr>\n",
       "      <th>7505</th>\n",
       "      <td>7.0</td>\n",
       "      <td>5.0</td>\n",
       "      <td>721.00</td>\n",
       "      <td>173.04</td>\n",
       "      <td>60.0</td>\n",
       "      <td>60.0</td>\n",
       "      <td>143.04</td>\n",
       "      <td>0.00</td>\n",
       "      <td>0.00</td>\n",
       "      <td>0.0</td>\n",
       "      <td>...</td>\n",
       "      <td>0.0</td>\n",
       "      <td>0.0</td>\n",
       "      <td>0.0</td>\n",
       "      <td>0.0</td>\n",
       "      <td>0.0</td>\n",
       "      <td>0.0</td>\n",
       "      <td>0.0</td>\n",
       "      <td>0.0</td>\n",
       "      <td>0.0</td>\n",
       "      <td>fue</td>\n",
       "    </tr>\n",
       "    <tr>\n",
       "      <th>6600</th>\n",
       "      <td>7.0</td>\n",
       "      <td>5.0</td>\n",
       "      <td>721.00</td>\n",
       "      <td>30.38</td>\n",
       "      <td>60.0</td>\n",
       "      <td>50.0</td>\n",
       "      <td>120.22</td>\n",
       "      <td>180.25</td>\n",
       "      <td>0.00</td>\n",
       "      <td>0.0</td>\n",
       "      <td>...</td>\n",
       "      <td>0.0</td>\n",
       "      <td>0.0</td>\n",
       "      <td>0.0</td>\n",
       "      <td>0.0</td>\n",
       "      <td>0.0</td>\n",
       "      <td>0.0</td>\n",
       "      <td>0.0</td>\n",
       "      <td>0.0</td>\n",
       "      <td>0.0</td>\n",
       "      <td>fue</td>\n",
       "    </tr>\n",
       "    <tr>\n",
       "      <th>7685</th>\n",
       "      <td>7.0</td>\n",
       "      <td>5.0</td>\n",
       "      <td>721.00</td>\n",
       "      <td>30.38</td>\n",
       "      <td>60.0</td>\n",
       "      <td>60.0</td>\n",
       "      <td>120.22</td>\n",
       "      <td>0.00</td>\n",
       "      <td>0.00</td>\n",
       "      <td>0.0</td>\n",
       "      <td>...</td>\n",
       "      <td>0.0</td>\n",
       "      <td>0.0</td>\n",
       "      <td>0.0</td>\n",
       "      <td>0.0</td>\n",
       "      <td>0.0</td>\n",
       "      <td>0.0</td>\n",
       "      <td>0.0</td>\n",
       "      <td>0.0</td>\n",
       "      <td>0.0</td>\n",
       "      <td>fue</td>\n",
       "    </tr>\n",
       "    <tr>\n",
       "      <th>7331</th>\n",
       "      <td>7.0</td>\n",
       "      <td>5.0</td>\n",
       "      <td>721.00</td>\n",
       "      <td>30.38</td>\n",
       "      <td>60.0</td>\n",
       "      <td>60.0</td>\n",
       "      <td>120.22</td>\n",
       "      <td>103.00</td>\n",
       "      <td>0.00</td>\n",
       "      <td>0.0</td>\n",
       "      <td>...</td>\n",
       "      <td>0.0</td>\n",
       "      <td>0.0</td>\n",
       "      <td>0.0</td>\n",
       "      <td>0.0</td>\n",
       "      <td>0.0</td>\n",
       "      <td>0.0</td>\n",
       "      <td>0.0</td>\n",
       "      <td>0.0</td>\n",
       "      <td>0.0</td>\n",
       "      <td>fue</td>\n",
       "    </tr>\n",
       "  </tbody>\n",
       "</table>\n",
       "<p>5 rows × 28 columns</p>\n",
       "</div>"
      ],
      "text/plain": [
       "          dias_pag  dias_lab   sueldo    comp  asist  transp  vales_x  te_dob  \\\n",
       "codigo_x                                                                        \n",
       "7840           7.0       5.0  1143.52  462.91   60.0    60.0   257.02  367.56   \n",
       "7505           7.0       5.0   721.00  173.04   60.0    60.0   143.04    0.00   \n",
       "6600           7.0       5.0   721.00   30.38   60.0    50.0   120.22  180.25   \n",
       "7685           7.0       5.0   721.00   30.38   60.0    60.0   120.22    0.00   \n",
       "7331           7.0       5.0   721.00   30.38   60.0    60.0   120.22  103.00   \n",
       "\n",
       "          te_trip  desc_Lab  ...  util  zapatos  otras  fonac  alim  infon  \\\n",
       "codigo_x                     ...                                             \n",
       "7840       673.86       0.0  ...   0.0      0.0    0.0    0.0   0.0    0.0   \n",
       "7505         0.00       0.0  ...   0.0      0.0    0.0    0.0   0.0    0.0   \n",
       "6600         0.00       0.0  ...   0.0      0.0    0.0    0.0   0.0    0.0   \n",
       "7685         0.00       0.0  ...   0.0      0.0    0.0    0.0   0.0    0.0   \n",
       "7331         0.00       0.0  ...   0.0      0.0    0.0    0.0   0.0    0.0   \n",
       "\n",
       "          falt  enf  ries  label  \n",
       "codigo_x                          \n",
       "7840       0.0  0.0   0.0    fue  \n",
       "7505       0.0  0.0   0.0    fue  \n",
       "6600       0.0  0.0   0.0    fue  \n",
       "7685       0.0  0.0   0.0    fue  \n",
       "7331       0.0  0.0   0.0    fue  \n",
       "\n",
       "[5 rows x 28 columns]"
      ]
     },
     "execution_count": 12,
     "metadata": {},
     "output_type": "execute_result"
    }
   ],
   "source": [
    "df.head()"
   ]
  },
  {
   "cell_type": "markdown",
   "metadata": {
    "slideshow": {
     "slide_type": "subslide"
    }
   },
   "source": [
    "## Data Pre-Processing"
   ]
  },
  {
   "cell_type": "code",
   "execution_count": 13,
   "metadata": {
    "nbgrader": {
     "grade": false,
     "grade_id": "cell-86a9e3212f200d21",
     "locked": false,
     "schema_version": 1,
     "solution": true
    },
    "slideshow": {
     "slide_type": "subslide"
    }
   },
   "outputs": [
    {
     "name": "stdout",
     "output_type": "stream",
     "text": [
      "(18365, 27) (18365,)\n"
     ]
    }
   ],
   "source": [
    "X = df.drop(\"label\", axis=1)\n",
    "y = df[\"label\"]\n",
    "print(X.shape, y.shape)"
   ]
  },
  {
   "cell_type": "code",
   "execution_count": 14,
   "metadata": {
    "nbgrader": {
     "grade": false,
     "grade_id": "cell-711a82d9b32c83ff",
     "locked": false,
     "schema_version": 1,
     "solution": true
    },
    "slideshow": {
     "slide_type": "fragment"
    }
   },
   "outputs": [],
   "source": [
    "from sklearn.model_selection import train_test_split\n",
    "from sklearn.preprocessing import LabelEncoder, MinMaxScaler\n",
    "from tensorflow.keras.utils import to_categorical"
   ]
  },
  {
   "cell_type": "code",
   "execution_count": 15,
   "metadata": {
    "nbgrader": {
     "grade": false,
     "grade_id": "cell-711a82d9b32c83ff",
     "locked": false,
     "schema_version": 1,
     "solution": true
    },
    "slideshow": {
     "slide_type": "fragment"
    }
   },
   "outputs": [],
   "source": [
    "X_train, X_test, y_train, y_test = train_test_split(\n",
    "    X, y, random_state=1, stratify=y)"
   ]
  },
  {
   "cell_type": "code",
   "execution_count": 16,
   "metadata": {
    "nbgrader": {
     "grade": false,
     "grade_id": "cell-711a82d9b32c83ff",
     "locked": false,
     "schema_version": 1,
     "solution": true
    },
    "slideshow": {
     "slide_type": "fragment"
    }
   },
   "outputs": [],
   "source": [
    "X_scaler = MinMaxScaler().fit(X_train)\n",
    "X_train_scaled = X_scaler.transform(X_train)\n",
    "X_test_scaled = X_scaler.transform(X_test)"
   ]
  },
  {
   "cell_type": "code",
   "execution_count": 17,
   "metadata": {
    "nbgrader": {
     "grade": false,
     "grade_id": "cell-711a82d9b32c83ff",
     "locked": false,
     "schema_version": 1,
     "solution": true
    },
    "slideshow": {
     "slide_type": "fragment"
    }
   },
   "outputs": [],
   "source": [
    "# Step 1: Label-encode data set\n",
    "label_encoder = LabelEncoder()\n",
    "label_encoder.fit(y_train)\n",
    "encoded_y_train = label_encoder.transform(y_train)\n",
    "encoded_y_test = label_encoder.transform(y_test)"
   ]
  },
  {
   "cell_type": "code",
   "execution_count": 18,
   "metadata": {
    "nbgrader": {
     "grade": false,
     "grade_id": "cell-711a82d9b32c83ff",
     "locked": false,
     "schema_version": 1,
     "solution": true
    },
    "slideshow": {
     "slide_type": "fragment"
    }
   },
   "outputs": [],
   "source": [
    "# Step 2: Convert encoded labels to one-hot-encoding\n",
    "y_train_categorical = to_categorical(encoded_y_train)\n",
    "y_test_categorical = to_categorical(encoded_y_test)"
   ]
  },
  {
   "cell_type": "markdown",
   "metadata": {},
   "source": [
    "# Create a Deep Learning Model"
   ]
  },
  {
   "cell_type": "code",
   "execution_count": 19,
   "metadata": {},
   "outputs": [],
   "source": [
    "from tensorflow.keras.models import Sequential\n",
    "from tensorflow.keras.layers import Dense"
   ]
  },
  {
   "cell_type": "code",
   "execution_count": 20,
   "metadata": {},
   "outputs": [
    {
     "data": {
      "text/plain": [
       "27"
      ]
     },
     "execution_count": 20,
     "metadata": {},
     "output_type": "execute_result"
    }
   ],
   "source": [
    "len(X_train_scaled[0])"
   ]
  },
  {
   "cell_type": "code",
   "execution_count": 21,
   "metadata": {},
   "outputs": [
    {
     "data": {
      "text/plain": [
       "27"
      ]
     },
     "execution_count": 21,
     "metadata": {},
     "output_type": "execute_result"
    }
   ],
   "source": [
    "len(X_test_scaled[0])"
   ]
  },
  {
   "cell_type": "code",
   "execution_count": 22,
   "metadata": {},
   "outputs": [],
   "source": [
    "# Create model and add layers\n",
    "model = Sequential()\n",
    "model.add(Dense(units=100, activation='relu', input_dim=27))\n",
    "model.add(Dense(units=100, activation='relu'))\n",
    "model.add(Dense(units=2, activation='softmax'))"
   ]
  },
  {
   "cell_type": "code",
   "execution_count": 23,
   "metadata": {},
   "outputs": [],
   "source": [
    "# Compile and fit the model\n",
    "model.compile(optimizer='adam',\n",
    "              loss='categorical_crossentropy',\n",
    "              metrics=['accuracy'])"
   ]
  },
  {
   "cell_type": "code",
   "execution_count": null,
   "metadata": {},
   "outputs": [
    {
     "name": "stdout",
     "output_type": "stream",
     "text": [
      "Model: \"sequential\"\n",
      "_________________________________________________________________\n",
      "Layer (type)                 Output Shape              Param #   \n",
      "=================================================================\n",
      "dense (Dense)                (None, 100)               2800      \n",
      "_________________________________________________________________\n",
      "dense_1 (Dense)              (None, 100)               10100     \n",
      "_________________________________________________________________\n",
      "dense_2 (Dense)              (None, 2)                 202       \n",
      "=================================================================\n",
      "Total params: 13,102\n",
      "Trainable params: 13,102\n",
      "Non-trainable params: 0\n",
      "_________________________________________________________________\n"
     ]
    }
   ],
   "source": [
    "model.summary()"
   ]
  },
  {
   "cell_type": "code",
   "execution_count": null,
   "metadata": {},
   "outputs": [
    {
     "name": "stdout",
     "output_type": "stream",
     "text": [
      "Train on 13773 samples\n",
      "Epoch 1/300\n",
      "13773/13773 - 1s - loss: 0.4988 - accuracy: 0.7748\n",
      "Epoch 2/300\n",
      "13773/13773 - 0s - loss: 0.4853 - accuracy: 0.7820\n",
      "Epoch 3/300\n",
      "13773/13773 - 0s - loss: 0.4768 - accuracy: 0.7844\n",
      "Epoch 4/300\n",
      "13773/13773 - 0s - loss: 0.4697 - accuracy: 0.7869\n",
      "Epoch 5/300\n",
      "13773/13773 - 0s - loss: 0.4681 - accuracy: 0.7872\n",
      "Epoch 6/300\n",
      "13773/13773 - 1s - loss: 0.4626 - accuracy: 0.7890\n",
      "Epoch 7/300\n",
      "13773/13773 - 1s - loss: 0.4585 - accuracy: 0.7896\n",
      "Epoch 8/300\n",
      "13773/13773 - 0s - loss: 0.4546 - accuracy: 0.7902\n",
      "Epoch 9/300\n",
      "13773/13773 - 0s - loss: 0.4514 - accuracy: 0.7926\n",
      "Epoch 10/300\n",
      "13773/13773 - 0s - loss: 0.4500 - accuracy: 0.7920\n",
      "Epoch 11/300\n",
      "13773/13773 - 1s - loss: 0.4465 - accuracy: 0.7963\n",
      "Epoch 12/300\n",
      "13773/13773 - 0s - loss: 0.4453 - accuracy: 0.7931\n",
      "Epoch 13/300\n",
      "13773/13773 - 1s - loss: 0.4443 - accuracy: 0.7945\n",
      "Epoch 14/300\n",
      "13773/13773 - 1s - loss: 0.4419 - accuracy: 0.7958\n",
      "Epoch 15/300\n",
      "13773/13773 - 1s - loss: 0.4407 - accuracy: 0.7983\n",
      "Epoch 16/300\n",
      "13773/13773 - 1s - loss: 0.4373 - accuracy: 0.7979\n",
      "Epoch 17/300\n",
      "13773/13773 - 0s - loss: 0.4366 - accuracy: 0.7967\n",
      "Epoch 18/300\n",
      "13773/13773 - 0s - loss: 0.4357 - accuracy: 0.7996\n",
      "Epoch 19/300\n",
      "13773/13773 - 0s - loss: 0.4325 - accuracy: 0.7998\n",
      "Epoch 20/300\n",
      "13773/13773 - 0s - loss: 0.4334 - accuracy: 0.8000\n",
      "Epoch 21/300\n",
      "13773/13773 - 0s - loss: 0.4312 - accuracy: 0.7992\n",
      "Epoch 22/300\n",
      "13773/13773 - 0s - loss: 0.4315 - accuracy: 0.7996\n",
      "Epoch 23/300\n",
      "13773/13773 - 0s - loss: 0.4290 - accuracy: 0.8011\n",
      "Epoch 24/300\n",
      "13773/13773 - 0s - loss: 0.4275 - accuracy: 0.8021\n",
      "Epoch 25/300\n",
      "13773/13773 - 0s - loss: 0.4260 - accuracy: 0.8015\n",
      "Epoch 26/300\n",
      "13773/13773 - 0s - loss: 0.4250 - accuracy: 0.8020\n",
      "Epoch 27/300\n",
      "13773/13773 - 0s - loss: 0.4244 - accuracy: 0.8011\n",
      "Epoch 28/300\n",
      "13773/13773 - 0s - loss: 0.4239 - accuracy: 0.8027\n",
      "Epoch 29/300\n",
      "13773/13773 - 1s - loss: 0.4214 - accuracy: 0.8027\n",
      "Epoch 30/300\n",
      "13773/13773 - 0s - loss: 0.4202 - accuracy: 0.8034\n",
      "Epoch 31/300\n",
      "13773/13773 - 0s - loss: 0.4186 - accuracy: 0.8047\n",
      "Epoch 32/300\n",
      "13773/13773 - 0s - loss: 0.4180 - accuracy: 0.8043\n",
      "Epoch 33/300\n",
      "13773/13773 - 1s - loss: 0.4194 - accuracy: 0.8024\n",
      "Epoch 34/300\n",
      "13773/13773 - 1s - loss: 0.4158 - accuracy: 0.8069\n",
      "Epoch 35/300\n",
      "13773/13773 - 1s - loss: 0.4161 - accuracy: 0.8045\n",
      "Epoch 36/300\n",
      "13773/13773 - 0s - loss: 0.4150 - accuracy: 0.8043\n",
      "Epoch 37/300\n",
      "13773/13773 - 1s - loss: 0.4142 - accuracy: 0.8050\n",
      "Epoch 38/300\n",
      "13773/13773 - 1s - loss: 0.4114 - accuracy: 0.8061\n",
      "Epoch 39/300\n",
      "13773/13773 - 0s - loss: 0.4113 - accuracy: 0.8058\n",
      "Epoch 40/300\n",
      "13773/13773 - 1s - loss: 0.4118 - accuracy: 0.8051\n",
      "Epoch 41/300\n",
      "13773/13773 - 1s - loss: 0.4113 - accuracy: 0.8059\n",
      "Epoch 42/300\n",
      "13773/13773 - 0s - loss: 0.4128 - accuracy: 0.8069\n",
      "Epoch 43/300\n",
      "13773/13773 - 0s - loss: 0.4105 - accuracy: 0.8091\n",
      "Epoch 44/300\n",
      "13773/13773 - 1s - loss: 0.4079 - accuracy: 0.8069\n",
      "Epoch 45/300\n",
      "13773/13773 - 1s - loss: 0.4059 - accuracy: 0.8086\n",
      "Epoch 46/300\n",
      "13773/13773 - 1s - loss: 0.4060 - accuracy: 0.8079\n",
      "Epoch 47/300\n",
      "13773/13773 - 1s - loss: 0.4050 - accuracy: 0.8093\n",
      "Epoch 48/300\n",
      "13773/13773 - 0s - loss: 0.4049 - accuracy: 0.8103\n",
      "Epoch 49/300\n",
      "13773/13773 - 0s - loss: 0.4060 - accuracy: 0.8102\n",
      "Epoch 50/300\n",
      "13773/13773 - 0s - loss: 0.4043 - accuracy: 0.8103\n",
      "Epoch 51/300\n",
      "13773/13773 - 1s - loss: 0.4020 - accuracy: 0.8112\n",
      "Epoch 52/300\n",
      "13773/13773 - 1s - loss: 0.4002 - accuracy: 0.8120\n",
      "Epoch 53/300\n",
      "13773/13773 - 0s - loss: 0.4009 - accuracy: 0.8099\n",
      "Epoch 54/300\n",
      "13773/13773 - 1s - loss: 0.4010 - accuracy: 0.8117\n",
      "Epoch 55/300\n",
      "13773/13773 - 1s - loss: 0.3977 - accuracy: 0.8135\n",
      "Epoch 56/300\n",
      "13773/13773 - 1s - loss: 0.4014 - accuracy: 0.8134\n",
      "Epoch 57/300\n",
      "13773/13773 - 1s - loss: 0.3990 - accuracy: 0.8098\n",
      "Epoch 58/300\n",
      "13773/13773 - 0s - loss: 0.3985 - accuracy: 0.8118\n",
      "Epoch 59/300\n",
      "13773/13773 - 1s - loss: 0.3970 - accuracy: 0.8121\n",
      "Epoch 60/300\n",
      "13773/13773 - 1s - loss: 0.3960 - accuracy: 0.8103\n",
      "Epoch 61/300\n",
      "13773/13773 - 0s - loss: 0.3964 - accuracy: 0.8120\n",
      "Epoch 62/300\n",
      "13773/13773 - 1s - loss: 0.3942 - accuracy: 0.8143\n",
      "Epoch 63/300\n",
      "13773/13773 - 1s - loss: 0.3946 - accuracy: 0.8140\n",
      "Epoch 64/300\n",
      "13773/13773 - 0s - loss: 0.3926 - accuracy: 0.8120\n",
      "Epoch 65/300\n",
      "13773/13773 - 0s - loss: 0.3943 - accuracy: 0.8095\n",
      "Epoch 66/300\n",
      "13773/13773 - 0s - loss: 0.3902 - accuracy: 0.8143\n",
      "Epoch 67/300\n",
      "13773/13773 - 0s - loss: 0.3908 - accuracy: 0.8148\n",
      "Epoch 68/300\n",
      "13773/13773 - 0s - loss: 0.3917 - accuracy: 0.8148\n",
      "Epoch 69/300\n",
      "13773/13773 - 0s - loss: 0.3920 - accuracy: 0.8120\n",
      "Epoch 70/300\n",
      "13773/13773 - 0s - loss: 0.3879 - accuracy: 0.8145\n",
      "Epoch 71/300\n",
      "13773/13773 - 0s - loss: 0.3888 - accuracy: 0.8144\n",
      "Epoch 72/300\n",
      "13773/13773 - 0s - loss: 0.3865 - accuracy: 0.8171\n",
      "Epoch 73/300\n",
      "13773/13773 - 0s - loss: 0.3891 - accuracy: 0.8175\n",
      "Epoch 74/300\n",
      "13773/13773 - 0s - loss: 0.3886 - accuracy: 0.8138\n",
      "Epoch 75/300\n",
      "13773/13773 - 0s - loss: 0.3862 - accuracy: 0.8158\n",
      "Epoch 76/300\n",
      "13773/13773 - 0s - loss: 0.3862 - accuracy: 0.8149\n",
      "Epoch 77/300\n",
      "13773/13773 - 0s - loss: 0.3862 - accuracy: 0.8176\n",
      "Epoch 78/300\n",
      "13773/13773 - 0s - loss: 0.3831 - accuracy: 0.8167\n",
      "Epoch 79/300\n",
      "13773/13773 - 0s - loss: 0.3830 - accuracy: 0.8183\n",
      "Epoch 80/300\n",
      "13773/13773 - 0s - loss: 0.3826 - accuracy: 0.8162\n",
      "Epoch 81/300\n",
      "13773/13773 - 0s - loss: 0.3857 - accuracy: 0.8134\n",
      "Epoch 82/300\n",
      "13773/13773 - 0s - loss: 0.3815 - accuracy: 0.8165\n",
      "Epoch 83/300\n",
      "13773/13773 - 0s - loss: 0.3808 - accuracy: 0.8194\n",
      "Epoch 84/300\n",
      "13773/13773 - 1s - loss: 0.3821 - accuracy: 0.8174\n",
      "Epoch 85/300\n",
      "13773/13773 - 1s - loss: 0.3810 - accuracy: 0.8171\n",
      "Epoch 86/300\n",
      "13773/13773 - 0s - loss: 0.3785 - accuracy: 0.8208\n",
      "Epoch 87/300\n",
      "13773/13773 - 0s - loss: 0.3802 - accuracy: 0.8158\n",
      "Epoch 88/300\n",
      "13773/13773 - 1s - loss: 0.3800 - accuracy: 0.8200\n",
      "Epoch 89/300\n",
      "13773/13773 - 0s - loss: 0.3788 - accuracy: 0.8191\n",
      "Epoch 90/300\n",
      "13773/13773 - 0s - loss: 0.3766 - accuracy: 0.8189\n",
      "Epoch 91/300\n",
      "13773/13773 - 1s - loss: 0.3782 - accuracy: 0.8207\n",
      "Epoch 92/300\n",
      "13773/13773 - 1s - loss: 0.3767 - accuracy: 0.8190\n",
      "Epoch 93/300\n",
      "13773/13773 - 0s - loss: 0.3782 - accuracy: 0.8193\n",
      "Epoch 94/300\n",
      "13773/13773 - 0s - loss: 0.3768 - accuracy: 0.8192\n",
      "Epoch 95/300\n",
      "13773/13773 - 1s - loss: 0.3764 - accuracy: 0.8191\n",
      "Epoch 96/300\n",
      "13773/13773 - 0s - loss: 0.3756 - accuracy: 0.8193\n",
      "Epoch 97/300\n",
      "13773/13773 - 0s - loss: 0.3767 - accuracy: 0.8185\n",
      "Epoch 98/300\n",
      "13773/13773 - 0s - loss: 0.3769 - accuracy: 0.8191\n",
      "Epoch 99/300\n",
      "13773/13773 - 0s - loss: 0.3743 - accuracy: 0.8173\n",
      "Epoch 100/300\n",
      "13773/13773 - 0s - loss: 0.3744 - accuracy: 0.8205\n",
      "Epoch 101/300\n",
      "13773/13773 - 0s - loss: 0.3736 - accuracy: 0.8203\n",
      "Epoch 102/300\n",
      "13773/13773 - 0s - loss: 0.3724 - accuracy: 0.8205\n",
      "Epoch 103/300\n",
      "13773/13773 - 0s - loss: 0.3744 - accuracy: 0.8198\n",
      "Epoch 104/300\n",
      "13773/13773 - 0s - loss: 0.3755 - accuracy: 0.8202\n",
      "Epoch 105/300\n",
      "13773/13773 - 0s - loss: 0.3715 - accuracy: 0.8198\n",
      "Epoch 106/300\n",
      "13773/13773 - 0s - loss: 0.3723 - accuracy: 0.8214\n",
      "Epoch 107/300\n",
      "13773/13773 - 0s - loss: 0.3699 - accuracy: 0.8229\n",
      "Epoch 108/300\n",
      "13773/13773 - 0s - loss: 0.3738 - accuracy: 0.8180\n",
      "Epoch 109/300\n",
      "13773/13773 - 0s - loss: 0.3712 - accuracy: 0.8207\n",
      "Epoch 110/300\n",
      "13773/13773 - 0s - loss: 0.3731 - accuracy: 0.8210\n",
      "Epoch 111/300\n",
      "13773/13773 - 0s - loss: 0.3689 - accuracy: 0.8224\n",
      "Epoch 112/300\n",
      "13773/13773 - 0s - loss: 0.3695 - accuracy: 0.8194\n",
      "Epoch 113/300\n",
      "13773/13773 - 0s - loss: 0.3694 - accuracy: 0.8199\n",
      "Epoch 114/300\n",
      "13773/13773 - 0s - loss: 0.3706 - accuracy: 0.8220\n",
      "Epoch 115/300\n",
      "13773/13773 - 1s - loss: 0.3686 - accuracy: 0.8223\n",
      "Epoch 116/300\n",
      "13773/13773 - 1s - loss: 0.3680 - accuracy: 0.8225\n",
      "Epoch 117/300\n",
      "13773/13773 - 1s - loss: 0.3687 - accuracy: 0.8215\n",
      "Epoch 118/300\n",
      "13773/13773 - 0s - loss: 0.3681 - accuracy: 0.8231\n",
      "Epoch 119/300\n",
      "13773/13773 - 1s - loss: 0.3662 - accuracy: 0.8215\n",
      "Epoch 120/300\n",
      "13773/13773 - 0s - loss: 0.3704 - accuracy: 0.8226\n",
      "Epoch 121/300\n",
      "13773/13773 - 1s - loss: 0.3665 - accuracy: 0.8210\n",
      "Epoch 122/300\n",
      "13773/13773 - 0s - loss: 0.3681 - accuracy: 0.8226\n",
      "Epoch 123/300\n",
      "13773/13773 - 0s - loss: 0.3682 - accuracy: 0.8223\n",
      "Epoch 124/300\n",
      "13773/13773 - 1s - loss: 0.3677 - accuracy: 0.8221\n",
      "Epoch 125/300\n",
      "13773/13773 - 1s - loss: 0.3652 - accuracy: 0.8230\n",
      "Epoch 126/300\n",
      "13773/13773 - 1s - loss: 0.3655 - accuracy: 0.8221\n",
      "Epoch 127/300\n",
      "13773/13773 - 0s - loss: 0.3650 - accuracy: 0.8215\n",
      "Epoch 128/300\n",
      "13773/13773 - 1s - loss: 0.3668 - accuracy: 0.8215\n"
     ]
    },
    {
     "name": "stdout",
     "output_type": "stream",
     "text": [
      "Epoch 129/300\n",
      "13773/13773 - 0s - loss: 0.3641 - accuracy: 0.8233\n",
      "Epoch 130/300\n",
      "13773/13773 - 0s - loss: 0.3664 - accuracy: 0.8202\n",
      "Epoch 131/300\n",
      "13773/13773 - 1s - loss: 0.3617 - accuracy: 0.8245\n",
      "Epoch 132/300\n",
      "13773/13773 - 1s - loss: 0.3674 - accuracy: 0.8213\n",
      "Epoch 133/300\n",
      "13773/13773 - 1s - loss: 0.3648 - accuracy: 0.8234\n",
      "Epoch 134/300\n",
      "13773/13773 - 0s - loss: 0.3619 - accuracy: 0.8259\n",
      "Epoch 135/300\n",
      "13773/13773 - 1s - loss: 0.3611 - accuracy: 0.8231\n",
      "Epoch 136/300\n",
      "13773/13773 - 1s - loss: 0.3630 - accuracy: 0.8215\n",
      "Epoch 137/300\n",
      "13773/13773 - 0s - loss: 0.3612 - accuracy: 0.8261\n",
      "Epoch 138/300\n",
      "13773/13773 - 1s - loss: 0.3631 - accuracy: 0.8248\n",
      "Epoch 139/300\n",
      "13773/13773 - 0s - loss: 0.3618 - accuracy: 0.8242\n",
      "Epoch 140/300\n",
      "13773/13773 - 1s - loss: 0.3616 - accuracy: 0.8218\n",
      "Epoch 141/300\n",
      "13773/13773 - 0s - loss: 0.3624 - accuracy: 0.8217\n",
      "Epoch 142/300\n",
      "13773/13773 - 1s - loss: 0.3575 - accuracy: 0.8252\n",
      "Epoch 143/300\n",
      "13773/13773 - 1s - loss: 0.3620 - accuracy: 0.8255\n",
      "Epoch 144/300\n",
      "13773/13773 - 1s - loss: 0.3621 - accuracy: 0.8216\n",
      "Epoch 145/300\n",
      "13773/13773 - 1s - loss: 0.3612 - accuracy: 0.8226\n",
      "Epoch 146/300\n",
      "13773/13773 - 1s - loss: 0.3602 - accuracy: 0.8227\n",
      "Epoch 147/300\n",
      "13773/13773 - 1s - loss: 0.3601 - accuracy: 0.8236\n",
      "Epoch 148/300\n",
      "13773/13773 - 0s - loss: 0.3615 - accuracy: 0.8255\n",
      "Epoch 149/300\n",
      "13773/13773 - 0s - loss: 0.3616 - accuracy: 0.8238\n",
      "Epoch 150/300\n",
      "13773/13773 - 1s - loss: 0.3615 - accuracy: 0.8236\n",
      "Epoch 151/300\n",
      "13773/13773 - 0s - loss: 0.3591 - accuracy: 0.8246\n",
      "Epoch 152/300\n",
      "13773/13773 - 0s - loss: 0.3579 - accuracy: 0.8267\n",
      "Epoch 153/300\n",
      "13773/13773 - 1s - loss: 0.3575 - accuracy: 0.8248\n",
      "Epoch 154/300\n",
      "13773/13773 - 1s - loss: 0.3560 - accuracy: 0.8260\n",
      "Epoch 155/300\n",
      "13773/13773 - 0s - loss: 0.3584 - accuracy: 0.8223\n",
      "Epoch 156/300\n",
      "13773/13773 - 1s - loss: 0.3597 - accuracy: 0.8255\n",
      "Epoch 157/300\n",
      "13773/13773 - 1s - loss: 0.3596 - accuracy: 0.8232\n",
      "Epoch 158/300\n",
      "13773/13773 - 0s - loss: 0.3581 - accuracy: 0.8237\n",
      "Epoch 159/300\n",
      "13773/13773 - 0s - loss: 0.3589 - accuracy: 0.8246\n",
      "Epoch 160/300\n",
      "13773/13773 - 1s - loss: 0.3540 - accuracy: 0.8279\n",
      "Epoch 161/300\n",
      "13773/13773 - 0s - loss: 0.3550 - accuracy: 0.8261\n",
      "Epoch 162/300\n",
      "13773/13773 - 0s - loss: 0.3579 - accuracy: 0.8232\n",
      "Epoch 163/300\n",
      "13773/13773 - 0s - loss: 0.3527 - accuracy: 0.8265\n",
      "Epoch 164/300\n",
      "13773/13773 - 0s - loss: 0.3591 - accuracy: 0.8266\n",
      "Epoch 165/300\n",
      "13773/13773 - 0s - loss: 0.3547 - accuracy: 0.8263\n",
      "Epoch 166/300\n",
      "13773/13773 - 0s - loss: 0.3555 - accuracy: 0.8271\n",
      "Epoch 167/300\n",
      "13773/13773 - 0s - loss: 0.3532 - accuracy: 0.8268\n",
      "Epoch 168/300\n",
      "13773/13773 - 0s - loss: 0.3556 - accuracy: 0.8232\n",
      "Epoch 169/300\n",
      "13773/13773 - 0s - loss: 0.3547 - accuracy: 0.8270\n",
      "Epoch 170/300\n",
      "13773/13773 - 0s - loss: 0.3523 - accuracy: 0.8264\n",
      "Epoch 171/300\n",
      "13773/13773 - 0s - loss: 0.3529 - accuracy: 0.8259\n",
      "Epoch 172/300\n",
      "13773/13773 - 0s - loss: 0.3557 - accuracy: 0.8236\n",
      "Epoch 173/300\n",
      "13773/13773 - 1s - loss: 0.3594 - accuracy: 0.8257\n",
      "Epoch 174/300\n",
      "13773/13773 - 0s - loss: 0.3533 - accuracy: 0.8252\n",
      "Epoch 175/300\n",
      "13773/13773 - 0s - loss: 0.3523 - accuracy: 0.8260\n",
      "Epoch 176/300\n",
      "13773/13773 - 0s - loss: 0.3525 - accuracy: 0.8282\n",
      "Epoch 177/300\n",
      "13773/13773 - 0s - loss: 0.3528 - accuracy: 0.8247\n",
      "Epoch 178/300\n",
      "13773/13773 - 0s - loss: 0.3513 - accuracy: 0.8287\n",
      "Epoch 179/300\n",
      "13773/13773 - 0s - loss: 0.3533 - accuracy: 0.8266\n",
      "Epoch 180/300\n",
      "13773/13773 - 0s - loss: 0.3529 - accuracy: 0.8273\n",
      "Epoch 181/300\n",
      "13773/13773 - 0s - loss: 0.3522 - accuracy: 0.8271\n",
      "Epoch 182/300\n",
      "13773/13773 - 1s - loss: 0.3541 - accuracy: 0.8257\n",
      "Epoch 183/300\n",
      "13773/13773 - 1s - loss: 0.3509 - accuracy: 0.8271\n",
      "Epoch 184/300\n",
      "13773/13773 - 0s - loss: 0.3510 - accuracy: 0.8257\n",
      "Epoch 185/300\n",
      "13773/13773 - 0s - loss: 0.3514 - accuracy: 0.8259\n",
      "Epoch 186/300\n",
      "13773/13773 - 0s - loss: 0.3508 - accuracy: 0.8266\n",
      "Epoch 187/300\n",
      "13773/13773 - 0s - loss: 0.3501 - accuracy: 0.8277\n",
      "Epoch 188/300\n",
      "13773/13773 - 1s - loss: 0.3487 - accuracy: 0.8273\n",
      "Epoch 189/300\n",
      "13773/13773 - 0s - loss: 0.3492 - accuracy: 0.8277\n",
      "Epoch 190/300\n",
      "13773/13773 - 0s - loss: 0.3505 - accuracy: 0.8301\n",
      "Epoch 191/300\n",
      "13773/13773 - 0s - loss: 0.3498 - accuracy: 0.8265\n",
      "Epoch 192/300\n",
      "13773/13773 - 1s - loss: 0.3489 - accuracy: 0.8256\n",
      "Epoch 193/300\n",
      "13773/13773 - 1s - loss: 0.3480 - accuracy: 0.8274\n",
      "Epoch 194/300\n",
      "13773/13773 - 0s - loss: 0.3477 - accuracy: 0.8297\n",
      "Epoch 195/300\n",
      "13773/13773 - 1s - loss: 0.3517 - accuracy: 0.8267\n",
      "Epoch 196/300\n",
      "13773/13773 - 0s - loss: 0.3547 - accuracy: 0.8250\n",
      "Epoch 197/300\n",
      "13773/13773 - 0s - loss: 0.3475 - accuracy: 0.8291\n",
      "Epoch 198/300\n",
      "13773/13773 - 0s - loss: 0.3473 - accuracy: 0.8281\n",
      "Epoch 199/300\n",
      "13773/13773 - 0s - loss: 0.3474 - accuracy: 0.8300\n",
      "Epoch 200/300\n",
      "13773/13773 - 0s - loss: 0.3490 - accuracy: 0.8273\n"
     ]
    }
   ],
   "source": [
    "model.fit(\n",
    "    X_train_scaled,\n",
    "    y_train_categorical,\n",
    "    epochs=300,\n",
    "    shuffle=True,\n",
    "    verbose=2\n",
    ")"
   ]
  },
  {
   "cell_type": "markdown",
   "metadata": {},
   "source": [
    "## Quantify our Trained Model"
   ]
  },
  {
   "cell_type": "code",
   "execution_count": null,
   "metadata": {},
   "outputs": [],
   "source": [
    "model_loss, model_accuracy = model.evaluate(\n",
    "    X_test_scaled, y_test_categorical, verbose=2)\n",
    "print(\n",
    "    f\"Normal Neural Network - Loss: {model_loss}, Accuracy: {model_accuracy}\")"
   ]
  },
  {
   "cell_type": "markdown",
   "metadata": {
    "slideshow": {
     "slide_type": "subslide"
    }
   },
   "source": [
    "## Make Predictions"
   ]
  },
  {
   "cell_type": "code",
   "execution_count": null,
   "metadata": {
    "nbgrader": {
     "grade": false,
     "grade_id": "cell-f97eb3e97245187b",
     "locked": false,
     "schema_version": 1,
     "solution": true
    },
    "slideshow": {
     "slide_type": "fragment"
    }
   },
   "outputs": [],
   "source": [
    "encoded_predictions = model.predict_classes(X_test_scaled)\n",
    "prediction_labels = label_encoder.inverse_transform(encoded_predictions)"
   ]
  },
  {
   "cell_type": "code",
   "execution_count": null,
   "metadata": {},
   "outputs": [],
   "source": [
    "results = pd.DataFrame({\n",
    "\"prediction\": prediction_labels,\n",
    "\"actual\": y_test\n",
    "})\n",
    "results.head()"
   ]
  },
  {
   "cell_type": "code",
   "execution_count": null,
   "metadata": {},
   "outputs": [],
   "source": [
    "results[\"diffs\"] = results[\"prediction\"] == results[\"actual\"]"
   ]
  },
  {
   "cell_type": "code",
   "execution_count": null,
   "metadata": {},
   "outputs": [],
   "source": [
    "results.head()"
   ]
  },
  {
   "cell_type": "code",
   "execution_count": null,
   "metadata": {},
   "outputs": [],
   "source": [
    "results[\"diffs\"].value_counts()"
   ]
  },
  {
   "cell_type": "code",
   "execution_count": null,
   "metadata": {},
   "outputs": [],
   "source": [
    "diffs = results.loc[results[\"diffs\"] == False]"
   ]
  },
  {
   "cell_type": "code",
   "execution_count": null,
   "metadata": {},
   "outputs": [],
   "source": [
    "se_nos_van = diffs.loc[diffs[\"actual\"] == \"sigue\"]"
   ]
  },
  {
   "cell_type": "code",
   "execution_count": null,
   "metadata": {},
   "outputs": [],
   "source": [
    "no_debieron_irse = diffs.loc[diffs[\"prediction\"] == \"sigue\"]"
   ]
  },
  {
   "cell_type": "code",
   "execution_count": null,
   "metadata": {},
   "outputs": [],
   "source": [
    "se_nos_van.reset_index(inplace=True)"
   ]
  },
  {
   "cell_type": "code",
   "execution_count": null,
   "metadata": {},
   "outputs": [],
   "source": [
    "no_debieron_irse.reset_index(inplace=True)"
   ]
  },
  {
   "cell_type": "code",
   "execution_count": null,
   "metadata": {},
   "outputs": [],
   "source": [
    "se_nos_van = se_nos_van.groupby(\"codigo_x\").count()"
   ]
  },
  {
   "cell_type": "code",
   "execution_count": null,
   "metadata": {},
   "outputs": [],
   "source": [
    "no_debieron_irse = no_debieron_irse.groupby(\"codigo_x\").count()"
   ]
  },
  {
   "cell_type": "code",
   "execution_count": null,
   "metadata": {},
   "outputs": [],
   "source": [
    "se_nos_van.count()"
   ]
  },
  {
   "cell_type": "code",
   "execution_count": null,
   "metadata": {},
   "outputs": [],
   "source": [
    "no_debieron_irse.count()"
   ]
  },
  {
   "cell_type": "code",
   "execution_count": null,
   "metadata": {},
   "outputs": [],
   "source": []
  }
 ],
 "metadata": {
  "kernelspec": {
   "display_name": "Python 3",
   "language": "python",
   "name": "python3"
  },
  "language_info": {
   "codemirror_mode": {
    "name": "ipython",
    "version": 3
   },
   "file_extension": ".py",
   "mimetype": "text/x-python",
   "name": "python",
   "nbconvert_exporter": "python",
   "pygments_lexer": "ipython3",
   "version": "3.6.8"
  },
  "varInspector": {
   "cols": {
    "lenName": 16,
    "lenType": 16,
    "lenVar": 40
   },
   "kernels_config": {
    "python": {
     "delete_cmd_postfix": "",
     "delete_cmd_prefix": "del ",
     "library": "var_list.py",
     "varRefreshCmd": "print(var_dic_list())"
    },
    "r": {
     "delete_cmd_postfix": ") ",
     "delete_cmd_prefix": "rm(",
     "library": "var_list.r",
     "varRefreshCmd": "cat(var_dic_list()) "
    }
   },
   "types_to_exclude": [
    "module",
    "function",
    "builtin_function_or_method",
    "instance",
    "_Feature"
   ],
   "window_display": false
  }
 },
 "nbformat": 4,
 "nbformat_minor": 2
}
