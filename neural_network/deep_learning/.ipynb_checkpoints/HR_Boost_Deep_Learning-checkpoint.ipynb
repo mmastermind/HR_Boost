{
 "cells": [
  {
   "cell_type": "code",
   "execution_count": 1,
   "metadata": {},
   "outputs": [],
   "source": [
    "# Set the seed value for the notebook so the results are reproducible\n",
    "from numpy.random import seed\n",
    "seed(1)"
   ]
  },
  {
   "cell_type": "code",
   "execution_count": 2,
   "metadata": {
    "slideshow": {
     "slide_type": "subslide"
    }
   },
   "outputs": [],
   "source": [
    "# Dependencies\n",
    "import numpy as np\n",
    "import pandas as pd"
   ]
  },
  {
   "cell_type": "code",
   "execution_count": 3,
   "metadata": {},
   "outputs": [],
   "source": [
    "import tensorflow"
   ]
  },
  {
   "cell_type": "code",
   "execution_count": 4,
   "metadata": {
    "slideshow": {
     "slide_type": "fragment"
    }
   },
   "outputs": [
    {
     "data": {
      "text/html": [
       "<div>\n",
       "<style scoped>\n",
       "    .dataframe tbody tr th:only-of-type {\n",
       "        vertical-align: middle;\n",
       "    }\n",
       "\n",
       "    .dataframe tbody tr th {\n",
       "        vertical-align: top;\n",
       "    }\n",
       "\n",
       "    .dataframe thead th {\n",
       "        text-align: right;\n",
       "    }\n",
       "</style>\n",
       "<table border=\"1\" class=\"dataframe\">\n",
       "  <thead>\n",
       "    <tr style=\"text-align: right;\">\n",
       "      <th></th>\n",
       "      <th>sem_x</th>\n",
       "      <th>codigo_x</th>\n",
       "      <th>dias_pag</th>\n",
       "      <th>dias_lab</th>\n",
       "      <th>sueldo</th>\n",
       "      <th>comp</th>\n",
       "      <th>asist</th>\n",
       "      <th>transp</th>\n",
       "      <th>vales_x</th>\n",
       "      <th>te_dob</th>\n",
       "      <th>...</th>\n",
       "      <th>alim</th>\n",
       "      <th>infon</th>\n",
       "      <th>falt</th>\n",
       "      <th>enf</th>\n",
       "      <th>ries</th>\n",
       "      <th>ISPT</th>\n",
       "      <th>ISPTA</th>\n",
       "      <th>IMSS</th>\n",
       "      <th>subs</th>\n",
       "      <th>label</th>\n",
       "    </tr>\n",
       "  </thead>\n",
       "  <tbody>\n",
       "    <tr>\n",
       "      <th>0</th>\n",
       "      <td>1</td>\n",
       "      <td>7840</td>\n",
       "      <td>7.0</td>\n",
       "      <td>5.0</td>\n",
       "      <td>1143.52</td>\n",
       "      <td>462.91</td>\n",
       "      <td>60.0</td>\n",
       "      <td>60.0</td>\n",
       "      <td>257.02</td>\n",
       "      <td>367.56</td>\n",
       "      <td>...</td>\n",
       "      <td>0.0</td>\n",
       "      <td>0.0</td>\n",
       "      <td>0.0</td>\n",
       "      <td>0.0</td>\n",
       "      <td>0.0</td>\n",
       "      <td>289.63</td>\n",
       "      <td>0.0</td>\n",
       "      <td>49.55</td>\n",
       "      <td>0.00</td>\n",
       "      <td>0</td>\n",
       "    </tr>\n",
       "    <tr>\n",
       "      <th>1</th>\n",
       "      <td>1</td>\n",
       "      <td>7505</td>\n",
       "      <td>7.0</td>\n",
       "      <td>5.0</td>\n",
       "      <td>721.00</td>\n",
       "      <td>173.04</td>\n",
       "      <td>60.0</td>\n",
       "      <td>60.0</td>\n",
       "      <td>143.04</td>\n",
       "      <td>0.00</td>\n",
       "      <td>...</td>\n",
       "      <td>0.0</td>\n",
       "      <td>0.0</td>\n",
       "      <td>0.0</td>\n",
       "      <td>0.0</td>\n",
       "      <td>0.0</td>\n",
       "      <td>60.93</td>\n",
       "      <td>0.0</td>\n",
       "      <td>24.12</td>\n",
       "      <td>0.00</td>\n",
       "      <td>0</td>\n",
       "    </tr>\n",
       "    <tr>\n",
       "      <th>2</th>\n",
       "      <td>1</td>\n",
       "      <td>6600</td>\n",
       "      <td>7.0</td>\n",
       "      <td>5.0</td>\n",
       "      <td>721.00</td>\n",
       "      <td>30.38</td>\n",
       "      <td>60.0</td>\n",
       "      <td>50.0</td>\n",
       "      <td>120.22</td>\n",
       "      <td>180.25</td>\n",
       "      <td>...</td>\n",
       "      <td>0.0</td>\n",
       "      <td>0.0</td>\n",
       "      <td>0.0</td>\n",
       "      <td>0.0</td>\n",
       "      <td>0.0</td>\n",
       "      <td>0.00</td>\n",
       "      <td>0.0</td>\n",
       "      <td>20.07</td>\n",
       "      <td>33.13</td>\n",
       "      <td>1</td>\n",
       "    </tr>\n",
       "    <tr>\n",
       "      <th>3</th>\n",
       "      <td>1</td>\n",
       "      <td>7685</td>\n",
       "      <td>7.0</td>\n",
       "      <td>5.0</td>\n",
       "      <td>721.00</td>\n",
       "      <td>30.38</td>\n",
       "      <td>60.0</td>\n",
       "      <td>60.0</td>\n",
       "      <td>120.22</td>\n",
       "      <td>0.00</td>\n",
       "      <td>...</td>\n",
       "      <td>0.0</td>\n",
       "      <td>0.0</td>\n",
       "      <td>0.0</td>\n",
       "      <td>0.0</td>\n",
       "      <td>0.0</td>\n",
       "      <td>0.00</td>\n",
       "      <td>0.0</td>\n",
       "      <td>27.04</td>\n",
       "      <td>38.26</td>\n",
       "      <td>1</td>\n",
       "    </tr>\n",
       "    <tr>\n",
       "      <th>4</th>\n",
       "      <td>1</td>\n",
       "      <td>7331</td>\n",
       "      <td>7.0</td>\n",
       "      <td>5.0</td>\n",
       "      <td>721.00</td>\n",
       "      <td>30.38</td>\n",
       "      <td>60.0</td>\n",
       "      <td>60.0</td>\n",
       "      <td>120.22</td>\n",
       "      <td>103.00</td>\n",
       "      <td>...</td>\n",
       "      <td>0.0</td>\n",
       "      <td>0.0</td>\n",
       "      <td>0.0</td>\n",
       "      <td>0.0</td>\n",
       "      <td>0.0</td>\n",
       "      <td>0.00</td>\n",
       "      <td>0.0</td>\n",
       "      <td>23.71</td>\n",
       "      <td>34.96</td>\n",
       "      <td>0</td>\n",
       "    </tr>\n",
       "  </tbody>\n",
       "</table>\n",
       "<p>5 rows × 38 columns</p>\n",
       "</div>"
      ],
      "text/plain": [
       "   sem_x  codigo_x  dias_pag  dias_lab   sueldo    comp  asist  transp  \\\n",
       "0      1      7840       7.0       5.0  1143.52  462.91   60.0    60.0   \n",
       "1      1      7505       7.0       5.0   721.00  173.04   60.0    60.0   \n",
       "2      1      6600       7.0       5.0   721.00   30.38   60.0    50.0   \n",
       "3      1      7685       7.0       5.0   721.00   30.38   60.0    60.0   \n",
       "4      1      7331       7.0       5.0   721.00   30.38   60.0    60.0   \n",
       "\n",
       "   vales_x  te_dob  ...  alim  infon  falt  enf  ries    ISPT  ISPTA   IMSS  \\\n",
       "0   257.02  367.56  ...   0.0    0.0   0.0  0.0   0.0  289.63    0.0  49.55   \n",
       "1   143.04    0.00  ...   0.0    0.0   0.0  0.0   0.0   60.93    0.0  24.12   \n",
       "2   120.22  180.25  ...   0.0    0.0   0.0  0.0   0.0    0.00    0.0  20.07   \n",
       "3   120.22    0.00  ...   0.0    0.0   0.0  0.0   0.0    0.00    0.0  27.04   \n",
       "4   120.22  103.00  ...   0.0    0.0   0.0  0.0   0.0    0.00    0.0  23.71   \n",
       "\n",
       "    subs  label  \n",
       "0   0.00      0  \n",
       "1   0.00      0  \n",
       "2  33.13      1  \n",
       "3  38.26      1  \n",
       "4  34.96      0  \n",
       "\n",
       "[5 rows x 38 columns]"
      ]
     },
     "execution_count": 4,
     "metadata": {},
     "output_type": "execute_result"
    }
   ],
   "source": [
    "df = pd.read_csv('../Resources/CONSOLIDADO.csv', index_col=0)\n",
    "df.head()"
   ]
  },
  {
   "cell_type": "code",
   "execution_count": 5,
   "metadata": {},
   "outputs": [],
   "source": [
    "def labeling(row):\n",
    "    sigue = \"sigue\"\n",
    "    fue = \"fue\"\n",
    "    if row == 0:\n",
    "        return sigue\n",
    "    else:\n",
    "        return fue"
   ]
  },
  {
   "cell_type": "code",
   "execution_count": 6,
   "metadata": {},
   "outputs": [],
   "source": [
    "df[\"label\"] = df[\"label\"].apply(lambda row: labeling(row))"
   ]
  },
  {
   "cell_type": "code",
   "execution_count": 7,
   "metadata": {},
   "outputs": [
    {
     "data": {
      "text/html": [
       "<div>\n",
       "<style scoped>\n",
       "    .dataframe tbody tr th:only-of-type {\n",
       "        vertical-align: middle;\n",
       "    }\n",
       "\n",
       "    .dataframe tbody tr th {\n",
       "        vertical-align: top;\n",
       "    }\n",
       "\n",
       "    .dataframe thead th {\n",
       "        text-align: right;\n",
       "    }\n",
       "</style>\n",
       "<table border=\"1\" class=\"dataframe\">\n",
       "  <thead>\n",
       "    <tr style=\"text-align: right;\">\n",
       "      <th></th>\n",
       "      <th>sem_x</th>\n",
       "      <th>codigo_x</th>\n",
       "      <th>dias_pag</th>\n",
       "      <th>dias_lab</th>\n",
       "      <th>sueldo</th>\n",
       "      <th>comp</th>\n",
       "      <th>asist</th>\n",
       "      <th>transp</th>\n",
       "      <th>vales_x</th>\n",
       "      <th>te_dob</th>\n",
       "      <th>...</th>\n",
       "      <th>alim</th>\n",
       "      <th>infon</th>\n",
       "      <th>falt</th>\n",
       "      <th>enf</th>\n",
       "      <th>ries</th>\n",
       "      <th>ISPT</th>\n",
       "      <th>ISPTA</th>\n",
       "      <th>IMSS</th>\n",
       "      <th>subs</th>\n",
       "      <th>label</th>\n",
       "    </tr>\n",
       "  </thead>\n",
       "  <tbody>\n",
       "    <tr>\n",
       "      <th>0</th>\n",
       "      <td>1</td>\n",
       "      <td>7840</td>\n",
       "      <td>7.0</td>\n",
       "      <td>5.0</td>\n",
       "      <td>1143.52</td>\n",
       "      <td>462.91</td>\n",
       "      <td>60.0</td>\n",
       "      <td>60.0</td>\n",
       "      <td>257.02</td>\n",
       "      <td>367.56</td>\n",
       "      <td>...</td>\n",
       "      <td>0.0</td>\n",
       "      <td>0.0</td>\n",
       "      <td>0.0</td>\n",
       "      <td>0.0</td>\n",
       "      <td>0.0</td>\n",
       "      <td>289.63</td>\n",
       "      <td>0.0</td>\n",
       "      <td>49.55</td>\n",
       "      <td>0.00</td>\n",
       "      <td>sigue</td>\n",
       "    </tr>\n",
       "    <tr>\n",
       "      <th>1</th>\n",
       "      <td>1</td>\n",
       "      <td>7505</td>\n",
       "      <td>7.0</td>\n",
       "      <td>5.0</td>\n",
       "      <td>721.00</td>\n",
       "      <td>173.04</td>\n",
       "      <td>60.0</td>\n",
       "      <td>60.0</td>\n",
       "      <td>143.04</td>\n",
       "      <td>0.00</td>\n",
       "      <td>...</td>\n",
       "      <td>0.0</td>\n",
       "      <td>0.0</td>\n",
       "      <td>0.0</td>\n",
       "      <td>0.0</td>\n",
       "      <td>0.0</td>\n",
       "      <td>60.93</td>\n",
       "      <td>0.0</td>\n",
       "      <td>24.12</td>\n",
       "      <td>0.00</td>\n",
       "      <td>sigue</td>\n",
       "    </tr>\n",
       "    <tr>\n",
       "      <th>2</th>\n",
       "      <td>1</td>\n",
       "      <td>6600</td>\n",
       "      <td>7.0</td>\n",
       "      <td>5.0</td>\n",
       "      <td>721.00</td>\n",
       "      <td>30.38</td>\n",
       "      <td>60.0</td>\n",
       "      <td>50.0</td>\n",
       "      <td>120.22</td>\n",
       "      <td>180.25</td>\n",
       "      <td>...</td>\n",
       "      <td>0.0</td>\n",
       "      <td>0.0</td>\n",
       "      <td>0.0</td>\n",
       "      <td>0.0</td>\n",
       "      <td>0.0</td>\n",
       "      <td>0.00</td>\n",
       "      <td>0.0</td>\n",
       "      <td>20.07</td>\n",
       "      <td>33.13</td>\n",
       "      <td>fue</td>\n",
       "    </tr>\n",
       "    <tr>\n",
       "      <th>3</th>\n",
       "      <td>1</td>\n",
       "      <td>7685</td>\n",
       "      <td>7.0</td>\n",
       "      <td>5.0</td>\n",
       "      <td>721.00</td>\n",
       "      <td>30.38</td>\n",
       "      <td>60.0</td>\n",
       "      <td>60.0</td>\n",
       "      <td>120.22</td>\n",
       "      <td>0.00</td>\n",
       "      <td>...</td>\n",
       "      <td>0.0</td>\n",
       "      <td>0.0</td>\n",
       "      <td>0.0</td>\n",
       "      <td>0.0</td>\n",
       "      <td>0.0</td>\n",
       "      <td>0.00</td>\n",
       "      <td>0.0</td>\n",
       "      <td>27.04</td>\n",
       "      <td>38.26</td>\n",
       "      <td>fue</td>\n",
       "    </tr>\n",
       "    <tr>\n",
       "      <th>4</th>\n",
       "      <td>1</td>\n",
       "      <td>7331</td>\n",
       "      <td>7.0</td>\n",
       "      <td>5.0</td>\n",
       "      <td>721.00</td>\n",
       "      <td>30.38</td>\n",
       "      <td>60.0</td>\n",
       "      <td>60.0</td>\n",
       "      <td>120.22</td>\n",
       "      <td>103.00</td>\n",
       "      <td>...</td>\n",
       "      <td>0.0</td>\n",
       "      <td>0.0</td>\n",
       "      <td>0.0</td>\n",
       "      <td>0.0</td>\n",
       "      <td>0.0</td>\n",
       "      <td>0.00</td>\n",
       "      <td>0.0</td>\n",
       "      <td>23.71</td>\n",
       "      <td>34.96</td>\n",
       "      <td>sigue</td>\n",
       "    </tr>\n",
       "  </tbody>\n",
       "</table>\n",
       "<p>5 rows × 38 columns</p>\n",
       "</div>"
      ],
      "text/plain": [
       "   sem_x  codigo_x  dias_pag  dias_lab   sueldo    comp  asist  transp  \\\n",
       "0      1      7840       7.0       5.0  1143.52  462.91   60.0    60.0   \n",
       "1      1      7505       7.0       5.0   721.00  173.04   60.0    60.0   \n",
       "2      1      6600       7.0       5.0   721.00   30.38   60.0    50.0   \n",
       "3      1      7685       7.0       5.0   721.00   30.38   60.0    60.0   \n",
       "4      1      7331       7.0       5.0   721.00   30.38   60.0    60.0   \n",
       "\n",
       "   vales_x  te_dob  ...  alim  infon  falt  enf  ries    ISPT  ISPTA   IMSS  \\\n",
       "0   257.02  367.56  ...   0.0    0.0   0.0  0.0   0.0  289.63    0.0  49.55   \n",
       "1   143.04    0.00  ...   0.0    0.0   0.0  0.0   0.0   60.93    0.0  24.12   \n",
       "2   120.22  180.25  ...   0.0    0.0   0.0  0.0   0.0    0.00    0.0  20.07   \n",
       "3   120.22    0.00  ...   0.0    0.0   0.0  0.0   0.0    0.00    0.0  27.04   \n",
       "4   120.22  103.00  ...   0.0    0.0   0.0  0.0   0.0    0.00    0.0  23.71   \n",
       "\n",
       "    subs  label  \n",
       "0   0.00  sigue  \n",
       "1   0.00  sigue  \n",
       "2  33.13    fue  \n",
       "3  38.26    fue  \n",
       "4  34.96  sigue  \n",
       "\n",
       "[5 rows x 38 columns]"
      ]
     },
     "execution_count": 7,
     "metadata": {},
     "output_type": "execute_result"
    }
   ],
   "source": [
    "df.head()"
   ]
  },
  {
   "cell_type": "code",
   "execution_count": 8,
   "metadata": {},
   "outputs": [
    {
     "data": {
      "text/plain": [
       "fue      5552\n",
       "sigue    2661\n",
       "Name: label, dtype: int64"
      ]
     },
     "execution_count": 8,
     "metadata": {},
     "output_type": "execute_result"
    }
   ],
   "source": [
    "df[\"label\"].value_counts()"
   ]
  },
  {
   "cell_type": "code",
   "execution_count": 9,
   "metadata": {},
   "outputs": [
    {
     "data": {
      "text/plain": [
       "False"
      ]
     },
     "execution_count": 9,
     "metadata": {},
     "output_type": "execute_result"
    }
   ],
   "source": [
    "df.isna().values.any()"
   ]
  },
  {
   "cell_type": "code",
   "execution_count": 12,
   "metadata": {},
   "outputs": [],
   "source": [
    "df = df.set_index(\"codigo_x\")"
   ]
  },
  {
   "cell_type": "code",
   "execution_count": 13,
   "metadata": {},
   "outputs": [],
   "source": [
    "df = df[[\"dias_pag\",\"dias_lab\",\"sueldo\",\"comp\",\"asist\",\"transp\",\"vales_x\",\"te_dob\",\n",
    "          \"te_trip\",\"desc_Lab\",\"fest_lab\",\"dominic\",\"perc_grav\",\"obj\",\"aguin\",\"vac\",\"prim_vac\",\n",
    "          \"grat_esp\",\"util\",\"zapatos\",\"otras\",\"fonac\",\"alim\",\"infon\",\"falt\",\"enf\",\"ries\",\"label\"]]"
   ]
  },
  {
   "cell_type": "code",
   "execution_count": 14,
   "metadata": {},
   "outputs": [
    {
     "data": {
      "text/html": [
       "<div>\n",
       "<style scoped>\n",
       "    .dataframe tbody tr th:only-of-type {\n",
       "        vertical-align: middle;\n",
       "    }\n",
       "\n",
       "    .dataframe tbody tr th {\n",
       "        vertical-align: top;\n",
       "    }\n",
       "\n",
       "    .dataframe thead th {\n",
       "        text-align: right;\n",
       "    }\n",
       "</style>\n",
       "<table border=\"1\" class=\"dataframe\">\n",
       "  <thead>\n",
       "    <tr style=\"text-align: right;\">\n",
       "      <th></th>\n",
       "      <th>dias_pag</th>\n",
       "      <th>dias_lab</th>\n",
       "      <th>sueldo</th>\n",
       "      <th>comp</th>\n",
       "      <th>asist</th>\n",
       "      <th>transp</th>\n",
       "      <th>vales_x</th>\n",
       "      <th>te_dob</th>\n",
       "      <th>te_trip</th>\n",
       "      <th>desc_Lab</th>\n",
       "      <th>...</th>\n",
       "      <th>util</th>\n",
       "      <th>zapatos</th>\n",
       "      <th>otras</th>\n",
       "      <th>fonac</th>\n",
       "      <th>alim</th>\n",
       "      <th>infon</th>\n",
       "      <th>falt</th>\n",
       "      <th>enf</th>\n",
       "      <th>ries</th>\n",
       "      <th>label</th>\n",
       "    </tr>\n",
       "    <tr>\n",
       "      <th>codigo_x</th>\n",
       "      <th></th>\n",
       "      <th></th>\n",
       "      <th></th>\n",
       "      <th></th>\n",
       "      <th></th>\n",
       "      <th></th>\n",
       "      <th></th>\n",
       "      <th></th>\n",
       "      <th></th>\n",
       "      <th></th>\n",
       "      <th></th>\n",
       "      <th></th>\n",
       "      <th></th>\n",
       "      <th></th>\n",
       "      <th></th>\n",
       "      <th></th>\n",
       "      <th></th>\n",
       "      <th></th>\n",
       "      <th></th>\n",
       "      <th></th>\n",
       "      <th></th>\n",
       "    </tr>\n",
       "  </thead>\n",
       "  <tbody>\n",
       "    <tr>\n",
       "      <th>7840</th>\n",
       "      <td>7.0</td>\n",
       "      <td>5.0</td>\n",
       "      <td>1143.52</td>\n",
       "      <td>462.91</td>\n",
       "      <td>60.0</td>\n",
       "      <td>60.0</td>\n",
       "      <td>257.02</td>\n",
       "      <td>367.56</td>\n",
       "      <td>673.86</td>\n",
       "      <td>0.0</td>\n",
       "      <td>...</td>\n",
       "      <td>0.0</td>\n",
       "      <td>0.0</td>\n",
       "      <td>0.0</td>\n",
       "      <td>0.0</td>\n",
       "      <td>0.0</td>\n",
       "      <td>0.0</td>\n",
       "      <td>0.0</td>\n",
       "      <td>0.0</td>\n",
       "      <td>0.0</td>\n",
       "      <td>sigue</td>\n",
       "    </tr>\n",
       "    <tr>\n",
       "      <th>7505</th>\n",
       "      <td>7.0</td>\n",
       "      <td>5.0</td>\n",
       "      <td>721.00</td>\n",
       "      <td>173.04</td>\n",
       "      <td>60.0</td>\n",
       "      <td>60.0</td>\n",
       "      <td>143.04</td>\n",
       "      <td>0.00</td>\n",
       "      <td>0.00</td>\n",
       "      <td>0.0</td>\n",
       "      <td>...</td>\n",
       "      <td>0.0</td>\n",
       "      <td>0.0</td>\n",
       "      <td>0.0</td>\n",
       "      <td>0.0</td>\n",
       "      <td>0.0</td>\n",
       "      <td>0.0</td>\n",
       "      <td>0.0</td>\n",
       "      <td>0.0</td>\n",
       "      <td>0.0</td>\n",
       "      <td>sigue</td>\n",
       "    </tr>\n",
       "    <tr>\n",
       "      <th>6600</th>\n",
       "      <td>7.0</td>\n",
       "      <td>5.0</td>\n",
       "      <td>721.00</td>\n",
       "      <td>30.38</td>\n",
       "      <td>60.0</td>\n",
       "      <td>50.0</td>\n",
       "      <td>120.22</td>\n",
       "      <td>180.25</td>\n",
       "      <td>0.00</td>\n",
       "      <td>0.0</td>\n",
       "      <td>...</td>\n",
       "      <td>0.0</td>\n",
       "      <td>0.0</td>\n",
       "      <td>0.0</td>\n",
       "      <td>0.0</td>\n",
       "      <td>0.0</td>\n",
       "      <td>0.0</td>\n",
       "      <td>0.0</td>\n",
       "      <td>0.0</td>\n",
       "      <td>0.0</td>\n",
       "      <td>fue</td>\n",
       "    </tr>\n",
       "    <tr>\n",
       "      <th>7685</th>\n",
       "      <td>7.0</td>\n",
       "      <td>5.0</td>\n",
       "      <td>721.00</td>\n",
       "      <td>30.38</td>\n",
       "      <td>60.0</td>\n",
       "      <td>60.0</td>\n",
       "      <td>120.22</td>\n",
       "      <td>0.00</td>\n",
       "      <td>0.00</td>\n",
       "      <td>0.0</td>\n",
       "      <td>...</td>\n",
       "      <td>0.0</td>\n",
       "      <td>0.0</td>\n",
       "      <td>0.0</td>\n",
       "      <td>0.0</td>\n",
       "      <td>0.0</td>\n",
       "      <td>0.0</td>\n",
       "      <td>0.0</td>\n",
       "      <td>0.0</td>\n",
       "      <td>0.0</td>\n",
       "      <td>fue</td>\n",
       "    </tr>\n",
       "    <tr>\n",
       "      <th>7331</th>\n",
       "      <td>7.0</td>\n",
       "      <td>5.0</td>\n",
       "      <td>721.00</td>\n",
       "      <td>30.38</td>\n",
       "      <td>60.0</td>\n",
       "      <td>60.0</td>\n",
       "      <td>120.22</td>\n",
       "      <td>103.00</td>\n",
       "      <td>0.00</td>\n",
       "      <td>0.0</td>\n",
       "      <td>...</td>\n",
       "      <td>0.0</td>\n",
       "      <td>0.0</td>\n",
       "      <td>0.0</td>\n",
       "      <td>0.0</td>\n",
       "      <td>0.0</td>\n",
       "      <td>0.0</td>\n",
       "      <td>0.0</td>\n",
       "      <td>0.0</td>\n",
       "      <td>0.0</td>\n",
       "      <td>sigue</td>\n",
       "    </tr>\n",
       "  </tbody>\n",
       "</table>\n",
       "<p>5 rows × 28 columns</p>\n",
       "</div>"
      ],
      "text/plain": [
       "          dias_pag  dias_lab   sueldo    comp  asist  transp  vales_x  te_dob  \\\n",
       "codigo_x                                                                        \n",
       "7840           7.0       5.0  1143.52  462.91   60.0    60.0   257.02  367.56   \n",
       "7505           7.0       5.0   721.00  173.04   60.0    60.0   143.04    0.00   \n",
       "6600           7.0       5.0   721.00   30.38   60.0    50.0   120.22  180.25   \n",
       "7685           7.0       5.0   721.00   30.38   60.0    60.0   120.22    0.00   \n",
       "7331           7.0       5.0   721.00   30.38   60.0    60.0   120.22  103.00   \n",
       "\n",
       "          te_trip  desc_Lab  ...  util  zapatos  otras  fonac  alim  infon  \\\n",
       "codigo_x                     ...                                             \n",
       "7840       673.86       0.0  ...   0.0      0.0    0.0    0.0   0.0    0.0   \n",
       "7505         0.00       0.0  ...   0.0      0.0    0.0    0.0   0.0    0.0   \n",
       "6600         0.00       0.0  ...   0.0      0.0    0.0    0.0   0.0    0.0   \n",
       "7685         0.00       0.0  ...   0.0      0.0    0.0    0.0   0.0    0.0   \n",
       "7331         0.00       0.0  ...   0.0      0.0    0.0    0.0   0.0    0.0   \n",
       "\n",
       "          falt  enf  ries  label  \n",
       "codigo_x                          \n",
       "7840       0.0  0.0   0.0  sigue  \n",
       "7505       0.0  0.0   0.0  sigue  \n",
       "6600       0.0  0.0   0.0    fue  \n",
       "7685       0.0  0.0   0.0    fue  \n",
       "7331       0.0  0.0   0.0  sigue  \n",
       "\n",
       "[5 rows x 28 columns]"
      ]
     },
     "execution_count": 14,
     "metadata": {},
     "output_type": "execute_result"
    }
   ],
   "source": [
    "df.head()"
   ]
  },
  {
   "cell_type": "markdown",
   "metadata": {
    "slideshow": {
     "slide_type": "subslide"
    }
   },
   "source": [
    "## Data Pre-Processing"
   ]
  },
  {
   "cell_type": "code",
<<<<<<< HEAD
   "execution_count": 15,
=======
   "execution_count": 10,
>>>>>>> 2bf37c7b30ee2304c7f3ee6f571db17f4cd99b57
   "metadata": {
    "nbgrader": {
     "grade": false,
     "grade_id": "cell-86a9e3212f200d21",
     "locked": false,
     "schema_version": 1,
     "solution": true
    },
    "slideshow": {
     "slide_type": "subslide"
    }
   },
   "outputs": [
    {
     "name": "stdout",
     "output_type": "stream",
     "text": [
      "(8213, 27) (8213,)\n"
     ]
    }
   ],
   "source": [
    "X = df.drop(\"label\", axis=1)\n",
    "y = df[\"label\"]\n",
    "print(X.shape, y.shape)"
   ]
  },
  {
   "cell_type": "code",
<<<<<<< HEAD
   "execution_count": 16,
=======
   "execution_count": 11,
>>>>>>> 2bf37c7b30ee2304c7f3ee6f571db17f4cd99b57
   "metadata": {
    "nbgrader": {
     "grade": false,
     "grade_id": "cell-711a82d9b32c83ff",
     "locked": false,
     "schema_version": 1,
     "solution": true
    },
    "slideshow": {
     "slide_type": "fragment"
    }
   },
   "outputs": [],
   "source": [
    "from sklearn.model_selection import train_test_split\n",
    "from sklearn.preprocessing import LabelEncoder, MinMaxScaler\n",
    "from tensorflow.keras.utils import to_categorical"
   ]
  },
  {
   "cell_type": "code",
<<<<<<< HEAD
   "execution_count": 17,
=======
   "execution_count": 12,
>>>>>>> 2bf37c7b30ee2304c7f3ee6f571db17f4cd99b57
   "metadata": {
    "nbgrader": {
     "grade": false,
     "grade_id": "cell-711a82d9b32c83ff",
     "locked": false,
     "schema_version": 1,
     "solution": true
    },
    "slideshow": {
     "slide_type": "fragment"
    }
   },
   "outputs": [],
   "source": [
    "X_train, X_test, y_train, y_test = train_test_split(\n",
    "    X, y, random_state=1, stratify=y)"
   ]
  },
  {
   "cell_type": "code",
<<<<<<< HEAD
   "execution_count": 18,
=======
   "execution_count": 13,
>>>>>>> 2bf37c7b30ee2304c7f3ee6f571db17f4cd99b57
   "metadata": {
    "nbgrader": {
     "grade": false,
     "grade_id": "cell-711a82d9b32c83ff",
     "locked": false,
     "schema_version": 1,
     "solution": true
    },
    "slideshow": {
     "slide_type": "fragment"
    }
   },
<<<<<<< HEAD
   "outputs": [],
=======
   "outputs": [
    {
     "name": "stderr",
     "output_type": "stream",
     "text": [
      "C:\\Users\\Gonzalo\\Anaconda3\\lib\\site-packages\\sklearn\\preprocessing\\data.py:334: DataConversionWarning: Data with input dtype int64, float64 were all converted to float64 by MinMaxScaler.\n",
      "  return self.partial_fit(X, y)\n"
     ]
    }
   ],
>>>>>>> 2bf37c7b30ee2304c7f3ee6f571db17f4cd99b57
   "source": [
    "X_scaler = MinMaxScaler().fit(X_train)\n",
    "X_train_scaled = X_scaler.transform(X_train)\n",
    "X_test_scaled = X_scaler.transform(X_test)"
   ]
  },
  {
   "cell_type": "code",
<<<<<<< HEAD
   "execution_count": 19,
=======
   "execution_count": 14,
>>>>>>> 2bf37c7b30ee2304c7f3ee6f571db17f4cd99b57
   "metadata": {
    "nbgrader": {
     "grade": false,
     "grade_id": "cell-711a82d9b32c83ff",
     "locked": false,
     "schema_version": 1,
     "solution": true
    },
    "slideshow": {
     "slide_type": "fragment"
    }
   },
   "outputs": [],
   "source": [
    "# Step 1: Label-encode data set\n",
    "label_encoder = LabelEncoder()\n",
    "label_encoder.fit(y_train)\n",
    "encoded_y_train = label_encoder.transform(y_train)\n",
    "encoded_y_test = label_encoder.transform(y_test)"
   ]
  },
  {
   "cell_type": "code",
<<<<<<< HEAD
   "execution_count": 20,
=======
   "execution_count": 15,
>>>>>>> 2bf37c7b30ee2304c7f3ee6f571db17f4cd99b57
   "metadata": {
    "nbgrader": {
     "grade": false,
     "grade_id": "cell-711a82d9b32c83ff",
     "locked": false,
     "schema_version": 1,
     "solution": true
    },
    "slideshow": {
     "slide_type": "fragment"
    }
   },
   "outputs": [],
   "source": [
    "# Step 2: Convert encoded labels to one-hot-encoding\n",
    "y_train_categorical = to_categorical(encoded_y_train)\n",
    "y_test_categorical = to_categorical(encoded_y_test)"
   ]
  },
  {
   "cell_type": "markdown",
   "metadata": {},
   "source": [
    "# Create a Deep Learning Model"
   ]
  },
  {
   "cell_type": "code",
<<<<<<< HEAD
   "execution_count": 21,
=======
   "execution_count": 16,
>>>>>>> 2bf37c7b30ee2304c7f3ee6f571db17f4cd99b57
   "metadata": {},
   "outputs": [],
   "source": [
    "from tensorflow.keras.models import Sequential\n",
    "from tensorflow.keras.layers import Dense"
   ]
  },
  {
   "cell_type": "code",
<<<<<<< HEAD
   "execution_count": 22,
=======
   "execution_count": 17,
>>>>>>> 2bf37c7b30ee2304c7f3ee6f571db17f4cd99b57
   "metadata": {},
   "outputs": [
    {
     "data": {
      "text/plain": [
       "27"
      ]
     },
<<<<<<< HEAD
     "execution_count": 22,
=======
     "execution_count": 17,
>>>>>>> 2bf37c7b30ee2304c7f3ee6f571db17f4cd99b57
     "metadata": {},
     "output_type": "execute_result"
    }
   ],
   "source": [
    "len(X_train_scaled[0])"
   ]
  },
  {
   "cell_type": "code",
<<<<<<< HEAD
   "execution_count": 23,
=======
   "execution_count": 18,
>>>>>>> 2bf37c7b30ee2304c7f3ee6f571db17f4cd99b57
   "metadata": {},
   "outputs": [
    {
     "data": {
      "text/plain": [
       "27"
      ]
     },
<<<<<<< HEAD
     "execution_count": 23,
=======
     "execution_count": 18,
>>>>>>> 2bf37c7b30ee2304c7f3ee6f571db17f4cd99b57
     "metadata": {},
     "output_type": "execute_result"
    }
   ],
   "source": [
    "len(X_test_scaled[0])"
   ]
  },
  {
   "cell_type": "code",
<<<<<<< HEAD
   "execution_count": 28,
=======
   "execution_count": 19,
>>>>>>> 2bf37c7b30ee2304c7f3ee6f571db17f4cd99b57
   "metadata": {},
   "outputs": [
    {
     "name": "stdout",
     "output_type": "stream",
     "text": [
      "WARNING:tensorflow:From C:\\Users\\Gonzalo\\Anaconda3\\lib\\site-packages\\tensorflow\\python\\ops\\init_ops.py:1251: calling VarianceScaling.__init__ (from tensorflow.python.ops.init_ops) with dtype is deprecated and will be removed in a future version.\n",
      "Instructions for updating:\n",
      "Call initializer instance with the dtype argument instead of passing it to the constructor\n"
     ]
    }
   ],
   "source": [
    "# Create model and add layers\n",
    "model = Sequential()\n",
    "model.add(Dense(units=100, activation='relu', input_dim=27))\n",
    "model.add(Dense(units=100, activation='relu'))\n",
    "model.add(Dense(units=2, activation='softmax'))"
   ]
  },
  {
   "cell_type": "code",
<<<<<<< HEAD
   "execution_count": 29,
=======
   "execution_count": 20,
>>>>>>> 2bf37c7b30ee2304c7f3ee6f571db17f4cd99b57
   "metadata": {},
   "outputs": [],
   "source": [
    "# Compile and fit the model\n",
    "model.compile(optimizer='adam',\n",
    "              loss='categorical_crossentropy',\n",
    "              metrics=['accuracy'])"
   ]
  },
  {
   "cell_type": "code",
<<<<<<< HEAD
   "execution_count": 30,
=======
   "execution_count": 21,
>>>>>>> 2bf37c7b30ee2304c7f3ee6f571db17f4cd99b57
   "metadata": {},
   "outputs": [
    {
     "name": "stdout",
     "output_type": "stream",
     "text": [
<<<<<<< HEAD
      "Model: \"sequential_1\"\n",
      "_________________________________________________________________\n",
      "Layer (type)                 Output Shape              Param #   \n",
      "=================================================================\n",
      "dense_3 (Dense)              (None, 100)               2800      \n",
      "_________________________________________________________________\n",
      "dense_4 (Dense)              (None, 100)               10100     \n",
      "_________________________________________________________________\n",
      "dense_5 (Dense)              (None, 2)                 202       \n",
=======
      "Model: \"sequential\"\n",
      "_________________________________________________________________\n",
      "Layer (type)                 Output Shape              Param #   \n",
      "=================================================================\n",
      "dense (Dense)                (None, 100)               3800      \n",
      "_________________________________________________________________\n",
      "dense_1 (Dense)              (None, 100)               10100     \n",
      "_________________________________________________________________\n",
      "dense_2 (Dense)              (None, 2)                 202       \n",
>>>>>>> 2bf37c7b30ee2304c7f3ee6f571db17f4cd99b57
      "=================================================================\n",
      "Total params: 13,102\n",
      "Trainable params: 13,102\n",
      "Non-trainable params: 0\n",
      "_________________________________________________________________\n"
     ]
    }
   ],
   "source": [
    "model.summary()"
   ]
  },
  {
   "cell_type": "code",
<<<<<<< HEAD
   "execution_count": 31,
=======
   "execution_count": 22,
>>>>>>> 2bf37c7b30ee2304c7f3ee6f571db17f4cd99b57
   "metadata": {},
   "outputs": [
    {
     "name": "stdout",
     "output_type": "stream",
     "text": [
      "Epoch 1/100\n",
<<<<<<< HEAD
      "6159/6159 - 1s - loss: 0.5802 - accuracy: 0.7003\n",
      "Epoch 2/100\n",
      "6159/6159 - 0s - loss: 0.5567 - accuracy: 0.7167\n",
      "Epoch 3/100\n",
      "6159/6159 - 0s - loss: 0.5516 - accuracy: 0.7193\n",
      "Epoch 4/100\n",
      "6159/6159 - 0s - loss: 0.5475 - accuracy: 0.7321\n",
      "Epoch 5/100\n",
      "6159/6159 - 0s - loss: 0.5429 - accuracy: 0.7285\n",
      "Epoch 6/100\n",
      "6159/6159 - 0s - loss: 0.5369 - accuracy: 0.7353\n",
      "Epoch 7/100\n",
      "6159/6159 - 0s - loss: 0.5327 - accuracy: 0.7360\n",
      "Epoch 8/100\n",
      "6159/6159 - 0s - loss: 0.5290 - accuracy: 0.7337\n",
      "Epoch 9/100\n",
      "6159/6159 - 0s - loss: 0.5231 - accuracy: 0.7383\n",
      "Epoch 10/100\n",
      "6159/6159 - 0s - loss: 0.5174 - accuracy: 0.7378\n",
      "Epoch 11/100\n",
      "6159/6159 - 0s - loss: 0.5165 - accuracy: 0.7401\n",
      "Epoch 12/100\n",
      "6159/6159 - 0s - loss: 0.5107 - accuracy: 0.7449\n",
      "Epoch 13/100\n",
      "6159/6159 - 0s - loss: 0.5062 - accuracy: 0.7469\n",
      "Epoch 14/100\n",
      "6159/6159 - 0s - loss: 0.5013 - accuracy: 0.7446\n",
      "Epoch 15/100\n",
      "6159/6159 - 0s - loss: 0.4993 - accuracy: 0.7509\n",
      "Epoch 16/100\n",
      "6159/6159 - 0s - loss: 0.4927 - accuracy: 0.7490\n",
      "Epoch 17/100\n",
      "6159/6159 - 0s - loss: 0.4906 - accuracy: 0.7526\n",
      "Epoch 18/100\n",
      "6159/6159 - 0s - loss: 0.4871 - accuracy: 0.7493\n",
      "Epoch 19/100\n",
      "6159/6159 - 0s - loss: 0.4872 - accuracy: 0.7539\n",
      "Epoch 20/100\n",
      "6159/6159 - 0s - loss: 0.4815 - accuracy: 0.7569\n",
      "Epoch 21/100\n",
      "6159/6159 - 0s - loss: 0.4814 - accuracy: 0.7591\n",
      "Epoch 22/100\n",
      "6159/6159 - 0s - loss: 0.4791 - accuracy: 0.7552\n",
      "Epoch 23/100\n",
      "6159/6159 - 0s - loss: 0.4766 - accuracy: 0.7597\n",
      "Epoch 24/100\n",
      "6159/6159 - 0s - loss: 0.4794 - accuracy: 0.7582\n",
      "Epoch 25/100\n",
      "6159/6159 - 0s - loss: 0.4734 - accuracy: 0.7591\n",
      "Epoch 26/100\n",
      "6159/6159 - 0s - loss: 0.4742 - accuracy: 0.7545\n",
      "Epoch 27/100\n",
      "6159/6159 - 0s - loss: 0.4690 - accuracy: 0.7594\n",
      "Epoch 28/100\n",
      "6159/6159 - 0s - loss: 0.4736 - accuracy: 0.7550\n",
      "Epoch 29/100\n",
      "6159/6159 - 0s - loss: 0.4666 - accuracy: 0.7605\n",
      "Epoch 30/100\n",
      "6159/6159 - 0s - loss: 0.4708 - accuracy: 0.7599\n",
      "Epoch 31/100\n",
      "6159/6159 - 0s - loss: 0.4670 - accuracy: 0.7612\n",
      "Epoch 32/100\n",
      "6159/6159 - 0s - loss: 0.4623 - accuracy: 0.7677\n",
      "Epoch 33/100\n",
      "6159/6159 - 0s - loss: 0.4656 - accuracy: 0.7581\n",
      "Epoch 34/100\n",
      "6159/6159 - 0s - loss: 0.4626 - accuracy: 0.7623\n",
      "Epoch 35/100\n",
      "6159/6159 - 0s - loss: 0.4600 - accuracy: 0.7605\n",
      "Epoch 36/100\n",
      "6159/6159 - 0s - loss: 0.4610 - accuracy: 0.7589\n",
      "Epoch 37/100\n",
      "6159/6159 - 0s - loss: 0.4588 - accuracy: 0.7651\n",
      "Epoch 38/100\n",
      "6159/6159 - 0s - loss: 0.4582 - accuracy: 0.7634\n",
      "Epoch 39/100\n",
      "6159/6159 - 0s - loss: 0.4578 - accuracy: 0.7626\n",
      "Epoch 40/100\n",
      "6159/6159 - 0s - loss: 0.4567 - accuracy: 0.7607\n",
      "Epoch 41/100\n",
      "6159/6159 - 0s - loss: 0.4573 - accuracy: 0.7641\n",
      "Epoch 42/100\n",
      "6159/6159 - 0s - loss: 0.4504 - accuracy: 0.7696\n",
      "Epoch 43/100\n",
      "6159/6159 - 0s - loss: 0.4503 - accuracy: 0.7672\n",
      "Epoch 44/100\n",
      "6159/6159 - 0s - loss: 0.4515 - accuracy: 0.7642\n",
      "Epoch 45/100\n",
      "6159/6159 - 0s - loss: 0.4490 - accuracy: 0.7688\n",
      "Epoch 46/100\n",
      "6159/6159 - 0s - loss: 0.4506 - accuracy: 0.7646\n",
      "Epoch 47/100\n",
      "6159/6159 - 0s - loss: 0.4506 - accuracy: 0.7670\n",
      "Epoch 48/100\n",
      "6159/6159 - 0s - loss: 0.4500 - accuracy: 0.7688\n",
      "Epoch 49/100\n",
      "6159/6159 - 0s - loss: 0.4464 - accuracy: 0.7660\n",
      "Epoch 50/100\n",
      "6159/6159 - 0s - loss: 0.4486 - accuracy: 0.7699\n",
      "Epoch 51/100\n",
      "6159/6159 - 0s - loss: 0.4497 - accuracy: 0.7646\n",
      "Epoch 52/100\n",
      "6159/6159 - 0s - loss: 0.4468 - accuracy: 0.7701\n",
      "Epoch 53/100\n",
      "6159/6159 - 0s - loss: 0.4435 - accuracy: 0.7670\n",
      "Epoch 54/100\n",
      "6159/6159 - 0s - loss: 0.4436 - accuracy: 0.7717\n",
      "Epoch 55/100\n",
      "6159/6159 - 0s - loss: 0.4452 - accuracy: 0.7694\n",
      "Epoch 56/100\n",
      "6159/6159 - 0s - loss: 0.4450 - accuracy: 0.7701\n",
      "Epoch 57/100\n",
      "6159/6159 - 0s - loss: 0.4421 - accuracy: 0.7681\n",
      "Epoch 58/100\n",
      "6159/6159 - 0s - loss: 0.4419 - accuracy: 0.7751\n",
      "Epoch 59/100\n",
      "6159/6159 - 0s - loss: 0.4399 - accuracy: 0.7690\n",
      "Epoch 60/100\n",
      "6159/6159 - 0s - loss: 0.4415 - accuracy: 0.7716\n",
      "Epoch 61/100\n",
      "6159/6159 - 0s - loss: 0.4396 - accuracy: 0.7720\n",
      "Epoch 62/100\n",
      "6159/6159 - 0s - loss: 0.4405 - accuracy: 0.7681\n",
      "Epoch 63/100\n",
      "6159/6159 - 0s - loss: 0.4374 - accuracy: 0.7751\n",
      "Epoch 64/100\n",
      "6159/6159 - 0s - loss: 0.4401 - accuracy: 0.7696\n",
      "Epoch 65/100\n",
      "6159/6159 - 0s - loss: 0.4360 - accuracy: 0.7735\n",
      "Epoch 66/100\n",
      "6159/6159 - 0s - loss: 0.4396 - accuracy: 0.7771\n",
      "Epoch 67/100\n",
      "6159/6159 - 0s - loss: 0.4355 - accuracy: 0.7751\n",
      "Epoch 68/100\n",
      "6159/6159 - 0s - loss: 0.4367 - accuracy: 0.7709\n",
      "Epoch 69/100\n",
      "6159/6159 - 0s - loss: 0.4346 - accuracy: 0.7735\n",
      "Epoch 70/100\n",
      "6159/6159 - 0s - loss: 0.4333 - accuracy: 0.7816\n",
      "Epoch 71/100\n",
      "6159/6159 - 0s - loss: 0.4325 - accuracy: 0.7777\n",
      "Epoch 72/100\n",
      "6159/6159 - 0s - loss: 0.4325 - accuracy: 0.7748\n",
      "Epoch 73/100\n",
      "6159/6159 - 0s - loss: 0.4356 - accuracy: 0.7709\n",
      "Epoch 74/100\n",
      "6159/6159 - 0s - loss: 0.4326 - accuracy: 0.7771\n",
      "Epoch 75/100\n",
      "6159/6159 - 0s - loss: 0.4318 - accuracy: 0.7758\n",
      "Epoch 76/100\n",
      "6159/6159 - 0s - loss: 0.4327 - accuracy: 0.7727\n",
      "Epoch 77/100\n",
      "6159/6159 - 0s - loss: 0.4309 - accuracy: 0.7753\n",
      "Epoch 78/100\n",
      "6159/6159 - 0s - loss: 0.4318 - accuracy: 0.7764\n",
      "Epoch 79/100\n",
      "6159/6159 - 0s - loss: 0.4320 - accuracy: 0.7737\n",
      "Epoch 80/100\n",
      "6159/6159 - 0s - loss: 0.4290 - accuracy: 0.7776\n",
      "Epoch 81/100\n",
      "6159/6159 - 0s - loss: 0.4318 - accuracy: 0.7764\n",
      "Epoch 82/100\n",
      "6159/6159 - 0s - loss: 0.4331 - accuracy: 0.7748\n",
      "Epoch 83/100\n",
      "6159/6159 - 0s - loss: 0.4286 - accuracy: 0.7798\n",
      "Epoch 84/100\n",
      "6159/6159 - 0s - loss: 0.4264 - accuracy: 0.7792\n",
      "Epoch 85/100\n",
      "6159/6159 - 0s - loss: 0.4279 - accuracy: 0.7772\n",
      "Epoch 86/100\n",
      "6159/6159 - 0s - loss: 0.4301 - accuracy: 0.7774\n",
      "Epoch 87/100\n",
      "6159/6159 - 0s - loss: 0.4271 - accuracy: 0.7771\n",
      "Epoch 88/100\n",
      "6159/6159 - 0s - loss: 0.4265 - accuracy: 0.7806\n",
      "Epoch 89/100\n",
      "6159/6159 - 0s - loss: 0.4240 - accuracy: 0.7790\n",
      "Epoch 90/100\n",
      "6159/6159 - 0s - loss: 0.4283 - accuracy: 0.7776\n",
      "Epoch 91/100\n",
      "6159/6159 - 0s - loss: 0.4276 - accuracy: 0.7818\n",
      "Epoch 92/100\n",
      "6159/6159 - 0s - loss: 0.4259 - accuracy: 0.7784\n",
      "Epoch 93/100\n",
      "6159/6159 - 0s - loss: 0.4243 - accuracy: 0.7785\n",
      "Epoch 94/100\n",
      "6159/6159 - 0s - loss: 0.4247 - accuracy: 0.7800\n",
      "Epoch 95/100\n",
      "6159/6159 - 0s - loss: 0.4207 - accuracy: 0.7842\n",
      "Epoch 96/100\n",
      "6159/6159 - 0s - loss: 0.4213 - accuracy: 0.7839\n",
      "Epoch 97/100\n",
      "6159/6159 - 0s - loss: 0.4225 - accuracy: 0.7803\n",
      "Epoch 98/100\n",
      "6159/6159 - 0s - loss: 0.4232 - accuracy: 0.7800\n",
      "Epoch 99/100\n",
      "6159/6159 - 0s - loss: 0.4234 - accuracy: 0.7829\n",
      "Epoch 100/100\n",
      "6159/6159 - 0s - loss: 0.4209 - accuracy: 0.7834\n"
=======
      "6159/6159 - 1s - loss: 0.4987 - acc: 0.7467\n",
      "Epoch 2/100\n",
      "6159/6159 - 0s - loss: 0.4587 - acc: 0.7703\n",
      "Epoch 3/100\n",
      "6159/6159 - 0s - loss: 0.4515 - acc: 0.7742\n",
      "Epoch 4/100\n",
      "6159/6159 - 0s - loss: 0.4458 - acc: 0.7800\n",
      "Epoch 5/100\n",
      "6159/6159 - 0s - loss: 0.4433 - acc: 0.7815\n",
      "Epoch 6/100\n",
      "6159/6159 - 0s - loss: 0.4381 - acc: 0.7862\n",
      "Epoch 7/100\n",
      "6159/6159 - 1s - loss: 0.4300 - acc: 0.7891\n",
      "Epoch 8/100\n",
      "6159/6159 - 0s - loss: 0.4276 - acc: 0.7910\n",
      "Epoch 9/100\n",
      "6159/6159 - 0s - loss: 0.4206 - acc: 0.7962\n",
      "Epoch 10/100\n",
      "6159/6159 - 0s - loss: 0.4175 - acc: 0.7935\n",
      "Epoch 11/100\n",
      "6159/6159 - 0s - loss: 0.4134 - acc: 0.7957\n",
      "Epoch 12/100\n",
      "6159/6159 - 1s - loss: 0.4107 - acc: 0.7972\n",
      "Epoch 13/100\n",
      "6159/6159 - 0s - loss: 0.4027 - acc: 0.8034\n",
      "Epoch 14/100\n",
      "6159/6159 - 0s - loss: 0.4029 - acc: 0.8052\n",
      "Epoch 15/100\n",
      "6159/6159 - 0s - loss: 0.3988 - acc: 0.7998\n",
      "Epoch 16/100\n",
      "6159/6159 - 1s - loss: 0.3999 - acc: 0.8014\n",
      "Epoch 17/100\n",
      "6159/6159 - 1s - loss: 0.3959 - acc: 0.8052\n",
      "Epoch 18/100\n",
      "6159/6159 - 0s - loss: 0.3916 - acc: 0.8087\n",
      "Epoch 19/100\n",
      "6159/6159 - 0s - loss: 0.3923 - acc: 0.8087\n",
      "Epoch 20/100\n",
      "6159/6159 - 0s - loss: 0.3851 - acc: 0.8120\n",
      "Epoch 21/100\n",
      "6159/6159 - 0s - loss: 0.3840 - acc: 0.8115\n",
      "Epoch 22/100\n",
      "6159/6159 - 0s - loss: 0.3833 - acc: 0.8094\n",
      "Epoch 23/100\n",
      "6159/6159 - 0s - loss: 0.3766 - acc: 0.8143\n",
      "Epoch 24/100\n",
      "6159/6159 - 0s - loss: 0.3773 - acc: 0.8177\n",
      "Epoch 25/100\n",
      "6159/6159 - 0s - loss: 0.3773 - acc: 0.8120\n",
      "Epoch 26/100\n",
      "6159/6159 - 0s - loss: 0.3721 - acc: 0.8164\n",
      "Epoch 27/100\n",
      "6159/6159 - 0s - loss: 0.3711 - acc: 0.8144\n",
      "Epoch 28/100\n",
      "6159/6159 - 0s - loss: 0.3730 - acc: 0.8136\n",
      "Epoch 29/100\n",
      "6159/6159 - 0s - loss: 0.3697 - acc: 0.8162\n",
      "Epoch 30/100\n",
      "6159/6159 - 0s - loss: 0.3655 - acc: 0.8173\n",
      "Epoch 31/100\n",
      "6159/6159 - 0s - loss: 0.3652 - acc: 0.8201\n",
      "Epoch 32/100\n",
      "6159/6159 - 0s - loss: 0.3662 - acc: 0.8169\n",
      "Epoch 33/100\n",
      "6159/6159 - 1s - loss: 0.3648 - acc: 0.8199\n",
      "Epoch 34/100\n",
      "6159/6159 - 0s - loss: 0.3626 - acc: 0.8186\n",
      "Epoch 35/100\n",
      "6159/6159 - 0s - loss: 0.3574 - acc: 0.8245\n",
      "Epoch 36/100\n",
      "6159/6159 - 0s - loss: 0.3575 - acc: 0.8211\n",
      "Epoch 37/100\n",
      "6159/6159 - 0s - loss: 0.3559 - acc: 0.8219\n",
      "Epoch 38/100\n",
      "6159/6159 - 0s - loss: 0.3524 - acc: 0.8245\n",
      "Epoch 39/100\n",
      "6159/6159 - 0s - loss: 0.3512 - acc: 0.8235\n",
      "Epoch 40/100\n",
      "6159/6159 - 0s - loss: 0.3501 - acc: 0.8248\n",
      "Epoch 41/100\n",
      "6159/6159 - 0s - loss: 0.3450 - acc: 0.8263\n",
      "Epoch 42/100\n",
      "6159/6159 - 0s - loss: 0.3480 - acc: 0.8255\n",
      "Epoch 43/100\n",
      "6159/6159 - 0s - loss: 0.3499 - acc: 0.8246\n",
      "Epoch 44/100\n",
      "6159/6159 - 0s - loss: 0.3423 - acc: 0.8295\n",
      "Epoch 45/100\n",
      "6159/6159 - 0s - loss: 0.3452 - acc: 0.8300\n",
      "Epoch 46/100\n",
      "6159/6159 - 1s - loss: 0.3435 - acc: 0.8277\n",
      "Epoch 47/100\n",
      "6159/6159 - 1s - loss: 0.3403 - acc: 0.8310\n",
      "Epoch 48/100\n",
      "6159/6159 - 0s - loss: 0.3384 - acc: 0.8264\n",
      "Epoch 49/100\n",
      "6159/6159 - 0s - loss: 0.3401 - acc: 0.8311\n",
      "Epoch 50/100\n",
      "6159/6159 - 0s - loss: 0.3393 - acc: 0.8307\n",
      "Epoch 51/100\n",
      "6159/6159 - 1s - loss: 0.3410 - acc: 0.8313\n",
      "Epoch 52/100\n",
      "6159/6159 - 0s - loss: 0.3373 - acc: 0.8313\n",
      "Epoch 53/100\n",
      "6159/6159 - 0s - loss: 0.3359 - acc: 0.8277\n",
      "Epoch 54/100\n",
      "6159/6159 - 0s - loss: 0.3315 - acc: 0.8389\n",
      "Epoch 55/100\n",
      "6159/6159 - 0s - loss: 0.3323 - acc: 0.8310\n",
      "Epoch 56/100\n",
      "6159/6159 - 0s - loss: 0.3345 - acc: 0.8313\n",
      "Epoch 57/100\n",
      "6159/6159 - 0s - loss: 0.3277 - acc: 0.8331\n",
      "Epoch 58/100\n",
      "6159/6159 - 0s - loss: 0.3269 - acc: 0.8347\n",
      "Epoch 59/100\n",
      "6159/6159 - 0s - loss: 0.3270 - acc: 0.8380\n",
      "Epoch 60/100\n",
      "6159/6159 - 0s - loss: 0.3265 - acc: 0.8339\n",
      "Epoch 61/100\n",
      "6159/6159 - 0s - loss: 0.3274 - acc: 0.8341\n",
      "Epoch 62/100\n",
      "6159/6159 - 0s - loss: 0.3300 - acc: 0.8315\n",
      "Epoch 63/100\n",
      "6159/6159 - 0s - loss: 0.3248 - acc: 0.8373\n",
      "Epoch 64/100\n",
      "6159/6159 - 0s - loss: 0.3203 - acc: 0.8404\n",
      "Epoch 65/100\n",
      "6159/6159 - 0s - loss: 0.3210 - acc: 0.8397\n",
      "Epoch 66/100\n",
      "6159/6159 - 0s - loss: 0.3191 - acc: 0.8399\n",
      "Epoch 67/100\n",
      "6159/6159 - 0s - loss: 0.3176 - acc: 0.8407\n",
      "Epoch 68/100\n",
      "6159/6159 - 0s - loss: 0.3157 - acc: 0.8454\n",
      "Epoch 69/100\n",
      "6159/6159 - 0s - loss: 0.3197 - acc: 0.8367\n",
      "Epoch 70/100\n",
      "6159/6159 - 0s - loss: 0.3162 - acc: 0.8417\n",
      "Epoch 71/100\n",
      "6159/6159 - 0s - loss: 0.3154 - acc: 0.8415\n",
      "Epoch 72/100\n",
      "6159/6159 - 0s - loss: 0.3103 - acc: 0.8425\n",
      "Epoch 73/100\n",
      "6159/6159 - 0s - loss: 0.3152 - acc: 0.8433\n",
      "Epoch 74/100\n",
      "6159/6159 - 0s - loss: 0.3112 - acc: 0.8419\n",
      "Epoch 75/100\n",
      "6159/6159 - 0s - loss: 0.3120 - acc: 0.8451\n",
      "Epoch 76/100\n",
      "6159/6159 - 0s - loss: 0.3123 - acc: 0.8475\n",
      "Epoch 77/100\n",
      "6159/6159 - 0s - loss: 0.3100 - acc: 0.8453\n",
      "Epoch 78/100\n",
      "6159/6159 - 0s - loss: 0.3124 - acc: 0.8435\n",
      "Epoch 79/100\n",
      "6159/6159 - 0s - loss: 0.3135 - acc: 0.8448\n",
      "Epoch 80/100\n",
      "6159/6159 - 0s - loss: 0.3079 - acc: 0.8487\n",
      "Epoch 81/100\n",
      "6159/6159 - 0s - loss: 0.3050 - acc: 0.8480\n",
      "Epoch 82/100\n",
      "6159/6159 - 0s - loss: 0.3041 - acc: 0.8474\n",
      "Epoch 83/100\n",
      "6159/6159 - 1s - loss: 0.3022 - acc: 0.8467\n",
      "Epoch 84/100\n",
      "6159/6159 - 1s - loss: 0.3050 - acc: 0.8477\n",
      "Epoch 85/100\n",
      "6159/6159 - 0s - loss: 0.3091 - acc: 0.8462\n",
      "Epoch 86/100\n",
      "6159/6159 - 0s - loss: 0.3025 - acc: 0.8472\n",
      "Epoch 87/100\n",
      "6159/6159 - 0s - loss: 0.2991 - acc: 0.8534\n",
      "Epoch 88/100\n",
      "6159/6159 - 1s - loss: 0.3031 - acc: 0.8500\n",
      "Epoch 89/100\n",
      "6159/6159 - 0s - loss: 0.2997 - acc: 0.8492\n",
      "Epoch 90/100\n",
      "6159/6159 - 0s - loss: 0.3015 - acc: 0.8475\n",
      "Epoch 91/100\n",
      "6159/6159 - 0s - loss: 0.3001 - acc: 0.8458\n",
      "Epoch 92/100\n",
      "6159/6159 - 0s - loss: 0.3059 - acc: 0.8472\n",
      "Epoch 93/100\n",
      "6159/6159 - 0s - loss: 0.2939 - acc: 0.8524\n",
      "Epoch 94/100\n",
      "6159/6159 - 0s - loss: 0.2960 - acc: 0.8513\n",
      "Epoch 95/100\n",
      "6159/6159 - 0s - loss: 0.2999 - acc: 0.8474\n",
      "Epoch 96/100\n",
      "6159/6159 - 0s - loss: 0.2918 - acc: 0.8558\n",
      "Epoch 97/100\n",
      "6159/6159 - 0s - loss: 0.2907 - acc: 0.8537\n",
      "Epoch 98/100\n",
      "6159/6159 - 0s - loss: 0.2947 - acc: 0.8527\n",
      "Epoch 99/100\n",
      "6159/6159 - 0s - loss: 0.2899 - acc: 0.8558\n",
      "Epoch 100/100\n",
      "6159/6159 - 0s - loss: 0.2877 - acc: 0.8573\n"
>>>>>>> 2bf37c7b30ee2304c7f3ee6f571db17f4cd99b57
     ]
    },
    {
     "data": {
      "text/plain": [
<<<<<<< HEAD
       "<tensorflow.python.keras.callbacks.History at 0x16232208438>"
      ]
     },
     "execution_count": 31,
=======
       "<tensorflow.python.keras.callbacks.History at 0x17704715240>"
      ]
     },
     "execution_count": 22,
>>>>>>> 2bf37c7b30ee2304c7f3ee6f571db17f4cd99b57
     "metadata": {},
     "output_type": "execute_result"
    }
   ],
   "source": [
    "model.fit(\n",
    "    X_train_scaled,\n",
    "    y_train_categorical,\n",
    "    epochs=100,\n",
    "    shuffle=True,\n",
    "    verbose=2\n",
    ")"
   ]
  },
  {
   "cell_type": "markdown",
   "metadata": {},
   "source": [
    "## Quantify our Trained Model"
   ]
  },
  {
   "cell_type": "code",
<<<<<<< HEAD
   "execution_count": 32,
=======
   "execution_count": 23,
>>>>>>> 2bf37c7b30ee2304c7f3ee6f571db17f4cd99b57
   "metadata": {},
   "outputs": [
    {
     "name": "stdout",
     "output_type": "stream",
     "text": [
<<<<<<< HEAD
      "2054/1 - 0s - loss: 0.4555 - accuracy: 0.7595\n",
      "Normal Neural Network - Loss: 0.5508812326999579, Accuracy: 0.7594936490058899\n"
=======
      "2054/2054 - 0s - loss: 0.4787 - acc: 0.8009\n",
      "Normal Neural Network - Loss: 0.47870845198921474, Accuracy: 0.8008763194084167\n"
>>>>>>> 2bf37c7b30ee2304c7f3ee6f571db17f4cd99b57
     ]
    }
   ],
   "source": [
    "model_loss, model_accuracy = model.evaluate(\n",
    "    X_test_scaled, y_test_categorical, verbose=2)\n",
    "print(\n",
    "    f\"Normal Neural Network - Loss: {model_loss}, Accuracy: {model_accuracy}\")"
   ]
  },
  {
   "cell_type": "markdown",
   "metadata": {
    "slideshow": {
     "slide_type": "subslide"
    }
   },
   "source": [
    "## Make Predictions"
   ]
  },
  {
   "cell_type": "code",
<<<<<<< HEAD
   "execution_count": 33,
=======
   "execution_count": 24,
>>>>>>> 2bf37c7b30ee2304c7f3ee6f571db17f4cd99b57
   "metadata": {
    "nbgrader": {
     "grade": false,
     "grade_id": "cell-f97eb3e97245187b",
     "locked": false,
     "schema_version": 1,
     "solution": true
    },
    "slideshow": {
     "slide_type": "fragment"
    }
   },
   "outputs": [],
   "source": [
    "encoded_predictions = model.predict_classes(X_test_scaled)\n",
    "prediction_labels = label_encoder.inverse_transform(encoded_predictions)"
   ]
  },
  {
   "cell_type": "code",
<<<<<<< HEAD
   "execution_count": 34,
=======
   "execution_count": 25,
>>>>>>> 2bf37c7b30ee2304c7f3ee6f571db17f4cd99b57
   "metadata": {},
   "outputs": [
    {
     "data": {
      "text/html": [
       "<div>\n",
       "<style scoped>\n",
       "    .dataframe tbody tr th:only-of-type {\n",
       "        vertical-align: middle;\n",
       "    }\n",
       "\n",
       "    .dataframe tbody tr th {\n",
       "        vertical-align: top;\n",
       "    }\n",
       "\n",
       "    .dataframe thead th {\n",
       "        text-align: right;\n",
       "    }\n",
       "</style>\n",
       "<table border=\"1\" class=\"dataframe\">\n",
       "  <thead>\n",
       "    <tr style=\"text-align: right;\">\n",
       "      <th></th>\n",
       "      <th>prediction</th>\n",
       "      <th>actual</th>\n",
       "    </tr>\n",
       "    <tr>\n",
       "      <th>codigo_x</th>\n",
       "      <th></th>\n",
       "      <th></th>\n",
       "    </tr>\n",
       "  </thead>\n",
       "  <tbody>\n",
       "    <tr>\n",
       "      <th>6934</th>\n",
       "      <td>fue</td>\n",
       "      <td>fue</td>\n",
       "    </tr>\n",
       "    <tr>\n",
<<<<<<< HEAD
       "      <th>7846</th>\n",
       "      <td>fue</td>\n",
=======
       "      <th>522</th>\n",
       "      <td>sigue</td>\n",
>>>>>>> 2bf37c7b30ee2304c7f3ee6f571db17f4cd99b57
       "      <td>fue</td>\n",
       "    </tr>\n",
       "    <tr>\n",
       "      <th>8101</th>\n",
       "      <td>sigue</td>\n",
       "      <td>fue</td>\n",
       "    </tr>\n",
       "    <tr>\n",
       "      <th>4514</th>\n",
       "      <td>fue</td>\n",
       "      <td>fue</td>\n",
       "    </tr>\n",
       "    <tr>\n",
       "      <th>7137</th>\n",
       "      <td>fue</td>\n",
       "      <td>fue</td>\n",
       "    </tr>\n",
       "  </tbody>\n",
       "</table>\n",
       "</div>"
      ],
      "text/plain": [
<<<<<<< HEAD
       "         prediction actual\n",
       "codigo_x                  \n",
       "6934            fue    fue\n",
       "7846            fue    fue\n",
       "8101          sigue    fue\n",
       "4514            fue    fue\n",
       "7137            fue    fue"
      ]
     },
     "execution_count": 34,
=======
       "     prediction actual\n",
       "4985        fue    fue\n",
       "522       sigue    fue\n",
       "7209        fue    fue\n",
       "4396        fue    fue\n",
       "5909        fue    fue"
      ]
     },
     "execution_count": 25,
>>>>>>> 2bf37c7b30ee2304c7f3ee6f571db17f4cd99b57
     "metadata": {},
     "output_type": "execute_result"
    }
   ],
   "source": [
    "results = pd.DataFrame({\n",
    "\"prediction\": prediction_labels,\n",
    "\"actual\": y_test\n",
    "})\n",
    "results.head()"
   ]
  },
  {
   "cell_type": "code",
<<<<<<< HEAD
   "execution_count": 35,
=======
   "execution_count": 26,
>>>>>>> 2bf37c7b30ee2304c7f3ee6f571db17f4cd99b57
   "metadata": {},
   "outputs": [],
   "source": [
    "results[\"diffs\"] = results[\"prediction\"] == results[\"actual\"]"
   ]
  },
  {
   "cell_type": "code",
<<<<<<< HEAD
   "execution_count": 36,
=======
   "execution_count": 27,
>>>>>>> 2bf37c7b30ee2304c7f3ee6f571db17f4cd99b57
   "metadata": {},
   "outputs": [
    {
     "data": {
      "text/html": [
       "<div>\n",
       "<style scoped>\n",
       "    .dataframe tbody tr th:only-of-type {\n",
       "        vertical-align: middle;\n",
       "    }\n",
       "\n",
       "    .dataframe tbody tr th {\n",
       "        vertical-align: top;\n",
       "    }\n",
       "\n",
       "    .dataframe thead th {\n",
       "        text-align: right;\n",
       "    }\n",
       "</style>\n",
       "<table border=\"1\" class=\"dataframe\">\n",
       "  <thead>\n",
       "    <tr style=\"text-align: right;\">\n",
       "      <th></th>\n",
       "      <th>prediction</th>\n",
       "      <th>actual</th>\n",
       "      <th>diffs</th>\n",
       "    </tr>\n",
       "    <tr>\n",
       "      <th>codigo_x</th>\n",
       "      <th></th>\n",
       "      <th></th>\n",
       "      <th></th>\n",
       "    </tr>\n",
       "  </thead>\n",
       "  <tbody>\n",
       "    <tr>\n",
       "      <th>6934</th>\n",
       "      <td>fue</td>\n",
       "      <td>fue</td>\n",
       "      <td>True</td>\n",
       "    </tr>\n",
       "    <tr>\n",
<<<<<<< HEAD
       "      <th>7846</th>\n",
=======
       "      <th>522</th>\n",
       "      <td>sigue</td>\n",
>>>>>>> 2bf37c7b30ee2304c7f3ee6f571db17f4cd99b57
       "      <td>fue</td>\n",
       "      <td>False</td>\n",
       "    </tr>\n",
       "    <tr>\n",
       "      <th>8101</th>\n",
       "      <td>sigue</td>\n",
       "      <td>fue</td>\n",
       "      <td>False</td>\n",
       "    </tr>\n",
       "    <tr>\n",
       "      <th>4514</th>\n",
       "      <td>fue</td>\n",
       "      <td>fue</td>\n",
       "      <td>True</td>\n",
       "    </tr>\n",
       "    <tr>\n",
       "      <th>7137</th>\n",
       "      <td>fue</td>\n",
       "      <td>fue</td>\n",
       "      <td>True</td>\n",
       "    </tr>\n",
       "  </tbody>\n",
       "</table>\n",
       "</div>"
      ],
      "text/plain": [
<<<<<<< HEAD
       "         prediction actual  diffs\n",
       "codigo_x                         \n",
       "6934            fue    fue   True\n",
       "7846            fue    fue   True\n",
       "8101          sigue    fue  False\n",
       "4514            fue    fue   True\n",
       "7137            fue    fue   True"
      ]
     },
     "execution_count": 36,
=======
       "     prediction actual  diffs\n",
       "4985        fue    fue   True\n",
       "522       sigue    fue  False\n",
       "7209        fue    fue   True\n",
       "4396        fue    fue   True\n",
       "5909        fue    fue   True"
      ]
     },
     "execution_count": 27,
>>>>>>> 2bf37c7b30ee2304c7f3ee6f571db17f4cd99b57
     "metadata": {},
     "output_type": "execute_result"
    }
   ],
   "source": [
    "results.head()"
   ]
  },
  {
   "cell_type": "code",
<<<<<<< HEAD
   "execution_count": 37,
=======
   "execution_count": 28,
>>>>>>> 2bf37c7b30ee2304c7f3ee6f571db17f4cd99b57
   "metadata": {},
   "outputs": [
    {
     "data": {
      "text/plain": [
<<<<<<< HEAD
       "True     1560\n",
       "False     494\n",
       "Name: diffs, dtype: int64"
      ]
     },
     "execution_count": 37,
=======
       "True     1645\n",
       "False     409\n",
       "Name: diffs, dtype: int64"
      ]
     },
     "execution_count": 28,
>>>>>>> 2bf37c7b30ee2304c7f3ee6f571db17f4cd99b57
     "metadata": {},
     "output_type": "execute_result"
    }
   ],
   "source": [
    "results[\"diffs\"].value_counts()"
   ]
  },
  {
   "cell_type": "code",
<<<<<<< HEAD
   "execution_count": 42,
   "metadata": {},
   "outputs": [],
   "source": [
    "diffs = results.loc[results[\"diffs\"] == False]"
   ]
  },
  {
   "cell_type": "code",
   "execution_count": 44,
   "metadata": {},
   "outputs": [],
   "source": [
    "se_nos_van = diffs.loc[diffs[\"actual\"] == \"sigue\"]"
   ]
  },
  {
   "cell_type": "code",
   "execution_count": 45,
=======
   "execution_count": 30,
>>>>>>> 2bf37c7b30ee2304c7f3ee6f571db17f4cd99b57
   "metadata": {},
   "outputs": [],
   "source": [
    "no_debieron_irse = diffs.loc[diffs[\"prediction\"] == \"sigue\"]"
   ]
  },
  {
   "cell_type": "code",
   "execution_count": 48,
   "metadata": {},
   "outputs": [],
   "source": [
    "se_nos_van.reset_index(inplace=True)"
   ]
  },
  {
   "cell_type": "code",
   "execution_count": 51,
   "metadata": {},
   "outputs": [],
   "source": [
    "no_debieron_irse.reset_index(inplace=True)"
   ]
  },
  {
   "cell_type": "code",
   "execution_count": 53,
   "metadata": {},
   "outputs": [],
   "source": [
    "se_nos_van = se_nos_van.groupby(\"codigo_x\").count()"
   ]
  },
  {
   "cell_type": "code",
   "execution_count": 54,
   "metadata": {},
   "outputs": [],
   "source": [
    "no_debieron_irse = no_debieron_irse.groupby(\"codigo_x\").count()"
   ]
  },
  {
   "cell_type": "code",
   "execution_count": 55,
   "metadata": {},
   "outputs": [
    {
     "data": {
      "text/plain": [
       "prediction    114\n",
       "actual        114\n",
       "diffs         114\n",
       "dtype: int64"
      ]
     },
     "execution_count": 55,
     "metadata": {},
     "output_type": "execute_result"
    }
   ],
   "source": [
    "se_nos_van.count()"
   ]
  },
  {
   "cell_type": "code",
   "execution_count": 56,
   "metadata": {},
   "outputs": [
    {
     "data": {
      "text/plain": [
<<<<<<< HEAD
       "prediction    91\n",
       "actual        91\n",
       "diffs         91\n",
       "dtype: int64"
      ]
     },
     "execution_count": 56,
=======
       "prediction    409\n",
       "actual        409\n",
       "diffs         409\n",
       "dtype: int64"
      ]
     },
     "execution_count": 30,
>>>>>>> 2bf37c7b30ee2304c7f3ee6f571db17f4cd99b57
     "metadata": {},
     "output_type": "execute_result"
    }
   ],
   "source": [
<<<<<<< HEAD
    "no_debieron_irse.count()"
=======
    "results.loc[results[\"diffs\"] == False].count()"
   ]
  },
  {
   "cell_type": "markdown",
   "metadata": {},
   "source": [
    "#Hyperparameter Tuning\n",
    "Use GridSearchCV to tune the model's parameters"
   ]
  },
  {
   "cell_type": "code",
   "execution_count": 32,
   "metadata": {},
   "outputs": [
    {
     "name": "stderr",
     "output_type": "stream",
     "text": [
      "Using TensorFlow backend.\n"
     ]
    },
    {
     "name": "stdout",
     "output_type": "stream",
     "text": [
      "Epoch 1/100\n",
      "6159/6159 - 2s - loss: 0.4961 - acc: 0.7475\n",
      "Epoch 2/100\n",
      "6159/6159 - 1s - loss: 0.4580 - acc: 0.7686\n",
      "Epoch 3/100\n",
      "6159/6159 - 1s - loss: 0.4494 - acc: 0.7756\n",
      "Epoch 4/100\n",
      "6159/6159 - 1s - loss: 0.4438 - acc: 0.7797\n",
      "Epoch 5/100\n",
      "6159/6159 - 1s - loss: 0.4340 - acc: 0.7878\n",
      "Epoch 6/100\n",
      "6159/6159 - 1s - loss: 0.4313 - acc: 0.7920\n",
      "Epoch 7/100\n",
      "6159/6159 - 1s - loss: 0.4301 - acc: 0.7847\n",
      "Epoch 8/100\n",
      "6159/6159 - 1s - loss: 0.4239 - acc: 0.7889\n",
      "Epoch 9/100\n",
      "6159/6159 - 1s - loss: 0.4202 - acc: 0.7886\n",
      "Epoch 10/100\n",
      "6159/6159 - 1s - loss: 0.4139 - acc: 0.7946\n",
      "Epoch 11/100\n",
      "6159/6159 - 1s - loss: 0.4145 - acc: 0.7957\n",
      "Epoch 12/100\n",
      "6159/6159 - 1s - loss: 0.4103 - acc: 0.7980\n",
      "Epoch 13/100\n",
      "6159/6159 - 1s - loss: 0.4066 - acc: 0.7985\n",
      "Epoch 14/100\n",
      "6159/6159 - 1s - loss: 0.4056 - acc: 0.7972\n",
      "Epoch 15/100\n",
      "6159/6159 - 1s - loss: 0.4034 - acc: 0.8009\n",
      "Epoch 16/100\n",
      "6159/6159 - 1s - loss: 0.3991 - acc: 0.8011\n",
      "Epoch 17/100\n",
      "6159/6159 - 2s - loss: 0.3970 - acc: 0.8031\n",
      "Epoch 18/100\n",
      "6159/6159 - 1s - loss: 0.3979 - acc: 0.8021\n",
      "Epoch 19/100\n",
      "6159/6159 - 1s - loss: 0.3916 - acc: 0.8031\n",
      "Epoch 20/100\n",
      "6159/6159 - 1s - loss: 0.3894 - acc: 0.8052\n",
      "Epoch 21/100\n",
      "6159/6159 - 1s - loss: 0.3867 - acc: 0.8095\n",
      "Epoch 22/100\n",
      "6159/6159 - 1s - loss: 0.3849 - acc: 0.8100\n",
      "Epoch 23/100\n",
      "6159/6159 - 1s - loss: 0.3806 - acc: 0.8107\n",
      "Epoch 24/100\n",
      "6159/6159 - 1s - loss: 0.3808 - acc: 0.8139\n",
      "Epoch 25/100\n",
      "6159/6159 - 1s - loss: 0.3787 - acc: 0.8118\n",
      "Epoch 26/100\n",
      "6159/6159 - 1s - loss: 0.3739 - acc: 0.8115\n",
      "Epoch 27/100\n",
      "6159/6159 - 1s - loss: 0.3742 - acc: 0.8149\n",
      "Epoch 28/100\n",
      "6159/6159 - 1s - loss: 0.3710 - acc: 0.8191\n",
      "Epoch 29/100\n",
      "6159/6159 - 1s - loss: 0.3728 - acc: 0.8167\n",
      "Epoch 30/100\n",
      "6159/6159 - 1s - loss: 0.3652 - acc: 0.8211\n",
      "Epoch 31/100\n",
      "6159/6159 - 1s - loss: 0.3661 - acc: 0.8157\n",
      "Epoch 32/100\n",
      "6159/6159 - 1s - loss: 0.3632 - acc: 0.8188\n",
      "Epoch 33/100\n",
      "6159/6159 - 1s - loss: 0.3619 - acc: 0.8160\n",
      "Epoch 34/100\n",
      "6159/6159 - 1s - loss: 0.3604 - acc: 0.8199\n",
      "Epoch 35/100\n",
      "6159/6159 - 1s - loss: 0.3570 - acc: 0.8224\n",
      "Epoch 36/100\n",
      "6159/6159 - 1s - loss: 0.3553 - acc: 0.8206\n",
      "Epoch 37/100\n",
      "6159/6159 - 1s - loss: 0.3560 - acc: 0.8227\n",
      "Epoch 38/100\n",
      "6159/6159 - 2s - loss: 0.3508 - acc: 0.8230\n",
      "Epoch 39/100\n",
      "6159/6159 - 1s - loss: 0.3516 - acc: 0.8227\n",
      "Epoch 40/100\n",
      "6159/6159 - 1s - loss: 0.3489 - acc: 0.8230\n",
      "Epoch 41/100\n",
      "6159/6159 - 1s - loss: 0.3497 - acc: 0.8264\n",
      "Epoch 42/100\n",
      "6159/6159 - 1s - loss: 0.3433 - acc: 0.8264\n",
      "Epoch 43/100\n",
      "6159/6159 - 1s - loss: 0.3448 - acc: 0.8263\n",
      "Epoch 44/100\n",
      "6159/6159 - 1s - loss: 0.3482 - acc: 0.8245\n",
      "Epoch 45/100\n",
      "6159/6159 - 1s - loss: 0.3402 - acc: 0.8274\n",
      "Epoch 46/100\n",
      "6159/6159 - 1s - loss: 0.3446 - acc: 0.8240\n",
      "Epoch 47/100\n",
      "6159/6159 - 1s - loss: 0.3395 - acc: 0.8305\n",
      "Epoch 48/100\n",
      "6159/6159 - 1s - loss: 0.3400 - acc: 0.8323\n",
      "Epoch 49/100\n",
      "6159/6159 - 1s - loss: 0.3382 - acc: 0.8303\n",
      "Epoch 50/100\n",
      "6159/6159 - 1s - loss: 0.3332 - acc: 0.8316\n",
      "Epoch 51/100\n",
      "6159/6159 - 1s - loss: 0.3335 - acc: 0.8302\n",
      "Epoch 52/100\n",
      "6159/6159 - 1s - loss: 0.3369 - acc: 0.8357\n",
      "Epoch 53/100\n",
      "6159/6159 - 1s - loss: 0.3293 - acc: 0.8397\n",
      "Epoch 54/100\n",
      "6159/6159 - 1s - loss: 0.3268 - acc: 0.8360\n",
      "Epoch 55/100\n",
      "6159/6159 - 1s - loss: 0.3272 - acc: 0.8393\n",
      "Epoch 56/100\n",
      "6159/6159 - 1s - loss: 0.3226 - acc: 0.8407\n",
      "Epoch 57/100\n",
      "6159/6159 - 1s - loss: 0.3272 - acc: 0.8303\n",
      "Epoch 58/100\n",
      "6159/6159 - 1s - loss: 0.3206 - acc: 0.8415\n",
      "Epoch 59/100\n",
      "6159/6159 - 1s - loss: 0.3203 - acc: 0.8406\n",
      "Epoch 60/100\n",
      "6159/6159 - 1s - loss: 0.3190 - acc: 0.8384\n",
      "Epoch 61/100\n",
      "6159/6159 - 1s - loss: 0.3226 - acc: 0.8365\n",
      "Epoch 62/100\n",
      "6159/6159 - 1s - loss: 0.3172 - acc: 0.8410\n",
      "Epoch 63/100\n",
      "6159/6159 - 1s - loss: 0.3155 - acc: 0.8420\n",
      "Epoch 64/100\n",
      "6159/6159 - 1s - loss: 0.3141 - acc: 0.8432\n",
      "Epoch 65/100\n",
      "6159/6159 - 1s - loss: 0.3132 - acc: 0.8406\n",
      "Epoch 66/100\n",
      "6159/6159 - 1s - loss: 0.3132 - acc: 0.8394\n",
      "Epoch 67/100\n",
      "6159/6159 - 1s - loss: 0.3111 - acc: 0.8467\n",
      "Epoch 68/100\n",
      "6159/6159 - 1s - loss: 0.3146 - acc: 0.8384\n",
      "Epoch 69/100\n",
      "6159/6159 - 1s - loss: 0.3099 - acc: 0.8427\n",
      "Epoch 70/100\n",
      "6159/6159 - 1s - loss: 0.3112 - acc: 0.8453\n",
      "Epoch 71/100\n",
      "6159/6159 - 1s - loss: 0.3098 - acc: 0.8433\n",
      "Epoch 72/100\n",
      "6159/6159 - 1s - loss: 0.3039 - acc: 0.8459\n",
      "Epoch 73/100\n",
      "6159/6159 - 1s - loss: 0.3095 - acc: 0.8456\n",
      "Epoch 74/100\n",
      "6159/6159 - 1s - loss: 0.3110 - acc: 0.8446\n",
      "Epoch 75/100\n",
      "6159/6159 - 1s - loss: 0.3079 - acc: 0.8466\n",
      "Epoch 76/100\n",
      "6159/6159 - 1s - loss: 0.2988 - acc: 0.8493\n",
      "Epoch 77/100\n",
      "6159/6159 - 1s - loss: 0.2970 - acc: 0.8521\n",
      "Epoch 78/100\n",
      "6159/6159 - 1s - loss: 0.3024 - acc: 0.8467\n",
      "Epoch 79/100\n",
      "6159/6159 - 1s - loss: 0.2963 - acc: 0.8518\n",
      "Epoch 80/100\n",
      "6159/6159 - 1s - loss: 0.2937 - acc: 0.8527\n",
      "Epoch 81/100\n",
      "6159/6159 - 1s - loss: 0.2969 - acc: 0.8511\n",
      "Epoch 82/100\n",
      "6159/6159 - 1s - loss: 0.2957 - acc: 0.8518\n",
      "Epoch 83/100\n",
      "6159/6159 - 1s - loss: 0.2936 - acc: 0.8514\n",
      "Epoch 84/100\n",
      "6159/6159 - 1s - loss: 0.2912 - acc: 0.8557\n",
      "Epoch 85/100\n",
      "6159/6159 - 1s - loss: 0.2917 - acc: 0.8558\n",
      "Epoch 86/100\n",
      "6159/6159 - 1s - loss: 0.2965 - acc: 0.8498\n",
      "Epoch 87/100\n",
      "6159/6159 - 1s - loss: 0.2953 - acc: 0.8519\n",
      "Epoch 88/100\n",
      "6159/6159 - 1s - loss: 0.2855 - acc: 0.8574\n",
      "Epoch 89/100\n",
      "6159/6159 - 1s - loss: 0.2856 - acc: 0.8594\n",
      "Epoch 90/100\n",
      "6159/6159 - 1s - loss: 0.2856 - acc: 0.8574\n",
      "Epoch 91/100\n",
      "6159/6159 - 1s - loss: 0.2840 - acc: 0.8578\n",
      "Epoch 92/100\n",
      "6159/6159 - 1s - loss: 0.2825 - acc: 0.8631\n",
      "Epoch 93/100\n",
      "6159/6159 - 1s - loss: 0.2826 - acc: 0.8638\n",
      "Epoch 94/100\n",
      "6159/6159 - 1s - loss: 0.2847 - acc: 0.8605\n",
      "Epoch 95/100\n",
      "6159/6159 - 1s - loss: 0.2848 - acc: 0.8612\n",
      "Epoch 96/100\n",
      "6159/6159 - 1s - loss: 0.2786 - acc: 0.8657\n",
      "Epoch 97/100\n",
      "6159/6159 - 1s - loss: 0.2806 - acc: 0.8659\n",
      "Epoch 98/100\n",
      "6159/6159 - 1s - loss: 0.2774 - acc: 0.8625\n",
      "Epoch 99/100\n",
      "6159/6159 - 1s - loss: 0.2777 - acc: 0.8626\n",
      "Epoch 100/100\n",
      "6159/6159 - 1s - loss: 0.2786 - acc: 0.8643\n",
      "Best: 0.810196 using {'batch_size': 20, 'epochs': 100}\n",
      "0.789414 (0.004253) with: {'batch_size': 10, 'epochs': 10}\n",
      "0.799480 (0.012331) with: {'batch_size': 10, 'epochs': 50}\n",
      "0.805163 (0.005886) with: {'batch_size': 10, 'epochs': 100}\n",
      "0.784705 (0.013003) with: {'batch_size': 20, 'epochs': 10}\n",
      "0.802241 (0.011221) with: {'batch_size': 20, 'epochs': 50}\n",
      "0.810196 (0.012331) with: {'batch_size': 20, 'epochs': 100}\n",
      "0.779347 (0.001989) with: {'batch_size': 40, 'epochs': 10}\n",
      "0.802403 (0.005114) with: {'batch_size': 40, 'epochs': 50}\n",
      "0.809709 (0.011597) with: {'batch_size': 40, 'epochs': 100}\n",
      "0.782757 (0.003467) with: {'batch_size': 60, 'epochs': 10}\n",
      "0.803702 (0.010424) with: {'batch_size': 60, 'epochs': 50}\n",
      "0.801429 (0.010095) with: {'batch_size': 60, 'epochs': 100}\n",
      "0.781783 (0.004190) with: {'batch_size': 80, 'epochs': 10}\n",
      "0.798993 (0.013698) with: {'batch_size': 80, 'epochs': 50}\n",
      "0.804189 (0.013411) with: {'batch_size': 80, 'epochs': 100}\n",
      "0.776912 (0.015602) with: {'batch_size': 100, 'epochs': 10}\n",
      "0.795259 (0.006466) with: {'batch_size': 100, 'epochs': 50}\n",
      "0.803864 (0.010974) with: {'batch_size': 100, 'epochs': 100}\n"
     ]
    }
   ],
   "source": [
    "# Create the GridSearch estimator along with a parameter object containing the values to adjust\n",
    "from sklearn.model_selection import GridSearchCV\n",
    "from keras.wrappers.scikit_learn import KerasClassifier\n",
    "# Function to create model, required for KerasClassifier\n",
    "def create_model():\n",
    "    # create model\n",
    "    model = Sequential()\n",
    "    model.add(Dense(units=100, activation='relu', input_dim=37))\n",
    "    model.add(Dense(units=100, activation='relu'))\n",
    "    model.add(Dense(units=2, activation='softmax'))\n",
    "    # Compile model\n",
    "    model.compile(loss='categorical_crossentropy', optimizer='adam', metrics=['accuracy'])\n",
    "    return model\n",
    "# fix random seed for reproducibility\n",
    "seed = 7\n",
    "np.random.seed(seed)\n",
    "# create model\n",
    "model = KerasClassifier(build_fn=create_model, verbose=2)\n",
    "# define the grid search parameters\n",
    "batch_size = [10, 20, 40, 60, 80, 100]\n",
    "epochs = [10, 50, 100]\n",
    "param_grid = dict(batch_size=batch_size, epochs=epochs)\n",
    "grid = GridSearchCV(estimator=model, param_grid=param_grid, n_jobs=-1, cv=3)\n",
    "grid_result = grid.fit(X_train_scaled, y_train_categorical)\n",
    "# summarize results\n",
    "print(\"Best: %f using %s\" % (grid_result.best_score_, grid_result.best_params_))\n",
    "means = grid_result.cv_results_['mean_test_score']\n",
    "stds = grid_result.cv_results_['std_test_score']\n",
    "params = grid_result.cv_results_['params']\n",
    "for mean, stdev, param in zip(means, stds, params):\n",
    "    print(\"%f (%f) with: %r\" % (mean, stdev, param))"
   ]
  },
  {
   "cell_type": "markdown",
   "metadata": {},
   "source": [
    "#Running model with tuned parameters"
   ]
  },
  {
   "cell_type": "code",
   "execution_count": 33,
   "metadata": {},
   "outputs": [
    {
     "name": "stdout",
     "output_type": "stream",
     "text": [
      "Epoch 1/100\n",
      "6159/6159 - 1s - loss: 0.4940 - acc: 0.7474\n",
      "Epoch 2/100\n",
      "6159/6159 - 1s - loss: 0.4624 - acc: 0.7701\n",
      "Epoch 3/100\n",
      "6159/6159 - 1s - loss: 0.4487 - acc: 0.7792\n",
      "Epoch 4/100\n",
      "6159/6159 - 1s - loss: 0.4441 - acc: 0.7808\n",
      "Epoch 5/100\n",
      "6159/6159 - 1s - loss: 0.4388 - acc: 0.7834\n",
      "Epoch 6/100\n",
      "6159/6159 - 1s - loss: 0.4303 - acc: 0.7862\n",
      "Epoch 7/100\n",
      "6159/6159 - 1s - loss: 0.4278 - acc: 0.7893\n",
      "Epoch 8/100\n",
      "6159/6159 - 1s - loss: 0.4196 - acc: 0.7931\n",
      "Epoch 9/100\n",
      "6159/6159 - 1s - loss: 0.4198 - acc: 0.7917\n",
      "Epoch 10/100\n",
      "6159/6159 - 1s - loss: 0.4167 - acc: 0.7944\n",
      "Epoch 11/100\n",
      "6159/6159 - 1s - loss: 0.4087 - acc: 0.7985\n",
      "Epoch 12/100\n",
      "6159/6159 - 1s - loss: 0.4096 - acc: 0.7988\n",
      "Epoch 13/100\n",
      "6159/6159 - 1s - loss: 0.4073 - acc: 0.8011\n",
      "Epoch 14/100\n",
      "6159/6159 - 1s - loss: 0.4044 - acc: 0.7988\n",
      "Epoch 15/100\n",
      "6159/6159 - 1s - loss: 0.4008 - acc: 0.8031\n",
      "Epoch 16/100\n",
      "6159/6159 - 1s - loss: 0.3966 - acc: 0.8057\n",
      "Epoch 17/100\n",
      "6159/6159 - 1s - loss: 0.3964 - acc: 0.8081\n",
      "Epoch 18/100\n",
      "6159/6159 - 1s - loss: 0.3954 - acc: 0.8047\n",
      "Epoch 19/100\n",
      "6159/6159 - 1s - loss: 0.3909 - acc: 0.8068\n",
      "Epoch 20/100\n",
      "6159/6159 - 1s - loss: 0.3869 - acc: 0.8082\n",
      "Epoch 21/100\n",
      "6159/6159 - 1s - loss: 0.3896 - acc: 0.8076\n",
      "Epoch 22/100\n",
      "6159/6159 - 1s - loss: 0.3832 - acc: 0.8108\n",
      "Epoch 23/100\n",
      "6159/6159 - 1s - loss: 0.3829 - acc: 0.8121\n",
      "Epoch 24/100\n",
      "6159/6159 - 1s - loss: 0.3801 - acc: 0.8160\n",
      "Epoch 25/100\n",
      "6159/6159 - 1s - loss: 0.3788 - acc: 0.8128\n",
      "Epoch 26/100\n",
      "6159/6159 - 1s - loss: 0.3722 - acc: 0.8154\n",
      "Epoch 27/100\n",
      "6159/6159 - 1s - loss: 0.3745 - acc: 0.8162\n",
      "Epoch 28/100\n",
      "6159/6159 - 1s - loss: 0.3727 - acc: 0.8154\n",
      "Epoch 29/100\n",
      "6159/6159 - 1s - loss: 0.3700 - acc: 0.8173\n",
      "Epoch 30/100\n",
      "6159/6159 - 1s - loss: 0.3699 - acc: 0.8175\n",
      "Epoch 31/100\n",
      "6159/6159 - 1s - loss: 0.3663 - acc: 0.8177\n",
      "Epoch 32/100\n",
      "6159/6159 - 1s - loss: 0.3633 - acc: 0.8209\n",
      "Epoch 33/100\n",
      "6159/6159 - 1s - loss: 0.3640 - acc: 0.8175\n",
      "Epoch 34/100\n",
      "6159/6159 - 1s - loss: 0.3618 - acc: 0.8186\n",
      "Epoch 35/100\n",
      "6159/6159 - 1s - loss: 0.3582 - acc: 0.8193\n",
      "Epoch 36/100\n",
      "6159/6159 - 1s - loss: 0.3561 - acc: 0.8222\n",
      "Epoch 37/100\n",
      "6159/6159 - 1s - loss: 0.3572 - acc: 0.8208\n",
      "Epoch 38/100\n",
      "6159/6159 - 1s - loss: 0.3544 - acc: 0.8232\n",
      "Epoch 39/100\n",
      "6159/6159 - 1s - loss: 0.3510 - acc: 0.8282\n",
      "Epoch 40/100\n",
      "6159/6159 - 1s - loss: 0.3541 - acc: 0.8217\n",
      "Epoch 41/100\n",
      "6159/6159 - 1s - loss: 0.3483 - acc: 0.8261\n",
      "Epoch 42/100\n",
      "6159/6159 - 1s - loss: 0.3470 - acc: 0.8292\n",
      "Epoch 43/100\n",
      "6159/6159 - 1s - loss: 0.3447 - acc: 0.8287\n",
      "Epoch 44/100\n",
      "6159/6159 - 1s - loss: 0.3449 - acc: 0.8274\n",
      "Epoch 45/100\n",
      "6159/6159 - 1s - loss: 0.3446 - acc: 0.8307\n",
      "Epoch 46/100\n",
      "6159/6159 - 1s - loss: 0.3424 - acc: 0.8303\n",
      "Epoch 47/100\n",
      "6159/6159 - 1s - loss: 0.3406 - acc: 0.8321\n",
      "Epoch 48/100\n",
      "6159/6159 - 1s - loss: 0.3425 - acc: 0.8287\n",
      "Epoch 49/100\n",
      "6159/6159 - 1s - loss: 0.3392 - acc: 0.8347\n",
      "Epoch 50/100\n",
      "6159/6159 - 1s - loss: 0.3361 - acc: 0.8308\n",
      "Epoch 51/100\n",
      "6159/6159 - 1s - loss: 0.3392 - acc: 0.8310\n",
      "Epoch 52/100\n",
      "6159/6159 - 1s - loss: 0.3351 - acc: 0.8342\n",
      "Epoch 53/100\n",
      "6159/6159 - 1s - loss: 0.3340 - acc: 0.8336\n",
      "Epoch 54/100\n",
      "6159/6159 - 1s - loss: 0.3298 - acc: 0.8350\n",
      "Epoch 55/100\n",
      "6159/6159 - 1s - loss: 0.3316 - acc: 0.8337\n",
      "Epoch 56/100\n",
      "6159/6159 - 1s - loss: 0.3302 - acc: 0.8368\n",
      "Epoch 57/100\n",
      "6159/6159 - 1s - loss: 0.3294 - acc: 0.8381\n",
      "Epoch 58/100\n",
      "6159/6159 - 1s - loss: 0.3284 - acc: 0.8368\n",
      "Epoch 59/100\n",
      "6159/6159 - 1s - loss: 0.3262 - acc: 0.8378\n",
      "Epoch 60/100\n",
      "6159/6159 - 1s - loss: 0.3242 - acc: 0.8357\n",
      "Epoch 61/100\n",
      "6159/6159 - 1s - loss: 0.3251 - acc: 0.8438\n",
      "Epoch 62/100\n",
      "6159/6159 - 1s - loss: 0.3214 - acc: 0.8399\n",
      "Epoch 63/100\n",
      "6159/6159 - 1s - loss: 0.3213 - acc: 0.8381\n",
      "Epoch 64/100\n",
      "6159/6159 - 1s - loss: 0.3211 - acc: 0.8414\n",
      "Epoch 65/100\n",
      "6159/6159 - 1s - loss: 0.3216 - acc: 0.8412\n",
      "Epoch 66/100\n",
      "6159/6159 - 1s - loss: 0.3181 - acc: 0.8409\n",
      "Epoch 67/100\n",
      "6159/6159 - 1s - loss: 0.3218 - acc: 0.8409\n",
      "Epoch 68/100\n",
      "6159/6159 - 1s - loss: 0.3132 - acc: 0.8446\n",
      "Epoch 69/100\n",
      "6159/6159 - 1s - loss: 0.3165 - acc: 0.8412\n",
      "Epoch 70/100\n",
      "6159/6159 - 1s - loss: 0.3103 - acc: 0.8415\n",
      "Epoch 71/100\n",
      "6159/6159 - 1s - loss: 0.3153 - acc: 0.8409\n",
      "Epoch 72/100\n",
      "6159/6159 - 1s - loss: 0.3130 - acc: 0.8427\n",
      "Epoch 73/100\n",
      "6159/6159 - 1s - loss: 0.3083 - acc: 0.8459\n",
      "Epoch 74/100\n",
      "6159/6159 - 1s - loss: 0.3172 - acc: 0.8451\n",
      "Epoch 75/100\n",
      "6159/6159 - 1s - loss: 0.3083 - acc: 0.8441\n",
      "Epoch 76/100\n",
      "6159/6159 - 1s - loss: 0.3106 - acc: 0.8472\n",
      "Epoch 77/100\n",
      "6159/6159 - 1s - loss: 0.3042 - acc: 0.8522\n",
      "Epoch 78/100\n",
      "6159/6159 - 1s - loss: 0.3062 - acc: 0.8479\n",
      "Epoch 79/100\n",
      "6159/6159 - 1s - loss: 0.3027 - acc: 0.8482\n",
      "Epoch 80/100\n",
      "6159/6159 - 1s - loss: 0.2995 - acc: 0.8513\n",
      "Epoch 81/100\n",
      "6159/6159 - 1s - loss: 0.2998 - acc: 0.8521\n",
      "Epoch 82/100\n",
      "6159/6159 - 1s - loss: 0.3016 - acc: 0.8505\n",
      "Epoch 83/100\n",
      "6159/6159 - 1s - loss: 0.3007 - acc: 0.8509\n",
      "Epoch 84/100\n",
      "6159/6159 - 1s - loss: 0.3027 - acc: 0.8539\n",
      "Epoch 85/100\n",
      "6159/6159 - 1s - loss: 0.2976 - acc: 0.8542\n",
      "Epoch 86/100\n",
      "6159/6159 - 1s - loss: 0.2950 - acc: 0.8526\n",
      "Epoch 87/100\n",
      "6159/6159 - 1s - loss: 0.2992 - acc: 0.8480\n",
      "Epoch 88/100\n",
      "6159/6159 - 1s - loss: 0.2929 - acc: 0.8534\n",
      "Epoch 89/100\n",
      "6159/6159 - 1s - loss: 0.2916 - acc: 0.8574\n",
      "Epoch 90/100\n",
      "6159/6159 - 1s - loss: 0.2895 - acc: 0.8563\n",
      "Epoch 91/100\n",
      "6159/6159 - 1s - loss: 0.2927 - acc: 0.8565\n",
      "Epoch 92/100\n",
      "6159/6159 - 1s - loss: 0.2877 - acc: 0.8578\n",
      "Epoch 93/100\n",
      "6159/6159 - 1s - loss: 0.2902 - acc: 0.8548\n",
      "Epoch 94/100\n",
      "6159/6159 - 1s - loss: 0.2991 - acc: 0.8557\n",
      "Epoch 95/100\n",
      "6159/6159 - 1s - loss: 0.2872 - acc: 0.8584\n",
      "Epoch 96/100\n",
      "6159/6159 - 1s - loss: 0.2832 - acc: 0.8589\n",
      "Epoch 97/100\n",
      "6159/6159 - 1s - loss: 0.2822 - acc: 0.8605\n",
      "Epoch 98/100\n",
      "6159/6159 - 1s - loss: 0.2800 - acc: 0.8617\n",
      "Epoch 99/100\n",
      "6159/6159 - 1s - loss: 0.2848 - acc: 0.8620\n",
      "Epoch 100/100\n",
      "6159/6159 - 1s - loss: 0.2845 - acc: 0.8596\n"
     ]
    },
    {
     "data": {
      "text/plain": [
       "<tensorflow.python.keras.callbacks.History at 0x17707735438>"
      ]
     },
     "execution_count": 33,
     "metadata": {},
     "output_type": "execute_result"
    }
   ],
   "source": [
    "model.fit(\n",
    "    X_train_scaled,\n",
    "    y_train_categorical,\n",
    "    epochs=100,\n",
    "    shuffle=True,\n",
    "    verbose=2,\n",
    "    batch_size=20\n",
    ")"
>>>>>>> 2bf37c7b30ee2304c7f3ee6f571db17f4cd99b57
   ]
  },
  {
   "cell_type": "code",
   "execution_count": null,
   "metadata": {},
   "outputs": [],
   "source": []
  }
 ],
 "metadata": {
  "kernelspec": {
   "display_name": "Python 3",
   "language": "python",
   "name": "python3"
  },
  "language_info": {
   "codemirror_mode": {
    "name": "ipython",
    "version": 3
   },
   "file_extension": ".py",
   "mimetype": "text/x-python",
   "name": "python",
   "nbconvert_exporter": "python",
   "pygments_lexer": "ipython3",
   "version": "3.7.1"
  },
  "varInspector": {
   "cols": {
    "lenName": 16,
    "lenType": 16,
    "lenVar": 40
   },
   "kernels_config": {
    "python": {
     "delete_cmd_postfix": "",
     "delete_cmd_prefix": "del ",
     "library": "var_list.py",
     "varRefreshCmd": "print(var_dic_list())"
    },
    "r": {
     "delete_cmd_postfix": ") ",
     "delete_cmd_prefix": "rm(",
     "library": "var_list.r",
     "varRefreshCmd": "cat(var_dic_list()) "
    }
   },
   "types_to_exclude": [
    "module",
    "function",
    "builtin_function_or_method",
    "instance",
    "_Feature"
   ],
   "window_display": false
  }
 },
 "nbformat": 4,
 "nbformat_minor": 2
}
