{
 "cells": [
  {
   "cell_type": "code",
   "execution_count": 2,
   "metadata": {},
   "outputs": [],
   "source": [
    "# Set the seed value for the notebook so the results are reproducible\n",
    "from numpy.random import seed\n",
    "seed(1)"
   ]
  },
  {
   "cell_type": "code",
   "execution_count": 3,
   "metadata": {
    "slideshow": {
     "slide_type": "subslide"
    }
   },
   "outputs": [],
   "source": [
    "# Dependencies\n",
    "import numpy as np\n",
    "import pandas as pd"
   ]
  },
  {
   "cell_type": "code",
   "execution_count": 4,
   "metadata": {},
   "outputs": [],
   "source": [
    "import tensorflow"
   ]
  },
  {
   "cell_type": "code",
   "execution_count": 6,
   "metadata": {
    "slideshow": {
     "slide_type": "fragment"
    }
   },
   "outputs": [
    {
     "data": {
      "text/html": [
       "<div>\n",
       "<style scoped>\n",
       "    .dataframe tbody tr th:only-of-type {\n",
       "        vertical-align: middle;\n",
       "    }\n",
       "\n",
       "    .dataframe tbody tr th {\n",
       "        vertical-align: top;\n",
       "    }\n",
       "\n",
       "    .dataframe thead th {\n",
       "        text-align: right;\n",
       "    }\n",
       "</style>\n",
       "<table border=\"1\" class=\"dataframe\">\n",
       "  <thead>\n",
       "    <tr style=\"text-align: right;\">\n",
       "      <th></th>\n",
       "      <th>sem_x</th>\n",
       "      <th>codigo_x</th>\n",
       "      <th>dias_pag</th>\n",
       "      <th>dias_lab</th>\n",
       "      <th>sueldo</th>\n",
       "      <th>comp</th>\n",
       "      <th>asist</th>\n",
       "      <th>transp</th>\n",
       "      <th>vales_x</th>\n",
       "      <th>te_dob</th>\n",
       "      <th>...</th>\n",
       "      <th>alim</th>\n",
       "      <th>infon</th>\n",
       "      <th>falt</th>\n",
       "      <th>enf</th>\n",
       "      <th>ries</th>\n",
       "      <th>ISPT</th>\n",
       "      <th>ISPTA</th>\n",
       "      <th>IMSS</th>\n",
       "      <th>subs</th>\n",
       "      <th>label</th>\n",
       "    </tr>\n",
       "  </thead>\n",
       "  <tbody>\n",
       "    <tr>\n",
       "      <th>0</th>\n",
       "      <td>1</td>\n",
       "      <td>7840</td>\n",
       "      <td>7.0</td>\n",
       "      <td>5.0</td>\n",
       "      <td>1143.52</td>\n",
       "      <td>462.91</td>\n",
       "      <td>60.0</td>\n",
       "      <td>60.0</td>\n",
       "      <td>257.02</td>\n",
       "      <td>367.56</td>\n",
       "      <td>...</td>\n",
       "      <td>0.0</td>\n",
       "      <td>0.0</td>\n",
       "      <td>0.0</td>\n",
       "      <td>0.0</td>\n",
       "      <td>0.0</td>\n",
       "      <td>289.63</td>\n",
       "      <td>0.0</td>\n",
       "      <td>49.55</td>\n",
       "      <td>0.00</td>\n",
       "      <td>0</td>\n",
       "    </tr>\n",
       "    <tr>\n",
       "      <th>1</th>\n",
       "      <td>1</td>\n",
       "      <td>7505</td>\n",
       "      <td>7.0</td>\n",
       "      <td>5.0</td>\n",
       "      <td>721.00</td>\n",
       "      <td>173.04</td>\n",
       "      <td>60.0</td>\n",
       "      <td>60.0</td>\n",
       "      <td>143.04</td>\n",
       "      <td>0.00</td>\n",
       "      <td>...</td>\n",
       "      <td>0.0</td>\n",
       "      <td>0.0</td>\n",
       "      <td>0.0</td>\n",
       "      <td>0.0</td>\n",
       "      <td>0.0</td>\n",
       "      <td>60.93</td>\n",
       "      <td>0.0</td>\n",
       "      <td>24.12</td>\n",
       "      <td>0.00</td>\n",
       "      <td>0</td>\n",
       "    </tr>\n",
       "    <tr>\n",
       "      <th>2</th>\n",
       "      <td>1</td>\n",
       "      <td>6600</td>\n",
       "      <td>7.0</td>\n",
       "      <td>5.0</td>\n",
       "      <td>721.00</td>\n",
       "      <td>30.38</td>\n",
       "      <td>60.0</td>\n",
       "      <td>50.0</td>\n",
       "      <td>120.22</td>\n",
       "      <td>180.25</td>\n",
       "      <td>...</td>\n",
       "      <td>0.0</td>\n",
       "      <td>0.0</td>\n",
       "      <td>0.0</td>\n",
       "      <td>0.0</td>\n",
       "      <td>0.0</td>\n",
       "      <td>0.00</td>\n",
       "      <td>0.0</td>\n",
       "      <td>20.07</td>\n",
       "      <td>33.13</td>\n",
       "      <td>1</td>\n",
       "    </tr>\n",
       "    <tr>\n",
       "      <th>3</th>\n",
       "      <td>1</td>\n",
       "      <td>7685</td>\n",
       "      <td>7.0</td>\n",
       "      <td>5.0</td>\n",
       "      <td>721.00</td>\n",
       "      <td>30.38</td>\n",
       "      <td>60.0</td>\n",
       "      <td>60.0</td>\n",
       "      <td>120.22</td>\n",
       "      <td>0.00</td>\n",
       "      <td>...</td>\n",
       "      <td>0.0</td>\n",
       "      <td>0.0</td>\n",
       "      <td>0.0</td>\n",
       "      <td>0.0</td>\n",
       "      <td>0.0</td>\n",
       "      <td>0.00</td>\n",
       "      <td>0.0</td>\n",
       "      <td>27.04</td>\n",
       "      <td>38.26</td>\n",
       "      <td>1</td>\n",
       "    </tr>\n",
       "    <tr>\n",
       "      <th>4</th>\n",
       "      <td>1</td>\n",
       "      <td>7331</td>\n",
       "      <td>7.0</td>\n",
       "      <td>5.0</td>\n",
       "      <td>721.00</td>\n",
       "      <td>30.38</td>\n",
       "      <td>60.0</td>\n",
       "      <td>60.0</td>\n",
       "      <td>120.22</td>\n",
       "      <td>103.00</td>\n",
       "      <td>...</td>\n",
       "      <td>0.0</td>\n",
       "      <td>0.0</td>\n",
       "      <td>0.0</td>\n",
       "      <td>0.0</td>\n",
       "      <td>0.0</td>\n",
       "      <td>0.00</td>\n",
       "      <td>0.0</td>\n",
       "      <td>23.71</td>\n",
       "      <td>34.96</td>\n",
       "      <td>0</td>\n",
       "    </tr>\n",
       "  </tbody>\n",
       "</table>\n",
       "<p>5 rows × 38 columns</p>\n",
       "</div>"
      ],
      "text/plain": [
       "   sem_x  codigo_x  dias_pag  dias_lab   sueldo    comp  asist  transp  \\\n",
       "0      1      7840       7.0       5.0  1143.52  462.91   60.0    60.0   \n",
       "1      1      7505       7.0       5.0   721.00  173.04   60.0    60.0   \n",
       "2      1      6600       7.0       5.0   721.00   30.38   60.0    50.0   \n",
       "3      1      7685       7.0       5.0   721.00   30.38   60.0    60.0   \n",
       "4      1      7331       7.0       5.0   721.00   30.38   60.0    60.0   \n",
       "\n",
       "   vales_x  te_dob  ...  alim  infon  falt  enf  ries    ISPT  ISPTA   IMSS  \\\n",
       "0   257.02  367.56  ...   0.0    0.0   0.0  0.0   0.0  289.63    0.0  49.55   \n",
       "1   143.04    0.00  ...   0.0    0.0   0.0  0.0   0.0   60.93    0.0  24.12   \n",
       "2   120.22  180.25  ...   0.0    0.0   0.0  0.0   0.0    0.00    0.0  20.07   \n",
       "3   120.22    0.00  ...   0.0    0.0   0.0  0.0   0.0    0.00    0.0  27.04   \n",
       "4   120.22  103.00  ...   0.0    0.0   0.0  0.0   0.0    0.00    0.0  23.71   \n",
       "\n",
       "    subs  label  \n",
       "0   0.00      0  \n",
       "1   0.00      0  \n",
       "2  33.13      1  \n",
       "3  38.26      1  \n",
       "4  34.96      0  \n",
       "\n",
       "[5 rows x 38 columns]"
      ]
     },
     "execution_count": 6,
     "metadata": {},
     "output_type": "execute_result"
    }
   ],
   "source": [
    "df = pd.read_csv('../Resources/CONSOLIDADO.csv', index_col=0)\n",
    "df.head()"
   ]
  },
  {
   "cell_type": "code",
   "execution_count": 8,
   "metadata": {},
   "outputs": [],
   "source": [
    "def labeling(row):\n",
    "    sigue = \"sigue\"\n",
    "    fue = \"fue\"\n",
    "    if row == 0:\n",
    "        return sigue\n",
    "    else:\n",
    "        return fue"
   ]
  },
  {
   "cell_type": "code",
   "execution_count": 9,
   "metadata": {},
   "outputs": [],
   "source": [
    "df[\"label\"] = df[\"label\"].apply(lambda row: labeling(row))"
   ]
  },
  {
   "cell_type": "code",
   "execution_count": 10,
   "metadata": {},
   "outputs": [
    {
     "data": {
      "text/html": [
       "<div>\n",
       "<style scoped>\n",
       "    .dataframe tbody tr th:only-of-type {\n",
       "        vertical-align: middle;\n",
       "    }\n",
       "\n",
       "    .dataframe tbody tr th {\n",
       "        vertical-align: top;\n",
       "    }\n",
       "\n",
       "    .dataframe thead th {\n",
       "        text-align: right;\n",
       "    }\n",
       "</style>\n",
       "<table border=\"1\" class=\"dataframe\">\n",
       "  <thead>\n",
       "    <tr style=\"text-align: right;\">\n",
       "      <th></th>\n",
       "      <th>sem_x</th>\n",
       "      <th>codigo_x</th>\n",
       "      <th>dias_pag</th>\n",
       "      <th>dias_lab</th>\n",
       "      <th>sueldo</th>\n",
       "      <th>comp</th>\n",
       "      <th>asist</th>\n",
       "      <th>transp</th>\n",
       "      <th>vales_x</th>\n",
       "      <th>te_dob</th>\n",
       "      <th>...</th>\n",
       "      <th>alim</th>\n",
       "      <th>infon</th>\n",
       "      <th>falt</th>\n",
       "      <th>enf</th>\n",
       "      <th>ries</th>\n",
       "      <th>ISPT</th>\n",
       "      <th>ISPTA</th>\n",
       "      <th>IMSS</th>\n",
       "      <th>subs</th>\n",
       "      <th>label</th>\n",
       "    </tr>\n",
       "  </thead>\n",
       "  <tbody>\n",
       "    <tr>\n",
       "      <th>0</th>\n",
       "      <td>1</td>\n",
       "      <td>7840</td>\n",
       "      <td>7.0</td>\n",
       "      <td>5.0</td>\n",
       "      <td>1143.52</td>\n",
       "      <td>462.91</td>\n",
       "      <td>60.0</td>\n",
       "      <td>60.0</td>\n",
       "      <td>257.02</td>\n",
       "      <td>367.56</td>\n",
       "      <td>...</td>\n",
       "      <td>0.0</td>\n",
       "      <td>0.0</td>\n",
       "      <td>0.0</td>\n",
       "      <td>0.0</td>\n",
       "      <td>0.0</td>\n",
       "      <td>289.63</td>\n",
       "      <td>0.0</td>\n",
       "      <td>49.55</td>\n",
       "      <td>0.00</td>\n",
       "      <td>sigue</td>\n",
       "    </tr>\n",
       "    <tr>\n",
       "      <th>1</th>\n",
       "      <td>1</td>\n",
       "      <td>7505</td>\n",
       "      <td>7.0</td>\n",
       "      <td>5.0</td>\n",
       "      <td>721.00</td>\n",
       "      <td>173.04</td>\n",
       "      <td>60.0</td>\n",
       "      <td>60.0</td>\n",
       "      <td>143.04</td>\n",
       "      <td>0.00</td>\n",
       "      <td>...</td>\n",
       "      <td>0.0</td>\n",
       "      <td>0.0</td>\n",
       "      <td>0.0</td>\n",
       "      <td>0.0</td>\n",
       "      <td>0.0</td>\n",
       "      <td>60.93</td>\n",
       "      <td>0.0</td>\n",
       "      <td>24.12</td>\n",
       "      <td>0.00</td>\n",
       "      <td>sigue</td>\n",
       "    </tr>\n",
       "    <tr>\n",
       "      <th>2</th>\n",
       "      <td>1</td>\n",
       "      <td>6600</td>\n",
       "      <td>7.0</td>\n",
       "      <td>5.0</td>\n",
       "      <td>721.00</td>\n",
       "      <td>30.38</td>\n",
       "      <td>60.0</td>\n",
       "      <td>50.0</td>\n",
       "      <td>120.22</td>\n",
       "      <td>180.25</td>\n",
       "      <td>...</td>\n",
       "      <td>0.0</td>\n",
       "      <td>0.0</td>\n",
       "      <td>0.0</td>\n",
       "      <td>0.0</td>\n",
       "      <td>0.0</td>\n",
       "      <td>0.00</td>\n",
       "      <td>0.0</td>\n",
       "      <td>20.07</td>\n",
       "      <td>33.13</td>\n",
       "      <td>fue</td>\n",
       "    </tr>\n",
       "    <tr>\n",
       "      <th>3</th>\n",
       "      <td>1</td>\n",
       "      <td>7685</td>\n",
       "      <td>7.0</td>\n",
       "      <td>5.0</td>\n",
       "      <td>721.00</td>\n",
       "      <td>30.38</td>\n",
       "      <td>60.0</td>\n",
       "      <td>60.0</td>\n",
       "      <td>120.22</td>\n",
       "      <td>0.00</td>\n",
       "      <td>...</td>\n",
       "      <td>0.0</td>\n",
       "      <td>0.0</td>\n",
       "      <td>0.0</td>\n",
       "      <td>0.0</td>\n",
       "      <td>0.0</td>\n",
       "      <td>0.00</td>\n",
       "      <td>0.0</td>\n",
       "      <td>27.04</td>\n",
       "      <td>38.26</td>\n",
       "      <td>fue</td>\n",
       "    </tr>\n",
       "    <tr>\n",
       "      <th>4</th>\n",
       "      <td>1</td>\n",
       "      <td>7331</td>\n",
       "      <td>7.0</td>\n",
       "      <td>5.0</td>\n",
       "      <td>721.00</td>\n",
       "      <td>30.38</td>\n",
       "      <td>60.0</td>\n",
       "      <td>60.0</td>\n",
       "      <td>120.22</td>\n",
       "      <td>103.00</td>\n",
       "      <td>...</td>\n",
       "      <td>0.0</td>\n",
       "      <td>0.0</td>\n",
       "      <td>0.0</td>\n",
       "      <td>0.0</td>\n",
       "      <td>0.0</td>\n",
       "      <td>0.00</td>\n",
       "      <td>0.0</td>\n",
       "      <td>23.71</td>\n",
       "      <td>34.96</td>\n",
       "      <td>sigue</td>\n",
       "    </tr>\n",
       "  </tbody>\n",
       "</table>\n",
       "<p>5 rows × 38 columns</p>\n",
       "</div>"
      ],
      "text/plain": [
       "   sem_x  codigo_x  dias_pag  dias_lab   sueldo    comp  asist  transp  \\\n",
       "0      1      7840       7.0       5.0  1143.52  462.91   60.0    60.0   \n",
       "1      1      7505       7.0       5.0   721.00  173.04   60.0    60.0   \n",
       "2      1      6600       7.0       5.0   721.00   30.38   60.0    50.0   \n",
       "3      1      7685       7.0       5.0   721.00   30.38   60.0    60.0   \n",
       "4      1      7331       7.0       5.0   721.00   30.38   60.0    60.0   \n",
       "\n",
       "   vales_x  te_dob  ...  alim  infon  falt  enf  ries    ISPT  ISPTA   IMSS  \\\n",
       "0   257.02  367.56  ...   0.0    0.0   0.0  0.0   0.0  289.63    0.0  49.55   \n",
       "1   143.04    0.00  ...   0.0    0.0   0.0  0.0   0.0   60.93    0.0  24.12   \n",
       "2   120.22  180.25  ...   0.0    0.0   0.0  0.0   0.0    0.00    0.0  20.07   \n",
       "3   120.22    0.00  ...   0.0    0.0   0.0  0.0   0.0    0.00    0.0  27.04   \n",
       "4   120.22  103.00  ...   0.0    0.0   0.0  0.0   0.0    0.00    0.0  23.71   \n",
       "\n",
       "    subs  label  \n",
       "0   0.00  sigue  \n",
       "1   0.00  sigue  \n",
       "2  33.13    fue  \n",
       "3  38.26    fue  \n",
       "4  34.96  sigue  \n",
       "\n",
       "[5 rows x 38 columns]"
      ]
     },
     "execution_count": 10,
     "metadata": {},
     "output_type": "execute_result"
    }
   ],
   "source": [
    "df.head()"
   ]
  },
  {
   "cell_type": "code",
   "execution_count": 11,
   "metadata": {},
   "outputs": [
    {
     "data": {
      "text/plain": [
       "fue      5552\n",
       "sigue    2661\n",
       "Name: label, dtype: int64"
      ]
     },
     "execution_count": 11,
     "metadata": {},
     "output_type": "execute_result"
    }
   ],
   "source": [
    "df[\"label\"].value_counts()"
   ]
  },
  {
   "cell_type": "code",
   "execution_count": 12,
   "metadata": {},
   "outputs": [
    {
     "data": {
      "text/plain": [
       "False"
      ]
     },
     "execution_count": 12,
     "metadata": {},
     "output_type": "execute_result"
    }
   ],
   "source": [
    "df.isna().values.any()"
   ]
  },
  {
   "cell_type": "markdown",
   "metadata": {
    "slideshow": {
     "slide_type": "subslide"
    }
   },
   "source": [
    "## Data Pre-Processing"
   ]
  },
  {
   "cell_type": "code",
   "execution_count": 14,
   "metadata": {
    "nbgrader": {
     "grade": false,
     "grade_id": "cell-86a9e3212f200d21",
     "locked": false,
     "schema_version": 1,
     "solution": true
    },
    "slideshow": {
     "slide_type": "subslide"
    }
   },
   "outputs": [
    {
     "name": "stdout",
     "output_type": "stream",
     "text": [
      "(8213, 37) (8213,)\n"
     ]
    }
   ],
   "source": [
    "X = df.drop(\"label\", axis=1)\n",
    "y = df[\"label\"]\n",
    "print(X.shape, y.shape)"
   ]
  },
  {
   "cell_type": "code",
   "execution_count": 15,
   "metadata": {
    "nbgrader": {
     "grade": false,
     "grade_id": "cell-711a82d9b32c83ff",
     "locked": false,
     "schema_version": 1,
     "solution": true
    },
    "slideshow": {
     "slide_type": "fragment"
    }
   },
   "outputs": [],
   "source": [
    "from sklearn.model_selection import train_test_split\n",
    "from sklearn.preprocessing import LabelEncoder, MinMaxScaler\n",
    "from tensorflow.keras.utils import to_categorical"
   ]
  },
  {
   "cell_type": "code",
   "execution_count": 16,
   "metadata": {
    "nbgrader": {
     "grade": false,
     "grade_id": "cell-711a82d9b32c83ff",
     "locked": false,
     "schema_version": 1,
     "solution": true
    },
    "slideshow": {
     "slide_type": "fragment"
    }
   },
   "outputs": [],
   "source": [
    "X_train, X_test, y_train, y_test = train_test_split(\n",
    "    X, y, random_state=1, stratify=y)"
   ]
  },
  {
   "cell_type": "code",
   "execution_count": 17,
   "metadata": {
    "nbgrader": {
     "grade": false,
     "grade_id": "cell-711a82d9b32c83ff",
     "locked": false,
     "schema_version": 1,
     "solution": true
    },
    "slideshow": {
     "slide_type": "fragment"
    }
   },
   "outputs": [
    {
     "name": "stderr",
     "output_type": "stream",
     "text": [
      "C:\\Users\\dell\\Anaconda3\\envs\\PythonData\\lib\\site-packages\\sklearn\\preprocessing\\data.py:334: DataConversionWarning: Data with input dtype int64, float64 were all converted to float64 by MinMaxScaler.\n",
      "  return self.partial_fit(X, y)\n"
     ]
    }
   ],
   "source": [
    "X_scaler = MinMaxScaler().fit(X_train)\n",
    "X_train_scaled = X_scaler.transform(X_train)\n",
    "X_test_scaled = X_scaler.transform(X_test)"
   ]
  },
  {
   "cell_type": "code",
   "execution_count": 18,
   "metadata": {
    "nbgrader": {
     "grade": false,
     "grade_id": "cell-711a82d9b32c83ff",
     "locked": false,
     "schema_version": 1,
     "solution": true
    },
    "slideshow": {
     "slide_type": "fragment"
    }
   },
   "outputs": [],
   "source": [
    "# Step 1: Label-encode data set\n",
    "label_encoder = LabelEncoder()\n",
    "label_encoder.fit(y_train)\n",
    "encoded_y_train = label_encoder.transform(y_train)\n",
    "encoded_y_test = label_encoder.transform(y_test)"
   ]
  },
  {
   "cell_type": "code",
   "execution_count": 19,
   "metadata": {
    "nbgrader": {
     "grade": false,
     "grade_id": "cell-711a82d9b32c83ff",
     "locked": false,
     "schema_version": 1,
     "solution": true
    },
    "slideshow": {
     "slide_type": "fragment"
    }
   },
   "outputs": [],
   "source": [
    "# Step 2: Convert encoded labels to one-hot-encoding\n",
    "y_train_categorical = to_categorical(encoded_y_train)\n",
    "y_test_categorical = to_categorical(encoded_y_test)"
   ]
  },
  {
   "cell_type": "markdown",
   "metadata": {},
   "source": [
    "# Create a Deep Learning Model"
   ]
  },
  {
   "cell_type": "code",
   "execution_count": 20,
   "metadata": {},
   "outputs": [],
   "source": [
    "from tensorflow.keras.models import Sequential\n",
    "from tensorflow.keras.layers import Dense"
   ]
  },
  {
   "cell_type": "code",
   "execution_count": 21,
   "metadata": {},
   "outputs": [
    {
     "data": {
      "text/plain": [
       "37"
      ]
     },
     "execution_count": 21,
     "metadata": {},
     "output_type": "execute_result"
    }
   ],
   "source": [
    "len(X_train_scaled[0])"
   ]
  },
  {
   "cell_type": "code",
   "execution_count": 22,
   "metadata": {},
   "outputs": [
    {
     "data": {
      "text/plain": [
       "37"
      ]
     },
     "execution_count": 22,
     "metadata": {},
     "output_type": "execute_result"
    }
   ],
   "source": [
    "len(X_test_scaled[0])"
   ]
  },
  {
   "cell_type": "code",
   "execution_count": 31,
   "metadata": {},
   "outputs": [],
   "source": [
    "# Create model and add layers\n",
    "model = Sequential()\n",
    "model.add(Dense(units=100, activation='relu', input_dim=37))\n",
    "model.add(Dense(units=100, activation='relu'))\n",
    "model.add(Dense(units=2, activation='softmax'))"
   ]
  },
  {
   "cell_type": "code",
   "execution_count": 32,
   "metadata": {},
   "outputs": [],
   "source": [
    "# Compile and fit the model\n",
    "model.compile(optimizer='adam',\n",
    "              loss='categorical_crossentropy',\n",
    "              metrics=['accuracy'])"
   ]
  },
  {
   "cell_type": "code",
   "execution_count": 33,
   "metadata": {},
   "outputs": [
    {
     "name": "stdout",
     "output_type": "stream",
     "text": [
      "Model: \"sequential_2\"\n",
      "_________________________________________________________________\n",
      "Layer (type)                 Output Shape              Param #   \n",
      "=================================================================\n",
      "dense_6 (Dense)              (None, 100)               3800      \n",
      "_________________________________________________________________\n",
      "dense_7 (Dense)              (None, 100)               10100     \n",
      "_________________________________________________________________\n",
      "dense_8 (Dense)              (None, 2)                 202       \n",
      "=================================================================\n",
      "Total params: 14,102\n",
      "Trainable params: 14,102\n",
      "Non-trainable params: 0\n",
      "_________________________________________________________________\n"
     ]
    }
   ],
   "source": [
    "model.summary()"
   ]
  },
  {
   "cell_type": "code",
   "execution_count": 34,
   "metadata": {},
   "outputs": [
    {
     "name": "stdout",
     "output_type": "stream",
     "text": [
      "Train on 6159 samples\n",
      "Epoch 1/100\n",
      "6159/6159 - 1s - loss: 0.5014 - accuracy: 0.7388\n",
      "Epoch 2/100\n",
      "6159/6159 - 0s - loss: 0.4605 - accuracy: 0.7701\n",
      "Epoch 3/100\n",
      "6159/6159 - 0s - loss: 0.4535 - accuracy: 0.7748\n",
      "Epoch 4/100\n",
      "6159/6159 - 0s - loss: 0.4409 - accuracy: 0.7829\n",
      "Epoch 5/100\n",
      "6159/6159 - 0s - loss: 0.4413 - accuracy: 0.7795\n",
      "Epoch 6/100\n",
      "6159/6159 - 0s - loss: 0.4329 - accuracy: 0.7914\n",
      "Epoch 7/100\n",
      "6159/6159 - 0s - loss: 0.4301 - accuracy: 0.7897\n",
      "Epoch 8/100\n",
      "6159/6159 - 0s - loss: 0.4227 - accuracy: 0.7944\n",
      "Epoch 9/100\n",
      "6159/6159 - 0s - loss: 0.4227 - accuracy: 0.7948\n",
      "Epoch 10/100\n",
      "6159/6159 - 0s - loss: 0.4233 - accuracy: 0.7906\n",
      "Epoch 11/100\n",
      "6159/6159 - 0s - loss: 0.4183 - accuracy: 0.7979\n",
      "Epoch 12/100\n",
      "6159/6159 - 0s - loss: 0.4129 - accuracy: 0.7954\n",
      "Epoch 13/100\n",
      "6159/6159 - 0s - loss: 0.4080 - accuracy: 0.7974\n",
      "Epoch 14/100\n",
      "6159/6159 - 0s - loss: 0.4067 - accuracy: 0.8009\n",
      "Epoch 15/100\n",
      "6159/6159 - 0s - loss: 0.4026 - accuracy: 0.8003\n",
      "Epoch 16/100\n",
      "6159/6159 - 0s - loss: 0.4017 - accuracy: 0.7979\n",
      "Epoch 17/100\n",
      "6159/6159 - 0s - loss: 0.3973 - accuracy: 0.8050\n",
      "Epoch 18/100\n",
      "6159/6159 - 0s - loss: 0.3947 - accuracy: 0.8005\n",
      "Epoch 19/100\n",
      "6159/6159 - 0s - loss: 0.3913 - accuracy: 0.8052\n",
      "Epoch 20/100\n",
      "6159/6159 - 0s - loss: 0.3871 - accuracy: 0.8092\n",
      "Epoch 21/100\n",
      "6159/6159 - 0s - loss: 0.3861 - accuracy: 0.8063\n",
      "Epoch 22/100\n",
      "6159/6159 - 0s - loss: 0.3864 - accuracy: 0.8091\n",
      "Epoch 23/100\n",
      "6159/6159 - 0s - loss: 0.3837 - accuracy: 0.8069\n",
      "Epoch 24/100\n",
      "6159/6159 - 0s - loss: 0.3835 - accuracy: 0.8089\n",
      "Epoch 25/100\n",
      "6159/6159 - 0s - loss: 0.3802 - accuracy: 0.8078\n",
      "Epoch 26/100\n",
      "6159/6159 - 0s - loss: 0.3771 - accuracy: 0.8095\n",
      "Epoch 27/100\n",
      "6159/6159 - 0s - loss: 0.3759 - accuracy: 0.8147\n",
      "Epoch 28/100\n",
      "6159/6159 - 0s - loss: 0.3756 - accuracy: 0.8115\n",
      "Epoch 29/100\n",
      "6159/6159 - 0s - loss: 0.3726 - accuracy: 0.8147\n",
      "Epoch 30/100\n",
      "6159/6159 - 0s - loss: 0.3691 - accuracy: 0.8164\n",
      "Epoch 31/100\n",
      "6159/6159 - 0s - loss: 0.3689 - accuracy: 0.8204\n",
      "Epoch 32/100\n",
      "6159/6159 - 0s - loss: 0.3699 - accuracy: 0.8193\n",
      "Epoch 33/100\n",
      "6159/6159 - 0s - loss: 0.3640 - accuracy: 0.8190\n",
      "Epoch 34/100\n",
      "6159/6159 - 0s - loss: 0.3629 - accuracy: 0.8191\n",
      "Epoch 35/100\n",
      "6159/6159 - 0s - loss: 0.3644 - accuracy: 0.8220\n",
      "Epoch 36/100\n",
      "6159/6159 - 0s - loss: 0.3589 - accuracy: 0.8227\n",
      "Epoch 37/100\n",
      "6159/6159 - 0s - loss: 0.3597 - accuracy: 0.8216\n",
      "Epoch 38/100\n",
      "6159/6159 - 0s - loss: 0.3585 - accuracy: 0.8211\n",
      "Epoch 39/100\n",
      "6159/6159 - 0s - loss: 0.3556 - accuracy: 0.8199\n",
      "Epoch 40/100\n",
      "6159/6159 - 0s - loss: 0.3532 - accuracy: 0.8255\n",
      "Epoch 41/100\n",
      "6159/6159 - 0s - loss: 0.3537 - accuracy: 0.8233\n",
      "Epoch 42/100\n",
      "6159/6159 - 0s - loss: 0.3532 - accuracy: 0.8229\n",
      "Epoch 43/100\n",
      "6159/6159 - 0s - loss: 0.3567 - accuracy: 0.8240\n",
      "Epoch 44/100\n",
      "6159/6159 - 0s - loss: 0.3515 - accuracy: 0.8285\n",
      "Epoch 45/100\n",
      "6159/6159 - 0s - loss: 0.3449 - accuracy: 0.8300\n",
      "Epoch 46/100\n",
      "6159/6159 - 0s - loss: 0.3470 - accuracy: 0.8268\n",
      "Epoch 47/100\n",
      "6159/6159 - 0s - loss: 0.3454 - accuracy: 0.8297\n",
      "Epoch 48/100\n",
      "6159/6159 - 0s - loss: 0.3446 - accuracy: 0.8276\n",
      "Epoch 49/100\n",
      "6159/6159 - 0s - loss: 0.3422 - accuracy: 0.8290\n",
      "Epoch 50/100\n",
      "6159/6159 - 0s - loss: 0.3401 - accuracy: 0.8311\n",
      "Epoch 51/100\n",
      "6159/6159 - 0s - loss: 0.3397 - accuracy: 0.8320\n",
      "Epoch 52/100\n",
      "6159/6159 - 0s - loss: 0.3371 - accuracy: 0.8321\n",
      "Epoch 53/100\n",
      "6159/6159 - 0s - loss: 0.3379 - accuracy: 0.8362\n",
      "Epoch 54/100\n",
      "6159/6159 - 0s - loss: 0.3348 - accuracy: 0.8354\n",
      "Epoch 55/100\n",
      "6159/6159 - 0s - loss: 0.3378 - accuracy: 0.8302\n",
      "Epoch 56/100\n",
      "6159/6159 - 0s - loss: 0.3315 - accuracy: 0.8346\n",
      "Epoch 57/100\n",
      "6159/6159 - 0s - loss: 0.3310 - accuracy: 0.8371\n",
      "Epoch 58/100\n",
      "6159/6159 - 0s - loss: 0.3293 - accuracy: 0.8350\n",
      "Epoch 59/100\n",
      "6159/6159 - 0s - loss: 0.3311 - accuracy: 0.8350\n",
      "Epoch 60/100\n",
      "6159/6159 - 0s - loss: 0.3304 - accuracy: 0.8333\n",
      "Epoch 61/100\n",
      "6159/6159 - 0s - loss: 0.3273 - accuracy: 0.8324\n",
      "Epoch 62/100\n",
      "6159/6159 - 0s - loss: 0.3263 - accuracy: 0.8362\n",
      "Epoch 63/100\n",
      "6159/6159 - 0s - loss: 0.3272 - accuracy: 0.8355\n",
      "Epoch 64/100\n",
      "6159/6159 - 0s - loss: 0.3240 - accuracy: 0.8376\n",
      "Epoch 65/100\n",
      "6159/6159 - 0s - loss: 0.3217 - accuracy: 0.8407\n",
      "Epoch 66/100\n",
      "6159/6159 - 0s - loss: 0.3197 - accuracy: 0.8404\n",
      "Epoch 67/100\n",
      "6159/6159 - 0s - loss: 0.3283 - accuracy: 0.8363\n",
      "Epoch 68/100\n",
      "6159/6159 - 0s - loss: 0.3207 - accuracy: 0.8404\n",
      "Epoch 69/100\n",
      "6159/6159 - 0s - loss: 0.3196 - accuracy: 0.8373\n",
      "Epoch 70/100\n",
      "6159/6159 - 0s - loss: 0.3167 - accuracy: 0.8440\n",
      "Epoch 71/100\n",
      "6159/6159 - 0s - loss: 0.3156 - accuracy: 0.8407\n",
      "Epoch 72/100\n",
      "6159/6159 - 0s - loss: 0.3145 - accuracy: 0.8446\n",
      "Epoch 73/100\n",
      "6159/6159 - 0s - loss: 0.3131 - accuracy: 0.8454\n",
      "Epoch 74/100\n",
      "6159/6159 - 0s - loss: 0.3129 - accuracy: 0.8423\n",
      "Epoch 75/100\n",
      "6159/6159 - 0s - loss: 0.3165 - accuracy: 0.8454\n",
      "Epoch 76/100\n",
      "6159/6159 - 0s - loss: 0.3098 - accuracy: 0.8506\n",
      "Epoch 77/100\n",
      "6159/6159 - 0s - loss: 0.3128 - accuracy: 0.8451\n",
      "Epoch 78/100\n",
      "6159/6159 - 0s - loss: 0.3091 - accuracy: 0.8501\n",
      "Epoch 79/100\n",
      "6159/6159 - 0s - loss: 0.3108 - accuracy: 0.8440\n",
      "Epoch 80/100\n",
      "6159/6159 - 0s - loss: 0.3052 - accuracy: 0.8480\n",
      "Epoch 81/100\n",
      "6159/6159 - 0s - loss: 0.3040 - accuracy: 0.8488\n",
      "Epoch 82/100\n",
      "6159/6159 - 0s - loss: 0.3066 - accuracy: 0.8469\n",
      "Epoch 83/100\n",
      "6159/6159 - 0s - loss: 0.3088 - accuracy: 0.8492\n",
      "Epoch 84/100\n",
      "6159/6159 - 0s - loss: 0.3038 - accuracy: 0.8497\n",
      "Epoch 85/100\n",
      "6159/6159 - 0s - loss: 0.3021 - accuracy: 0.8526\n",
      "Epoch 86/100\n",
      "6159/6159 - 0s - loss: 0.3014 - accuracy: 0.8516\n",
      "Epoch 87/100\n",
      "6159/6159 - 0s - loss: 0.3017 - accuracy: 0.8542\n",
      "Epoch 88/100\n",
      "6159/6159 - 0s - loss: 0.3002 - accuracy: 0.8514\n",
      "Epoch 89/100\n",
      "6159/6159 - 0s - loss: 0.3002 - accuracy: 0.8511\n",
      "Epoch 90/100\n",
      "6159/6159 - 0s - loss: 0.2976 - accuracy: 0.8542\n",
      "Epoch 91/100\n",
      "6159/6159 - 0s - loss: 0.2974 - accuracy: 0.8539\n",
      "Epoch 92/100\n",
      "6159/6159 - 0s - loss: 0.2987 - accuracy: 0.8521\n",
      "Epoch 93/100\n",
      "6159/6159 - 0s - loss: 0.2972 - accuracy: 0.8535\n",
      "Epoch 94/100\n",
      "6159/6159 - 0s - loss: 0.2938 - accuracy: 0.8571\n",
      "Epoch 95/100\n",
      "6159/6159 - 0s - loss: 0.2930 - accuracy: 0.8550\n",
      "Epoch 96/100\n",
      "6159/6159 - 0s - loss: 0.2898 - accuracy: 0.8581\n",
      "Epoch 97/100\n",
      "6159/6159 - 0s - loss: 0.2873 - accuracy: 0.8570\n",
      "Epoch 98/100\n",
      "6159/6159 - 0s - loss: 0.2924 - accuracy: 0.8578\n",
      "Epoch 99/100\n",
      "6159/6159 - 0s - loss: 0.2894 - accuracy: 0.8552\n",
      "Epoch 100/100\n",
      "6159/6159 - 0s - loss: 0.2860 - accuracy: 0.8583\n"
     ]
    },
    {
     "data": {
      "text/plain": [
       "<tensorflow.python.keras.callbacks.History at 0x15fc75f0400>"
      ]
     },
     "execution_count": 34,
     "metadata": {},
     "output_type": "execute_result"
    }
   ],
   "source": [
    "model.fit(\n",
    "    X_train_scaled,\n",
    "    y_train_categorical,\n",
    "    epochs=100,\n",
    "    shuffle=True,\n",
    "    verbose=2\n",
    ")"
   ]
  },
  {
   "cell_type": "markdown",
   "metadata": {},
   "source": [
    "## Quantify our Trained Model"
   ]
  },
  {
   "cell_type": "code",
   "execution_count": 35,
   "metadata": {},
   "outputs": [
    {
     "name": "stdout",
     "output_type": "stream",
     "text": [
      "2054/1 - 0s - loss: 0.3138 - accuracy: 0.8281\n",
      "Normal Neural Network - Loss: 0.4739437467747793, Accuracy: 0.8281401991844177\n"
     ]
    }
   ],
   "source": [
    "model_loss, model_accuracy = model.evaluate(\n",
    "    X_test_scaled, y_test_categorical, verbose=2)\n",
    "print(\n",
    "    f\"Normal Neural Network - Loss: {model_loss}, Accuracy: {model_accuracy}\")"
   ]
  },
  {
   "cell_type": "markdown",
   "metadata": {
    "slideshow": {
     "slide_type": "subslide"
    }
   },
   "source": [
    "## Make Predictions"
   ]
  },
  {
   "cell_type": "code",
   "execution_count": 38,
   "metadata": {
    "nbgrader": {
     "grade": false,
     "grade_id": "cell-f97eb3e97245187b",
     "locked": false,
     "schema_version": 1,
     "solution": true
    },
    "slideshow": {
     "slide_type": "fragment"
    }
   },
   "outputs": [],
   "source": [
    "encoded_predictions = model.predict_classes(X_test_scaled)\n",
    "prediction_labels = label_encoder.inverse_transform(encoded_predictions)"
   ]
  },
  {
   "cell_type": "code",
   "execution_count": 40,
   "metadata": {},
   "outputs": [
    {
     "data": {
      "text/html": [
       "<div>\n",
       "<style scoped>\n",
       "    .dataframe tbody tr th:only-of-type {\n",
       "        vertical-align: middle;\n",
       "    }\n",
       "\n",
       "    .dataframe tbody tr th {\n",
       "        vertical-align: top;\n",
       "    }\n",
       "\n",
       "    .dataframe thead th {\n",
       "        text-align: right;\n",
       "    }\n",
       "</style>\n",
       "<table border=\"1\" class=\"dataframe\">\n",
       "  <thead>\n",
       "    <tr style=\"text-align: right;\">\n",
       "      <th></th>\n",
       "      <th>prediction</th>\n",
       "      <th>actual</th>\n",
       "    </tr>\n",
       "  </thead>\n",
       "  <tbody>\n",
       "    <tr>\n",
       "      <th>4985</th>\n",
       "      <td>fue</td>\n",
       "      <td>fue</td>\n",
       "    </tr>\n",
       "    <tr>\n",
       "      <th>522</th>\n",
       "      <td>fue</td>\n",
       "      <td>fue</td>\n",
       "    </tr>\n",
       "    <tr>\n",
       "      <th>7209</th>\n",
       "      <td>fue</td>\n",
       "      <td>fue</td>\n",
       "    </tr>\n",
       "    <tr>\n",
       "      <th>4396</th>\n",
       "      <td>fue</td>\n",
       "      <td>fue</td>\n",
       "    </tr>\n",
       "    <tr>\n",
       "      <th>5909</th>\n",
       "      <td>fue</td>\n",
       "      <td>fue</td>\n",
       "    </tr>\n",
       "  </tbody>\n",
       "</table>\n",
       "</div>"
      ],
      "text/plain": [
       "     prediction actual\n",
       "4985        fue    fue\n",
       "522         fue    fue\n",
       "7209        fue    fue\n",
       "4396        fue    fue\n",
       "5909        fue    fue"
      ]
     },
     "execution_count": 40,
     "metadata": {},
     "output_type": "execute_result"
    }
   ],
   "source": [
    "results = pd.DataFrame({\n",
    "\"prediction\": prediction_labels,\n",
    "\"actual\": y_test\n",
    "})\n",
    "results.head()"
   ]
  },
  {
   "cell_type": "code",
   "execution_count": 43,
   "metadata": {},
   "outputs": [],
   "source": [
    "results[\"diffs\"] = results[\"prediction\"] == results[\"actual\"]"
   ]
  },
  {
   "cell_type": "code",
   "execution_count": 44,
   "metadata": {},
   "outputs": [
    {
     "data": {
      "text/html": [
       "<div>\n",
       "<style scoped>\n",
       "    .dataframe tbody tr th:only-of-type {\n",
       "        vertical-align: middle;\n",
       "    }\n",
       "\n",
       "    .dataframe tbody tr th {\n",
       "        vertical-align: top;\n",
       "    }\n",
       "\n",
       "    .dataframe thead th {\n",
       "        text-align: right;\n",
       "    }\n",
       "</style>\n",
       "<table border=\"1\" class=\"dataframe\">\n",
       "  <thead>\n",
       "    <tr style=\"text-align: right;\">\n",
       "      <th></th>\n",
       "      <th>prediction</th>\n",
       "      <th>actual</th>\n",
       "      <th>diffs</th>\n",
       "    </tr>\n",
       "  </thead>\n",
       "  <tbody>\n",
       "    <tr>\n",
       "      <th>4985</th>\n",
       "      <td>fue</td>\n",
       "      <td>fue</td>\n",
       "      <td>True</td>\n",
       "    </tr>\n",
       "    <tr>\n",
       "      <th>522</th>\n",
       "      <td>fue</td>\n",
       "      <td>fue</td>\n",
       "      <td>True</td>\n",
       "    </tr>\n",
       "    <tr>\n",
       "      <th>7209</th>\n",
       "      <td>fue</td>\n",
       "      <td>fue</td>\n",
       "      <td>True</td>\n",
       "    </tr>\n",
       "    <tr>\n",
       "      <th>4396</th>\n",
       "      <td>fue</td>\n",
       "      <td>fue</td>\n",
       "      <td>True</td>\n",
       "    </tr>\n",
       "    <tr>\n",
       "      <th>5909</th>\n",
       "      <td>fue</td>\n",
       "      <td>fue</td>\n",
       "      <td>True</td>\n",
       "    </tr>\n",
       "  </tbody>\n",
       "</table>\n",
       "</div>"
      ],
      "text/plain": [
       "     prediction actual  diffs\n",
       "4985        fue    fue   True\n",
       "522         fue    fue   True\n",
       "7209        fue    fue   True\n",
       "4396        fue    fue   True\n",
       "5909        fue    fue   True"
      ]
     },
     "execution_count": 44,
     "metadata": {},
     "output_type": "execute_result"
    }
   ],
   "source": [
    "results.head()"
   ]
  },
  {
   "cell_type": "code",
   "execution_count": 46,
   "metadata": {},
   "outputs": [
    {
     "data": {
      "text/plain": [
       "True    2054\n",
       "Name: diffs, dtype: int64"
      ]
     },
     "execution_count": 46,
     "metadata": {},
     "output_type": "execute_result"
    }
   ],
   "source": [
    "results[\"diffs\"].value_counts()"
   ]
  },
  {
   "cell_type": "code",
   "execution_count": 45,
   "metadata": {},
   "outputs": [
    {
     "data": {
      "text/html": [
       "<div>\n",
       "<style scoped>\n",
       "    .dataframe tbody tr th:only-of-type {\n",
       "        vertical-align: middle;\n",
       "    }\n",
       "\n",
       "    .dataframe tbody tr th {\n",
       "        vertical-align: top;\n",
       "    }\n",
       "\n",
       "    .dataframe thead th {\n",
       "        text-align: right;\n",
       "    }\n",
       "</style>\n",
       "<table border=\"1\" class=\"dataframe\">\n",
       "  <thead>\n",
       "    <tr style=\"text-align: right;\">\n",
       "      <th></th>\n",
       "      <th>prediction</th>\n",
       "      <th>actual</th>\n",
       "      <th>diffs</th>\n",
       "    </tr>\n",
       "  </thead>\n",
       "  <tbody>\n",
       "  </tbody>\n",
       "</table>\n",
       "</div>"
      ],
      "text/plain": [
       "Empty DataFrame\n",
       "Columns: [prediction, actual, diffs]\n",
       "Index: []"
      ]
     },
     "execution_count": 45,
     "metadata": {},
     "output_type": "execute_result"
    }
   ],
   "source": [
    "results.loc[results[\"diffs\"] == False]"
   ]
  },
  {
   "cell_type": "code",
   "execution_count": null,
   "metadata": {},
   "outputs": [],
   "source": []
  }
 ],
 "metadata": {
  "kernelspec": {
   "display_name": "Python 3",
   "language": "python",
   "name": "python3"
  },
  "language_info": {
   "codemirror_mode": {
    "name": "ipython",
    "version": 3
   },
   "file_extension": ".py",
   "mimetype": "text/x-python",
   "name": "python",
   "nbconvert_exporter": "python",
   "pygments_lexer": "ipython3",
   "version": "3.6.8"
  },
  "varInspector": {
   "cols": {
    "lenName": 16,
    "lenType": 16,
    "lenVar": 40
   },
   "kernels_config": {
    "python": {
     "delete_cmd_postfix": "",
     "delete_cmd_prefix": "del ",
     "library": "var_list.py",
     "varRefreshCmd": "print(var_dic_list())"
    },
    "r": {
     "delete_cmd_postfix": ") ",
     "delete_cmd_prefix": "rm(",
     "library": "var_list.r",
     "varRefreshCmd": "cat(var_dic_list()) "
    }
   },
   "types_to_exclude": [
    "module",
    "function",
    "builtin_function_or_method",
    "instance",
    "_Feature"
   ],
   "window_display": false
  }
 },
 "nbformat": 4,
 "nbformat_minor": 2
}
