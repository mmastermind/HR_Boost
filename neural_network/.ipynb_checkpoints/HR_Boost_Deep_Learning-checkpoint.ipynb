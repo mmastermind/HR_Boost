{
 "cells": [
  {
   "cell_type": "code",
   "execution_count": 1,
   "metadata": {},
   "outputs": [],
   "source": [
    "# Set the seed value for the notebook so the results are reproducible\n",
    "from numpy.random import seed\n",
    "seed(1)"
   ]
  },
  {
   "cell_type": "code",
   "execution_count": 2,
   "metadata": {
    "slideshow": {
     "slide_type": "subslide"
    }
   },
   "outputs": [],
   "source": [
    "# Dependencies\n",
    "import numpy as np\n",
    "import pandas as pd"
   ]
  },
  {
   "cell_type": "code",
   "execution_count": 3,
   "metadata": {},
   "outputs": [],
   "source": [
    "import tensorflow"
   ]
  },
  {
   "cell_type": "code",
   "execution_count": 4,
   "metadata": {
    "slideshow": {
     "slide_type": "fragment"
    }
   },
   "outputs": [
    {
     "data": {
      "text/html": [
       "<div>\n",
       "<style scoped>\n",
       "    .dataframe tbody tr th:only-of-type {\n",
       "        vertical-align: middle;\n",
       "    }\n",
       "\n",
       "    .dataframe tbody tr th {\n",
       "        vertical-align: top;\n",
       "    }\n",
       "\n",
       "    .dataframe thead th {\n",
       "        text-align: right;\n",
       "    }\n",
       "</style>\n",
       "<table border=\"1\" class=\"dataframe\">\n",
       "  <thead>\n",
       "    <tr style=\"text-align: right;\">\n",
       "      <th></th>\n",
       "      <th>sem_x</th>\n",
       "      <th>codigo_x</th>\n",
       "      <th>dias_pag</th>\n",
       "      <th>dias_lab</th>\n",
       "      <th>sueldo</th>\n",
       "      <th>comp</th>\n",
       "      <th>asist</th>\n",
       "      <th>transp</th>\n",
       "      <th>vales_x</th>\n",
       "      <th>te_dob</th>\n",
       "      <th>...</th>\n",
       "      <th>t_per</th>\n",
       "      <th>t_ded</th>\n",
       "      <th>neto</th>\n",
       "      <th>antig</th>\n",
       "      <th>depto</th>\n",
       "      <th>puesto</th>\n",
       "      <th>label</th>\n",
       "      <th>tiempov</th>\n",
       "      <th>dist</th>\n",
       "      <th>delitos</th>\n",
       "    </tr>\n",
       "  </thead>\n",
       "  <tbody>\n",
       "    <tr>\n",
       "      <th>0</th>\n",
       "      <td>1</td>\n",
       "      <td>7505</td>\n",
       "      <td>7.0</td>\n",
       "      <td>5.0</td>\n",
       "      <td>618.52</td>\n",
       "      <td>132.86</td>\n",
       "      <td>60.0</td>\n",
       "      <td>60.0</td>\n",
       "      <td>120.22</td>\n",
       "      <td>0.0</td>\n",
       "      <td>...</td>\n",
       "      <td>1029.86</td>\n",
       "      <td>21.63</td>\n",
       "      <td>1008.23</td>\n",
       "      <td>468</td>\n",
       "      <td>82</td>\n",
       "      <td>0003A</td>\n",
       "      <td>1</td>\n",
       "      <td>11.188</td>\n",
       "      <td>24.283333</td>\n",
       "      <td>0</td>\n",
       "    </tr>\n",
       "    <tr>\n",
       "      <th>1</th>\n",
       "      <td>1</td>\n",
       "      <td>6600</td>\n",
       "      <td>7.0</td>\n",
       "      <td>5.0</td>\n",
       "      <td>618.52</td>\n",
       "      <td>132.86</td>\n",
       "      <td>60.0</td>\n",
       "      <td>60.0</td>\n",
       "      <td>120.22</td>\n",
       "      <td>0.0</td>\n",
       "      <td>...</td>\n",
       "      <td>1029.86</td>\n",
       "      <td>22.60</td>\n",
       "      <td>1007.26</td>\n",
       "      <td>1187</td>\n",
       "      <td>80</td>\n",
       "      <td>0001</td>\n",
       "      <td>1</td>\n",
       "      <td>8.079</td>\n",
       "      <td>27.766667</td>\n",
       "      <td>46</td>\n",
       "    </tr>\n",
       "    <tr>\n",
       "      <th>2</th>\n",
       "      <td>1</td>\n",
       "      <td>7515</td>\n",
       "      <td>7.0</td>\n",
       "      <td>5.0</td>\n",
       "      <td>618.52</td>\n",
       "      <td>132.86</td>\n",
       "      <td>60.0</td>\n",
       "      <td>60.0</td>\n",
       "      <td>120.22</td>\n",
       "      <td>0.0</td>\n",
       "      <td>...</td>\n",
       "      <td>1029.86</td>\n",
       "      <td>21.53</td>\n",
       "      <td>1008.33</td>\n",
       "      <td>202</td>\n",
       "      <td>72</td>\n",
       "      <td>0001</td>\n",
       "      <td>0</td>\n",
       "      <td>8.400</td>\n",
       "      <td>21.900000</td>\n",
       "      <td>0</td>\n",
       "    </tr>\n",
       "    <tr>\n",
       "      <th>3</th>\n",
       "      <td>1</td>\n",
       "      <td>5933</td>\n",
       "      <td>7.0</td>\n",
       "      <td>5.0</td>\n",
       "      <td>618.52</td>\n",
       "      <td>132.86</td>\n",
       "      <td>60.0</td>\n",
       "      <td>60.0</td>\n",
       "      <td>120.22</td>\n",
       "      <td>0.0</td>\n",
       "      <td>...</td>\n",
       "      <td>1029.86</td>\n",
       "      <td>21.45</td>\n",
       "      <td>1008.41</td>\n",
       "      <td>1582</td>\n",
       "      <td>51</td>\n",
       "      <td>0001</td>\n",
       "      <td>1</td>\n",
       "      <td>3.738</td>\n",
       "      <td>10.183333</td>\n",
       "      <td>21</td>\n",
       "    </tr>\n",
       "    <tr>\n",
       "      <th>4</th>\n",
       "      <td>1</td>\n",
       "      <td>7170</td>\n",
       "      <td>7.0</td>\n",
       "      <td>5.0</td>\n",
       "      <td>618.52</td>\n",
       "      <td>132.86</td>\n",
       "      <td>60.0</td>\n",
       "      <td>60.0</td>\n",
       "      <td>120.22</td>\n",
       "      <td>0.0</td>\n",
       "      <td>...</td>\n",
       "      <td>1491.60</td>\n",
       "      <td>50.12</td>\n",
       "      <td>1441.48</td>\n",
       "      <td>774</td>\n",
       "      <td>57</td>\n",
       "      <td>0001</td>\n",
       "      <td>1</td>\n",
       "      <td>8.113</td>\n",
       "      <td>20.516667</td>\n",
       "      <td>0</td>\n",
       "    </tr>\n",
       "  </tbody>\n",
       "</table>\n",
       "<p>5 rows × 49 columns</p>\n",
       "</div>"
      ],
      "text/plain": [
       "   sem_x  codigo_x  dias_pag  dias_lab  sueldo    comp  asist  transp  \\\n",
       "0      1      7505       7.0       5.0  618.52  132.86   60.0    60.0   \n",
       "1      1      6600       7.0       5.0  618.52  132.86   60.0    60.0   \n",
       "2      1      7515       7.0       5.0  618.52  132.86   60.0    60.0   \n",
       "3      1      5933       7.0       5.0  618.52  132.86   60.0    60.0   \n",
       "4      1      7170       7.0       5.0  618.52  132.86   60.0    60.0   \n",
       "\n",
       "   vales_x  te_dob  ...    t_per  t_ded     neto  antig  depto  puesto  label  \\\n",
       "0   120.22     0.0  ...  1029.86  21.63  1008.23    468     82   0003A      1   \n",
       "1   120.22     0.0  ...  1029.86  22.60  1007.26   1187     80    0001      1   \n",
       "2   120.22     0.0  ...  1029.86  21.53  1008.33    202     72    0001      0   \n",
       "3   120.22     0.0  ...  1029.86  21.45  1008.41   1582     51    0001      1   \n",
       "4   120.22     0.0  ...  1491.60  50.12  1441.48    774     57    0001      1   \n",
       "\n",
       "   tiempov       dist  delitos  \n",
       "0   11.188  24.283333        0  \n",
       "1    8.079  27.766667       46  \n",
       "2    8.400  21.900000        0  \n",
       "3    3.738  10.183333       21  \n",
       "4    8.113  20.516667        0  \n",
       "\n",
       "[5 rows x 49 columns]"
      ]
     },
     "execution_count": 4,
     "metadata": {},
     "output_type": "execute_result"
    }
   ],
   "source": [
    "df_2018 = pd.read_csv('Resources/CONSOLIDADO_2018.csv', index_col=0)\n",
    "df_2018.head()"
   ]
  },
  {
   "cell_type": "code",
   "execution_count": 5,
   "metadata": {},
   "outputs": [
    {
     "data": {
      "text/html": [
       "<div>\n",
       "<style scoped>\n",
       "    .dataframe tbody tr th:only-of-type {\n",
       "        vertical-align: middle;\n",
       "    }\n",
       "\n",
       "    .dataframe tbody tr th {\n",
       "        vertical-align: top;\n",
       "    }\n",
       "\n",
       "    .dataframe thead th {\n",
       "        text-align: right;\n",
       "    }\n",
       "</style>\n",
       "<table border=\"1\" class=\"dataframe\">\n",
       "  <thead>\n",
       "    <tr style=\"text-align: right;\">\n",
       "      <th></th>\n",
       "      <th>sem_x</th>\n",
       "      <th>codigo_x</th>\n",
       "      <th>dias_pag</th>\n",
       "      <th>dias_lab</th>\n",
       "      <th>sueldo</th>\n",
       "      <th>comp</th>\n",
       "      <th>asist</th>\n",
       "      <th>transp</th>\n",
       "      <th>vales_x</th>\n",
       "      <th>te_dob</th>\n",
       "      <th>...</th>\n",
       "      <th>t_per</th>\n",
       "      <th>t_ded</th>\n",
       "      <th>neto</th>\n",
       "      <th>antig</th>\n",
       "      <th>depto</th>\n",
       "      <th>puesto</th>\n",
       "      <th>label</th>\n",
       "      <th>tiempov</th>\n",
       "      <th>dist</th>\n",
       "      <th>delitos</th>\n",
       "    </tr>\n",
       "  </thead>\n",
       "  <tbody>\n",
       "    <tr>\n",
       "      <th>0</th>\n",
       "      <td>1</td>\n",
       "      <td>7840</td>\n",
       "      <td>7.0</td>\n",
       "      <td>5.0</td>\n",
       "      <td>1143.52</td>\n",
       "      <td>462.91</td>\n",
       "      <td>60.0</td>\n",
       "      <td>60.0</td>\n",
       "      <td>257.02</td>\n",
       "      <td>367.56</td>\n",
       "      <td>...</td>\n",
       "      <td>3351.59</td>\n",
       "      <td>340.18</td>\n",
       "      <td>3011.41</td>\n",
       "      <td>39</td>\n",
       "      <td>87</td>\n",
       "      <td>0185</td>\n",
       "      <td>0</td>\n",
       "      <td>4.940</td>\n",
       "      <td>6.433333</td>\n",
       "      <td>0</td>\n",
       "    </tr>\n",
       "    <tr>\n",
       "      <th>1</th>\n",
       "      <td>1</td>\n",
       "      <td>7505</td>\n",
       "      <td>7.0</td>\n",
       "      <td>5.0</td>\n",
       "      <td>721.00</td>\n",
       "      <td>173.04</td>\n",
       "      <td>60.0</td>\n",
       "      <td>60.0</td>\n",
       "      <td>143.04</td>\n",
       "      <td>0.00</td>\n",
       "      <td>...</td>\n",
       "      <td>1863.08</td>\n",
       "      <td>86.05</td>\n",
       "      <td>1777.03</td>\n",
       "      <td>520</td>\n",
       "      <td>82</td>\n",
       "      <td>0003A</td>\n",
       "      <td>0</td>\n",
       "      <td>11.188</td>\n",
       "      <td>24.283333</td>\n",
       "      <td>0</td>\n",
       "    </tr>\n",
       "    <tr>\n",
       "      <th>2</th>\n",
       "      <td>1</td>\n",
       "      <td>6600</td>\n",
       "      <td>7.0</td>\n",
       "      <td>5.0</td>\n",
       "      <td>721.00</td>\n",
       "      <td>30.38</td>\n",
       "      <td>60.0</td>\n",
       "      <td>50.0</td>\n",
       "      <td>120.22</td>\n",
       "      <td>180.25</td>\n",
       "      <td>...</td>\n",
       "      <td>1194.98</td>\n",
       "      <td>21.07</td>\n",
       "      <td>1173.91</td>\n",
       "      <td>1503</td>\n",
       "      <td>80</td>\n",
       "      <td>0002A</td>\n",
       "      <td>1</td>\n",
       "      <td>8.079</td>\n",
       "      <td>27.766667</td>\n",
       "      <td>46</td>\n",
       "    </tr>\n",
       "    <tr>\n",
       "      <th>3</th>\n",
       "      <td>1</td>\n",
       "      <td>7685</td>\n",
       "      <td>7.0</td>\n",
       "      <td>5.0</td>\n",
       "      <td>721.00</td>\n",
       "      <td>30.38</td>\n",
       "      <td>60.0</td>\n",
       "      <td>60.0</td>\n",
       "      <td>120.22</td>\n",
       "      <td>0.00</td>\n",
       "      <td>...</td>\n",
       "      <td>1056.69</td>\n",
       "      <td>28.04</td>\n",
       "      <td>1028.65</td>\n",
       "      <td>522</td>\n",
       "      <td>5</td>\n",
       "      <td>0002A</td>\n",
       "      <td>1</td>\n",
       "      <td>9.926</td>\n",
       "      <td>22.383333</td>\n",
       "      <td>0</td>\n",
       "    </tr>\n",
       "    <tr>\n",
       "      <th>4</th>\n",
       "      <td>1</td>\n",
       "      <td>7331</td>\n",
       "      <td>7.0</td>\n",
       "      <td>5.0</td>\n",
       "      <td>721.00</td>\n",
       "      <td>30.38</td>\n",
       "      <td>60.0</td>\n",
       "      <td>60.0</td>\n",
       "      <td>120.22</td>\n",
       "      <td>103.00</td>\n",
       "      <td>...</td>\n",
       "      <td>1129.56</td>\n",
       "      <td>24.71</td>\n",
       "      <td>1104.85</td>\n",
       "      <td>338</td>\n",
       "      <td>45</td>\n",
       "      <td>0001</td>\n",
       "      <td>0</td>\n",
       "      <td>8.901</td>\n",
       "      <td>17.116667</td>\n",
       "      <td>59</td>\n",
       "    </tr>\n",
       "  </tbody>\n",
       "</table>\n",
       "<p>5 rows × 49 columns</p>\n",
       "</div>"
      ],
      "text/plain": [
       "   sem_x  codigo_x  dias_pag  dias_lab   sueldo    comp  asist  transp  \\\n",
       "0      1      7840       7.0       5.0  1143.52  462.91   60.0    60.0   \n",
       "1      1      7505       7.0       5.0   721.00  173.04   60.0    60.0   \n",
       "2      1      6600       7.0       5.0   721.00   30.38   60.0    50.0   \n",
       "3      1      7685       7.0       5.0   721.00   30.38   60.0    60.0   \n",
       "4      1      7331       7.0       5.0   721.00   30.38   60.0    60.0   \n",
       "\n",
       "   vales_x  te_dob  ...    t_per   t_ded     neto  antig  depto  puesto  \\\n",
       "0   257.02  367.56  ...  3351.59  340.18  3011.41     39     87    0185   \n",
       "1   143.04    0.00  ...  1863.08   86.05  1777.03    520     82   0003A   \n",
       "2   120.22  180.25  ...  1194.98   21.07  1173.91   1503     80   0002A   \n",
       "3   120.22    0.00  ...  1056.69   28.04  1028.65    522      5   0002A   \n",
       "4   120.22  103.00  ...  1129.56   24.71  1104.85    338     45    0001   \n",
       "\n",
       "   label  tiempov       dist  delitos  \n",
       "0      0    4.940   6.433333        0  \n",
       "1      0   11.188  24.283333        0  \n",
       "2      1    8.079  27.766667       46  \n",
       "3      1    9.926  22.383333        0  \n",
       "4      0    8.901  17.116667       59  \n",
       "\n",
       "[5 rows x 49 columns]"
      ]
     },
     "execution_count": 5,
     "metadata": {},
     "output_type": "execute_result"
    }
   ],
   "source": [
    "df_2019 = pd.read_csv('Resources/CONSOLIDADO_2019.csv', index_col=0)\n",
    "df_2019.head()"
   ]
  },
  {
   "cell_type": "code",
   "execution_count": 6,
   "metadata": {},
   "outputs": [],
   "source": [
    "def labeling(row):\n",
    "    sigue = \"sigue\"\n",
    "    fue = \"fue\"\n",
    "    if row == 0:\n",
    "        return fue\n",
    "    else:\n",
    "        return sigue"
   ]
  },
  {
   "cell_type": "code",
   "execution_count": 7,
   "metadata": {},
   "outputs": [],
   "source": [
    "df_2018[\"label\"] = df_2018[\"label\"].apply(lambda row: labeling(row))"
   ]
  },
  {
   "cell_type": "code",
   "execution_count": 8,
   "metadata": {},
   "outputs": [],
   "source": [
    "df_2019[\"label\"] = df_2019[\"label\"].apply(lambda row: labeling(row))"
   ]
  },
  {
   "cell_type": "code",
   "execution_count": 9,
   "metadata": {},
   "outputs": [],
   "source": [
    "#df_2019_Q1 = df_2019.loc[df_2019[\"sem_x\"] <= 13]"
   ]
  },
  {
   "cell_type": "code",
   "execution_count": 10,
   "metadata": {},
   "outputs": [
    {
     "data": {
      "text/plain": [
       "sigue    7172\n",
       "fue      2980\n",
       "Name: label, dtype: int64"
      ]
     },
     "execution_count": 10,
     "metadata": {},
     "output_type": "execute_result"
    }
   ],
   "source": [
    "df_2018[\"label\"].value_counts()"
   ]
  },
  {
   "cell_type": "code",
   "execution_count": 11,
   "metadata": {},
   "outputs": [
    {
     "data": {
      "text/plain": [
       "sigue    5552\n",
       "fue      2661\n",
       "Name: label, dtype: int64"
      ]
     },
     "execution_count": 11,
     "metadata": {},
     "output_type": "execute_result"
    }
   ],
   "source": [
    "df_2019[\"label\"].value_counts()"
   ]
  },
  {
   "cell_type": "code",
   "execution_count": 12,
   "metadata": {},
   "outputs": [],
   "source": [
    "#df_2019_Q1[\"label\"].value_counts()"
   ]
  },
  {
   "cell_type": "code",
   "execution_count": 13,
   "metadata": {},
   "outputs": [
    {
     "data": {
      "text/plain": [
       "False"
      ]
     },
     "execution_count": 13,
     "metadata": {},
     "output_type": "execute_result"
    }
   ],
   "source": [
    "df_2018.isna().values.any()"
   ]
  },
  {
   "cell_type": "code",
   "execution_count": 14,
   "metadata": {},
   "outputs": [
    {
     "data": {
      "text/plain": [
       "False"
      ]
     },
     "execution_count": 14,
     "metadata": {},
     "output_type": "execute_result"
    }
   ],
   "source": [
    "df_2019.isna().values.any()"
   ]
  },
  {
   "cell_type": "code",
   "execution_count": 15,
   "metadata": {},
   "outputs": [],
   "source": [
    "df_2018 = df_2018.set_index(\"codigo_x\")"
   ]
  },
  {
   "cell_type": "code",
   "execution_count": 16,
   "metadata": {},
   "outputs": [],
   "source": [
    "df_2019 = df_2019.set_index(\"codigo_x\")"
   ]
  },
  {
   "cell_type": "code",
   "execution_count": 17,
   "metadata": {},
   "outputs": [],
   "source": [
    "df_2018 = df_2018[[\"dias_pag\",\"dias_lab\",\"sueldo\",\"comp\",\"asist\",\"transp\",\"vales_x\",\"te_dob\",\n",
    "          \"te_trip\",\"desc_Lab\",\"fest_lab\",\"dominic\",\"perc_grav\",\"obj\",\"aguin\",\"vac\",\"prim_vac\",\n",
    "          \"grat_esp\",\"util\",\"zapatos\",\"otras\",\"fonac\",\"alim\",\"infon\",\"falt\",\"enf\",\"ries\",\"antig\",\n",
    "          \"tiempov\",\"dist\",\"delitos\",\"label\"]]"
   ]
  },
  {
   "cell_type": "code",
   "execution_count": 18,
   "metadata": {},
   "outputs": [],
   "source": [
    "df_2019 = df_2019[[\"dias_pag\",\"dias_lab\",\"sueldo\",\"comp\",\"asist\",\"transp\",\"vales_x\",\"te_dob\",\n",
    "          \"te_trip\",\"desc_Lab\",\"fest_lab\",\"dominic\",\"perc_grav\",\"obj\",\"aguin\",\"vac\",\"prim_vac\",\n",
    "          \"grat_esp\",\"util\",\"zapatos\",\"otras\",\"fonac\",\"alim\",\"infon\",\"falt\",\"enf\",\"ries\",\"antig\",\n",
    "          \"tiempov\",\"dist\",\"delitos\",\"label\"]]"
   ]
  },
  {
   "cell_type": "markdown",
   "metadata": {
    "slideshow": {
     "slide_type": "subslide"
    }
   },
   "source": [
    "## Data Pre-Processing"
   ]
  },
  {
   "cell_type": "code",
   "execution_count": 19,
   "metadata": {
    "nbgrader": {
     "grade": false,
     "grade_id": "cell-86a9e3212f200d21",
     "locked": false,
     "schema_version": 1,
     "solution": true
    },
    "slideshow": {
     "slide_type": "subslide"
    }
   },
   "outputs": [],
   "source": [
    "X_train = df_2018.drop(\"label\", axis=1)\n",
    "X_test = df_2019.drop(\"label\", axis=1)\n",
    "y_train = df_2018[\"label\"]\n",
    "y_test = df_2019[\"label\"]"
   ]
  },
  {
   "cell_type": "code",
   "execution_count": 20,
   "metadata": {
    "nbgrader": {
     "grade": false,
     "grade_id": "cell-711a82d9b32c83ff",
     "locked": false,
     "schema_version": 1,
     "solution": true
    },
    "slideshow": {
     "slide_type": "fragment"
    }
   },
   "outputs": [],
   "source": [
    "from sklearn.preprocessing import LabelEncoder, MinMaxScaler\n",
    "from tensorflow.keras.utils import to_categorical"
   ]
  },
  {
   "cell_type": "code",
   "execution_count": 21,
   "metadata": {
    "nbgrader": {
     "grade": false,
     "grade_id": "cell-711a82d9b32c83ff",
     "locked": false,
     "schema_version": 1,
     "solution": true
    },
    "slideshow": {
     "slide_type": "fragment"
    }
   },
   "outputs": [
    {
     "name": "stderr",
     "output_type": "stream",
     "text": [
      "C:\\Users\\dell\\Anaconda3\\envs\\PythonData\\lib\\site-packages\\sklearn\\preprocessing\\data.py:334: DataConversionWarning: Data with input dtype int64, float64 were all converted to float64 by MinMaxScaler.\n",
      "  return self.partial_fit(X, y)\n"
     ]
    }
   ],
   "source": [
    "X_scaler = MinMaxScaler().fit(X_train)\n",
    "X_train_scaled = X_scaler.transform(X_train)\n",
    "X_test_scaled = X_scaler.transform(X_test)"
   ]
  },
  {
   "cell_type": "code",
   "execution_count": 22,
   "metadata": {
    "nbgrader": {
     "grade": false,
     "grade_id": "cell-711a82d9b32c83ff",
     "locked": false,
     "schema_version": 1,
     "solution": true
    },
    "slideshow": {
     "slide_type": "fragment"
    }
   },
   "outputs": [],
   "source": [
    "# Step 1: Label-encode data set\n",
    "label_encoder = LabelEncoder()\n",
    "label_encoder.fit(y_train)\n",
    "encoded_y_train = label_encoder.transform(y_train)\n",
    "encoded_y_test = label_encoder.transform(y_test)"
   ]
  },
  {
   "cell_type": "code",
   "execution_count": 23,
   "metadata": {
    "nbgrader": {
     "grade": false,
     "grade_id": "cell-711a82d9b32c83ff",
     "locked": false,
     "schema_version": 1,
     "solution": true
    },
    "slideshow": {
     "slide_type": "fragment"
    }
   },
   "outputs": [],
   "source": [
    "# Step 2: Convert encoded labels to one-hot-encoding\n",
    "y_train_categorical = to_categorical(encoded_y_train)\n",
    "y_test_categorical = to_categorical(encoded_y_test)"
   ]
  },
  {
   "cell_type": "markdown",
   "metadata": {},
   "source": [
    "# Create a Deep Learning Model"
   ]
  },
  {
   "cell_type": "code",
   "execution_count": 24,
   "metadata": {},
   "outputs": [],
   "source": [
    "from tensorflow.keras.models import Sequential\n",
    "from tensorflow.keras.layers import Dense"
   ]
  },
  {
   "cell_type": "code",
   "execution_count": 25,
   "metadata": {},
   "outputs": [
    {
     "data": {
      "text/plain": [
       "31"
      ]
     },
     "execution_count": 25,
     "metadata": {},
     "output_type": "execute_result"
    }
   ],
   "source": [
    "len(X_train_scaled[0])"
   ]
  },
  {
   "cell_type": "code",
   "execution_count": 26,
   "metadata": {},
   "outputs": [
    {
     "data": {
      "text/plain": [
       "31"
      ]
     },
     "execution_count": 26,
     "metadata": {},
     "output_type": "execute_result"
    }
   ],
   "source": [
    "len(X_test_scaled[0])"
   ]
  },
  {
   "cell_type": "code",
   "execution_count": 27,
   "metadata": {},
   "outputs": [],
   "source": [
    "# Create model and add layers\n",
    "model = Sequential()\n",
    "model.add(Dense(units=100, activation='relu', input_dim=len(X_train_scaled[0])))\n",
    "model.add(Dense(units=100, activation='relu'))\n",
    "model.add(Dense(units=2, activation='softmax'))"
   ]
  },
  {
   "cell_type": "code",
   "execution_count": 28,
   "metadata": {},
   "outputs": [],
   "source": [
    "# Compile and fit the model\n",
    "model.compile(optimizer='adam',\n",
    "              loss='categorical_crossentropy',\n",
    "              metrics=['accuracy'])"
   ]
  },
  {
   "cell_type": "code",
   "execution_count": 29,
   "metadata": {},
   "outputs": [
    {
     "name": "stdout",
     "output_type": "stream",
     "text": [
      "Model: \"sequential\"\n",
      "_________________________________________________________________\n",
      "Layer (type)                 Output Shape              Param #   \n",
      "=================================================================\n",
      "dense (Dense)                (None, 100)               3200      \n",
      "_________________________________________________________________\n",
      "dense_1 (Dense)              (None, 100)               10100     \n",
      "_________________________________________________________________\n",
      "dense_2 (Dense)              (None, 2)                 202       \n",
      "=================================================================\n",
      "Total params: 13,502\n",
      "Trainable params: 13,502\n",
      "Non-trainable params: 0\n",
      "_________________________________________________________________\n"
     ]
    }
   ],
   "source": [
    "model.summary()"
   ]
  },
  {
   "cell_type": "code",
   "execution_count": 30,
   "metadata": {},
   "outputs": [
    {
     "name": "stdout",
     "output_type": "stream",
     "text": [
      "Train on 10152 samples\n",
      "Epoch 1/100\n",
      "10152/10152 - 1s - loss: 0.5502 - accuracy: 0.7260\n",
      "Epoch 2/100\n",
      "10152/10152 - 0s - loss: 0.4985 - accuracy: 0.7492\n",
      "Epoch 3/100\n",
      "10152/10152 - 0s - loss: 0.4621 - accuracy: 0.7768\n",
      "Epoch 4/100\n",
      "10152/10152 - 0s - loss: 0.4462 - accuracy: 0.7830\n",
      "Epoch 5/100\n",
      "10152/10152 - 0s - loss: 0.4243 - accuracy: 0.7942\n",
      "Epoch 6/100\n",
      "10152/10152 - 0s - loss: 0.4102 - accuracy: 0.8028\n",
      "Epoch 7/100\n",
      "10152/10152 - 0s - loss: 0.3978 - accuracy: 0.8110\n",
      "Epoch 8/100\n",
      "10152/10152 - 0s - loss: 0.3860 - accuracy: 0.8159\n",
      "Epoch 9/100\n",
      "10152/10152 - 0s - loss: 0.3743 - accuracy: 0.8248\n",
      "Epoch 10/100\n",
      "10152/10152 - 0s - loss: 0.3664 - accuracy: 0.8246\n",
      "Epoch 11/100\n",
      "10152/10152 - 0s - loss: 0.3556 - accuracy: 0.8329\n",
      "Epoch 12/100\n",
      "10152/10152 - 0s - loss: 0.3475 - accuracy: 0.8404\n",
      "Epoch 13/100\n",
      "10152/10152 - 0s - loss: 0.3403 - accuracy: 0.8345\n",
      "Epoch 14/100\n",
      "10152/10152 - 0s - loss: 0.3286 - accuracy: 0.8436\n",
      "Epoch 15/100\n",
      "10152/10152 - 0s - loss: 0.3256 - accuracy: 0.8428\n",
      "Epoch 16/100\n",
      "10152/10152 - 0s - loss: 0.3218 - accuracy: 0.8423\n",
      "Epoch 17/100\n",
      "10152/10152 - 0s - loss: 0.3098 - accuracy: 0.8530\n",
      "Epoch 18/100\n",
      "10152/10152 - 0s - loss: 0.3075 - accuracy: 0.8578\n",
      "Epoch 19/100\n",
      "10152/10152 - 0s - loss: 0.2997 - accuracy: 0.8584\n",
      "Epoch 20/100\n",
      "10152/10152 - 0s - loss: 0.2945 - accuracy: 0.8615\n",
      "Epoch 21/100\n",
      "10152/10152 - 0s - loss: 0.2885 - accuracy: 0.8623\n",
      "Epoch 22/100\n",
      "10152/10152 - 0s - loss: 0.2828 - accuracy: 0.8640\n",
      "Epoch 23/100\n",
      "10152/10152 - 0s - loss: 0.2829 - accuracy: 0.8617\n",
      "Epoch 24/100\n",
      "10152/10152 - 0s - loss: 0.2767 - accuracy: 0.8656\n",
      "Epoch 25/100\n",
      "10152/10152 - 0s - loss: 0.2697 - accuracy: 0.8666\n",
      "Epoch 26/100\n",
      "10152/10152 - 0s - loss: 0.2665 - accuracy: 0.8717\n",
      "Epoch 27/100\n",
      "10152/10152 - 0s - loss: 0.2709 - accuracy: 0.8650\n",
      "Epoch 28/100\n",
      "10152/10152 - 0s - loss: 0.2606 - accuracy: 0.8739\n",
      "Epoch 29/100\n",
      "10152/10152 - 0s - loss: 0.2553 - accuracy: 0.8760\n",
      "Epoch 30/100\n",
      "10152/10152 - 0s - loss: 0.2520 - accuracy: 0.8767\n",
      "Epoch 31/100\n",
      "10152/10152 - 0s - loss: 0.2508 - accuracy: 0.8809\n",
      "Epoch 32/100\n",
      "10152/10152 - 0s - loss: 0.2459 - accuracy: 0.8819\n",
      "Epoch 33/100\n",
      "10152/10152 - 0s - loss: 0.2430 - accuracy: 0.8834\n",
      "Epoch 34/100\n",
      "10152/10152 - 0s - loss: 0.2424 - accuracy: 0.8852\n",
      "Epoch 35/100\n",
      "10152/10152 - 0s - loss: 0.2385 - accuracy: 0.8868\n",
      "Epoch 36/100\n",
      "10152/10152 - 0s - loss: 0.2316 - accuracy: 0.8886\n",
      "Epoch 37/100\n",
      "10152/10152 - 0s - loss: 0.2329 - accuracy: 0.8856\n",
      "Epoch 38/100\n",
      "10152/10152 - 0s - loss: 0.2300 - accuracy: 0.8910\n",
      "Epoch 39/100\n",
      "10152/10152 - 0s - loss: 0.2314 - accuracy: 0.8896\n",
      "Epoch 40/100\n",
      "10152/10152 - 0s - loss: 0.2295 - accuracy: 0.8891\n",
      "Epoch 41/100\n",
      "10152/10152 - 0s - loss: 0.2279 - accuracy: 0.8920\n",
      "Epoch 42/100\n",
      "10152/10152 - 0s - loss: 0.2267 - accuracy: 0.8941\n",
      "Epoch 43/100\n",
      "10152/10152 - 0s - loss: 0.2183 - accuracy: 0.8989\n",
      "Epoch 44/100\n",
      "10152/10152 - 0s - loss: 0.2180 - accuracy: 0.8957\n",
      "Epoch 45/100\n",
      "10152/10152 - 0s - loss: 0.2236 - accuracy: 0.8928\n",
      "Epoch 46/100\n",
      "10152/10152 - 0s - loss: 0.2152 - accuracy: 0.8997\n",
      "Epoch 47/100\n",
      "10152/10152 - 0s - loss: 0.2112 - accuracy: 0.8991\n",
      "Epoch 48/100\n",
      "10152/10152 - 0s - loss: 0.2117 - accuracy: 0.8986\n",
      "Epoch 49/100\n",
      "10152/10152 - 0s - loss: 0.2083 - accuracy: 0.9022\n",
      "Epoch 50/100\n",
      "10152/10152 - 0s - loss: 0.2074 - accuracy: 0.9010\n",
      "Epoch 51/100\n",
      "10152/10152 - 0s - loss: 0.2038 - accuracy: 0.9046\n",
      "Epoch 52/100\n",
      "10152/10152 - 0s - loss: 0.2041 - accuracy: 0.9006\n",
      "Epoch 53/100\n",
      "10152/10152 - 0s - loss: 0.2055 - accuracy: 0.9006\n",
      "Epoch 54/100\n",
      "10152/10152 - 0s - loss: 0.1964 - accuracy: 0.9053\n",
      "Epoch 55/100\n",
      "10152/10152 - 0s - loss: 0.2000 - accuracy: 0.9037\n",
      "Epoch 56/100\n",
      "10152/10152 - 0s - loss: 0.1950 - accuracy: 0.9075\n",
      "Epoch 57/100\n",
      "10152/10152 - 0s - loss: 0.1962 - accuracy: 0.9066\n",
      "Epoch 58/100\n",
      "10152/10152 - 0s - loss: 0.1923 - accuracy: 0.9095\n",
      "Epoch 59/100\n",
      "10152/10152 - 0s - loss: 0.1898 - accuracy: 0.9146\n",
      "Epoch 60/100\n",
      "10152/10152 - 0s - loss: 0.1910 - accuracy: 0.9087\n",
      "Epoch 61/100\n",
      "10152/10152 - 0s - loss: 0.1890 - accuracy: 0.9085\n",
      "Epoch 62/100\n",
      "10152/10152 - 0s - loss: 0.1865 - accuracy: 0.9140\n",
      "Epoch 63/100\n",
      "10152/10152 - 0s - loss: 0.1878 - accuracy: 0.9108\n",
      "Epoch 64/100\n",
      "10152/10152 - 0s - loss: 0.1841 - accuracy: 0.9135\n",
      "Epoch 65/100\n",
      "10152/10152 - 0s - loss: 0.1826 - accuracy: 0.9125\n",
      "Epoch 66/100\n",
      "10152/10152 - 0s - loss: 0.1821 - accuracy: 0.9146\n",
      "Epoch 67/100\n",
      "10152/10152 - 0s - loss: 0.1819 - accuracy: 0.9132\n",
      "Epoch 68/100\n",
      "10152/10152 - 0s - loss: 0.1780 - accuracy: 0.9156\n",
      "Epoch 69/100\n",
      "10152/10152 - 0s - loss: 0.1762 - accuracy: 0.9194\n",
      "Epoch 70/100\n",
      "10152/10152 - 0s - loss: 0.1798 - accuracy: 0.9137\n",
      "Epoch 71/100\n",
      "10152/10152 - 0s - loss: 0.1744 - accuracy: 0.9203\n",
      "Epoch 72/100\n",
      "10152/10152 - 0s - loss: 0.1740 - accuracy: 0.9209\n",
      "Epoch 73/100\n",
      "10152/10152 - 0s - loss: 0.1739 - accuracy: 0.9181\n",
      "Epoch 74/100\n",
      "10152/10152 - 0s - loss: 0.1732 - accuracy: 0.9181\n",
      "Epoch 75/100\n",
      "10152/10152 - 0s - loss: 0.1754 - accuracy: 0.9184\n",
      "Epoch 76/100\n",
      "10152/10152 - 0s - loss: 0.1676 - accuracy: 0.9212\n",
      "Epoch 77/100\n",
      "10152/10152 - 0s - loss: 0.1681 - accuracy: 0.9216\n",
      "Epoch 78/100\n",
      "10152/10152 - 0s - loss: 0.1701 - accuracy: 0.9202\n",
      "Epoch 79/100\n",
      "10152/10152 - 0s - loss: 0.1773 - accuracy: 0.9177\n",
      "Epoch 80/100\n",
      "10152/10152 - 0s - loss: 0.1638 - accuracy: 0.9252\n",
      "Epoch 81/100\n",
      "10152/10152 - 0s - loss: 0.1640 - accuracy: 0.9243\n",
      "Epoch 82/100\n",
      "10152/10152 - 0s - loss: 0.1592 - accuracy: 0.9262\n",
      "Epoch 83/100\n",
      "10152/10152 - 0s - loss: 0.1610 - accuracy: 0.9291\n",
      "Epoch 84/100\n",
      "10152/10152 - 0s - loss: 0.1615 - accuracy: 0.9267\n",
      "Epoch 85/100\n",
      "10152/10152 - 0s - loss: 0.1568 - accuracy: 0.9252\n",
      "Epoch 86/100\n",
      "10152/10152 - 0s - loss: 0.1557 - accuracy: 0.9307\n",
      "Epoch 87/100\n",
      "10152/10152 - 0s - loss: 0.1561 - accuracy: 0.9320\n",
      "Epoch 88/100\n",
      "10152/10152 - 0s - loss: 0.1541 - accuracy: 0.9277\n",
      "Epoch 89/100\n",
      "10152/10152 - 0s - loss: 0.1534 - accuracy: 0.9294\n",
      "Epoch 90/100\n",
      "10152/10152 - 0s - loss: 0.1530 - accuracy: 0.9297\n",
      "Epoch 91/100\n",
      "10152/10152 - 0s - loss: 0.1695 - accuracy: 0.9238\n",
      "Epoch 92/100\n",
      "10152/10152 - 0s - loss: 0.1530 - accuracy: 0.9292\n",
      "Epoch 93/100\n",
      "10152/10152 - 0s - loss: 0.1553 - accuracy: 0.9271\n",
      "Epoch 94/100\n",
      "10152/10152 - 0s - loss: 0.1485 - accuracy: 0.9344\n",
      "Epoch 95/100\n",
      "10152/10152 - 0s - loss: 0.1502 - accuracy: 0.9315\n",
      "Epoch 96/100\n",
      "10152/10152 - 0s - loss: 0.1486 - accuracy: 0.9329\n",
      "Epoch 97/100\n",
      "10152/10152 - 0s - loss: 0.1484 - accuracy: 0.9330\n",
      "Epoch 98/100\n",
      "10152/10152 - 0s - loss: 0.1494 - accuracy: 0.9348\n",
      "Epoch 99/100\n",
      "10152/10152 - 0s - loss: 0.1540 - accuracy: 0.9297\n",
      "Epoch 100/100\n",
      "10152/10152 - 0s - loss: 0.1433 - accuracy: 0.9354\n"
     ]
    },
    {
     "data": {
      "text/plain": [
       "<tensorflow.python.keras.callbacks.History at 0x1f876176160>"
      ]
     },
     "execution_count": 30,
     "metadata": {},
     "output_type": "execute_result"
    }
   ],
   "source": [
    "model.fit(\n",
    "    X_train_scaled,\n",
    "    y_train_categorical,\n",
    "    epochs=100,\n",
    "    shuffle=True,\n",
    "    verbose=2\n",
    ")"
   ]
  },
  {
   "cell_type": "markdown",
   "metadata": {},
   "source": [
    "## Quantify our Trained Model"
   ]
  },
  {
   "cell_type": "code",
   "execution_count": 31,
   "metadata": {},
   "outputs": [
    {
     "name": "stdout",
     "output_type": "stream",
     "text": [
      "10152/1 - 0s - loss: 0.0930 - accuracy: 0.9443\n",
      "TRAINING - Loss: 0.134721790527715, Accuracy: 0.9443459510803223\n"
     ]
    }
   ],
   "source": [
    "model_loss, model_accuracy = model.evaluate(\n",
    "    X_train_scaled, y_train_categorical, verbose=2)\n",
    "print(\n",
    "    f\"TRAINING - Loss: {model_loss}, Accuracy: {model_accuracy}\")"
   ]
  },
  {
   "cell_type": "code",
   "execution_count": 32,
   "metadata": {},
   "outputs": [
    {
     "name": "stdout",
     "output_type": "stream",
     "text": [
      "8213/1 - 0s - loss: 2.0852 - accuracy: 0.7051\n",
      "TESTING - Loss: 2.179290421868625, Accuracy: 0.7051016688346863\n"
     ]
    }
   ],
   "source": [
    "model_loss, model_accuracy = model.evaluate(\n",
    "    X_test_scaled, y_test_categorical, verbose=2)\n",
    "print(\n",
    "    f\"TESTING - Loss: {model_loss}, Accuracy: {model_accuracy}\")"
   ]
  },
  {
   "cell_type": "markdown",
   "metadata": {
    "slideshow": {
     "slide_type": "subslide"
    }
   },
   "source": [
    "## Make Predictions"
   ]
  },
  {
   "cell_type": "code",
   "execution_count": 33,
   "metadata": {
    "nbgrader": {
     "grade": false,
     "grade_id": "cell-f97eb3e97245187b",
     "locked": false,
     "schema_version": 1,
     "solution": true
    },
    "slideshow": {
     "slide_type": "fragment"
    }
   },
   "outputs": [],
   "source": [
    "encoded_predictions = model.predict_classes(X_test_scaled)\n",
    "prediction_labels = label_encoder.inverse_transform(encoded_predictions)"
   ]
  },
  {
   "cell_type": "code",
   "execution_count": 34,
   "metadata": {},
   "outputs": [
    {
     "data": {
      "text/html": [
       "<div>\n",
       "<style scoped>\n",
       "    .dataframe tbody tr th:only-of-type {\n",
       "        vertical-align: middle;\n",
       "    }\n",
       "\n",
       "    .dataframe tbody tr th {\n",
       "        vertical-align: top;\n",
       "    }\n",
       "\n",
       "    .dataframe thead th {\n",
       "        text-align: right;\n",
       "    }\n",
       "</style>\n",
       "<table border=\"1\" class=\"dataframe\">\n",
       "  <thead>\n",
       "    <tr style=\"text-align: right;\">\n",
       "      <th></th>\n",
       "      <th>prediction</th>\n",
       "      <th>actual</th>\n",
       "    </tr>\n",
       "    <tr>\n",
       "      <th>codigo_x</th>\n",
       "      <th></th>\n",
       "      <th></th>\n",
       "    </tr>\n",
       "  </thead>\n",
       "  <tbody>\n",
       "    <tr>\n",
       "      <th>7840</th>\n",
       "      <td>sigue</td>\n",
       "      <td>fue</td>\n",
       "    </tr>\n",
       "    <tr>\n",
       "      <th>7505</th>\n",
       "      <td>sigue</td>\n",
       "      <td>fue</td>\n",
       "    </tr>\n",
       "    <tr>\n",
       "      <th>6600</th>\n",
       "      <td>sigue</td>\n",
       "      <td>sigue</td>\n",
       "    </tr>\n",
       "    <tr>\n",
       "      <th>7685</th>\n",
       "      <td>fue</td>\n",
       "      <td>sigue</td>\n",
       "    </tr>\n",
       "    <tr>\n",
       "      <th>7331</th>\n",
       "      <td>sigue</td>\n",
       "      <td>fue</td>\n",
       "    </tr>\n",
       "  </tbody>\n",
       "</table>\n",
       "</div>"
      ],
      "text/plain": [
       "         prediction actual\n",
       "codigo_x                  \n",
       "7840          sigue    fue\n",
       "7505          sigue    fue\n",
       "6600          sigue  sigue\n",
       "7685            fue  sigue\n",
       "7331          sigue    fue"
      ]
     },
     "execution_count": 34,
     "metadata": {},
     "output_type": "execute_result"
    }
   ],
   "source": [
    "results = pd.DataFrame({\n",
    "\"prediction\": prediction_labels,\n",
    "\"actual\": y_test\n",
    "})\n",
    "results.head()"
   ]
  },
  {
   "cell_type": "code",
   "execution_count": 35,
   "metadata": {},
   "outputs": [],
   "source": [
    "results = results.reset_index()"
   ]
  },
  {
   "cell_type": "code",
   "execution_count": 36,
   "metadata": {},
   "outputs": [],
   "source": [
    "results.to_csv(\"results.csv\")"
   ]
  },
  {
   "cell_type": "code",
   "execution_count": 37,
   "metadata": {},
   "outputs": [],
   "source": [
    "weights, biases = model.layers[1].get_weights()"
   ]
  }
 ],
 "metadata": {
  "kernelspec": {
   "display_name": "Python 3",
   "language": "python",
   "name": "python3"
  },
  "language_info": {
   "codemirror_mode": {
    "name": "ipython",
    "version": 3
   },
   "file_extension": ".py",
   "mimetype": "text/x-python",
   "name": "python",
   "nbconvert_exporter": "python",
   "pygments_lexer": "ipython3",
   "version": "3.6.8"
  },
  "varInspector": {
   "cols": {
    "lenName": 16,
    "lenType": 16,
    "lenVar": 40
   },
   "kernels_config": {
    "python": {
     "delete_cmd_postfix": "",
     "delete_cmd_prefix": "del ",
     "library": "var_list.py",
     "varRefreshCmd": "print(var_dic_list())"
    },
    "r": {
     "delete_cmd_postfix": ") ",
     "delete_cmd_prefix": "rm(",
     "library": "var_list.r",
     "varRefreshCmd": "cat(var_dic_list()) "
    }
   },
   "types_to_exclude": [
    "module",
    "function",
    "builtin_function_or_method",
    "instance",
    "_Feature"
   ],
   "window_display": false
  }
 },
 "nbformat": 4,
 "nbformat_minor": 2
}
