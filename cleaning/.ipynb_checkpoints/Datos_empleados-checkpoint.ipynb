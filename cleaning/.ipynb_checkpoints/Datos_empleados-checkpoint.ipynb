{
 "cells": [
  {
   "cell_type": "code",
   "execution_count": 1,
   "metadata": {},
   "outputs": [],
   "source": [
    "import os\n",
    "import re\n",
    "import pandas as pd\n",
    "import datetime as dt"
   ]
  },
  {
   "cell_type": "code",
   "execution_count": null,
   "metadata": {},
   "outputs": [],
   "source": [
    "data = []\n",
    "\n",
    "with open(\"DATOS_EMPLEADOS_2019.txt\", 'r') as f:\n",
    "    for line in f.readlines():\n",
    "        if len(line) == 114:\n",
    "            line = re.sub(\"\\s+\", \"|\", line.strip())\n",
    "            line = re.sub(\"ENE\", \"01\", line.strip())\n",
    "            line = re.sub(\"FEB\", \"02\", line.strip())\n",
    "            line = re.sub(\"MAR\", \"03\", line.strip())\n",
    "            line = re.sub(\"ABR\", \"04\", line.strip())\n",
    "            line = re.sub(\"MAY\", \"05\", line.strip())\n",
    "            line = re.sub(\"JUN\", \"06\", line.strip())\n",
    "            line = re.sub(\"JUL\", \"07\", line.strip())\n",
    "            line = re.sub(\"AGO\", \"08\", line.strip())\n",
    "            line = re.sub(\"SEP\", \"09\", line.strip())\n",
    "            line = re.sub(\"OCT\", \"10\", line.strip())\n",
    "            line = re.sub(\"NOV\", \"11\", line.strip())\n",
    "            line = re.sub(\"DIC\", \"12\", line.strip())\n",
    "            line = f\"{line}|12/11/2019\"\n",
    "            if not line:\n",
    "                continue\n",
    "            line_list = [s for s in line.split(';') if s]\n",
    "            if not line_list:\n",
    "                continue\n",
    "            data.append(line_list)"
   ]
  },
  {
   "cell_type": "code",
   "execution_count": 3,
   "metadata": {},
   "outputs": [],
   "source": [
    "data = []\n",
    "\n",
    "with open(\"DATOS_EMPLEADOS_2018.txt\", 'r') as f:\n",
    "    for line in f.readlines():\n",
    "        if len(line) == 114:\n",
    "            line = re.sub(\"\\s+\", \"|\", line.strip())\n",
    "            line = re.sub(\"ENE\", \"01\", line.strip())\n",
    "            line = re.sub(\"FEB\", \"02\", line.strip())\n",
    "            line = re.sub(\"MAR\", \"03\", line.strip())\n",
    "            line = re.sub(\"ABR\", \"04\", line.strip())\n",
    "            line = re.sub(\"MAY\", \"05\", line.strip())\n",
    "            line = re.sub(\"JUN\", \"06\", line.strip())\n",
    "            line = re.sub(\"JUL\", \"07\", line.strip())\n",
    "            line = re.sub(\"AGO\", \"08\", line.strip())\n",
    "            line = re.sub(\"SEP\", \"09\", line.strip())\n",
    "            line = re.sub(\"OCT\", \"10\", line.strip())\n",
    "            line = re.sub(\"NOV\", \"11\", line.strip())\n",
    "            line = re.sub(\"DIC\", \"12\", line.strip())\n",
    "            line = f\"{line}|31/12/2018\"\n",
    "            if not line:\n",
    "                continue\n",
    "            line_list = [s for s in line.split(';') if s]\n",
    "            if not line_list:\n",
    "                continue\n",
    "            data.append(line_list)"
   ]
  },
  {
   "cell_type": "code",
   "execution_count": 4,
   "metadata": {},
   "outputs": [
    {
     "data": {
      "text/plain": [
       "['5761|21/12/1973|MASCULINO|CASADO|52|15/06/2018|22/10/2018|1|0001|09730|31/12/2018']"
      ]
     },
     "execution_count": 4,
     "metadata": {},
     "output_type": "execute_result"
    }
   ],
   "source": [
    "data[0]"
   ]
  },
  {
   "cell_type": "code",
   "execution_count": 5,
   "metadata": {},
   "outputs": [
    {
     "data": {
      "text/plain": [
       "502"
      ]
     },
     "execution_count": 5,
     "metadata": {},
     "output_type": "execute_result"
    }
   ],
   "source": [
    "len(data)"
   ]
  },
  {
   "cell_type": "code",
   "execution_count": 6,
   "metadata": {},
   "outputs": [],
   "source": [
    "df = pd.DataFrame(data)"
   ]
  },
  {
   "cell_type": "code",
   "execution_count": 7,
   "metadata": {},
   "outputs": [],
   "source": [
    "df2 = df[0].str.split('|', expand=True)"
   ]
  },
  {
   "cell_type": "code",
   "execution_count": 8,
   "metadata": {},
   "outputs": [],
   "source": [
    "df3 = df2[df2[6] == \"0/\"]"
   ]
  },
  {
   "cell_type": "code",
   "execution_count": 9,
   "metadata": {},
   "outputs": [],
   "source": [
    "df4 = df2[df2[6] != \"0/\"]"
   ]
  },
  {
   "cell_type": "code",
   "execution_count": 10,
   "metadata": {},
   "outputs": [],
   "source": [
    "del df3[6]"
   ]
  },
  {
   "cell_type": "code",
   "execution_count": 11,
   "metadata": {},
   "outputs": [],
   "source": [
    "del df4[11]"
   ]
  },
  {
   "cell_type": "code",
   "execution_count": 12,
   "metadata": {},
   "outputs": [],
   "source": [
    "list_of_columns = [\"codigo\",\"fec_nac\",\"sexo\",\"edo_civ\",\"depto\",\"fec_ing\",\"fec_baj\",\"jorn\",\"puesto\",\"cp\",\"today\"]"
   ]
  },
  {
   "cell_type": "code",
   "execution_count": 13,
   "metadata": {},
   "outputs": [],
   "source": [
    "df3.columns = list_of_columns\n",
    "df4.columns = list_of_columns"
   ]
  },
  {
   "cell_type": "code",
   "execution_count": 14,
   "metadata": {},
   "outputs": [],
   "source": [
    "df5 = df4.append(df3)"
   ]
  },
  {
   "cell_type": "code",
   "execution_count": 15,
   "metadata": {},
   "outputs": [],
   "source": [
    "def label_status(row):\n",
    "    inactive = 1\n",
    "    active = 0\n",
    "    if row == \"0/0000\":\n",
    "        return inactive\n",
    "    else:\n",
    "        return active"
   ]
  },
  {
   "cell_type": "code",
   "execution_count": 16,
   "metadata": {},
   "outputs": [],
   "source": [
    "df5[\"label\"] = df5[\"fec_baj\"].apply(lambda row: label_status(row))"
   ]
  },
  {
   "cell_type": "code",
   "execution_count": 17,
   "metadata": {},
   "outputs": [],
   "source": [
    "df5[\"fec_nac\"] = pd.to_datetime(df5[\"fec_nac\"], format=\"%d/%m/%Y\", errors=\"coerce\")\n",
    "df5[\"fec_ing\"] = pd.to_datetime(df5[\"fec_ing\"], format=\"%d/%m/%Y\", errors=\"coerce\")\n",
    "df5[\"fec_baj\"] = pd.to_datetime(df5[\"fec_baj\"], format=\"%d/%m/%Y\", errors=\"coerce\")\n",
    "df5[\"today\"] = pd.to_datetime(df5[\"today\"], format=\"%d/%m/%Y\", errors=\"coerce\")"
   ]
  },
  {
   "cell_type": "code",
   "execution_count": 18,
   "metadata": {},
   "outputs": [],
   "source": [
    "df5_activos = df5.loc[df5[\"fec_baj\"].isnull()]"
   ]
  },
  {
   "cell_type": "code",
   "execution_count": 19,
   "metadata": {},
   "outputs": [],
   "source": [
    "df5_cesados = df5.loc[df5[\"fec_baj\"].notnull()]"
   ]
  },
  {
   "cell_type": "code",
   "execution_count": 20,
   "metadata": {},
   "outputs": [
    {
     "name": "stderr",
     "output_type": "stream",
     "text": [
      "C:\\Users\\dell\\Anaconda3\\envs\\PythonData\\lib\\site-packages\\ipykernel_launcher.py:1: SettingWithCopyWarning: \n",
      "A value is trying to be set on a copy of a slice from a DataFrame.\n",
      "Try using .loc[row_indexer,col_indexer] = value instead\n",
      "\n",
      "See the caveats in the documentation: http://pandas.pydata.org/pandas-docs/stable/indexing.html#indexing-view-versus-copy\n",
      "  \"\"\"Entry point for launching an IPython kernel.\n"
     ]
    }
   ],
   "source": [
    "df5_activos[\"antig\"] = df5_activos[\"today\"] - df5_activos[\"fec_ing\"]"
   ]
  },
  {
   "cell_type": "code",
   "execution_count": 21,
   "metadata": {},
   "outputs": [
    {
     "name": "stderr",
     "output_type": "stream",
     "text": [
      "C:\\Users\\dell\\Anaconda3\\envs\\PythonData\\lib\\site-packages\\ipykernel_launcher.py:1: SettingWithCopyWarning: \n",
      "A value is trying to be set on a copy of a slice from a DataFrame.\n",
      "Try using .loc[row_indexer,col_indexer] = value instead\n",
      "\n",
      "See the caveats in the documentation: http://pandas.pydata.org/pandas-docs/stable/indexing.html#indexing-view-versus-copy\n",
      "  \"\"\"Entry point for launching an IPython kernel.\n"
     ]
    }
   ],
   "source": [
    "df5_cesados[\"antig\"] = df5_cesados[\"fec_baj\"] - df5_cesados[\"fec_ing\"]"
   ]
  },
  {
   "cell_type": "code",
   "execution_count": 22,
   "metadata": {},
   "outputs": [],
   "source": [
    "df6 = df5_activos.append(df5_cesados)"
   ]
  },
  {
   "cell_type": "code",
   "execution_count": 23,
   "metadata": {},
   "outputs": [],
   "source": [
    "del df6[\"today\"]"
   ]
  },
  {
   "cell_type": "code",
   "execution_count": 24,
   "metadata": {},
   "outputs": [],
   "source": [
    "df6[\"antig\"] = df6[\"antig\"].dt.days"
   ]
  },
  {
   "cell_type": "code",
   "execution_count": 25,
   "metadata": {},
   "outputs": [
    {
     "data": {
      "text/html": [
       "<div>\n",
       "<style scoped>\n",
       "    .dataframe tbody tr th:only-of-type {\n",
       "        vertical-align: middle;\n",
       "    }\n",
       "\n",
       "    .dataframe tbody tr th {\n",
       "        vertical-align: top;\n",
       "    }\n",
       "\n",
       "    .dataframe thead th {\n",
       "        text-align: right;\n",
       "    }\n",
       "</style>\n",
       "<table border=\"1\" class=\"dataframe\">\n",
       "  <thead>\n",
       "    <tr style=\"text-align: right;\">\n",
       "      <th></th>\n",
       "      <th>codigo</th>\n",
       "      <th>fec_nac</th>\n",
       "      <th>sexo</th>\n",
       "      <th>edo_civ</th>\n",
       "      <th>depto</th>\n",
       "      <th>fec_ing</th>\n",
       "      <th>fec_baj</th>\n",
       "      <th>jorn</th>\n",
       "      <th>puesto</th>\n",
       "      <th>cp</th>\n",
       "      <th>label</th>\n",
       "      <th>antig</th>\n",
       "    </tr>\n",
       "  </thead>\n",
       "  <tbody>\n",
       "    <tr>\n",
       "      <th>1</th>\n",
       "      <td>7840</td>\n",
       "      <td>1985-12-30</td>\n",
       "      <td>FEMENINO</td>\n",
       "      <td>SOLTERO</td>\n",
       "      <td>87</td>\n",
       "      <td>2018-12-27</td>\n",
       "      <td>NaT</td>\n",
       "      <td>1</td>\n",
       "      <td>0185</td>\n",
       "      <td>50290</td>\n",
       "      <td>1</td>\n",
       "      <td>4</td>\n",
       "    </tr>\n",
       "    <tr>\n",
       "      <th>2</th>\n",
       "      <td>7505</td>\n",
       "      <td>1989-09-30</td>\n",
       "      <td>MASCULINO</td>\n",
       "      <td>SOLTERO</td>\n",
       "      <td>82</td>\n",
       "      <td>2017-09-19</td>\n",
       "      <td>NaT</td>\n",
       "      <td>1</td>\n",
       "      <td>0003A</td>\n",
       "      <td>54948</td>\n",
       "      <td>1</td>\n",
       "      <td>468</td>\n",
       "    </tr>\n",
       "    <tr>\n",
       "      <th>6</th>\n",
       "      <td>6600</td>\n",
       "      <td>1973-02-08</td>\n",
       "      <td>FEMENINO</td>\n",
       "      <td>SOLTERO</td>\n",
       "      <td>80</td>\n",
       "      <td>2015-10-01</td>\n",
       "      <td>NaT</td>\n",
       "      <td>1</td>\n",
       "      <td>0001</td>\n",
       "      <td>07460</td>\n",
       "      <td>1</td>\n",
       "      <td>1187</td>\n",
       "    </tr>\n",
       "    <tr>\n",
       "      <th>8</th>\n",
       "      <td>7685</td>\n",
       "      <td>1995-11-23</td>\n",
       "      <td>FEMENINO</td>\n",
       "      <td>SOLTERO</td>\n",
       "      <td>76</td>\n",
       "      <td>2018-06-08</td>\n",
       "      <td>NaT</td>\n",
       "      <td>1</td>\n",
       "      <td>0001</td>\n",
       "      <td>56617</td>\n",
       "      <td>1</td>\n",
       "      <td>206</td>\n",
       "    </tr>\n",
       "    <tr>\n",
       "      <th>9</th>\n",
       "      <td>7331</td>\n",
       "      <td>1977-04-02</td>\n",
       "      <td>FEMENINO</td>\n",
       "      <td>CASADO</td>\n",
       "      <td>45</td>\n",
       "      <td>2018-09-04</td>\n",
       "      <td>NaT</td>\n",
       "      <td>1</td>\n",
       "      <td>0001</td>\n",
       "      <td>08100</td>\n",
       "      <td>1</td>\n",
       "      <td>118</td>\n",
       "    </tr>\n",
       "  </tbody>\n",
       "</table>\n",
       "</div>"
      ],
      "text/plain": [
       "  codigo    fec_nac       sexo  edo_civ depto    fec_ing fec_baj jorn puesto  \\\n",
       "1   7840 1985-12-30   FEMENINO  SOLTERO    87 2018-12-27     NaT    1   0185   \n",
       "2   7505 1989-09-30  MASCULINO  SOLTERO    82 2017-09-19     NaT    1  0003A   \n",
       "6   6600 1973-02-08   FEMENINO  SOLTERO    80 2015-10-01     NaT    1   0001   \n",
       "8   7685 1995-11-23   FEMENINO  SOLTERO    76 2018-06-08     NaT    1   0001   \n",
       "9   7331 1977-04-02   FEMENINO   CASADO    45 2018-09-04     NaT    1   0001   \n",
       "\n",
       "      cp  label  antig  \n",
       "1  50290      1      4  \n",
       "2  54948      1    468  \n",
       "6  07460      1   1187  \n",
       "8  56617      1    206  \n",
       "9  08100      1    118  "
      ]
     },
     "execution_count": 25,
     "metadata": {},
     "output_type": "execute_result"
    }
   ],
   "source": [
    "df6.head()"
   ]
  },
  {
   "cell_type": "code",
   "execution_count": 26,
   "metadata": {},
   "outputs": [
    {
     "data": {
      "text/plain": [
       "codigo             object\n",
       "fec_nac    datetime64[ns]\n",
       "sexo               object\n",
       "edo_civ            object\n",
       "depto              object\n",
       "fec_ing    datetime64[ns]\n",
       "fec_baj    datetime64[ns]\n",
       "jorn               object\n",
       "puesto             object\n",
       "cp                 object\n",
       "label               int64\n",
       "antig               int64\n",
       "dtype: object"
      ]
     },
     "execution_count": 26,
     "metadata": {},
     "output_type": "execute_result"
    }
   ],
   "source": [
    "df6.dtypes"
   ]
  },
  {
   "cell_type": "code",
   "execution_count": 27,
   "metadata": {},
   "outputs": [],
   "source": [
    "df6.to_csv(\"DATOS_CLEAN.csv\")"
   ]
  },
  {
   "cell_type": "code",
   "execution_count": 28,
   "metadata": {},
   "outputs": [
    {
     "data": {
      "text/plain": [
       "codigo     502\n",
       "fec_nac    502\n",
       "sexo       502\n",
       "edo_civ    502\n",
       "depto      502\n",
       "fec_ing    502\n",
       "fec_baj    310\n",
       "jorn       502\n",
       "puesto     502\n",
       "cp         502\n",
       "label      502\n",
       "antig      502\n",
       "dtype: int64"
      ]
     },
     "execution_count": 28,
     "metadata": {},
     "output_type": "execute_result"
    }
   ],
   "source": [
    "df6.count()"
   ]
  },
  {
   "cell_type": "code",
   "execution_count": null,
   "metadata": {},
   "outputs": [],
   "source": []
  }
 ],
 "metadata": {
  "kernelspec": {
   "display_name": "Python 3",
   "language": "python",
   "name": "python3"
  },
  "language_info": {
   "codemirror_mode": {
    "name": "ipython",
    "version": 3
   },
   "file_extension": ".py",
   "mimetype": "text/x-python",
   "name": "python",
   "nbconvert_exporter": "python",
   "pygments_lexer": "ipython3",
   "version": "3.6.8"
  }
 },
 "nbformat": 4,
 "nbformat_minor": 2
}
