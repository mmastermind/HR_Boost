{
 "cells": [
  {
   "cell_type": "code",
   "execution_count": 1,
   "metadata": {},
   "outputs": [],
   "source": [
    "import os\n",
    "import re\n",
    "import pandas as pd"
   ]
  },
  {
   "cell_type": "code",
   "execution_count": null,
   "metadata": {},
   "outputs": [],
   "source": [
    "data = []\n",
    "\n",
    "for file in os.listdir(\"DEDUCCIONES_2019\"):\n",
    "    if file.endswith(\".txt\"): \n",
    "        with open(os.path.join(\"DEDUCCIONES_2019\", file)) as f:\n",
    "            week = file[16:18]\n",
    "            for line in f.readlines():\n",
    "                if len(line) == 241:\n",
    "                    line = re.sub(\"\\s+\", \"|\", line.strip())\n",
    "                    line = re.sub(\",\", \"\", line.strip()) #esto quita las comas de las cifras\n",
    "                    line = f\"{week}|{line}\"\n",
    "                    if not line:\n",
    "                        continue\n",
    "                    line_list = [s for s in line.split(';') if s]\n",
    "                    if not line_list:\n",
    "                        continue\n",
    "                    data.append(line_list)\n",
    "    else:\n",
    "        continue"
   ]
  },
  {
   "cell_type": "code",
   "execution_count": 3,
   "metadata": {},
   "outputs": [],
   "source": [
    "data = []\n",
    "\n",
    "for file in os.listdir(\"DEDUCCIONES_2018\"):\n",
    "    if file.endswith(\".txt\"): \n",
    "        with open(os.path.join(\"DEDUCCIONES_2018\", file)) as f:\n",
    "            week = file[16:18]\n",
    "            for line in f.readlines():\n",
    "                if len(line) == 241:\n",
    "                    line = re.sub(\"\\s+\", \"|\", line.strip())\n",
    "                    line = re.sub(\",\", \"\", line.strip()) #esto quita las comas de las cifras\n",
    "                    line = f\"{week}|{line}\"\n",
    "                    if not line:\n",
    "                        continue\n",
    "                    line_list = [s for s in line.split(';') if s]\n",
    "                    if not line_list:\n",
    "                        continue\n",
    "                    data.append(line_list)\n",
    "    else:\n",
    "        continue"
   ]
  },
  {
   "cell_type": "code",
   "execution_count": 4,
   "metadata": {},
   "outputs": [
    {
     "data": {
      "text/plain": [
       "['01|7505|1.00|0.00|0.00|0.00|0.00|0.00|0.00|0.00|0.00|0.00|0.00|20.63|38.26|871.38|158.48|1029.86|21.63|1008.23']"
      ]
     },
     "execution_count": 4,
     "metadata": {},
     "output_type": "execute_result"
    }
   ],
   "source": [
    "data[1]"
   ]
  },
  {
   "cell_type": "code",
   "execution_count": 5,
   "metadata": {},
   "outputs": [
    {
     "data": {
      "text/plain": [
       "10452"
      ]
     },
     "execution_count": 5,
     "metadata": {},
     "output_type": "execute_result"
    }
   ],
   "source": [
    "len(data)"
   ]
  },
  {
   "cell_type": "code",
   "execution_count": 6,
   "metadata": {},
   "outputs": [],
   "source": [
    "df = pd.DataFrame(data)"
   ]
  },
  {
   "cell_type": "code",
   "execution_count": 7,
   "metadata": {},
   "outputs": [],
   "source": [
    "df = df.drop(0)"
   ]
  },
  {
   "cell_type": "code",
   "execution_count": 8,
   "metadata": {},
   "outputs": [],
   "source": [
    "df2 = df[0].str.split('|', expand=True)"
   ]
  },
  {
   "cell_type": "code",
   "execution_count": 9,
   "metadata": {},
   "outputs": [],
   "source": [
    "df3 = df2[df2[1] != \"Codigo\"] #en este paso elimino las filas de encabezados, que miden lo mismo que las de datos"
   ]
  },
  {
   "cell_type": "code",
   "execution_count": 10,
   "metadata": {},
   "outputs": [
    {
     "data": {
      "text/html": [
       "<div>\n",
       "<style scoped>\n",
       "    .dataframe tbody tr th:only-of-type {\n",
       "        vertical-align: middle;\n",
       "    }\n",
       "\n",
       "    .dataframe tbody tr th {\n",
       "        vertical-align: top;\n",
       "    }\n",
       "\n",
       "    .dataframe thead th {\n",
       "        text-align: right;\n",
       "    }\n",
       "</style>\n",
       "<table border=\"1\" class=\"dataframe\">\n",
       "  <thead>\n",
       "    <tr style=\"text-align: right;\">\n",
       "      <th></th>\n",
       "      <th>0</th>\n",
       "      <th>1</th>\n",
       "      <th>2</th>\n",
       "      <th>3</th>\n",
       "      <th>4</th>\n",
       "      <th>5</th>\n",
       "      <th>6</th>\n",
       "      <th>7</th>\n",
       "      <th>8</th>\n",
       "      <th>9</th>\n",
       "      <th>...</th>\n",
       "      <th>27</th>\n",
       "      <th>28</th>\n",
       "      <th>29</th>\n",
       "      <th>30</th>\n",
       "      <th>31</th>\n",
       "      <th>32</th>\n",
       "      <th>33</th>\n",
       "      <th>34</th>\n",
       "      <th>35</th>\n",
       "      <th>36</th>\n",
       "    </tr>\n",
       "  </thead>\n",
       "  <tbody>\n",
       "    <tr>\n",
       "      <th>1</th>\n",
       "      <td>01</td>\n",
       "      <td>7505</td>\n",
       "      <td>1.00</td>\n",
       "      <td>0.00</td>\n",
       "      <td>0.00</td>\n",
       "      <td>0.00</td>\n",
       "      <td>0.00</td>\n",
       "      <td>0.00</td>\n",
       "      <td>0.00</td>\n",
       "      <td>0.00</td>\n",
       "      <td>...</td>\n",
       "      <td>None</td>\n",
       "      <td>None</td>\n",
       "      <td>None</td>\n",
       "      <td>None</td>\n",
       "      <td>None</td>\n",
       "      <td>None</td>\n",
       "      <td>None</td>\n",
       "      <td>None</td>\n",
       "      <td>None</td>\n",
       "      <td>None</td>\n",
       "    </tr>\n",
       "    <tr>\n",
       "      <th>2</th>\n",
       "      <td>01</td>\n",
       "      <td>6600</td>\n",
       "      <td>1.00</td>\n",
       "      <td>0.00</td>\n",
       "      <td>0.00</td>\n",
       "      <td>0.00</td>\n",
       "      <td>0.00</td>\n",
       "      <td>0.00</td>\n",
       "      <td>0.00</td>\n",
       "      <td>0.00</td>\n",
       "      <td>...</td>\n",
       "      <td>None</td>\n",
       "      <td>None</td>\n",
       "      <td>None</td>\n",
       "      <td>None</td>\n",
       "      <td>None</td>\n",
       "      <td>None</td>\n",
       "      <td>None</td>\n",
       "      <td>None</td>\n",
       "      <td>None</td>\n",
       "      <td>None</td>\n",
       "    </tr>\n",
       "    <tr>\n",
       "      <th>3</th>\n",
       "      <td>01</td>\n",
       "      <td>7515</td>\n",
       "      <td>1.00</td>\n",
       "      <td>0.00</td>\n",
       "      <td>0.00</td>\n",
       "      <td>0.00</td>\n",
       "      <td>0.00</td>\n",
       "      <td>0.00</td>\n",
       "      <td>0.00</td>\n",
       "      <td>0.00</td>\n",
       "      <td>...</td>\n",
       "      <td>None</td>\n",
       "      <td>None</td>\n",
       "      <td>None</td>\n",
       "      <td>None</td>\n",
       "      <td>None</td>\n",
       "      <td>None</td>\n",
       "      <td>None</td>\n",
       "      <td>None</td>\n",
       "      <td>None</td>\n",
       "      <td>None</td>\n",
       "    </tr>\n",
       "    <tr>\n",
       "      <th>4</th>\n",
       "      <td>01</td>\n",
       "      <td>5933</td>\n",
       "      <td>1.00</td>\n",
       "      <td>0.00</td>\n",
       "      <td>0.00</td>\n",
       "      <td>0.00</td>\n",
       "      <td>0.00</td>\n",
       "      <td>0.00</td>\n",
       "      <td>0.00</td>\n",
       "      <td>0.00</td>\n",
       "      <td>...</td>\n",
       "      <td>None</td>\n",
       "      <td>None</td>\n",
       "      <td>None</td>\n",
       "      <td>None</td>\n",
       "      <td>None</td>\n",
       "      <td>None</td>\n",
       "      <td>None</td>\n",
       "      <td>None</td>\n",
       "      <td>None</td>\n",
       "      <td>None</td>\n",
       "    </tr>\n",
       "    <tr>\n",
       "      <th>5</th>\n",
       "      <td>01</td>\n",
       "      <td>7170</td>\n",
       "      <td>1.00</td>\n",
       "      <td>0.00</td>\n",
       "      <td>0.00</td>\n",
       "      <td>0.00</td>\n",
       "      <td>0.00</td>\n",
       "      <td>0.00</td>\n",
       "      <td>0.00</td>\n",
       "      <td>0.00</td>\n",
       "      <td>...</td>\n",
       "      <td>None</td>\n",
       "      <td>None</td>\n",
       "      <td>None</td>\n",
       "      <td>None</td>\n",
       "      <td>None</td>\n",
       "      <td>None</td>\n",
       "      <td>None</td>\n",
       "      <td>None</td>\n",
       "      <td>None</td>\n",
       "      <td>None</td>\n",
       "    </tr>\n",
       "  </tbody>\n",
       "</table>\n",
       "<p>5 rows × 37 columns</p>\n",
       "</div>"
      ],
      "text/plain": [
       "   0     1     2     3     4     5     6     7     8     9   ...    27    28  \\\n",
       "1  01  7505  1.00  0.00  0.00  0.00  0.00  0.00  0.00  0.00  ...  None  None   \n",
       "2  01  6600  1.00  0.00  0.00  0.00  0.00  0.00  0.00  0.00  ...  None  None   \n",
       "3  01  7515  1.00  0.00  0.00  0.00  0.00  0.00  0.00  0.00  ...  None  None   \n",
       "4  01  5933  1.00  0.00  0.00  0.00  0.00  0.00  0.00  0.00  ...  None  None   \n",
       "5  01  7170  1.00  0.00  0.00  0.00  0.00  0.00  0.00  0.00  ...  None  None   \n",
       "\n",
       "     29    30    31    32    33    34    35    36  \n",
       "1  None  None  None  None  None  None  None  None  \n",
       "2  None  None  None  None  None  None  None  None  \n",
       "3  None  None  None  None  None  None  None  None  \n",
       "4  None  None  None  None  None  None  None  None  \n",
       "5  None  None  None  None  None  None  None  None  \n",
       "\n",
       "[5 rows x 37 columns]"
      ]
     },
     "execution_count": 10,
     "metadata": {},
     "output_type": "execute_result"
    }
   ],
   "source": [
    "df3.head()"
   ]
  },
  {
   "cell_type": "code",
   "execution_count": 11,
   "metadata": {},
   "outputs": [],
   "source": [
    "df4 = df3.iloc[:,0:20] #columnas del 15 al 20 son de totales"
   ]
  },
  {
   "cell_type": "code",
   "execution_count": 12,
   "metadata": {},
   "outputs": [
    {
     "data": {
      "text/plain": [
       "10192"
      ]
     },
     "execution_count": 12,
     "metadata": {},
     "output_type": "execute_result"
    }
   ],
   "source": [
    "len(df4[0]) "
   ]
  },
  {
   "cell_type": "code",
   "execution_count": 13,
   "metadata": {},
   "outputs": [],
   "source": [
    "df4 = df4[df4[2] != \"GLO\"] #este paso quita las filas de totales"
   ]
  },
  {
   "cell_type": "code",
   "execution_count": 14,
   "metadata": {},
   "outputs": [
    {
     "data": {
      "text/plain": [
       "10140"
      ]
     },
     "execution_count": 14,
     "metadata": {},
     "output_type": "execute_result"
    }
   ],
   "source": [
    "len(df4[0]) #esto coincide con percepciones ya quitando totales"
   ]
  },
  {
   "cell_type": "code",
   "execution_count": 15,
   "metadata": {},
   "outputs": [
    {
     "data": {
      "text/plain": [
       "0     10140\n",
       "1     10140\n",
       "2     10140\n",
       "3     10140\n",
       "4     10140\n",
       "5     10140\n",
       "6     10140\n",
       "7     10140\n",
       "8     10140\n",
       "9     10140\n",
       "10    10140\n",
       "11    10140\n",
       "12    10140\n",
       "13    10140\n",
       "14    10140\n",
       "15    10140\n",
       "16    10140\n",
       "17    10140\n",
       "18    10140\n",
       "19    10140\n",
       "dtype: int64"
      ]
     },
     "execution_count": 15,
     "metadata": {},
     "output_type": "execute_result"
    }
   ],
   "source": [
    "df4.count()"
   ]
  },
  {
   "cell_type": "code",
   "execution_count": 16,
   "metadata": {},
   "outputs": [],
   "source": [
    "for col in  df4.columns:\n",
    "    df4[col] = pd.to_numeric(df4[col], errors='coerce')"
   ]
  },
  {
   "cell_type": "code",
   "execution_count": 17,
   "metadata": {},
   "outputs": [],
   "source": [
    "list_of_columns = [\"sem\",\"codigo\",\"vales\",\"zapatos\",\"otras\",\"fonac\",\"alim\",\"infon\",\"falt\",\"enf\",\"ries\",\n",
    "                  \"ISPT\",\"ISPTA\",\"IMSS\",\"subs\",\"t_per_g\",\"t_per_e\",\"t_per\",\"t_ded\",\"neto\"]"
   ]
  },
  {
   "cell_type": "code",
   "execution_count": 18,
   "metadata": {},
   "outputs": [],
   "source": [
    "df4.columns = list_of_columns"
   ]
  },
  {
   "cell_type": "code",
   "execution_count": 19,
   "metadata": {},
   "outputs": [
    {
     "data": {
      "text/html": [
       "<div>\n",
       "<style scoped>\n",
       "    .dataframe tbody tr th:only-of-type {\n",
       "        vertical-align: middle;\n",
       "    }\n",
       "\n",
       "    .dataframe tbody tr th {\n",
       "        vertical-align: top;\n",
       "    }\n",
       "\n",
       "    .dataframe thead th {\n",
       "        text-align: right;\n",
       "    }\n",
       "</style>\n",
       "<table border=\"1\" class=\"dataframe\">\n",
       "  <thead>\n",
       "    <tr style=\"text-align: right;\">\n",
       "      <th></th>\n",
       "      <th>sem</th>\n",
       "      <th>codigo</th>\n",
       "      <th>vales</th>\n",
       "      <th>zapatos</th>\n",
       "      <th>otras</th>\n",
       "      <th>fonac</th>\n",
       "      <th>alim</th>\n",
       "      <th>infon</th>\n",
       "      <th>falt</th>\n",
       "      <th>enf</th>\n",
       "      <th>ries</th>\n",
       "      <th>ISPT</th>\n",
       "      <th>ISPTA</th>\n",
       "      <th>IMSS</th>\n",
       "      <th>subs</th>\n",
       "      <th>t_per_g</th>\n",
       "      <th>t_per_e</th>\n",
       "      <th>t_per</th>\n",
       "      <th>t_ded</th>\n",
       "      <th>neto</th>\n",
       "    </tr>\n",
       "  </thead>\n",
       "  <tbody>\n",
       "    <tr>\n",
       "      <th>1</th>\n",
       "      <td>1</td>\n",
       "      <td>7505</td>\n",
       "      <td>1.0</td>\n",
       "      <td>0.0</td>\n",
       "      <td>0.0</td>\n",
       "      <td>0.0</td>\n",
       "      <td>0.0</td>\n",
       "      <td>0.0</td>\n",
       "      <td>0.0</td>\n",
       "      <td>0.0</td>\n",
       "      <td>0.0</td>\n",
       "      <td>0.00</td>\n",
       "      <td>0.0</td>\n",
       "      <td>20.63</td>\n",
       "      <td>38.26</td>\n",
       "      <td>871.38</td>\n",
       "      <td>158.48</td>\n",
       "      <td>1029.86</td>\n",
       "      <td>21.63</td>\n",
       "      <td>1008.23</td>\n",
       "    </tr>\n",
       "    <tr>\n",
       "      <th>2</th>\n",
       "      <td>1</td>\n",
       "      <td>6600</td>\n",
       "      <td>1.0</td>\n",
       "      <td>0.0</td>\n",
       "      <td>0.0</td>\n",
       "      <td>0.0</td>\n",
       "      <td>0.0</td>\n",
       "      <td>0.0</td>\n",
       "      <td>0.0</td>\n",
       "      <td>0.0</td>\n",
       "      <td>0.0</td>\n",
       "      <td>0.00</td>\n",
       "      <td>0.0</td>\n",
       "      <td>21.60</td>\n",
       "      <td>38.26</td>\n",
       "      <td>871.38</td>\n",
       "      <td>158.48</td>\n",
       "      <td>1029.86</td>\n",
       "      <td>22.60</td>\n",
       "      <td>1007.26</td>\n",
       "    </tr>\n",
       "    <tr>\n",
       "      <th>3</th>\n",
       "      <td>1</td>\n",
       "      <td>7515</td>\n",
       "      <td>1.0</td>\n",
       "      <td>0.0</td>\n",
       "      <td>0.0</td>\n",
       "      <td>0.0</td>\n",
       "      <td>0.0</td>\n",
       "      <td>0.0</td>\n",
       "      <td>0.0</td>\n",
       "      <td>0.0</td>\n",
       "      <td>0.0</td>\n",
       "      <td>0.00</td>\n",
       "      <td>0.0</td>\n",
       "      <td>20.53</td>\n",
       "      <td>38.26</td>\n",
       "      <td>871.38</td>\n",
       "      <td>158.48</td>\n",
       "      <td>1029.86</td>\n",
       "      <td>21.53</td>\n",
       "      <td>1008.33</td>\n",
       "    </tr>\n",
       "    <tr>\n",
       "      <th>4</th>\n",
       "      <td>1</td>\n",
       "      <td>5933</td>\n",
       "      <td>1.0</td>\n",
       "      <td>0.0</td>\n",
       "      <td>0.0</td>\n",
       "      <td>0.0</td>\n",
       "      <td>0.0</td>\n",
       "      <td>0.0</td>\n",
       "      <td>0.0</td>\n",
       "      <td>0.0</td>\n",
       "      <td>0.0</td>\n",
       "      <td>0.00</td>\n",
       "      <td>0.0</td>\n",
       "      <td>20.45</td>\n",
       "      <td>38.26</td>\n",
       "      <td>871.38</td>\n",
       "      <td>158.48</td>\n",
       "      <td>1029.86</td>\n",
       "      <td>21.45</td>\n",
       "      <td>1008.41</td>\n",
       "    </tr>\n",
       "    <tr>\n",
       "      <th>5</th>\n",
       "      <td>1</td>\n",
       "      <td>7170</td>\n",
       "      <td>1.0</td>\n",
       "      <td>0.0</td>\n",
       "      <td>0.0</td>\n",
       "      <td>0.0</td>\n",
       "      <td>0.0</td>\n",
       "      <td>0.0</td>\n",
       "      <td>0.0</td>\n",
       "      <td>0.0</td>\n",
       "      <td>0.0</td>\n",
       "      <td>24.74</td>\n",
       "      <td>0.0</td>\n",
       "      <td>24.38</td>\n",
       "      <td>0.00</td>\n",
       "      <td>1371.38</td>\n",
       "      <td>120.22</td>\n",
       "      <td>1491.60</td>\n",
       "      <td>50.12</td>\n",
       "      <td>1441.48</td>\n",
       "    </tr>\n",
       "  </tbody>\n",
       "</table>\n",
       "</div>"
      ],
      "text/plain": [
       "   sem  codigo  vales  zapatos  otras  fonac  alim  infon  falt  enf  ries  \\\n",
       "1    1    7505    1.0      0.0    0.0    0.0   0.0    0.0   0.0  0.0   0.0   \n",
       "2    1    6600    1.0      0.0    0.0    0.0   0.0    0.0   0.0  0.0   0.0   \n",
       "3    1    7515    1.0      0.0    0.0    0.0   0.0    0.0   0.0  0.0   0.0   \n",
       "4    1    5933    1.0      0.0    0.0    0.0   0.0    0.0   0.0  0.0   0.0   \n",
       "5    1    7170    1.0      0.0    0.0    0.0   0.0    0.0   0.0  0.0   0.0   \n",
       "\n",
       "    ISPT  ISPTA   IMSS   subs  t_per_g  t_per_e    t_per  t_ded     neto  \n",
       "1   0.00    0.0  20.63  38.26   871.38   158.48  1029.86  21.63  1008.23  \n",
       "2   0.00    0.0  21.60  38.26   871.38   158.48  1029.86  22.60  1007.26  \n",
       "3   0.00    0.0  20.53  38.26   871.38   158.48  1029.86  21.53  1008.33  \n",
       "4   0.00    0.0  20.45  38.26   871.38   158.48  1029.86  21.45  1008.41  \n",
       "5  24.74    0.0  24.38   0.00  1371.38   120.22  1491.60  50.12  1441.48  "
      ]
     },
     "execution_count": 19,
     "metadata": {},
     "output_type": "execute_result"
    }
   ],
   "source": [
    "df4.head()"
   ]
  },
  {
   "cell_type": "code",
   "execution_count": 20,
   "metadata": {},
   "outputs": [
    {
     "data": {
      "text/plain": [
       "sem        10140\n",
       "codigo     10140\n",
       "vales      10140\n",
       "zapatos    10140\n",
       "otras      10140\n",
       "fonac      10140\n",
       "alim       10140\n",
       "infon      10140\n",
       "falt       10140\n",
       "enf        10140\n",
       "ries       10140\n",
       "ISPT       10140\n",
       "ISPTA      10140\n",
       "IMSS       10140\n",
       "subs       10140\n",
       "t_per_g    10140\n",
       "t_per_e    10140\n",
       "t_per      10140\n",
       "t_ded      10140\n",
       "neto       10140\n",
       "dtype: int64"
      ]
     },
     "execution_count": 20,
     "metadata": {},
     "output_type": "execute_result"
    }
   ],
   "source": [
    "df4.count()"
   ]
  },
  {
   "cell_type": "code",
   "execution_count": 21,
   "metadata": {},
   "outputs": [
    {
     "data": {
      "text/plain": [
       "sem          int64\n",
       "codigo       int64\n",
       "vales      float64\n",
       "zapatos    float64\n",
       "otras      float64\n",
       "fonac      float64\n",
       "alim       float64\n",
       "infon      float64\n",
       "falt       float64\n",
       "enf        float64\n",
       "ries       float64\n",
       "ISPT       float64\n",
       "ISPTA      float64\n",
       "IMSS       float64\n",
       "subs       float64\n",
       "t_per_g    float64\n",
       "t_per_e    float64\n",
       "t_per      float64\n",
       "t_ded      float64\n",
       "neto       float64\n",
       "dtype: object"
      ]
     },
     "execution_count": 21,
     "metadata": {},
     "output_type": "execute_result"
    }
   ],
   "source": [
    "df4.dtypes"
   ]
  },
  {
   "cell_type": "code",
   "execution_count": 22,
   "metadata": {},
   "outputs": [
    {
     "data": {
      "text/plain": [
       "False"
      ]
     },
     "execution_count": 22,
     "metadata": {},
     "output_type": "execute_result"
    }
   ],
   "source": [
    "df4.isna().values.any()"
   ]
  },
  {
   "cell_type": "code",
   "execution_count": 23,
   "metadata": {},
   "outputs": [],
   "source": [
    "df4.to_csv(\"DEDUCCIONES_CLEAN.csv\")"
   ]
  },
  {
   "cell_type": "code",
   "execution_count": null,
   "metadata": {},
   "outputs": [],
   "source": []
  }
 ],
 "metadata": {
  "kernelspec": {
   "display_name": "Python 3",
   "language": "python",
   "name": "python3"
  },
  "language_info": {
   "codemirror_mode": {
    "name": "ipython",
    "version": 3
   },
   "file_extension": ".py",
   "mimetype": "text/x-python",
   "name": "python",
   "nbconvert_exporter": "python",
   "pygments_lexer": "ipython3",
   "version": "3.6.8"
  }
 },
 "nbformat": 4,
 "nbformat_minor": 2
}
