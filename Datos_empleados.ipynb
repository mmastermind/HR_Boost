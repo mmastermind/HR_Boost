{
 "cells": [
  {
   "cell_type": "code",
   "execution_count": 1,
   "metadata": {},
   "outputs": [],
   "source": [
    "import os\n",
    "import re\n",
    "import pandas as pd"
   ]
  },
  {
   "cell_type": "code",
   "execution_count": 2,
   "metadata": {},
   "outputs": [],
   "source": [
    "data = []\n",
    "\n",
    "with open(\"DATOS_EMPLEADOS.txt\", 'r') as f:\n",
    "    for line in f.readlines():\n",
    "        if len(line) == 114:\n",
    "            line = re.sub(\"\\s+\", \"|\", line.strip())\n",
    "            line = re.sub(\"ENE\", \"01\", line.strip())\n",
    "            line = re.sub(\"FEB\", \"02\", line.strip())\n",
    "            line = re.sub(\"MAR\", \"03\", line.strip())\n",
    "            line = re.sub(\"ABR\", \"04\", line.strip())\n",
    "            line = re.sub(\"MAY\", \"05\", line.strip())\n",
    "            line = re.sub(\"JUN\", \"06\", line.strip())\n",
    "            line = re.sub(\"JUL\", \"07\", line.strip())\n",
    "            line = re.sub(\"AGO\", \"08\", line.strip())\n",
    "            line = re.sub(\"SEP\", \"09\", line.strip())\n",
    "            line = re.sub(\"OCT\", \"10\", line.strip())\n",
    "            line = re.sub(\"NOV\", \"11\", line.strip())\n",
    "            line = re.sub(\"DIC\", \"12\", line.strip())\n",
    "            if not line:\n",
    "                continue\n",
    "            line_list = [s for s in line.split(';') if s]\n",
    "            if not line_list:\n",
    "                continue\n",
    "            data.append(line_list)"
   ]
  },
  {
   "cell_type": "code",
   "execution_count": 3,
   "metadata": {},
   "outputs": [
    {
     "data": {
      "text/plain": [
       "['8071|26/01/1995|FEMENINO|SOLTERO|25|31/07/2019|0/|0/0000|1|0001|56386']"
      ]
     },
     "execution_count": 3,
     "metadata": {},
     "output_type": "execute_result"
    }
   ],
   "source": [
    "data[0]"
   ]
  },
  {
   "cell_type": "code",
   "execution_count": 4,
   "metadata": {},
   "outputs": [
    {
     "data": {
      "text/plain": [
       "523"
      ]
     },
     "execution_count": 4,
     "metadata": {},
     "output_type": "execute_result"
    }
   ],
   "source": [
    "len(data)"
   ]
  },
  {
   "cell_type": "code",
   "execution_count": 5,
   "metadata": {},
   "outputs": [],
   "source": [
    "df = pd.DataFrame(data)"
   ]
  },
  {
   "cell_type": "code",
   "execution_count": 6,
   "metadata": {},
   "outputs": [],
   "source": [
    "df2 = df[0].str.split('|', expand=True)"
   ]
  },
  {
   "cell_type": "code",
   "execution_count": 7,
   "metadata": {},
   "outputs": [],
   "source": [
    "df3 = df2[df2[6] == \"0/\"]"
   ]
  },
  {
   "cell_type": "code",
   "execution_count": 8,
   "metadata": {},
   "outputs": [],
   "source": [
    "df4 = df2[df2[6] != \"0/\"]"
   ]
  },
  {
   "cell_type": "code",
   "execution_count": 9,
   "metadata": {},
   "outputs": [],
   "source": [
    "del df3[6]"
   ]
  },
  {
   "cell_type": "code",
   "execution_count": 10,
   "metadata": {},
   "outputs": [],
   "source": [
    "del df4[10]"
   ]
  },
  {
   "cell_type": "code",
   "execution_count": 11,
   "metadata": {},
   "outputs": [],
   "source": [
    "list_of_columns = [\"codigo\",\"fec_nac\",\"sexo\",\"edo_civ\",\"depto\",\"fec_ing\",\"fec_baj\",\"jorn\",\"puesto\",\"cp\"]"
   ]
  },
  {
   "cell_type": "code",
   "execution_count": 12,
   "metadata": {},
   "outputs": [],
   "source": [
    "df3.columns = list_of_columns\n",
    "df4.columns = list_of_columns"
   ]
  },
  {
   "cell_type": "code",
   "execution_count": 13,
   "metadata": {},
   "outputs": [],
   "source": [
    "df5 = df4.append(df3)"
   ]
  },
  {
   "cell_type": "code",
   "execution_count": 14,
   "metadata": {},
   "outputs": [],
   "source": [
    "def label_status(row):\n",
    "    inactive = 1\n",
    "    active = 0\n",
    "    if row == \"0/0000\":\n",
    "        return inactive\n",
    "    else:\n",
    "        return active"
   ]
  },
  {
   "cell_type": "code",
   "execution_count": 15,
   "metadata": {},
   "outputs": [],
   "source": [
    "df5[\"label\"] = df5[\"fec_baj\"].apply(lambda row: label_status(row))"
   ]
  },
  {
   "cell_type": "code",
   "execution_count": 16,
   "metadata": {},
   "outputs": [],
   "source": [
    "df5[\"fec_nac\"] = pd.to_datetime(df5[\"fec_nac\"], format=\"%d/%m/%Y\", errors=\"coerce\")\n",
    "df5[\"fec_ing\"] = pd.to_datetime(df5[\"fec_ing\"], format=\"%d/%m/%Y\", errors=\"coerce\")\n",
    "df5[\"fec_baj\"] = pd.to_datetime(df5[\"fec_baj\"], format=\"%d/%m/%Y\", errors=\"coerce\")"
   ]
  },
  {
   "cell_type": "code",
   "execution_count": 17,
   "metadata": {},
   "outputs": [
    {
     "data": {
      "text/html": [
       "<div>\n",
       "<style scoped>\n",
       "    .dataframe tbody tr th:only-of-type {\n",
       "        vertical-align: middle;\n",
       "    }\n",
       "\n",
       "    .dataframe tbody tr th {\n",
       "        vertical-align: top;\n",
       "    }\n",
       "\n",
       "    .dataframe thead th {\n",
       "        text-align: right;\n",
       "    }\n",
       "</style>\n",
       "<table border=\"1\" class=\"dataframe\">\n",
       "  <thead>\n",
       "    <tr style=\"text-align: right;\">\n",
       "      <th></th>\n",
       "      <th>codigo</th>\n",
       "      <th>fec_nac</th>\n",
       "      <th>sexo</th>\n",
       "      <th>edo_civ</th>\n",
       "      <th>depto</th>\n",
       "      <th>fec_ing</th>\n",
       "      <th>fec_baj</th>\n",
       "      <th>jorn</th>\n",
       "      <th>puesto</th>\n",
       "      <th>cp</th>\n",
       "      <th>label</th>\n",
       "    </tr>\n",
       "  </thead>\n",
       "  <tbody>\n",
       "    <tr>\n",
       "      <th>1</th>\n",
       "      <td>7840</td>\n",
       "      <td>1985-12-30</td>\n",
       "      <td>FEMENINO</td>\n",
       "      <td>SOLTERO</td>\n",
       "      <td>87</td>\n",
       "      <td>2018-12-27</td>\n",
       "      <td>2019-02-04</td>\n",
       "      <td>1</td>\n",
       "      <td>0185</td>\n",
       "      <td>50290</td>\n",
       "      <td>0</td>\n",
       "    </tr>\n",
       "    <tr>\n",
       "      <th>2</th>\n",
       "      <td>7879</td>\n",
       "      <td>1993-12-28</td>\n",
       "      <td>MASCULINO</td>\n",
       "      <td>SOLTERO</td>\n",
       "      <td>72</td>\n",
       "      <td>2019-02-11</td>\n",
       "      <td>2019-07-22</td>\n",
       "      <td>1</td>\n",
       "      <td>0001</td>\n",
       "      <td>09630</td>\n",
       "      <td>0</td>\n",
       "    </tr>\n",
       "    <tr>\n",
       "      <th>3</th>\n",
       "      <td>7505</td>\n",
       "      <td>1989-09-30</td>\n",
       "      <td>MASCULINO</td>\n",
       "      <td>SOLTERO</td>\n",
       "      <td>82</td>\n",
       "      <td>2017-09-19</td>\n",
       "      <td>2019-02-21</td>\n",
       "      <td>1</td>\n",
       "      <td>0003A</td>\n",
       "      <td>54948</td>\n",
       "      <td>0</td>\n",
       "    </tr>\n",
       "    <tr>\n",
       "      <th>6</th>\n",
       "      <td>7331</td>\n",
       "      <td>1977-04-02</td>\n",
       "      <td>FEMENINO</td>\n",
       "      <td>CASADO</td>\n",
       "      <td>45</td>\n",
       "      <td>2018-09-04</td>\n",
       "      <td>2019-08-08</td>\n",
       "      <td>1</td>\n",
       "      <td>0001</td>\n",
       "      <td>08100</td>\n",
       "      <td>0</td>\n",
       "    </tr>\n",
       "    <tr>\n",
       "      <th>9</th>\n",
       "      <td>7774</td>\n",
       "      <td>1995-12-07</td>\n",
       "      <td>FEMENINO</td>\n",
       "      <td>CASADO</td>\n",
       "      <td>87</td>\n",
       "      <td>2018-09-27</td>\n",
       "      <td>2019-01-14</td>\n",
       "      <td>1</td>\n",
       "      <td>0001</td>\n",
       "      <td>50200</td>\n",
       "      <td>0</td>\n",
       "    </tr>\n",
       "  </tbody>\n",
       "</table>\n",
       "</div>"
      ],
      "text/plain": [
       "  codigo    fec_nac       sexo  edo_civ depto    fec_ing    fec_baj jorn  \\\n",
       "1   7840 1985-12-30   FEMENINO  SOLTERO    87 2018-12-27 2019-02-04    1   \n",
       "2   7879 1993-12-28  MASCULINO  SOLTERO    72 2019-02-11 2019-07-22    1   \n",
       "3   7505 1989-09-30  MASCULINO  SOLTERO    82 2017-09-19 2019-02-21    1   \n",
       "6   7331 1977-04-02   FEMENINO   CASADO    45 2018-09-04 2019-08-08    1   \n",
       "9   7774 1995-12-07   FEMENINO   CASADO    87 2018-09-27 2019-01-14    1   \n",
       "\n",
       "  puesto     cp  label  \n",
       "1   0185  50290      0  \n",
       "2   0001  09630      0  \n",
       "3  0003A  54948      0  \n",
       "6   0001  08100      0  \n",
       "9   0001  50200      0  "
      ]
     },
     "execution_count": 17,
     "metadata": {},
     "output_type": "execute_result"
    }
   ],
   "source": [
    "df5.head()"
   ]
  },
  {
   "cell_type": "code",
   "execution_count": 18,
   "metadata": {},
   "outputs": [
    {
     "data": {
      "text/html": [
       "<div>\n",
       "<style scoped>\n",
       "    .dataframe tbody tr th:only-of-type {\n",
       "        vertical-align: middle;\n",
       "    }\n",
       "\n",
       "    .dataframe tbody tr th {\n",
       "        vertical-align: top;\n",
       "    }\n",
       "\n",
       "    .dataframe thead th {\n",
       "        text-align: right;\n",
       "    }\n",
       "</style>\n",
       "<table border=\"1\" class=\"dataframe\">\n",
       "  <thead>\n",
       "    <tr style=\"text-align: right;\">\n",
       "      <th></th>\n",
       "      <th>codigo</th>\n",
       "      <th>fec_nac</th>\n",
       "      <th>sexo</th>\n",
       "      <th>edo_civ</th>\n",
       "      <th>depto</th>\n",
       "      <th>fec_ing</th>\n",
       "      <th>fec_baj</th>\n",
       "      <th>jorn</th>\n",
       "      <th>puesto</th>\n",
       "      <th>cp</th>\n",
       "      <th>label</th>\n",
       "    </tr>\n",
       "  </thead>\n",
       "  <tbody>\n",
       "    <tr>\n",
       "      <th>0</th>\n",
       "      <td>8071</td>\n",
       "      <td>1995-01-26</td>\n",
       "      <td>FEMENINO</td>\n",
       "      <td>SOLTERO</td>\n",
       "      <td>25</td>\n",
       "      <td>2019-07-31</td>\n",
       "      <td>NaT</td>\n",
       "      <td>1</td>\n",
       "      <td>0001</td>\n",
       "      <td>56386</td>\n",
       "      <td>1</td>\n",
       "    </tr>\n",
       "  </tbody>\n",
       "</table>\n",
       "</div>"
      ],
      "text/plain": [
       "  codigo    fec_nac      sexo  edo_civ depto    fec_ing fec_baj jorn puesto  \\\n",
       "0   8071 1995-01-26  FEMENINO  SOLTERO    25 2019-07-31     NaT    1   0001   \n",
       "\n",
       "      cp  label  \n",
       "0  56386      1  "
      ]
     },
     "execution_count": 18,
     "metadata": {},
     "output_type": "execute_result"
    }
   ],
   "source": [
    "df5.loc[df5[\"codigo\"] == \"8071\"]"
   ]
  },
  {
   "cell_type": "code",
   "execution_count": 19,
   "metadata": {},
   "outputs": [
    {
     "data": {
      "text/plain": [
       "codigo             object\n",
       "fec_nac    datetime64[ns]\n",
       "sexo               object\n",
       "edo_civ            object\n",
       "depto              object\n",
       "fec_ing    datetime64[ns]\n",
       "fec_baj    datetime64[ns]\n",
       "jorn               object\n",
       "puesto             object\n",
       "cp                 object\n",
       "label               int64\n",
       "dtype: object"
      ]
     },
     "execution_count": 19,
     "metadata": {},
     "output_type": "execute_result"
    }
   ],
   "source": [
    "df5.dtypes"
   ]
  },
  {
   "cell_type": "code",
   "execution_count": 20,
   "metadata": {},
   "outputs": [],
   "source": [
    "df5.to_csv(\"DATOS_CLEAN.csv\")"
   ]
  },
  {
   "cell_type": "code",
   "execution_count": 21,
   "metadata": {},
   "outputs": [
    {
     "data": {
      "text/plain": [
       "codigo     523\n",
       "fec_nac    523\n",
       "sexo       523\n",
       "edo_civ    523\n",
       "depto      523\n",
       "fec_ing    523\n",
       "fec_baj    327\n",
       "jorn       523\n",
       "puesto     523\n",
       "cp         523\n",
       "label      523\n",
       "dtype: int64"
      ]
     },
     "execution_count": 21,
     "metadata": {},
     "output_type": "execute_result"
    }
   ],
   "source": [
    "df5.count()"
   ]
  },
  {
   "cell_type": "code",
   "execution_count": null,
   "metadata": {},
   "outputs": [],
   "source": []
  }
 ],
 "metadata": {
  "kernelspec": {
   "display_name": "Python 3",
   "language": "python",
   "name": "python3"
  },
  "language_info": {
   "codemirror_mode": {
    "name": "ipython",
    "version": 3
   },
   "file_extension": ".py",
   "mimetype": "text/x-python",
   "name": "python",
   "nbconvert_exporter": "python",
   "pygments_lexer": "ipython3",
   "version": "3.6.8"
  }
 },
 "nbformat": 4,
 "nbformat_minor": 2
}
