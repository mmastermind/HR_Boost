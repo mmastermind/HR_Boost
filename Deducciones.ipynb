{
 "cells": [
  {
   "cell_type": "code",
   "execution_count": 1,
   "metadata": {},
   "outputs": [],
   "source": [
    "import os\n",
    "import re\n",
    "import pandas as pd"
   ]
  },
  {
   "cell_type": "code",
   "execution_count": 2,
   "metadata": {},
   "outputs": [],
   "source": [
    "data = []\n",
    "\n",
    "for file in os.listdir(\"DEDUCCIONES_2019\"):\n",
    "    if file.endswith(\".txt\"): \n",
    "        with open(os.path.join(\"DEDUCCIONES_2019\", file)) as f:\n",
    "            year = file[19:23]\n",
    "            week = file[16:18]\n",
    "            for line in f.readlines():\n",
    "                if len(line) == 241:\n",
    "                    line = re.sub(\"\\s+\", \"|\", line.strip())\n",
    "                    line = re.sub(\",\", \"\", line.strip()) #esto quita las comas de las cifras\n",
    "                    line = f\"{year}|{week}|{line}\"\n",
    "                    if not line:\n",
    "                        continue\n",
    "                    line_list = [s for s in line.split(';') if s]\n",
    "                    if not line_list:\n",
    "                        continue\n",
    "                    data.append(line_list)\n",
    "    else:\n",
    "        continue"
   ]
  },
  {
   "cell_type": "code",
   "execution_count": 3,
   "metadata": {},
   "outputs": [],
   "source": [
    "for file in os.listdir(\"DEDUCCIONES_2018\"):\n",
    "    if file.endswith(\".txt\"): \n",
    "        with open(os.path.join(\"DEDUCCIONES_2018\", file)) as f:\n",
    "            year = file[19:23]\n",
    "            week = file[16:18]\n",
    "            for line in f.readlines():\n",
    "                if len(line) == 241:\n",
    "                    line = re.sub(\"\\s+\", \"|\", line.strip())\n",
    "                    line = re.sub(\",\", \"\", line.strip()) #esto quita las comas de las cifras\n",
    "                    line = f\"{year}|{week}|{line}\"\n",
    "                    if not line:\n",
    "                        continue\n",
    "                    line_list = [s for s in line.split(';') if s]\n",
    "                    if not line_list:\n",
    "                        continue\n",
    "                    data.append(line_list)\n",
    "    else:\n",
    "        continue"
   ]
  },
  {
   "cell_type": "code",
   "execution_count": 4,
   "metadata": {},
   "outputs": [
    {
     "data": {
      "text/plain": [
       "['2018|52|***|GLO|181.00|0.00|960.00|754.03|0.00|6775.90|2153.77|0.00|0.00|6400.96|168.33|5770.69|4840.27|218040.47|264534.48|23164.68|241369.80']"
      ]
     },
     "execution_count": 4,
     "metadata": {},
     "output_type": "execute_result"
    }
   ],
   "source": [
    "data[-1]"
   ]
  },
  {
   "cell_type": "code",
   "execution_count": 5,
   "metadata": {},
   "outputs": [
    {
     "data": {
      "text/plain": [
       "18911"
      ]
     },
     "execution_count": 5,
     "metadata": {},
     "output_type": "execute_result"
    }
   ],
   "source": [
    "len(data)"
   ]
  },
  {
   "cell_type": "code",
   "execution_count": 6,
   "metadata": {},
   "outputs": [],
   "source": [
    "df = pd.DataFrame(data)"
   ]
  },
  {
   "cell_type": "code",
   "execution_count": 7,
   "metadata": {},
   "outputs": [],
   "source": [
    "df = df.drop(0)"
   ]
  },
  {
   "cell_type": "code",
   "execution_count": 8,
   "metadata": {},
   "outputs": [],
   "source": [
    "df2 = df[0].str.split('|', expand=True)"
   ]
  },
  {
   "cell_type": "code",
   "execution_count": 9,
   "metadata": {},
   "outputs": [],
   "source": [
    "df3 = df2[df2[2] != \"Codigo\"] #en este paso elimino las filas de encabezados, que miden lo mismo que las de datos"
   ]
  },
  {
   "cell_type": "code",
   "execution_count": 10,
   "metadata": {},
   "outputs": [],
   "source": [
    "df4 = df3.iloc[:,0:16] #columnas del 15 al 20 son de totales"
   ]
  },
  {
   "cell_type": "code",
   "execution_count": 11,
   "metadata": {},
   "outputs": [
    {
     "data": {
      "text/plain": [
       "18436"
      ]
     },
     "execution_count": 11,
     "metadata": {},
     "output_type": "execute_result"
    }
   ],
   "source": [
    "len(df4[0]) "
   ]
  },
  {
   "cell_type": "code",
   "execution_count": 12,
   "metadata": {},
   "outputs": [],
   "source": [
    "df4 = df4[df4[3] != \"GLO\"] #este paso quita las filas de totales"
   ]
  },
  {
   "cell_type": "code",
   "execution_count": 13,
   "metadata": {},
   "outputs": [
    {
     "data": {
      "text/plain": [
       "18341"
      ]
     },
     "execution_count": 13,
     "metadata": {},
     "output_type": "execute_result"
    }
   ],
   "source": [
    "len(df4[0]) #esto coincide con percepciones ya quitando totales"
   ]
  },
  {
   "cell_type": "code",
   "execution_count": 14,
   "metadata": {},
   "outputs": [
    {
     "data": {
      "text/plain": [
       "0     18341\n",
       "1     18341\n",
       "2     18341\n",
       "3     18341\n",
       "4     18341\n",
       "5     18341\n",
       "6     18341\n",
       "7     18341\n",
       "8     18341\n",
       "9     18341\n",
       "10    18341\n",
       "11    18341\n",
       "12    18341\n",
       "13    18341\n",
       "14    18341\n",
       "15    18341\n",
       "dtype: int64"
      ]
     },
     "execution_count": 14,
     "metadata": {},
     "output_type": "execute_result"
    }
   ],
   "source": [
    "df4.count()"
   ]
  },
  {
   "cell_type": "code",
   "execution_count": 15,
   "metadata": {},
   "outputs": [],
   "source": [
    "for col in  df4.columns:\n",
    "    df4[col] = pd.to_numeric(df4[col], errors='coerce')"
   ]
  },
  {
   "cell_type": "code",
   "execution_count": 16,
   "metadata": {},
   "outputs": [],
   "source": [
    "list_of_columns = [\"año\",\"sem\",\"codigo\",\"vales\",\"zapatos\",\"otras\",\"fonac\",\"alim\",\"infon\",\"falt\",\"enf\",\"ries\",\n",
    "                  \"ISPT\",\"ISPTA\",\"IMSS\",\"subs\"]"
   ]
  },
  {
   "cell_type": "code",
   "execution_count": 17,
   "metadata": {},
   "outputs": [],
   "source": [
    "df4.columns = list_of_columns"
   ]
  },
  {
   "cell_type": "code",
   "execution_count": 18,
   "metadata": {},
   "outputs": [
    {
     "data": {
      "text/html": [
       "<div>\n",
       "<style scoped>\n",
       "    .dataframe tbody tr th:only-of-type {\n",
       "        vertical-align: middle;\n",
       "    }\n",
       "\n",
       "    .dataframe tbody tr th {\n",
       "        vertical-align: top;\n",
       "    }\n",
       "\n",
       "    .dataframe thead th {\n",
       "        text-align: right;\n",
       "    }\n",
       "</style>\n",
       "<table border=\"1\" class=\"dataframe\">\n",
       "  <thead>\n",
       "    <tr style=\"text-align: right;\">\n",
       "      <th></th>\n",
       "      <th>año</th>\n",
       "      <th>sem</th>\n",
       "      <th>codigo</th>\n",
       "      <th>vales</th>\n",
       "      <th>zapatos</th>\n",
       "      <th>otras</th>\n",
       "      <th>fonac</th>\n",
       "      <th>alim</th>\n",
       "      <th>infon</th>\n",
       "      <th>falt</th>\n",
       "      <th>enf</th>\n",
       "      <th>ries</th>\n",
       "      <th>ISPT</th>\n",
       "      <th>ISPTA</th>\n",
       "      <th>IMSS</th>\n",
       "      <th>subs</th>\n",
       "    </tr>\n",
       "  </thead>\n",
       "  <tbody>\n",
       "    <tr>\n",
       "      <th>1</th>\n",
       "      <td>2019</td>\n",
       "      <td>1</td>\n",
       "      <td>7840</td>\n",
       "      <td>1.0</td>\n",
       "      <td>0.0</td>\n",
       "      <td>0.0</td>\n",
       "      <td>0.0</td>\n",
       "      <td>0.0</td>\n",
       "      <td>0.0</td>\n",
       "      <td>0.0</td>\n",
       "      <td>0.0</td>\n",
       "      <td>0.0</td>\n",
       "      <td>289.63</td>\n",
       "      <td>0.0</td>\n",
       "      <td>49.55</td>\n",
       "      <td>0.00</td>\n",
       "    </tr>\n",
       "    <tr>\n",
       "      <th>2</th>\n",
       "      <td>2019</td>\n",
       "      <td>1</td>\n",
       "      <td>7505</td>\n",
       "      <td>1.0</td>\n",
       "      <td>0.0</td>\n",
       "      <td>0.0</td>\n",
       "      <td>0.0</td>\n",
       "      <td>0.0</td>\n",
       "      <td>0.0</td>\n",
       "      <td>0.0</td>\n",
       "      <td>0.0</td>\n",
       "      <td>0.0</td>\n",
       "      <td>60.93</td>\n",
       "      <td>0.0</td>\n",
       "      <td>24.12</td>\n",
       "      <td>0.00</td>\n",
       "    </tr>\n",
       "    <tr>\n",
       "      <th>3</th>\n",
       "      <td>2019</td>\n",
       "      <td>1</td>\n",
       "      <td>6600</td>\n",
       "      <td>1.0</td>\n",
       "      <td>0.0</td>\n",
       "      <td>0.0</td>\n",
       "      <td>0.0</td>\n",
       "      <td>0.0</td>\n",
       "      <td>0.0</td>\n",
       "      <td>0.0</td>\n",
       "      <td>0.0</td>\n",
       "      <td>0.0</td>\n",
       "      <td>0.00</td>\n",
       "      <td>0.0</td>\n",
       "      <td>20.07</td>\n",
       "      <td>33.13</td>\n",
       "    </tr>\n",
       "    <tr>\n",
       "      <th>4</th>\n",
       "      <td>2019</td>\n",
       "      <td>1</td>\n",
       "      <td>7685</td>\n",
       "      <td>1.0</td>\n",
       "      <td>0.0</td>\n",
       "      <td>0.0</td>\n",
       "      <td>0.0</td>\n",
       "      <td>0.0</td>\n",
       "      <td>0.0</td>\n",
       "      <td>0.0</td>\n",
       "      <td>0.0</td>\n",
       "      <td>0.0</td>\n",
       "      <td>0.00</td>\n",
       "      <td>0.0</td>\n",
       "      <td>27.04</td>\n",
       "      <td>38.26</td>\n",
       "    </tr>\n",
       "    <tr>\n",
       "      <th>5</th>\n",
       "      <td>2019</td>\n",
       "      <td>1</td>\n",
       "      <td>7331</td>\n",
       "      <td>1.0</td>\n",
       "      <td>0.0</td>\n",
       "      <td>0.0</td>\n",
       "      <td>0.0</td>\n",
       "      <td>0.0</td>\n",
       "      <td>0.0</td>\n",
       "      <td>0.0</td>\n",
       "      <td>0.0</td>\n",
       "      <td>0.0</td>\n",
       "      <td>0.00</td>\n",
       "      <td>0.0</td>\n",
       "      <td>23.71</td>\n",
       "      <td>34.96</td>\n",
       "    </tr>\n",
       "  </tbody>\n",
       "</table>\n",
       "</div>"
      ],
      "text/plain": [
       "    año  sem  codigo  vales  zapatos  otras  fonac  alim  infon  falt  enf  \\\n",
       "1  2019    1    7840    1.0      0.0    0.0    0.0   0.0    0.0   0.0  0.0   \n",
       "2  2019    1    7505    1.0      0.0    0.0    0.0   0.0    0.0   0.0  0.0   \n",
       "3  2019    1    6600    1.0      0.0    0.0    0.0   0.0    0.0   0.0  0.0   \n",
       "4  2019    1    7685    1.0      0.0    0.0    0.0   0.0    0.0   0.0  0.0   \n",
       "5  2019    1    7331    1.0      0.0    0.0    0.0   0.0    0.0   0.0  0.0   \n",
       "\n",
       "   ries    ISPT  ISPTA   IMSS   subs  \n",
       "1   0.0  289.63    0.0  49.55   0.00  \n",
       "2   0.0   60.93    0.0  24.12   0.00  \n",
       "3   0.0    0.00    0.0  20.07  33.13  \n",
       "4   0.0    0.00    0.0  27.04  38.26  \n",
       "5   0.0    0.00    0.0  23.71  34.96  "
      ]
     },
     "execution_count": 18,
     "metadata": {},
     "output_type": "execute_result"
    }
   ],
   "source": [
    "df4.head()"
   ]
  },
  {
   "cell_type": "code",
   "execution_count": 19,
   "metadata": {},
   "outputs": [
    {
     "data": {
      "text/plain": [
       "año        18341\n",
       "sem        18341\n",
       "codigo     18341\n",
       "vales      18341\n",
       "zapatos    18341\n",
       "otras      18341\n",
       "fonac      18341\n",
       "alim       18341\n",
       "infon      18341\n",
       "falt       18341\n",
       "enf        18341\n",
       "ries       18341\n",
       "ISPT       18341\n",
       "ISPTA      18341\n",
       "IMSS       18341\n",
       "subs       18341\n",
       "dtype: int64"
      ]
     },
     "execution_count": 19,
     "metadata": {},
     "output_type": "execute_result"
    }
   ],
   "source": [
    "df4.count()"
   ]
  },
  {
   "cell_type": "code",
   "execution_count": 20,
   "metadata": {},
   "outputs": [
    {
     "data": {
      "text/plain": [
       "año          int64\n",
       "sem          int64\n",
       "codigo       int64\n",
       "vales      float64\n",
       "zapatos    float64\n",
       "otras      float64\n",
       "fonac      float64\n",
       "alim       float64\n",
       "infon      float64\n",
       "falt       float64\n",
       "enf        float64\n",
       "ries       float64\n",
       "ISPT       float64\n",
       "ISPTA      float64\n",
       "IMSS       float64\n",
       "subs       float64\n",
       "dtype: object"
      ]
     },
     "execution_count": 20,
     "metadata": {},
     "output_type": "execute_result"
    }
   ],
   "source": [
    "df4.dtypes"
   ]
  },
  {
   "cell_type": "code",
   "execution_count": 21,
   "metadata": {},
   "outputs": [],
   "source": [
    "df4.to_csv(\"DEDUCCIONES_CLEAN.csv\")"
   ]
  },
  {
   "cell_type": "code",
   "execution_count": null,
   "metadata": {},
   "outputs": [],
   "source": []
  }
 ],
 "metadata": {
  "kernelspec": {
   "display_name": "Python 3",
   "language": "python",
   "name": "python3"
  },
  "language_info": {
   "codemirror_mode": {
    "name": "ipython",
    "version": 3
   },
   "file_extension": ".py",
   "mimetype": "text/x-python",
   "name": "python",
   "nbconvert_exporter": "python",
   "pygments_lexer": "ipython3",
   "version": "3.6.8"
  }
 },
 "nbformat": 4,
 "nbformat_minor": 2
}
