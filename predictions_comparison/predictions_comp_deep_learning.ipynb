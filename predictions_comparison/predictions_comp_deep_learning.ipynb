{
 "cells": [
  {
   "cell_type": "code",
   "execution_count": 1,
   "metadata": {},
   "outputs": [],
   "source": [
    "import pandas as pd"
   ]
  },
  {
   "cell_type": "code",
   "execution_count": 2,
   "metadata": {},
   "outputs": [],
   "source": [
    "df_2018 = pd.read_csv(\"DATOS_EMPLEADOS_2018.csv\", index_col=0)"
   ]
  },
  {
   "cell_type": "code",
   "execution_count": 3,
   "metadata": {},
   "outputs": [],
   "source": [
    "df_2019 = pd.read_csv(\"DATOS_EMPLEADOS_2019.csv\", index_col=0)"
   ]
  },
  {
   "cell_type": "code",
   "execution_count": 4,
   "metadata": {},
   "outputs": [
    {
     "data": {
      "text/html": [
       "<div>\n",
       "<style scoped>\n",
       "    .dataframe tbody tr th:only-of-type {\n",
       "        vertical-align: middle;\n",
       "    }\n",
       "\n",
       "    .dataframe tbody tr th {\n",
       "        vertical-align: top;\n",
       "    }\n",
       "\n",
       "    .dataframe thead th {\n",
       "        text-align: right;\n",
       "    }\n",
       "</style>\n",
       "<table border=\"1\" class=\"dataframe\">\n",
       "  <thead>\n",
       "    <tr style=\"text-align: right;\">\n",
       "      <th></th>\n",
       "      <th>codigo</th>\n",
       "      <th>fec_nac</th>\n",
       "      <th>sexo</th>\n",
       "      <th>edo_civ</th>\n",
       "      <th>depto</th>\n",
       "      <th>fec_ing</th>\n",
       "      <th>fec_baj</th>\n",
       "      <th>jorn</th>\n",
       "      <th>puesto</th>\n",
       "      <th>cp</th>\n",
       "      <th>label</th>\n",
       "      <th>antig</th>\n",
       "    </tr>\n",
       "  </thead>\n",
       "  <tbody>\n",
       "    <tr>\n",
       "      <th>1</th>\n",
       "      <td>7840</td>\n",
       "      <td>1985-12-30</td>\n",
       "      <td>FEMENINO</td>\n",
       "      <td>SOLTERO</td>\n",
       "      <td>87</td>\n",
       "      <td>2018-12-27</td>\n",
       "      <td>NaN</td>\n",
       "      <td>1</td>\n",
       "      <td>0185</td>\n",
       "      <td>50290</td>\n",
       "      <td>1</td>\n",
       "      <td>4</td>\n",
       "    </tr>\n",
       "    <tr>\n",
       "      <th>2</th>\n",
       "      <td>7505</td>\n",
       "      <td>1989-09-30</td>\n",
       "      <td>MASCULINO</td>\n",
       "      <td>SOLTERO</td>\n",
       "      <td>82</td>\n",
       "      <td>2017-09-19</td>\n",
       "      <td>NaN</td>\n",
       "      <td>1</td>\n",
       "      <td>0003A</td>\n",
       "      <td>54948</td>\n",
       "      <td>1</td>\n",
       "      <td>468</td>\n",
       "    </tr>\n",
       "    <tr>\n",
       "      <th>6</th>\n",
       "      <td>6600</td>\n",
       "      <td>1973-02-08</td>\n",
       "      <td>FEMENINO</td>\n",
       "      <td>SOLTERO</td>\n",
       "      <td>80</td>\n",
       "      <td>2015-10-01</td>\n",
       "      <td>NaN</td>\n",
       "      <td>1</td>\n",
       "      <td>0001</td>\n",
       "      <td>7460</td>\n",
       "      <td>1</td>\n",
       "      <td>1187</td>\n",
       "    </tr>\n",
       "    <tr>\n",
       "      <th>8</th>\n",
       "      <td>7685</td>\n",
       "      <td>1995-11-23</td>\n",
       "      <td>FEMENINO</td>\n",
       "      <td>SOLTERO</td>\n",
       "      <td>76</td>\n",
       "      <td>2018-06-08</td>\n",
       "      <td>NaN</td>\n",
       "      <td>1</td>\n",
       "      <td>0001</td>\n",
       "      <td>56617</td>\n",
       "      <td>1</td>\n",
       "      <td>206</td>\n",
       "    </tr>\n",
       "    <tr>\n",
       "      <th>9</th>\n",
       "      <td>7331</td>\n",
       "      <td>1977-04-02</td>\n",
       "      <td>FEMENINO</td>\n",
       "      <td>CASADO</td>\n",
       "      <td>45</td>\n",
       "      <td>2018-09-04</td>\n",
       "      <td>NaN</td>\n",
       "      <td>1</td>\n",
       "      <td>0001</td>\n",
       "      <td>8100</td>\n",
       "      <td>1</td>\n",
       "      <td>118</td>\n",
       "    </tr>\n",
       "  </tbody>\n",
       "</table>\n",
       "</div>"
      ],
      "text/plain": [
       "   codigo     fec_nac       sexo  edo_civ  depto     fec_ing fec_baj  jorn  \\\n",
       "1    7840  1985-12-30   FEMENINO  SOLTERO     87  2018-12-27     NaN     1   \n",
       "2    7505  1989-09-30  MASCULINO  SOLTERO     82  2017-09-19     NaN     1   \n",
       "6    6600  1973-02-08   FEMENINO  SOLTERO     80  2015-10-01     NaN     1   \n",
       "8    7685  1995-11-23   FEMENINO  SOLTERO     76  2018-06-08     NaN     1   \n",
       "9    7331  1977-04-02   FEMENINO   CASADO     45  2018-09-04     NaN     1   \n",
       "\n",
       "  puesto     cp  label  antig  \n",
       "1   0185  50290      1      4  \n",
       "2  0003A  54948      1    468  \n",
       "6   0001   7460      1   1187  \n",
       "8   0001  56617      1    206  \n",
       "9   0001   8100      1    118  "
      ]
     },
     "execution_count": 4,
     "metadata": {},
     "output_type": "execute_result"
    }
   ],
   "source": [
    "df_2018.head()"
   ]
  },
  {
   "cell_type": "code",
   "execution_count": 5,
   "metadata": {},
   "outputs": [],
   "source": [
    "df_2018_siguen = df_2018.loc[df_2018[\"label\"] == 1]"
   ]
  },
  {
   "cell_type": "code",
   "execution_count": 6,
   "metadata": {},
   "outputs": [],
   "source": [
    "df_2018_fueron = df_2018.loc[df_2018[\"label\"] == 0]"
   ]
  },
  {
   "cell_type": "code",
   "execution_count": 7,
   "metadata": {},
   "outputs": [],
   "source": [
    "df_2019_siguen = df_2019.loc[df_2019[\"label\"] == 1]"
   ]
  },
  {
   "cell_type": "code",
   "execution_count": 8,
   "metadata": {},
   "outputs": [],
   "source": [
    "df_2019_fueron = df_2019.loc[df_2019[\"label\"] == 0]"
   ]
  },
  {
   "cell_type": "code",
   "execution_count": 9,
   "metadata": {},
   "outputs": [
    {
     "data": {
      "text/plain": [
       "192"
      ]
     },
     "execution_count": 9,
     "metadata": {},
     "output_type": "execute_result"
    }
   ],
   "source": [
    "df_2018_siguen[\"codigo\"].count() #este es el que hay que comparar con 2019"
   ]
  },
  {
   "cell_type": "code",
   "execution_count": 10,
   "metadata": {},
   "outputs": [
    {
     "data": {
      "text/plain": [
       "310"
      ]
     },
     "execution_count": 10,
     "metadata": {},
     "output_type": "execute_result"
    }
   ],
   "source": [
    "df_2018_fueron[\"codigo\"].count()"
   ]
  },
  {
   "cell_type": "code",
   "execution_count": 11,
   "metadata": {},
   "outputs": [
    {
     "data": {
      "text/plain": [
       "196"
      ]
     },
     "execution_count": 11,
     "metadata": {},
     "output_type": "execute_result"
    }
   ],
   "source": [
    "df_2019_siguen[\"codigo\"].count()"
   ]
  },
  {
   "cell_type": "code",
   "execution_count": 12,
   "metadata": {},
   "outputs": [
    {
     "data": {
      "text/plain": [
       "327"
      ]
     },
     "execution_count": 12,
     "metadata": {},
     "output_type": "execute_result"
    }
   ],
   "source": [
    "df_2019_fueron[\"codigo\"].count()"
   ]
  },
  {
   "cell_type": "code",
   "execution_count": 13,
   "metadata": {},
   "outputs": [
    {
     "data": {
      "text/html": [
       "<div>\n",
       "<style scoped>\n",
       "    .dataframe tbody tr th:only-of-type {\n",
       "        vertical-align: middle;\n",
       "    }\n",
       "\n",
       "    .dataframe tbody tr th {\n",
       "        vertical-align: top;\n",
       "    }\n",
       "\n",
       "    .dataframe thead th {\n",
       "        text-align: right;\n",
       "    }\n",
       "</style>\n",
       "<table border=\"1\" class=\"dataframe\">\n",
       "  <thead>\n",
       "    <tr style=\"text-align: right;\">\n",
       "      <th></th>\n",
       "      <th>activos_en_2018</th>\n",
       "    </tr>\n",
       "  </thead>\n",
       "  <tbody>\n",
       "    <tr>\n",
       "      <th>1</th>\n",
       "      <td>7840</td>\n",
       "    </tr>\n",
       "    <tr>\n",
       "      <th>2</th>\n",
       "      <td>7505</td>\n",
       "    </tr>\n",
       "    <tr>\n",
       "      <th>6</th>\n",
       "      <td>6600</td>\n",
       "    </tr>\n",
       "    <tr>\n",
       "      <th>8</th>\n",
       "      <td>7685</td>\n",
       "    </tr>\n",
       "    <tr>\n",
       "      <th>9</th>\n",
       "      <td>7331</td>\n",
       "    </tr>\n",
       "  </tbody>\n",
       "</table>\n",
       "</div>"
      ],
      "text/plain": [
       "   activos_en_2018\n",
       "1             7840\n",
       "2             7505\n",
       "6             6600\n",
       "8             7685\n",
       "9             7331"
      ]
     },
     "execution_count": 13,
     "metadata": {},
     "output_type": "execute_result"
    }
   ],
   "source": [
    "comparison = pd.DataFrame({\n",
    "\"activos_en_2018\": df_2018_siguen[\"codigo\"]\n",
    "})\n",
    "comparison.head()"
   ]
  },
  {
   "cell_type": "code",
   "execution_count": 14,
   "metadata": {},
   "outputs": [
    {
     "name": "stderr",
     "output_type": "stream",
     "text": [
      "C:\\Users\\dell\\Anaconda3\\envs\\PythonData\\lib\\site-packages\\ipykernel_launcher.py:1: SettingWithCopyWarning: \n",
      "A value is trying to be set on a copy of a slice from a DataFrame.\n",
      "Try using .loc[row_indexer,col_indexer] = value instead\n",
      "\n",
      "See the caveats in the documentation: http://pandas.pydata.org/pandas-docs/stable/indexing.html#indexing-view-versus-copy\n",
      "  \"\"\"Entry point for launching an IPython kernel.\n"
     ]
    }
   ],
   "source": [
    "df_2019_fueron[\"empleado\"] = df_2019_fueron[\"codigo\"]"
   ]
  },
  {
   "cell_type": "code",
   "execution_count": 15,
   "metadata": {},
   "outputs": [
    {
     "data": {
      "text/html": [
       "<div>\n",
       "<style scoped>\n",
       "    .dataframe tbody tr th:only-of-type {\n",
       "        vertical-align: middle;\n",
       "    }\n",
       "\n",
       "    .dataframe tbody tr th {\n",
       "        vertical-align: top;\n",
       "    }\n",
       "\n",
       "    .dataframe thead th {\n",
       "        text-align: right;\n",
       "    }\n",
       "</style>\n",
       "<table border=\"1\" class=\"dataframe\">\n",
       "  <thead>\n",
       "    <tr style=\"text-align: right;\">\n",
       "      <th></th>\n",
       "      <th>codigo</th>\n",
       "      <th>fec_nac</th>\n",
       "      <th>sexo</th>\n",
       "      <th>edo_civ</th>\n",
       "      <th>depto</th>\n",
       "      <th>fec_ing</th>\n",
       "      <th>fec_baj</th>\n",
       "      <th>jorn</th>\n",
       "      <th>puesto</th>\n",
       "      <th>cp</th>\n",
       "      <th>label</th>\n",
       "      <th>antig</th>\n",
       "      <th>empleado</th>\n",
       "    </tr>\n",
       "  </thead>\n",
       "  <tbody>\n",
       "    <tr>\n",
       "      <th>1</th>\n",
       "      <td>7840</td>\n",
       "      <td>1985-12-30</td>\n",
       "      <td>FEMENINO</td>\n",
       "      <td>SOLTERO</td>\n",
       "      <td>87</td>\n",
       "      <td>2018-12-27</td>\n",
       "      <td>2019-02-04</td>\n",
       "      <td>1</td>\n",
       "      <td>0185</td>\n",
       "      <td>50290</td>\n",
       "      <td>0</td>\n",
       "      <td>39</td>\n",
       "      <td>7840</td>\n",
       "    </tr>\n",
       "    <tr>\n",
       "      <th>2</th>\n",
       "      <td>7879</td>\n",
       "      <td>1993-12-28</td>\n",
       "      <td>MASCULINO</td>\n",
       "      <td>SOLTERO</td>\n",
       "      <td>72</td>\n",
       "      <td>2019-02-11</td>\n",
       "      <td>2019-07-22</td>\n",
       "      <td>1</td>\n",
       "      <td>0001</td>\n",
       "      <td>9630</td>\n",
       "      <td>0</td>\n",
       "      <td>161</td>\n",
       "      <td>7879</td>\n",
       "    </tr>\n",
       "    <tr>\n",
       "      <th>3</th>\n",
       "      <td>7505</td>\n",
       "      <td>1989-09-30</td>\n",
       "      <td>MASCULINO</td>\n",
       "      <td>SOLTERO</td>\n",
       "      <td>82</td>\n",
       "      <td>2017-09-19</td>\n",
       "      <td>2019-02-21</td>\n",
       "      <td>1</td>\n",
       "      <td>0003A</td>\n",
       "      <td>54948</td>\n",
       "      <td>0</td>\n",
       "      <td>520</td>\n",
       "      <td>7505</td>\n",
       "    </tr>\n",
       "    <tr>\n",
       "      <th>6</th>\n",
       "      <td>7331</td>\n",
       "      <td>1977-04-02</td>\n",
       "      <td>FEMENINO</td>\n",
       "      <td>CASADO</td>\n",
       "      <td>45</td>\n",
       "      <td>2018-09-04</td>\n",
       "      <td>2019-08-08</td>\n",
       "      <td>1</td>\n",
       "      <td>0001</td>\n",
       "      <td>8100</td>\n",
       "      <td>0</td>\n",
       "      <td>338</td>\n",
       "      <td>7331</td>\n",
       "    </tr>\n",
       "    <tr>\n",
       "      <th>9</th>\n",
       "      <td>7774</td>\n",
       "      <td>1995-12-07</td>\n",
       "      <td>FEMENINO</td>\n",
       "      <td>CASADO</td>\n",
       "      <td>87</td>\n",
       "      <td>2018-09-27</td>\n",
       "      <td>2019-01-14</td>\n",
       "      <td>1</td>\n",
       "      <td>0001</td>\n",
       "      <td>50200</td>\n",
       "      <td>0</td>\n",
       "      <td>109</td>\n",
       "      <td>7774</td>\n",
       "    </tr>\n",
       "  </tbody>\n",
       "</table>\n",
       "</div>"
      ],
      "text/plain": [
       "   codigo     fec_nac       sexo  edo_civ  depto     fec_ing     fec_baj  \\\n",
       "1    7840  1985-12-30   FEMENINO  SOLTERO     87  2018-12-27  2019-02-04   \n",
       "2    7879  1993-12-28  MASCULINO  SOLTERO     72  2019-02-11  2019-07-22   \n",
       "3    7505  1989-09-30  MASCULINO  SOLTERO     82  2017-09-19  2019-02-21   \n",
       "6    7331  1977-04-02   FEMENINO   CASADO     45  2018-09-04  2019-08-08   \n",
       "9    7774  1995-12-07   FEMENINO   CASADO     87  2018-09-27  2019-01-14   \n",
       "\n",
       "   jorn puesto     cp  label  antig  empleado  \n",
       "1     1   0185  50290      0     39      7840  \n",
       "2     1   0001   9630      0    161      7879  \n",
       "3     1  0003A  54948      0    520      7505  \n",
       "6     1   0001   8100      0    338      7331  \n",
       "9     1   0001  50200      0    109      7774  "
      ]
     },
     "execution_count": 15,
     "metadata": {},
     "output_type": "execute_result"
    }
   ],
   "source": [
    "df_2019_fueron.head()"
   ]
  },
  {
   "cell_type": "code",
   "execution_count": 16,
   "metadata": {},
   "outputs": [],
   "source": [
    "comparison[\"inactivos_en_2019\"] = comparison[\"activos_en_2018\"].map(df_2019_fueron.set_index('codigo')[\"empleado\"].to_dict())"
   ]
  },
  {
   "cell_type": "code",
   "execution_count": 17,
   "metadata": {},
   "outputs": [],
   "source": [
    "comparison = comparison[comparison[\"inactivos_en_2019\"].notnull()]"
   ]
  },
  {
   "cell_type": "code",
   "execution_count": 18,
   "metadata": {},
   "outputs": [
    {
     "data": {
      "text/html": [
       "<div>\n",
       "<style scoped>\n",
       "    .dataframe tbody tr th:only-of-type {\n",
       "        vertical-align: middle;\n",
       "    }\n",
       "\n",
       "    .dataframe tbody tr th {\n",
       "        vertical-align: top;\n",
       "    }\n",
       "\n",
       "    .dataframe thead th {\n",
       "        text-align: right;\n",
       "    }\n",
       "</style>\n",
       "<table border=\"1\" class=\"dataframe\">\n",
       "  <thead>\n",
       "    <tr style=\"text-align: right;\">\n",
       "      <th></th>\n",
       "      <th>activos_en_2018</th>\n",
       "      <th>inactivos_en_2019</th>\n",
       "    </tr>\n",
       "  </thead>\n",
       "  <tbody>\n",
       "    <tr>\n",
       "      <th>1</th>\n",
       "      <td>7840</td>\n",
       "      <td>7840.0</td>\n",
       "    </tr>\n",
       "    <tr>\n",
       "      <th>2</th>\n",
       "      <td>7505</td>\n",
       "      <td>7505.0</td>\n",
       "    </tr>\n",
       "    <tr>\n",
       "      <th>9</th>\n",
       "      <td>7331</td>\n",
       "      <td>7331.0</td>\n",
       "    </tr>\n",
       "    <tr>\n",
       "      <th>12</th>\n",
       "      <td>7774</td>\n",
       "      <td>7774.0</td>\n",
       "    </tr>\n",
       "    <tr>\n",
       "      <th>21</th>\n",
       "      <td>3652</td>\n",
       "      <td>3652.0</td>\n",
       "    </tr>\n",
       "    <tr>\n",
       "      <th>25</th>\n",
       "      <td>4044</td>\n",
       "      <td>4044.0</td>\n",
       "    </tr>\n",
       "    <tr>\n",
       "      <th>26</th>\n",
       "      <td>7593</td>\n",
       "      <td>7593.0</td>\n",
       "    </tr>\n",
       "    <tr>\n",
       "      <th>44</th>\n",
       "      <td>7312</td>\n",
       "      <td>7312.0</td>\n",
       "    </tr>\n",
       "    <tr>\n",
       "      <th>50</th>\n",
       "      <td>7737</td>\n",
       "      <td>7737.0</td>\n",
       "    </tr>\n",
       "    <tr>\n",
       "      <th>55</th>\n",
       "      <td>6210</td>\n",
       "      <td>6210.0</td>\n",
       "    </tr>\n",
       "  </tbody>\n",
       "</table>\n",
       "</div>"
      ],
      "text/plain": [
       "    activos_en_2018  inactivos_en_2019\n",
       "1              7840             7840.0\n",
       "2              7505             7505.0\n",
       "9              7331             7331.0\n",
       "12             7774             7774.0\n",
       "21             3652             3652.0\n",
       "25             4044             4044.0\n",
       "26             7593             7593.0\n",
       "44             7312             7312.0\n",
       "50             7737             7737.0\n",
       "55             6210             6210.0"
      ]
     },
     "execution_count": 18,
     "metadata": {},
     "output_type": "execute_result"
    }
   ],
   "source": [
    "comparison.head(10)"
   ]
  },
  {
   "cell_type": "code",
   "execution_count": 19,
   "metadata": {},
   "outputs": [],
   "source": [
    "prediction_1 = pd.read_csv(\"test1/results_deep.csv\", index_col=0)"
   ]
  },
  {
   "cell_type": "code",
   "execution_count": 20,
   "metadata": {},
   "outputs": [],
   "source": [
    "prediction_1[\"empleado\"] = prediction_1[\"codigo_x\"]"
   ]
  },
  {
   "cell_type": "code",
   "execution_count": 21,
   "metadata": {},
   "outputs": [],
   "source": [
    "prediction_1_fue = prediction_1.loc[prediction_1[\"prediction\"] == \"fue\"]"
   ]
  },
  {
   "cell_type": "code",
   "execution_count": 22,
   "metadata": {},
   "outputs": [],
   "source": [
    "comparison[\"prediction_1\"] = comparison[\"inactivos_en_2019\"].map(prediction_1_fue.set_index('codigo_x')[\"empleado\"].to_dict())"
   ]
  },
  {
   "cell_type": "code",
   "execution_count": 23,
   "metadata": {},
   "outputs": [],
   "source": [
    "prediction_2 = pd.read_csv(\"test2/results_deep.csv\", index_col=0)"
   ]
  },
  {
   "cell_type": "code",
   "execution_count": 24,
   "metadata": {},
   "outputs": [],
   "source": [
    "prediction_2[\"empleado\"] = prediction_2[\"codigo_x\"]"
   ]
  },
  {
   "cell_type": "code",
   "execution_count": 25,
   "metadata": {},
   "outputs": [],
   "source": [
    "prediction_2_fue = prediction_2.loc[prediction_2[\"prediction\"] == \"fue\"]"
   ]
  },
  {
   "cell_type": "code",
   "execution_count": 26,
   "metadata": {},
   "outputs": [],
   "source": [
    "comparison[\"prediction_2\"] = comparison[\"inactivos_en_2019\"].map(prediction_2_fue.set_index('codigo_x')[\"empleado\"].to_dict())"
   ]
  },
  {
   "cell_type": "code",
   "execution_count": 27,
   "metadata": {},
   "outputs": [],
   "source": [
    "prediction_3 = pd.read_csv(\"test3/results_deep.csv\", index_col=0)"
   ]
  },
  {
   "cell_type": "code",
   "execution_count": 28,
   "metadata": {},
   "outputs": [],
   "source": [
    "prediction_3[\"empleado\"] = prediction_3[\"codigo_x\"]"
   ]
  },
  {
   "cell_type": "code",
   "execution_count": 29,
   "metadata": {},
   "outputs": [],
   "source": [
    "prediction_3_fue = prediction_3.loc[prediction_3[\"prediction\"] == \"fue\"]"
   ]
  },
  {
   "cell_type": "code",
   "execution_count": 30,
   "metadata": {},
   "outputs": [],
   "source": [
    "comparison[\"prediction_3\"] = comparison[\"inactivos_en_2019\"].map(prediction_3_fue.set_index('codigo_x')[\"empleado\"].to_dict())"
   ]
  },
  {
   "cell_type": "code",
   "execution_count": 31,
   "metadata": {},
   "outputs": [
    {
     "data": {
      "text/html": [
       "<div>\n",
       "<style scoped>\n",
       "    .dataframe tbody tr th:only-of-type {\n",
       "        vertical-align: middle;\n",
       "    }\n",
       "\n",
       "    .dataframe tbody tr th {\n",
       "        vertical-align: top;\n",
       "    }\n",
       "\n",
       "    .dataframe thead th {\n",
       "        text-align: right;\n",
       "    }\n",
       "</style>\n",
       "<table border=\"1\" class=\"dataframe\">\n",
       "  <thead>\n",
       "    <tr style=\"text-align: right;\">\n",
       "      <th></th>\n",
       "      <th>activos_en_2018</th>\n",
       "      <th>inactivos_en_2019</th>\n",
       "      <th>prediction_1</th>\n",
       "      <th>prediction_2</th>\n",
       "      <th>prediction_3</th>\n",
       "    </tr>\n",
       "  </thead>\n",
       "  <tbody>\n",
       "    <tr>\n",
       "      <th>1</th>\n",
       "      <td>7840</td>\n",
       "      <td>7840.0</td>\n",
       "      <td>7840.0</td>\n",
       "      <td>7840.0</td>\n",
       "      <td>7840.0</td>\n",
       "    </tr>\n",
       "    <tr>\n",
       "      <th>2</th>\n",
       "      <td>7505</td>\n",
       "      <td>7505.0</td>\n",
       "      <td>7505.0</td>\n",
       "      <td>NaN</td>\n",
       "      <td>7505.0</td>\n",
       "    </tr>\n",
       "    <tr>\n",
       "      <th>9</th>\n",
       "      <td>7331</td>\n",
       "      <td>7331.0</td>\n",
       "      <td>7331.0</td>\n",
       "      <td>7331.0</td>\n",
       "      <td>7331.0</td>\n",
       "    </tr>\n",
       "    <tr>\n",
       "      <th>12</th>\n",
       "      <td>7774</td>\n",
       "      <td>7774.0</td>\n",
       "      <td>7774.0</td>\n",
       "      <td>7774.0</td>\n",
       "      <td>7774.0</td>\n",
       "    </tr>\n",
       "    <tr>\n",
       "      <th>21</th>\n",
       "      <td>3652</td>\n",
       "      <td>3652.0</td>\n",
       "      <td>NaN</td>\n",
       "      <td>NaN</td>\n",
       "      <td>NaN</td>\n",
       "    </tr>\n",
       "  </tbody>\n",
       "</table>\n",
       "</div>"
      ],
      "text/plain": [
       "    activos_en_2018  inactivos_en_2019  prediction_1  prediction_2  \\\n",
       "1              7840             7840.0        7840.0        7840.0   \n",
       "2              7505             7505.0        7505.0           NaN   \n",
       "9              7331             7331.0        7331.0        7331.0   \n",
       "12             7774             7774.0        7774.0        7774.0   \n",
       "21             3652             3652.0           NaN           NaN   \n",
       "\n",
       "    prediction_3  \n",
       "1         7840.0  \n",
       "2         7505.0  \n",
       "9         7331.0  \n",
       "12        7774.0  \n",
       "21           NaN  "
      ]
     },
     "execution_count": 31,
     "metadata": {},
     "output_type": "execute_result"
    }
   ],
   "source": [
    "comparison.head()"
   ]
  },
  {
   "cell_type": "code",
   "execution_count": 32,
   "metadata": {},
   "outputs": [],
   "source": [
    "#comparison.loc[comparison[\"prediction_1\"].isna() & comparison[\"prediction_2\"].isna() & comparison[\"prediction_3\"].isna()]"
   ]
  },
  {
   "cell_type": "code",
   "execution_count": 33,
   "metadata": {},
   "outputs": [],
   "source": [
    "comparison[\"depto\"] = comparison[\"inactivos_en_2019\"].map(df_2019.set_index('codigo')[\"depto\"].to_dict())"
   ]
  },
  {
   "cell_type": "code",
   "execution_count": 34,
   "metadata": {},
   "outputs": [],
   "source": [
    "comparison[\"puesto\"] = comparison[\"inactivos_en_2019\"].map(df_2019.set_index('codigo')[\"puesto\"].to_dict())"
   ]
  },
  {
   "cell_type": "code",
   "execution_count": 35,
   "metadata": {},
   "outputs": [],
   "source": [
    "exceptions = [7545,5704,4504,7717,236,5679,7798,7811,7835,3652]"
   ]
  },
  {
   "cell_type": "code",
   "execution_count": 36,
   "metadata": {},
   "outputs": [],
   "source": [
    "exceptions_df = pd.DataFrame({\"exc\": exceptions, \"mark\": 1})"
   ]
  },
  {
   "cell_type": "code",
   "execution_count": 37,
   "metadata": {},
   "outputs": [],
   "source": [
    "comparison[\"excep\"] = comparison[\"inactivos_en_2019\"].map(exceptions_df.set_index('exc')[\"mark\"].to_dict())"
   ]
  },
  {
   "cell_type": "code",
   "execution_count": 38,
   "metadata": {},
   "outputs": [],
   "source": [
    "comparison = comparison[comparison[\"excep\"].isna()]"
   ]
  },
  {
   "cell_type": "code",
   "execution_count": 39,
   "metadata": {},
   "outputs": [
    {
     "data": {
      "text/html": [
       "<div>\n",
       "<style scoped>\n",
       "    .dataframe tbody tr th:only-of-type {\n",
       "        vertical-align: middle;\n",
       "    }\n",
       "\n",
       "    .dataframe tbody tr th {\n",
       "        vertical-align: top;\n",
       "    }\n",
       "\n",
       "    .dataframe thead th {\n",
       "        text-align: right;\n",
       "    }\n",
       "</style>\n",
       "<table border=\"1\" class=\"dataframe\">\n",
       "  <thead>\n",
       "    <tr style=\"text-align: right;\">\n",
       "      <th></th>\n",
       "      <th>activos_en_2018</th>\n",
       "      <th>inactivos_en_2019</th>\n",
       "      <th>prediction_1</th>\n",
       "      <th>prediction_2</th>\n",
       "      <th>prediction_3</th>\n",
       "      <th>depto</th>\n",
       "      <th>puesto</th>\n",
       "      <th>excep</th>\n",
       "    </tr>\n",
       "  </thead>\n",
       "  <tbody>\n",
       "    <tr>\n",
       "      <th>1</th>\n",
       "      <td>7840</td>\n",
       "      <td>7840.0</td>\n",
       "      <td>7840.0</td>\n",
       "      <td>7840.0</td>\n",
       "      <td>7840.0</td>\n",
       "      <td>87</td>\n",
       "      <td>0185</td>\n",
       "      <td>NaN</td>\n",
       "    </tr>\n",
       "    <tr>\n",
       "      <th>2</th>\n",
       "      <td>7505</td>\n",
       "      <td>7505.0</td>\n",
       "      <td>7505.0</td>\n",
       "      <td>NaN</td>\n",
       "      <td>7505.0</td>\n",
       "      <td>82</td>\n",
       "      <td>0003A</td>\n",
       "      <td>NaN</td>\n",
       "    </tr>\n",
       "    <tr>\n",
       "      <th>9</th>\n",
       "      <td>7331</td>\n",
       "      <td>7331.0</td>\n",
       "      <td>7331.0</td>\n",
       "      <td>7331.0</td>\n",
       "      <td>7331.0</td>\n",
       "      <td>45</td>\n",
       "      <td>0001</td>\n",
       "      <td>NaN</td>\n",
       "    </tr>\n",
       "    <tr>\n",
       "      <th>12</th>\n",
       "      <td>7774</td>\n",
       "      <td>7774.0</td>\n",
       "      <td>7774.0</td>\n",
       "      <td>7774.0</td>\n",
       "      <td>7774.0</td>\n",
       "      <td>87</td>\n",
       "      <td>0001</td>\n",
       "      <td>NaN</td>\n",
       "    </tr>\n",
       "    <tr>\n",
       "      <th>25</th>\n",
       "      <td>4044</td>\n",
       "      <td>4044.0</td>\n",
       "      <td>4044.0</td>\n",
       "      <td>4044.0</td>\n",
       "      <td>4044.0</td>\n",
       "      <td>50</td>\n",
       "      <td>0018</td>\n",
       "      <td>NaN</td>\n",
       "    </tr>\n",
       "  </tbody>\n",
       "</table>\n",
       "</div>"
      ],
      "text/plain": [
       "    activos_en_2018  inactivos_en_2019  prediction_1  prediction_2  \\\n",
       "1              7840             7840.0        7840.0        7840.0   \n",
       "2              7505             7505.0        7505.0           NaN   \n",
       "9              7331             7331.0        7331.0        7331.0   \n",
       "12             7774             7774.0        7774.0        7774.0   \n",
       "25             4044             4044.0        4044.0        4044.0   \n",
       "\n",
       "    prediction_3  depto puesto  excep  \n",
       "1         7840.0     87   0185    NaN  \n",
       "2         7505.0     82  0003A    NaN  \n",
       "9         7331.0     45   0001    NaN  \n",
       "12        7774.0     87   0001    NaN  \n",
       "25        4044.0     50   0018    NaN  "
      ]
     },
     "execution_count": 39,
     "metadata": {},
     "output_type": "execute_result"
    }
   ],
   "source": [
    "comparison.head()"
   ]
  },
  {
   "cell_type": "code",
   "execution_count": 40,
   "metadata": {},
   "outputs": [
    {
     "data": {
      "text/plain": [
       "79"
      ]
     },
     "execution_count": 40,
     "metadata": {},
     "output_type": "execute_result"
    }
   ],
   "source": [
    "comparison[\"activos_en_2018\"].count() #estaban en 2018 y se fueron en 2019"
   ]
  },
  {
   "cell_type": "code",
   "execution_count": 41,
   "metadata": {},
   "outputs": [
    {
     "data": {
      "text/plain": [
       "69"
      ]
     },
     "execution_count": 41,
     "metadata": {},
     "output_type": "execute_result"
    }
   ],
   "source": [
    "comparison[\"prediction_1\"].count()"
   ]
  },
  {
   "cell_type": "code",
   "execution_count": 42,
   "metadata": {},
   "outputs": [
    {
     "data": {
      "text/plain": [
       "64"
      ]
     },
     "execution_count": 42,
     "metadata": {},
     "output_type": "execute_result"
    }
   ],
   "source": [
    "comparison[\"prediction_2\"].count()"
   ]
  },
  {
   "cell_type": "code",
   "execution_count": 43,
   "metadata": {},
   "outputs": [
    {
     "data": {
      "text/plain": [
       "65"
      ]
     },
     "execution_count": 43,
     "metadata": {},
     "output_type": "execute_result"
    }
   ],
   "source": [
    "comparison[\"prediction_3\"].count()"
   ]
  },
  {
   "cell_type": "code",
   "execution_count": 44,
   "metadata": {},
   "outputs": [],
   "source": [
    "import matplotlib.pyplot as plt\n",
    "import matplotlib.patches as mpatches"
   ]
  },
  {
   "cell_type": "code",
   "execution_count": 45,
   "metadata": {},
   "outputs": [
    {
     "name": "stderr",
     "output_type": "stream",
     "text": [
      "C:\\Users\\dell\\Anaconda3\\envs\\PythonData\\lib\\site-packages\\matplotlib\\cbook\\deprecation.py:107: MatplotlibDeprecationWarning: Adding an axes using the same arguments as a previous axes currently reuses the earlier instance.  In a future version, a new instance will always be created and returned.  Meanwhile, this warning can be suppressed, and the future behavior ensured, by passing a unique label to each axes instance.\n",
      "  warnings.warn(message, mplDeprecation, stacklevel=1)\n"
     ]
    },
    {
     "data": {
      "image/png": "[encoded data removed]",
      "text/plain": [
       "<Figure size 1080x648 with 1 Axes>"
      ]
     },
     "metadata": {
      "needs_background": "light"
     },
     "output_type": "display_data"
    }
   ],
   "source": [
    "fig1 = plt.gcf()\n",
    "fig1.set_size_inches(15, 9)\n",
    "\n",
    "plt.scatter(comparison[\"inactivos_en_2019\"], comparison[\"prediction_1\"], facecolors = \"none\", edgecolors = \"blue\", s=300)\n",
    "ax2 = fig1.add_subplot(111)\n",
    "ax2.scatter(comparison[\"inactivos_en_2019\"], comparison[\"prediction_2\"], facecolors = \"none\", edgecolors = \"green\", s=900)\n",
    "ax3 = fig1.add_subplot(111)\n",
    "ax3.scatter(comparison[\"inactivos_en_2019\"], comparison[\"prediction_3\"], facecolors = \"none\", edgecolors = \"red\", s=1500)\n",
    "\n",
    "xmin = 7480\n",
    "xmax = 7600\n",
    "ymin = 7480\n",
    "ymax = 7600\n",
    "axes = plt.gca()\n",
    "axes.set_xlim([xmin,xmax])\n",
    "axes.set_ylim([ymin,ymax])\n",
    "\n",
    "blue_patch = mpatches.Patch(color='blue', label='Prediction 1')\n",
    "green_patch = mpatches.Patch(color='green', label='Prediction 2')\n",
    "red_patch = mpatches.Patch(color='red', label='Prediction 3')\n",
    "\n",
    "plt.legend(handles=[blue_patch, green_patch, red_patch,], prop={'size': 15})\n",
    "plt.xlabel(\"Actual\", fontsize = 15)\n",
    "plt.ylabel(\"Predicted\", fontsize = 15)\n",
    "plt.title(\"Deep Learning\", fontsize = 20)\n",
    "\n",
    "plt.grid()\n",
    "plt.savefig(\"deep_learning.svg\", format=\"svg\")\n",
    "plt.show()"
   ]
  },
  {
   "cell_type": "code",
   "execution_count": 46,
   "metadata": {},
   "outputs": [
    {
     "data": {
      "text/html": [
       "<div>\n",
       "<style scoped>\n",
       "    .dataframe tbody tr th:only-of-type {\n",
       "        vertical-align: middle;\n",
       "    }\n",
       "\n",
       "    .dataframe tbody tr th {\n",
       "        vertical-align: top;\n",
       "    }\n",
       "\n",
       "    .dataframe thead th {\n",
       "        text-align: right;\n",
       "    }\n",
       "</style>\n",
       "<table border=\"1\" class=\"dataframe\">\n",
       "  <thead>\n",
       "    <tr style=\"text-align: right;\">\n",
       "      <th></th>\n",
       "      <th>activos_en_2018</th>\n",
       "      <th>inactivos_en_2019</th>\n",
       "      <th>prediction_1</th>\n",
       "      <th>prediction_2</th>\n",
       "      <th>prediction_3</th>\n",
       "      <th>depto</th>\n",
       "      <th>puesto</th>\n",
       "      <th>excep</th>\n",
       "    </tr>\n",
       "  </thead>\n",
       "  <tbody>\n",
       "    <tr>\n",
       "      <th>1</th>\n",
       "      <td>7840</td>\n",
       "      <td>7840.0</td>\n",
       "      <td>7840.0</td>\n",
       "      <td>7840.0</td>\n",
       "      <td>7840.0</td>\n",
       "      <td>87</td>\n",
       "      <td>0185</td>\n",
       "      <td>NaN</td>\n",
       "    </tr>\n",
       "    <tr>\n",
       "      <th>2</th>\n",
       "      <td>7505</td>\n",
       "      <td>7505.0</td>\n",
       "      <td>7505.0</td>\n",
       "      <td>NaN</td>\n",
       "      <td>7505.0</td>\n",
       "      <td>82</td>\n",
       "      <td>0003A</td>\n",
       "      <td>NaN</td>\n",
       "    </tr>\n",
       "    <tr>\n",
       "      <th>9</th>\n",
       "      <td>7331</td>\n",
       "      <td>7331.0</td>\n",
       "      <td>7331.0</td>\n",
       "      <td>7331.0</td>\n",
       "      <td>7331.0</td>\n",
       "      <td>45</td>\n",
       "      <td>0001</td>\n",
       "      <td>NaN</td>\n",
       "    </tr>\n",
       "    <tr>\n",
       "      <th>12</th>\n",
       "      <td>7774</td>\n",
       "      <td>7774.0</td>\n",
       "      <td>7774.0</td>\n",
       "      <td>7774.0</td>\n",
       "      <td>7774.0</td>\n",
       "      <td>87</td>\n",
       "      <td>0001</td>\n",
       "      <td>NaN</td>\n",
       "    </tr>\n",
       "    <tr>\n",
       "      <th>25</th>\n",
       "      <td>4044</td>\n",
       "      <td>4044.0</td>\n",
       "      <td>4044.0</td>\n",
       "      <td>4044.0</td>\n",
       "      <td>4044.0</td>\n",
       "      <td>50</td>\n",
       "      <td>0018</td>\n",
       "      <td>NaN</td>\n",
       "    </tr>\n",
       "  </tbody>\n",
       "</table>\n",
       "</div>"
      ],
      "text/plain": [
       "    activos_en_2018  inactivos_en_2019  prediction_1  prediction_2  \\\n",
       "1              7840             7840.0        7840.0        7840.0   \n",
       "2              7505             7505.0        7505.0           NaN   \n",
       "9              7331             7331.0        7331.0        7331.0   \n",
       "12             7774             7774.0        7774.0        7774.0   \n",
       "25             4044             4044.0        4044.0        4044.0   \n",
       "\n",
       "    prediction_3  depto puesto  excep  \n",
       "1         7840.0     87   0185    NaN  \n",
       "2         7505.0     82  0003A    NaN  \n",
       "9         7331.0     45   0001    NaN  \n",
       "12        7774.0     87   0001    NaN  \n",
       "25        4044.0     50   0018    NaN  "
      ]
     },
     "execution_count": 46,
     "metadata": {},
     "output_type": "execute_result"
    }
   ],
   "source": [
    "comparison.head()"
   ]
  },
  {
   "cell_type": "code",
   "execution_count": 47,
   "metadata": {},
   "outputs": [],
   "source": [
    "xg_boost = pd.read_csv(\"ResultsXGB.csv\", index_col=0)"
   ]
  },
  {
   "cell_type": "code",
   "execution_count": 48,
   "metadata": {},
   "outputs": [],
   "source": [
    "def labeling(row):\n",
    "    sigue = \"sigue\"\n",
    "    fue = \"fue\"\n",
    "    if row == 0:\n",
    "        return fue\n",
    "    else:\n",
    "        return sigue"
   ]
  },
  {
   "cell_type": "code",
   "execution_count": 49,
   "metadata": {},
   "outputs": [],
   "source": [
    "xg_boost[\"prediction\"] = xg_boost[\"prediction\"].apply(lambda row: labeling(row))"
   ]
  },
  {
   "cell_type": "code",
   "execution_count": 50,
   "metadata": {},
   "outputs": [],
   "source": [
    "xg_boost[\"actual\"] = xg_boost[\"actual\"].apply(lambda row: labeling(row))"
   ]
  },
  {
   "cell_type": "code",
   "execution_count": 51,
   "metadata": {},
   "outputs": [],
   "source": [
    "xg_boost = xg_boost.reset_index()"
   ]
  },
  {
   "cell_type": "code",
   "execution_count": 52,
   "metadata": {},
   "outputs": [],
   "source": [
    "xg_boost[\"empleado\"] = xg_boost[\"codigo_x\"]"
   ]
  },
  {
   "cell_type": "code",
   "execution_count": 53,
   "metadata": {},
   "outputs": [],
   "source": [
    "comparison[\"xg_boost\"] = comparison[\"inactivos_en_2019\"].map(xg_boost.set_index('codigo_x')[\"empleado\"].to_dict())"
   ]
  },
  {
   "cell_type": "code",
   "execution_count": 54,
   "metadata": {},
   "outputs": [
    {
     "data": {
      "text/html": [
       "<div>\n",
       "<style scoped>\n",
       "    .dataframe tbody tr th:only-of-type {\n",
       "        vertical-align: middle;\n",
       "    }\n",
       "\n",
       "    .dataframe tbody tr th {\n",
       "        vertical-align: top;\n",
       "    }\n",
       "\n",
       "    .dataframe thead th {\n",
       "        text-align: right;\n",
       "    }\n",
       "</style>\n",
       "<table border=\"1\" class=\"dataframe\">\n",
       "  <thead>\n",
       "    <tr style=\"text-align: right;\">\n",
       "      <th></th>\n",
       "      <th>activos_en_2018</th>\n",
       "      <th>inactivos_en_2019</th>\n",
       "      <th>prediction_1</th>\n",
       "      <th>prediction_2</th>\n",
       "      <th>prediction_3</th>\n",
       "      <th>depto</th>\n",
       "      <th>puesto</th>\n",
       "      <th>excep</th>\n",
       "      <th>xg_boost</th>\n",
       "    </tr>\n",
       "  </thead>\n",
       "  <tbody>\n",
       "    <tr>\n",
       "      <th>1</th>\n",
       "      <td>7840</td>\n",
       "      <td>7840.0</td>\n",
       "      <td>7840.0</td>\n",
       "      <td>7840.0</td>\n",
       "      <td>7840.0</td>\n",
       "      <td>87</td>\n",
       "      <td>0185</td>\n",
       "      <td>NaN</td>\n",
       "      <td>7840.0</td>\n",
       "    </tr>\n",
       "    <tr>\n",
       "      <th>2</th>\n",
       "      <td>7505</td>\n",
       "      <td>7505.0</td>\n",
       "      <td>7505.0</td>\n",
       "      <td>NaN</td>\n",
       "      <td>7505.0</td>\n",
       "      <td>82</td>\n",
       "      <td>0003A</td>\n",
       "      <td>NaN</td>\n",
       "      <td>7505.0</td>\n",
       "    </tr>\n",
       "    <tr>\n",
       "      <th>9</th>\n",
       "      <td>7331</td>\n",
       "      <td>7331.0</td>\n",
       "      <td>7331.0</td>\n",
       "      <td>7331.0</td>\n",
       "      <td>7331.0</td>\n",
       "      <td>45</td>\n",
       "      <td>0001</td>\n",
       "      <td>NaN</td>\n",
       "      <td>7331.0</td>\n",
       "    </tr>\n",
       "    <tr>\n",
       "      <th>12</th>\n",
       "      <td>7774</td>\n",
       "      <td>7774.0</td>\n",
       "      <td>7774.0</td>\n",
       "      <td>7774.0</td>\n",
       "      <td>7774.0</td>\n",
       "      <td>87</td>\n",
       "      <td>0001</td>\n",
       "      <td>NaN</td>\n",
       "      <td>7774.0</td>\n",
       "    </tr>\n",
       "    <tr>\n",
       "      <th>25</th>\n",
       "      <td>4044</td>\n",
       "      <td>4044.0</td>\n",
       "      <td>4044.0</td>\n",
       "      <td>4044.0</td>\n",
       "      <td>4044.0</td>\n",
       "      <td>50</td>\n",
       "      <td>0018</td>\n",
       "      <td>NaN</td>\n",
       "      <td>4044.0</td>\n",
       "    </tr>\n",
       "  </tbody>\n",
       "</table>\n",
       "</div>"
      ],
      "text/plain": [
       "    activos_en_2018  inactivos_en_2019  prediction_1  prediction_2  \\\n",
       "1              7840             7840.0        7840.0        7840.0   \n",
       "2              7505             7505.0        7505.0           NaN   \n",
       "9              7331             7331.0        7331.0        7331.0   \n",
       "12             7774             7774.0        7774.0        7774.0   \n",
       "25             4044             4044.0        4044.0        4044.0   \n",
       "\n",
       "    prediction_3  depto puesto  excep  xg_boost  \n",
       "1         7840.0     87   0185    NaN    7840.0  \n",
       "2         7505.0     82  0003A    NaN    7505.0  \n",
       "9         7331.0     45   0001    NaN    7331.0  \n",
       "12        7774.0     87   0001    NaN    7774.0  \n",
       "25        4044.0     50   0018    NaN    4044.0  "
      ]
     },
     "execution_count": 54,
     "metadata": {},
     "output_type": "execute_result"
    }
   ],
   "source": [
    "comparison.head()"
   ]
  },
  {
   "cell_type": "code",
   "execution_count": 55,
   "metadata": {},
   "outputs": [
    {
     "data": {
      "text/plain": [
       "79"
      ]
     },
     "execution_count": 55,
     "metadata": {},
     "output_type": "execute_result"
    }
   ],
   "source": [
    "comparison[\"activos_en_2018\"].count()"
   ]
  },
  {
   "cell_type": "code",
   "execution_count": 56,
   "metadata": {},
   "outputs": [
    {
     "data": {
      "text/plain": [
       "76"
      ]
     },
     "execution_count": 56,
     "metadata": {},
     "output_type": "execute_result"
    }
   ],
   "source": [
    "comparison[\"xg_boost\"].count()"
   ]
  },
  {
   "cell_type": "code",
   "execution_count": 57,
   "metadata": {},
   "outputs": [
    {
     "data": {
      "text/html": [
       "<div>\n",
       "<style scoped>\n",
       "    .dataframe tbody tr th:only-of-type {\n",
       "        vertical-align: middle;\n",
       "    }\n",
       "\n",
       "    .dataframe tbody tr th {\n",
       "        vertical-align: top;\n",
       "    }\n",
       "\n",
       "    .dataframe thead th {\n",
       "        text-align: right;\n",
       "    }\n",
       "</style>\n",
       "<table border=\"1\" class=\"dataframe\">\n",
       "  <thead>\n",
       "    <tr style=\"text-align: right;\">\n",
       "      <th></th>\n",
       "      <th>activos_en_2018</th>\n",
       "      <th>inactivos_en_2019</th>\n",
       "      <th>prediction_1</th>\n",
       "      <th>prediction_2</th>\n",
       "      <th>prediction_3</th>\n",
       "      <th>depto</th>\n",
       "      <th>puesto</th>\n",
       "      <th>excep</th>\n",
       "      <th>xg_boost</th>\n",
       "    </tr>\n",
       "  </thead>\n",
       "  <tbody>\n",
       "    <tr>\n",
       "      <th>152</th>\n",
       "      <td>3160</td>\n",
       "      <td>3160.0</td>\n",
       "      <td>NaN</td>\n",
       "      <td>NaN</td>\n",
       "      <td>NaN</td>\n",
       "      <td>74</td>\n",
       "      <td>0001</td>\n",
       "      <td>NaN</td>\n",
       "      <td>NaN</td>\n",
       "    </tr>\n",
       "    <tr>\n",
       "      <th>229</th>\n",
       "      <td>7819</td>\n",
       "      <td>7819.0</td>\n",
       "      <td>NaN</td>\n",
       "      <td>NaN</td>\n",
       "      <td>NaN</td>\n",
       "      <td>80</td>\n",
       "      <td>0001</td>\n",
       "      <td>NaN</td>\n",
       "      <td>NaN</td>\n",
       "    </tr>\n",
       "    <tr>\n",
       "      <th>256</th>\n",
       "      <td>6978</td>\n",
       "      <td>6978.0</td>\n",
       "      <td>NaN</td>\n",
       "      <td>NaN</td>\n",
       "      <td>NaN</td>\n",
       "      <td>76</td>\n",
       "      <td>0001</td>\n",
       "      <td>NaN</td>\n",
       "      <td>NaN</td>\n",
       "    </tr>\n",
       "  </tbody>\n",
       "</table>\n",
       "</div>"
      ],
      "text/plain": [
       "     activos_en_2018  inactivos_en_2019  prediction_1  prediction_2  \\\n",
       "152             3160             3160.0           NaN           NaN   \n",
       "229             7819             7819.0           NaN           NaN   \n",
       "256             6978             6978.0           NaN           NaN   \n",
       "\n",
       "     prediction_3  depto puesto  excep  xg_boost  \n",
       "152           NaN     74   0001    NaN       NaN  \n",
       "229           NaN     80   0001    NaN       NaN  \n",
       "256           NaN     76   0001    NaN       NaN  "
      ]
     },
     "execution_count": 57,
     "metadata": {},
     "output_type": "execute_result"
    }
   ],
   "source": [
    "comparison[comparison[\"xg_boost\"].isna()]"
   ]
  },
  {
   "cell_type": "code",
   "execution_count": 58,
   "metadata": {},
   "outputs": [
    {
     "data": {
      "image/png": "[encoded data removed]",
      "text/plain": [
       "<Figure size 1080x648 with 1 Axes>"
      ]
     },
     "metadata": {
      "needs_background": "light"
     },
     "output_type": "display_data"
    }
   ],
   "source": [
    "fig2 = plt.gcf()\n",
    "fig2.set_size_inches(15, 9)\n",
    "\n",
    "x_bar = [\"deep_1\",\"deep_2\",\"deep3\",\"machine\",\"xg_boost\"]\n",
    "y_bar = [69,64,65,65,76]\n",
    "colors_bar = [\"blue\",\"blue\",\"blue\",\"orange\",\"green\"]\n",
    "\n",
    "plt.axhline(y=79, color='purple', linestyle='-')\n",
    "\n",
    "ymin = 60\n",
    "ymax = 85\n",
    "axes = plt.gca()\n",
    "axes.set_ylim([ymin,ymax])\n",
    "\n",
    "label = [\"Real Data\"]\n",
    "\n",
    "plt.legend(labels=label, prop={'size': 15})\n",
    "\n",
    "plt.ylabel(\"Workers from 2018 who QUIT in 2019\", fontsize = 15)\n",
    "plt.title(\"Model Comparison\", fontsize = 20)\n",
    "\n",
    "plt.bar(x_bar,y_bar, color=colors_bar)\n",
    "plt.savefig(\"final_comparison.svg\", format=\"svg\")\n",
    "plt.show()"
   ]
  },
  {
   "cell_type": "code",
   "execution_count": null,
   "metadata": {},
   "outputs": [],
   "source": []
  }
 ],
 "metadata": {
  "kernelspec": {
   "display_name": "Python 3",
   "language": "python",
   "name": "python3"
  },
  "language_info": {
   "codemirror_mode": {
    "name": "ipython",
    "version": 3
   },
   "file_extension": ".py",
   "mimetype": "text/x-python",
   "name": "python",
   "nbconvert_exporter": "python",
   "pygments_lexer": "ipython3",
   "version": "3.6.8"
  }
 },
 "nbformat": 4,
 "nbformat_minor": 2
}
